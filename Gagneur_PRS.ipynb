{
 "cells": [
  {
   "cell_type": "markdown",
   "id": "69f93d97",
   "metadata": {},
   "source": [
    "# Gagneur Course on PRS\n",
    "\n",
    "> *Gist of the course*: get 2 PRS, CAD and a highly heritable protein, apply to 1KG, then associate. Repeat assoc with white samples only: higher assoc? population sensitivity of scores. Also, extract loadings from PC1 ັືand construct an \"ethnicity score\" and do validation\n",
    "\n",
    "## Pre-everything: get the NGS data from 1kg\n",
    "Various releases here, we take the 2504 high coverage as it has unrelated individuals. Axel is a lifesaver here because the server is really unstable:\n",
    "\n",
    "```bash\n",
    "cd /lustre/groups/itg/shared/referenceData/1kG\n",
    "wget -O- http://ftp.1000genomes.ebi.ac.uk/vol1/ftp/data_collections/1000G_2504_high_coverage/working/20190425_NYGC_GATK/ | grep vcf| sed 's/.*href..//;s/\\\".*//' | while read f; do axel -a -o 20190425_NYGC_GATK/$f http://ftp.1000genomes.ebi.ac.uk/vol1/ftp/data_collections/1000G_2504_high_coverage/working/20190425_NYGC_GATK/$f;done\n",
    "```\n",
    "\n",
    "We also get the sheet that gives ethnicities from https://www.internationalgenome.org/data-portal/data-collection/30x-grch38.\n",
    "\n",
    "These VCFs are GRCh38 which is good."
   ]
  },
  {
   "cell_type": "markdown",
   "id": "ed4e7703",
   "metadata": {},
   "source": [
    "Question 1: Download the CAD PRS from https://www.pgscatalog.org/score/PGS000337/.\n",
    "\n",
    "Task 1: Lift over."
   ]
  },
  {
   "cell_type": "markdown",
   "id": "4c1f0e73",
   "metadata": {},
   "source": [
    "### Lifting over the coordinates"
   ]
  },
  {
   "cell_type": "code",
   "execution_count": 26,
   "id": "07d5c179",
   "metadata": {
    "ExecuteTime": {
     "end_time": "2021-11-09T08:46:30.120517Z",
     "start_time": "2021-11-09T08:46:11.676693Z"
    }
   },
   "outputs": [
    {
     "name": "stdout",
     "output_type": "stream",
     "text": [
      "Defaulting to user installation because normal site-packages is not writeable\n",
      "Collecting liftover\n",
      "  Using cached liftover-1.1.11.tar.gz (83 kB)\n",
      "  Installing build dependencies ... \u001b[?25ldone\n",
      "\u001b[?25h  Getting requirements to build wheel ... \u001b[?25ldone\n",
      "\u001b[?25h    Preparing wheel metadata ... \u001b[?25ldone\n",
      "\u001b[?25hRequirement already satisfied: requests in /usr/local/lib/python3.10/site-packages (from liftover) (2.26.0)\n",
      "Requirement already satisfied: idna<4,>=2.5 in /usr/local/lib/python3.10/site-packages (from requests->liftover) (3.3)\n",
      "Requirement already satisfied: charset-normalizer~=2.0.0 in /usr/local/lib/python3.10/site-packages (from requests->liftover) (2.0.7)\n",
      "Requirement already satisfied: certifi>=2017.4.17 in /usr/local/lib/python3.10/site-packages (from requests->liftover) (2021.10.8)\n",
      "Requirement already satisfied: urllib3<1.27,>=1.21.1 in /usr/local/lib/python3.10/site-packages (from requests->liftover) (1.26.7)\n",
      "Building wheels for collected packages: liftover\n",
      "  Building wheel for liftover (PEP 517) ... \u001b[?25ldone\n",
      "\u001b[?25h  Created wheel for liftover: filename=liftover-1.1.11-cp310-cp310-linux_x86_64.whl size=743465 sha256=5d8f0c30287e7e53ac677e17f89bb98a18553e6fb0b397013a45023b74025952\n",
      "  Stored in directory: /home/itg/arthur.gilly/.cache/pip/wheels/49/ed/6a/99d90b63971d207077f21d4890640278f4cb94c00b786d42f6\n",
      "Successfully built liftover\n",
      "Installing collected packages: liftover\n",
      "Successfully installed liftover-1.1.11\n",
      "\u001b[33mWARNING: You are using pip version 21.2.3; however, version 21.3.1 is available.\n",
      "You should consider upgrading via the '/usr/local/bin/python3.10 -m pip install --upgrade pip' command.\u001b[0m\n"
     ]
    }
   ],
   "source": [
    "!pip3 install liftover"
   ]
  },
  {
   "cell_type": "code",
   "execution_count": 27,
   "id": "1de48473",
   "metadata": {
    "ExecuteTime": {
     "end_time": "2021-11-09T08:46:37.675323Z",
     "start_time": "2021-11-09T08:46:37.576702Z"
    }
   },
   "outputs": [],
   "source": [
    "from liftover import get_lifter\n",
    "lo = get_lifter('hg19', 'hg38')"
   ]
  },
  {
   "cell_type": "code",
   "execution_count": 28,
   "id": "102fcff8",
   "metadata": {
    "ExecuteTime": {
     "end_time": "2021-11-09T08:46:38.701652Z",
     "start_time": "2021-11-09T08:46:38.692776Z"
    }
   },
   "outputs": [
    {
     "data": {
      "text/plain": [
       "('chr1', 1236037, '+')"
      ]
     },
     "execution_count": 28,
     "metadata": {},
     "output_type": "execute_result"
    }
   ],
   "source": [
    "lo.convert_coordinate(1, 1171417)[0]"
   ]
  },
  {
   "cell_type": "code",
   "execution_count": 80,
   "id": "b1b87ca8",
   "metadata": {
    "ExecuteTime": {
     "end_time": "2021-11-09T09:11:37.979553Z",
     "start_time": "2021-11-09T09:11:37.894138Z"
    }
   },
   "outputs": [],
   "source": [
    "import pandas as pd\n",
    "cadscore=pd.read_csv(\"/lustre/groups/itg/teams/analytics/teaching/Gagneur_PRS/PGS000337.txt.gz\",\n",
    "                    sep=\"\\t\", comment=\"#\")"
   ]
  },
  {
   "cell_type": "code",
   "execution_count": 81,
   "id": "e1257d8b",
   "metadata": {
    "ExecuteTime": {
     "end_time": "2021-11-09T09:11:38.977072Z",
     "start_time": "2021-11-09T09:11:38.957373Z"
    }
   },
   "outputs": [
    {
     "data": {
      "text/html": [
       "<div>\n",
       "<style scoped>\n",
       "    .dataframe tbody tr th:only-of-type {\n",
       "        vertical-align: middle;\n",
       "    }\n",
       "\n",
       "    .dataframe tbody tr th {\n",
       "        vertical-align: top;\n",
       "    }\n",
       "\n",
       "    .dataframe thead th {\n",
       "        text-align: right;\n",
       "    }\n",
       "</style>\n",
       "<table border=\"1\" class=\"dataframe\">\n",
       "  <thead>\n",
       "    <tr style=\"text-align: right;\">\n",
       "      <th></th>\n",
       "      <th>chr_name</th>\n",
       "      <th>chr_position</th>\n",
       "      <th>effect_allele</th>\n",
       "      <th>effect_weight</th>\n",
       "      <th>variant_description</th>\n",
       "    </tr>\n",
       "  </thead>\n",
       "  <tbody>\n",
       "    <tr>\n",
       "      <th>0</th>\n",
       "      <td>1</td>\n",
       "      <td>959231</td>\n",
       "      <td>A</td>\n",
       "      <td>0.011321</td>\n",
       "      <td>1:959231:G:A</td>\n",
       "    </tr>\n",
       "    <tr>\n",
       "      <th>1</th>\n",
       "      <td>1</td>\n",
       "      <td>1119858</td>\n",
       "      <td>T</td>\n",
       "      <td>-0.016588</td>\n",
       "      <td>1:1119858:C:T</td>\n",
       "    </tr>\n",
       "    <tr>\n",
       "      <th>2</th>\n",
       "      <td>1</td>\n",
       "      <td>1122024</td>\n",
       "      <td>C</td>\n",
       "      <td>0.013543</td>\n",
       "      <td>1:1122024:T:C</td>\n",
       "    </tr>\n",
       "    <tr>\n",
       "      <th>3</th>\n",
       "      <td>1</td>\n",
       "      <td>1154858</td>\n",
       "      <td>T</td>\n",
       "      <td>-0.024307</td>\n",
       "      <td>1:1154858:C:T</td>\n",
       "    </tr>\n",
       "    <tr>\n",
       "      <th>4</th>\n",
       "      <td>1</td>\n",
       "      <td>1171417</td>\n",
       "      <td>T</td>\n",
       "      <td>-0.012684</td>\n",
       "      <td>1:1171417:C:T</td>\n",
       "    </tr>\n",
       "    <tr>\n",
       "      <th>...</th>\n",
       "      <td>...</td>\n",
       "      <td>...</td>\n",
       "      <td>...</td>\n",
       "      <td>...</td>\n",
       "      <td>...</td>\n",
       "    </tr>\n",
       "    <tr>\n",
       "      <th>75023</th>\n",
       "      <td>22</td>\n",
       "      <td>51091914</td>\n",
       "      <td>T</td>\n",
       "      <td>0.020546</td>\n",
       "      <td>22:51091914:C:T</td>\n",
       "    </tr>\n",
       "    <tr>\n",
       "      <th>75024</th>\n",
       "      <td>22</td>\n",
       "      <td>51095286</td>\n",
       "      <td>T</td>\n",
       "      <td>0.022332</td>\n",
       "      <td>22:51095286:C:T</td>\n",
       "    </tr>\n",
       "    <tr>\n",
       "      <th>75025</th>\n",
       "      <td>22</td>\n",
       "      <td>51104170</td>\n",
       "      <td>G</td>\n",
       "      <td>0.011036</td>\n",
       "      <td>22:51104170:A:G</td>\n",
       "    </tr>\n",
       "    <tr>\n",
       "      <th>75026</th>\n",
       "      <td>22</td>\n",
       "      <td>51115863</td>\n",
       "      <td>A</td>\n",
       "      <td>0.021235</td>\n",
       "      <td>22:51115863:G:A</td>\n",
       "    </tr>\n",
       "    <tr>\n",
       "      <th>75027</th>\n",
       "      <td>22</td>\n",
       "      <td>51148424</td>\n",
       "      <td>A</td>\n",
       "      <td>0.016764</td>\n",
       "      <td>22:51148424:G:A</td>\n",
       "    </tr>\n",
       "  </tbody>\n",
       "</table>\n",
       "<p>75028 rows × 5 columns</p>\n",
       "</div>"
      ],
      "text/plain": [
       "       chr_name  chr_position effect_allele  effect_weight variant_description\n",
       "0             1        959231             A       0.011321        1:959231:G:A\n",
       "1             1       1119858             T      -0.016588       1:1119858:C:T\n",
       "2             1       1122024             C       0.013543       1:1122024:T:C\n",
       "3             1       1154858             T      -0.024307       1:1154858:C:T\n",
       "4             1       1171417             T      -0.012684       1:1171417:C:T\n",
       "...         ...           ...           ...            ...                 ...\n",
       "75023        22      51091914             T       0.020546     22:51091914:C:T\n",
       "75024        22      51095286             T       0.022332     22:51095286:C:T\n",
       "75025        22      51104170             G       0.011036     22:51104170:A:G\n",
       "75026        22      51115863             A       0.021235     22:51115863:G:A\n",
       "75027        22      51148424             A       0.016764     22:51148424:G:A\n",
       "\n",
       "[75028 rows x 5 columns]"
      ]
     },
     "execution_count": 81,
     "metadata": {},
     "output_type": "execute_result"
    }
   ],
   "source": [
    "cadscore"
   ]
  },
  {
   "cell_type": "code",
   "execution_count": 82,
   "id": "eb1d76b6",
   "metadata": {
    "ExecuteTime": {
     "end_time": "2021-11-09T09:11:42.424754Z",
     "start_time": "2021-11-09T09:11:40.939361Z"
    }
   },
   "outputs": [],
   "source": [
    "cadscore['chr_name'] = 'chr' + cadscore['chr_name'].astype(str)\n",
    "cadscore['pos.b38']=cadscore.apply(lambda x:lo.convert_coordinate(x.chr_name, x.chr_position), axis=1)"
   ]
  },
  {
   "cell_type": "code",
   "execution_count": 83,
   "id": "96bbcc4d",
   "metadata": {
    "ExecuteTime": {
     "end_time": "2021-11-09T09:11:42.543183Z",
     "start_time": "2021-11-09T09:11:42.427019Z"
    }
   },
   "outputs": [
    {
     "name": "stderr",
     "output_type": "stream",
     "text": [
      "/usr/local/lib/python3.6/dist-packages/pandas/core/indexing.py:1596: SettingWithCopyWarning: \n",
      "A value is trying to be set on a copy of a slice from a DataFrame.\n",
      "Try using .loc[row_indexer,col_indexer] = value instead\n",
      "\n",
      "See the caveats in the documentation: https://pandas.pydata.org/pandas-docs/stable/user_guide/indexing.html#returning-a-view-versus-a-copy\n",
      "  self.obj[key] = _infer_fill_value(value)\n",
      "/usr/local/lib/python3.6/dist-packages/pandas/core/indexing.py:1743: SettingWithCopyWarning: \n",
      "A value is trying to be set on a copy of a slice from a DataFrame.\n",
      "Try using .loc[row_indexer,col_indexer] = value instead\n",
      "\n",
      "See the caveats in the documentation: https://pandas.pydata.org/pandas-docs/stable/user_guide/indexing.html#returning-a-view-versus-a-copy\n",
      "  isetter(ilocs[0], value)\n"
     ]
    }
   ],
   "source": [
    "# remove those positions that map to several in the new build\n",
    "ix=cadscore['pos.b38'].str.len()==1\n",
    "cadscore=cadscore.loc[ix]\n",
    "\n",
    "cadscore.loc[:, 'chr_b38']=cadscore['pos.b38'].map(lambda x: x[0][0])\n",
    "cadscore.loc[:, 'ps_b38']=cadscore['pos.b38'].map(lambda x: x[0][1])"
   ]
  },
  {
   "cell_type": "code",
   "execution_count": 84,
   "id": "7c7f7b02",
   "metadata": {
    "ExecuteTime": {
     "end_time": "2021-11-09T09:11:43.821129Z",
     "start_time": "2021-11-09T09:11:43.800903Z"
    }
   },
   "outputs": [
    {
     "name": "stderr",
     "output_type": "stream",
     "text": [
      "/usr/local/lib/python3.6/dist-packages/pandas/core/frame.py:4174: SettingWithCopyWarning: \n",
      "A value is trying to be set on a copy of a slice from a DataFrame\n",
      "\n",
      "See the caveats in the documentation: https://pandas.pydata.org/pandas-docs/stable/user_guide/indexing.html#returning-a-view-versus-a-copy\n",
      "  errors=errors,\n"
     ]
    }
   ],
   "source": [
    "cadscore.drop(columns=\"pos.b38\", inplace=True)"
   ]
  },
  {
   "cell_type": "code",
   "execution_count": 85,
   "id": "6367b4fd",
   "metadata": {
    "ExecuteTime": {
     "end_time": "2021-11-09T09:11:45.833477Z",
     "start_time": "2021-11-09T09:11:45.809902Z"
    }
   },
   "outputs": [
    {
     "data": {
      "text/html": [
       "<div>\n",
       "<style scoped>\n",
       "    .dataframe tbody tr th:only-of-type {\n",
       "        vertical-align: middle;\n",
       "    }\n",
       "\n",
       "    .dataframe tbody tr th {\n",
       "        vertical-align: top;\n",
       "    }\n",
       "\n",
       "    .dataframe thead th {\n",
       "        text-align: right;\n",
       "    }\n",
       "</style>\n",
       "<table border=\"1\" class=\"dataframe\">\n",
       "  <thead>\n",
       "    <tr style=\"text-align: right;\">\n",
       "      <th></th>\n",
       "      <th>chr_name</th>\n",
       "      <th>chr_position</th>\n",
       "      <th>effect_allele</th>\n",
       "      <th>effect_weight</th>\n",
       "      <th>variant_description</th>\n",
       "      <th>chr_b38</th>\n",
       "      <th>ps_b38</th>\n",
       "    </tr>\n",
       "  </thead>\n",
       "  <tbody>\n",
       "    <tr>\n",
       "      <th>0</th>\n",
       "      <td>chr1</td>\n",
       "      <td>959231</td>\n",
       "      <td>A</td>\n",
       "      <td>0.011321</td>\n",
       "      <td>1:959231:G:A</td>\n",
       "      <td>chr1</td>\n",
       "      <td>1023851</td>\n",
       "    </tr>\n",
       "    <tr>\n",
       "      <th>1</th>\n",
       "      <td>chr1</td>\n",
       "      <td>1119858</td>\n",
       "      <td>T</td>\n",
       "      <td>-0.016588</td>\n",
       "      <td>1:1119858:C:T</td>\n",
       "      <td>chr1</td>\n",
       "      <td>1184478</td>\n",
       "    </tr>\n",
       "    <tr>\n",
       "      <th>2</th>\n",
       "      <td>chr1</td>\n",
       "      <td>1122024</td>\n",
       "      <td>C</td>\n",
       "      <td>0.013543</td>\n",
       "      <td>1:1122024:T:C</td>\n",
       "      <td>chr1</td>\n",
       "      <td>1186644</td>\n",
       "    </tr>\n",
       "    <tr>\n",
       "      <th>3</th>\n",
       "      <td>chr1</td>\n",
       "      <td>1154858</td>\n",
       "      <td>T</td>\n",
       "      <td>-0.024307</td>\n",
       "      <td>1:1154858:C:T</td>\n",
       "      <td>chr1</td>\n",
       "      <td>1219478</td>\n",
       "    </tr>\n",
       "    <tr>\n",
       "      <th>4</th>\n",
       "      <td>chr1</td>\n",
       "      <td>1171417</td>\n",
       "      <td>T</td>\n",
       "      <td>-0.012684</td>\n",
       "      <td>1:1171417:C:T</td>\n",
       "      <td>chr1</td>\n",
       "      <td>1236037</td>\n",
       "    </tr>\n",
       "    <tr>\n",
       "      <th>...</th>\n",
       "      <td>...</td>\n",
       "      <td>...</td>\n",
       "      <td>...</td>\n",
       "      <td>...</td>\n",
       "      <td>...</td>\n",
       "      <td>...</td>\n",
       "      <td>...</td>\n",
       "    </tr>\n",
       "    <tr>\n",
       "      <th>75023</th>\n",
       "      <td>chr22</td>\n",
       "      <td>51091914</td>\n",
       "      <td>T</td>\n",
       "      <td>0.020546</td>\n",
       "      <td>22:51091914:C:T</td>\n",
       "      <td>chr22</td>\n",
       "      <td>50653486</td>\n",
       "    </tr>\n",
       "    <tr>\n",
       "      <th>75024</th>\n",
       "      <td>chr22</td>\n",
       "      <td>51095286</td>\n",
       "      <td>T</td>\n",
       "      <td>0.022332</td>\n",
       "      <td>22:51095286:C:T</td>\n",
       "      <td>chr22</td>\n",
       "      <td>50656858</td>\n",
       "    </tr>\n",
       "    <tr>\n",
       "      <th>75025</th>\n",
       "      <td>chr22</td>\n",
       "      <td>51104170</td>\n",
       "      <td>G</td>\n",
       "      <td>0.011036</td>\n",
       "      <td>22:51104170:A:G</td>\n",
       "      <td>chr22</td>\n",
       "      <td>50665742</td>\n",
       "    </tr>\n",
       "    <tr>\n",
       "      <th>75026</th>\n",
       "      <td>chr22</td>\n",
       "      <td>51115863</td>\n",
       "      <td>A</td>\n",
       "      <td>0.021235</td>\n",
       "      <td>22:51115863:G:A</td>\n",
       "      <td>chr22</td>\n",
       "      <td>50677435</td>\n",
       "    </tr>\n",
       "    <tr>\n",
       "      <th>75027</th>\n",
       "      <td>chr22</td>\n",
       "      <td>51148424</td>\n",
       "      <td>A</td>\n",
       "      <td>0.016764</td>\n",
       "      <td>22:51148424:G:A</td>\n",
       "      <td>chr22</td>\n",
       "      <td>50709996</td>\n",
       "    </tr>\n",
       "  </tbody>\n",
       "</table>\n",
       "<p>75024 rows × 7 columns</p>\n",
       "</div>"
      ],
      "text/plain": [
       "      chr_name  chr_position effect_allele  effect_weight variant_description  \\\n",
       "0         chr1        959231             A       0.011321        1:959231:G:A   \n",
       "1         chr1       1119858             T      -0.016588       1:1119858:C:T   \n",
       "2         chr1       1122024             C       0.013543       1:1122024:T:C   \n",
       "3         chr1       1154858             T      -0.024307       1:1154858:C:T   \n",
       "4         chr1       1171417             T      -0.012684       1:1171417:C:T   \n",
       "...        ...           ...           ...            ...                 ...   \n",
       "75023    chr22      51091914             T       0.020546     22:51091914:C:T   \n",
       "75024    chr22      51095286             T       0.022332     22:51095286:C:T   \n",
       "75025    chr22      51104170             G       0.011036     22:51104170:A:G   \n",
       "75026    chr22      51115863             A       0.021235     22:51115863:G:A   \n",
       "75027    chr22      51148424             A       0.016764     22:51148424:G:A   \n",
       "\n",
       "      chr_b38    ps_b38  \n",
       "0        chr1   1023851  \n",
       "1        chr1   1184478  \n",
       "2        chr1   1186644  \n",
       "3        chr1   1219478  \n",
       "4        chr1   1236037  \n",
       "...       ...       ...  \n",
       "75023   chr22  50653486  \n",
       "75024   chr22  50656858  \n",
       "75025   chr22  50665742  \n",
       "75026   chr22  50677435  \n",
       "75027   chr22  50709996  \n",
       "\n",
       "[75024 rows x 7 columns]"
      ]
     },
     "execution_count": 85,
     "metadata": {},
     "output_type": "execute_result"
    }
   ],
   "source": [
    "cadscore"
   ]
  },
  {
   "cell_type": "code",
   "execution_count": 86,
   "id": "4101ef9f",
   "metadata": {
    "ExecuteTime": {
     "end_time": "2021-11-09T09:11:50.626740Z",
     "start_time": "2021-11-09T09:11:50.572334Z"
    }
   },
   "outputs": [],
   "source": [
    "cadscore=cadscore[cadscore['chr_b38'].str.fullmatch(\"chr[\\d]+\")]"
   ]
  },
  {
   "cell_type": "code",
   "execution_count": 87,
   "id": "8e33ad36",
   "metadata": {
    "ExecuteTime": {
     "end_time": "2021-11-09T09:11:54.398011Z",
     "start_time": "2021-11-09T09:11:54.375422Z"
    }
   },
   "outputs": [
    {
     "data": {
      "text/html": [
       "<div>\n",
       "<style scoped>\n",
       "    .dataframe tbody tr th:only-of-type {\n",
       "        vertical-align: middle;\n",
       "    }\n",
       "\n",
       "    .dataframe tbody tr th {\n",
       "        vertical-align: top;\n",
       "    }\n",
       "\n",
       "    .dataframe thead th {\n",
       "        text-align: right;\n",
       "    }\n",
       "</style>\n",
       "<table border=\"1\" class=\"dataframe\">\n",
       "  <thead>\n",
       "    <tr style=\"text-align: right;\">\n",
       "      <th></th>\n",
       "      <th>chr_name</th>\n",
       "      <th>chr_position</th>\n",
       "      <th>effect_allele</th>\n",
       "      <th>effect_weight</th>\n",
       "      <th>variant_description</th>\n",
       "      <th>chr_b38</th>\n",
       "      <th>ps_b38</th>\n",
       "    </tr>\n",
       "  </thead>\n",
       "  <tbody>\n",
       "    <tr>\n",
       "      <th>0</th>\n",
       "      <td>chr1</td>\n",
       "      <td>959231</td>\n",
       "      <td>A</td>\n",
       "      <td>0.011321</td>\n",
       "      <td>1:959231:G:A</td>\n",
       "      <td>chr1</td>\n",
       "      <td>1023851</td>\n",
       "    </tr>\n",
       "    <tr>\n",
       "      <th>1</th>\n",
       "      <td>chr1</td>\n",
       "      <td>1119858</td>\n",
       "      <td>T</td>\n",
       "      <td>-0.016588</td>\n",
       "      <td>1:1119858:C:T</td>\n",
       "      <td>chr1</td>\n",
       "      <td>1184478</td>\n",
       "    </tr>\n",
       "    <tr>\n",
       "      <th>2</th>\n",
       "      <td>chr1</td>\n",
       "      <td>1122024</td>\n",
       "      <td>C</td>\n",
       "      <td>0.013543</td>\n",
       "      <td>1:1122024:T:C</td>\n",
       "      <td>chr1</td>\n",
       "      <td>1186644</td>\n",
       "    </tr>\n",
       "    <tr>\n",
       "      <th>3</th>\n",
       "      <td>chr1</td>\n",
       "      <td>1154858</td>\n",
       "      <td>T</td>\n",
       "      <td>-0.024307</td>\n",
       "      <td>1:1154858:C:T</td>\n",
       "      <td>chr1</td>\n",
       "      <td>1219478</td>\n",
       "    </tr>\n",
       "    <tr>\n",
       "      <th>4</th>\n",
       "      <td>chr1</td>\n",
       "      <td>1171417</td>\n",
       "      <td>T</td>\n",
       "      <td>-0.012684</td>\n",
       "      <td>1:1171417:C:T</td>\n",
       "      <td>chr1</td>\n",
       "      <td>1236037</td>\n",
       "    </tr>\n",
       "    <tr>\n",
       "      <th>...</th>\n",
       "      <td>...</td>\n",
       "      <td>...</td>\n",
       "      <td>...</td>\n",
       "      <td>...</td>\n",
       "      <td>...</td>\n",
       "      <td>...</td>\n",
       "      <td>...</td>\n",
       "    </tr>\n",
       "    <tr>\n",
       "      <th>75023</th>\n",
       "      <td>chr22</td>\n",
       "      <td>51091914</td>\n",
       "      <td>T</td>\n",
       "      <td>0.020546</td>\n",
       "      <td>22:51091914:C:T</td>\n",
       "      <td>chr22</td>\n",
       "      <td>50653486</td>\n",
       "    </tr>\n",
       "    <tr>\n",
       "      <th>75024</th>\n",
       "      <td>chr22</td>\n",
       "      <td>51095286</td>\n",
       "      <td>T</td>\n",
       "      <td>0.022332</td>\n",
       "      <td>22:51095286:C:T</td>\n",
       "      <td>chr22</td>\n",
       "      <td>50656858</td>\n",
       "    </tr>\n",
       "    <tr>\n",
       "      <th>75025</th>\n",
       "      <td>chr22</td>\n",
       "      <td>51104170</td>\n",
       "      <td>G</td>\n",
       "      <td>0.011036</td>\n",
       "      <td>22:51104170:A:G</td>\n",
       "      <td>chr22</td>\n",
       "      <td>50665742</td>\n",
       "    </tr>\n",
       "    <tr>\n",
       "      <th>75026</th>\n",
       "      <td>chr22</td>\n",
       "      <td>51115863</td>\n",
       "      <td>A</td>\n",
       "      <td>0.021235</td>\n",
       "      <td>22:51115863:G:A</td>\n",
       "      <td>chr22</td>\n",
       "      <td>50677435</td>\n",
       "    </tr>\n",
       "    <tr>\n",
       "      <th>75027</th>\n",
       "      <td>chr22</td>\n",
       "      <td>51148424</td>\n",
       "      <td>A</td>\n",
       "      <td>0.016764</td>\n",
       "      <td>22:51148424:G:A</td>\n",
       "      <td>chr22</td>\n",
       "      <td>50709996</td>\n",
       "    </tr>\n",
       "  </tbody>\n",
       "</table>\n",
       "<p>75022 rows × 7 columns</p>\n",
       "</div>"
      ],
      "text/plain": [
       "      chr_name  chr_position effect_allele  effect_weight variant_description  \\\n",
       "0         chr1        959231             A       0.011321        1:959231:G:A   \n",
       "1         chr1       1119858             T      -0.016588       1:1119858:C:T   \n",
       "2         chr1       1122024             C       0.013543       1:1122024:T:C   \n",
       "3         chr1       1154858             T      -0.024307       1:1154858:C:T   \n",
       "4         chr1       1171417             T      -0.012684       1:1171417:C:T   \n",
       "...        ...           ...           ...            ...                 ...   \n",
       "75023    chr22      51091914             T       0.020546     22:51091914:C:T   \n",
       "75024    chr22      51095286             T       0.022332     22:51095286:C:T   \n",
       "75025    chr22      51104170             G       0.011036     22:51104170:A:G   \n",
       "75026    chr22      51115863             A       0.021235     22:51115863:G:A   \n",
       "75027    chr22      51148424             A       0.016764     22:51148424:G:A   \n",
       "\n",
       "      chr_b38    ps_b38  \n",
       "0        chr1   1023851  \n",
       "1        chr1   1184478  \n",
       "2        chr1   1186644  \n",
       "3        chr1   1219478  \n",
       "4        chr1   1236037  \n",
       "...       ...       ...  \n",
       "75023   chr22  50653486  \n",
       "75024   chr22  50656858  \n",
       "75025   chr22  50665742  \n",
       "75026   chr22  50677435  \n",
       "75027   chr22  50709996  \n",
       "\n",
       "[75022 rows x 7 columns]"
      ]
     },
     "execution_count": 87,
     "metadata": {},
     "output_type": "execute_result"
    }
   ],
   "source": [
    "cadscore"
   ]
  },
  {
   "cell_type": "code",
   "execution_count": 88,
   "id": "67392828",
   "metadata": {
    "ExecuteTime": {
     "end_time": "2021-11-09T09:12:00.648065Z",
     "start_time": "2021-11-09T09:12:00.356254Z"
    }
   },
   "outputs": [],
   "source": [
    "cadscore.to_csv(\"/lustre/groups/itg/teams/analytics/teaching/Gagneur_PRS/PGS000337.b38.txt\", sep=\"\\t\")"
   ]
  },
  {
   "cell_type": "markdown",
   "id": "29b86cec",
   "metadata": {},
   "source": [
    "## Protein score\n",
    "\n",
    "After much searching we realise we do NOT have the score! For the simple reason that we used PRSice2 and that this does a clever merge and score at the same time.\n",
    "\n",
    "We can do something a bit meh which is to start from the clumped 1e-4 results and filter out those that are <the best threshold. So:\n",
    "\n",
    "```bash\n",
    "zcat /storage/sanger/projects/helic/t144_helic_15x/analysis/HA/OLINK/single_point/META/META.MEP1B/MANOLIS.META.MEP1B.assoc.txt.gz| awk '$NF<1.07e-9 && $7>0.05'|fgrep -f <(cut -f1 META.MEP1B.scorevar.clumped.leadvars.beta) | cut -f1,3,5,6,8\n",
    "```\n",
    "\n",
    "Which gives us:\n",
    "```\n",
    "18      32038169        T       C       -2.891709e-01\n",
    "18      32067215        C       T       4.230704e-01\n",
    "18      32208550        G       C       -6.470447e-01\n",
    "18      32224458        T       C       -6.871607e-01\n",
    "18      32224900        A       T       -1.070113e+00\n",
    "18      32317264        C       G       -5.560340e-01\n",
    "18      32337385        C       T       3.294772e-01\n",
    "```\n",
    "\n",
    "We could do an independence test here:\n",
    "\n",
    "\n"
   ]
  },
  {
   "cell_type": "code",
   "execution_count": 89,
   "id": "ab68d26a",
   "metadata": {
    "ExecuteTime": {
     "end_time": "2021-11-09T09:12:03.910207Z",
     "start_time": "2021-11-09T09:12:03.900251Z"
    }
   },
   "outputs": [],
   "source": [
    "from io import StringIO\n",
    "mep1b_score=pd.read_table(StringIO(\"\"\"18      32038169        T       C       -2.891709e-01\n",
    "18      32067215        C       T       4.230704e-01\n",
    "18      32208550        G       C       -6.470447e-01\n",
    "18      32224458        T       C       -6.871607e-01\n",
    "18      32224900        A       T       -1.070113e+00\n",
    "18      32317264        C       G       -5.560340e-01\n",
    "18      32337385        C       T       3.294772e-01\n",
    "\"\"\"), header=None, delim_whitespace=True)"
   ]
  },
  {
   "cell_type": "code",
   "execution_count": 90,
   "id": "c1838843",
   "metadata": {
    "ExecuteTime": {
     "end_time": "2021-11-09T09:12:04.959962Z",
     "start_time": "2021-11-09T09:12:04.954460Z"
    }
   },
   "outputs": [],
   "source": [
    "mep1b_score.columns=[\"chr\", \"pos\", \"A1\", \"A2\", \"effect\"]"
   ]
  },
  {
   "cell_type": "code",
   "execution_count": 91,
   "id": "834aee8f",
   "metadata": {
    "ExecuteTime": {
     "end_time": "2021-11-09T09:12:05.759019Z",
     "start_time": "2021-11-09T09:12:05.742070Z"
    }
   },
   "outputs": [
    {
     "data": {
      "text/html": [
       "<div>\n",
       "<style scoped>\n",
       "    .dataframe tbody tr th:only-of-type {\n",
       "        vertical-align: middle;\n",
       "    }\n",
       "\n",
       "    .dataframe tbody tr th {\n",
       "        vertical-align: top;\n",
       "    }\n",
       "\n",
       "    .dataframe thead th {\n",
       "        text-align: right;\n",
       "    }\n",
       "</style>\n",
       "<table border=\"1\" class=\"dataframe\">\n",
       "  <thead>\n",
       "    <tr style=\"text-align: right;\">\n",
       "      <th></th>\n",
       "      <th>chr</th>\n",
       "      <th>pos</th>\n",
       "      <th>A1</th>\n",
       "      <th>A2</th>\n",
       "      <th>effect</th>\n",
       "    </tr>\n",
       "  </thead>\n",
       "  <tbody>\n",
       "    <tr>\n",
       "      <th>0</th>\n",
       "      <td>18</td>\n",
       "      <td>32038169</td>\n",
       "      <td>T</td>\n",
       "      <td>C</td>\n",
       "      <td>-0.289171</td>\n",
       "    </tr>\n",
       "    <tr>\n",
       "      <th>1</th>\n",
       "      <td>18</td>\n",
       "      <td>32067215</td>\n",
       "      <td>C</td>\n",
       "      <td>T</td>\n",
       "      <td>0.423070</td>\n",
       "    </tr>\n",
       "    <tr>\n",
       "      <th>2</th>\n",
       "      <td>18</td>\n",
       "      <td>32208550</td>\n",
       "      <td>G</td>\n",
       "      <td>C</td>\n",
       "      <td>-0.647045</td>\n",
       "    </tr>\n",
       "    <tr>\n",
       "      <th>3</th>\n",
       "      <td>18</td>\n",
       "      <td>32224458</td>\n",
       "      <td>T</td>\n",
       "      <td>C</td>\n",
       "      <td>-0.687161</td>\n",
       "    </tr>\n",
       "    <tr>\n",
       "      <th>4</th>\n",
       "      <td>18</td>\n",
       "      <td>32224900</td>\n",
       "      <td>A</td>\n",
       "      <td>T</td>\n",
       "      <td>-1.070113</td>\n",
       "    </tr>\n",
       "    <tr>\n",
       "      <th>5</th>\n",
       "      <td>18</td>\n",
       "      <td>32317264</td>\n",
       "      <td>C</td>\n",
       "      <td>G</td>\n",
       "      <td>-0.556034</td>\n",
       "    </tr>\n",
       "    <tr>\n",
       "      <th>6</th>\n",
       "      <td>18</td>\n",
       "      <td>32337385</td>\n",
       "      <td>C</td>\n",
       "      <td>T</td>\n",
       "      <td>0.329477</td>\n",
       "    </tr>\n",
       "  </tbody>\n",
       "</table>\n",
       "</div>"
      ],
      "text/plain": [
       "   chr       pos A1 A2    effect\n",
       "0   18  32038169  T  C -0.289171\n",
       "1   18  32067215  C  T  0.423070\n",
       "2   18  32208550  G  C -0.647045\n",
       "3   18  32224458  T  C -0.687161\n",
       "4   18  32224900  A  T -1.070113\n",
       "5   18  32317264  C  G -0.556034\n",
       "6   18  32337385  C  T  0.329477"
      ]
     },
     "execution_count": 91,
     "metadata": {},
     "output_type": "execute_result"
    }
   ],
   "source": [
    "mep1b_score"
   ]
  },
  {
   "cell_type": "markdown",
   "id": "6af19654",
   "metadata": {},
   "source": [
    "## List of positions for extraction"
   ]
  },
  {
   "cell_type": "code",
   "execution_count": 92,
   "id": "edd0c247",
   "metadata": {
    "ExecuteTime": {
     "end_time": "2021-11-09T09:12:10.130231Z",
     "start_time": "2021-11-09T09:12:10.107907Z"
    }
   },
   "outputs": [
    {
     "data": {
      "text/html": [
       "<div>\n",
       "<style scoped>\n",
       "    .dataframe tbody tr th:only-of-type {\n",
       "        vertical-align: middle;\n",
       "    }\n",
       "\n",
       "    .dataframe tbody tr th {\n",
       "        vertical-align: top;\n",
       "    }\n",
       "\n",
       "    .dataframe thead th {\n",
       "        text-align: right;\n",
       "    }\n",
       "</style>\n",
       "<table border=\"1\" class=\"dataframe\">\n",
       "  <thead>\n",
       "    <tr style=\"text-align: right;\">\n",
       "      <th></th>\n",
       "      <th>chr_name</th>\n",
       "      <th>chr_position</th>\n",
       "      <th>effect_allele</th>\n",
       "      <th>effect_weight</th>\n",
       "      <th>variant_description</th>\n",
       "      <th>chr_b38</th>\n",
       "      <th>ps_b38</th>\n",
       "    </tr>\n",
       "  </thead>\n",
       "  <tbody>\n",
       "    <tr>\n",
       "      <th>0</th>\n",
       "      <td>chr1</td>\n",
       "      <td>959231</td>\n",
       "      <td>A</td>\n",
       "      <td>0.011321</td>\n",
       "      <td>1:959231:G:A</td>\n",
       "      <td>chr1</td>\n",
       "      <td>1023851</td>\n",
       "    </tr>\n",
       "    <tr>\n",
       "      <th>1</th>\n",
       "      <td>chr1</td>\n",
       "      <td>1119858</td>\n",
       "      <td>T</td>\n",
       "      <td>-0.016588</td>\n",
       "      <td>1:1119858:C:T</td>\n",
       "      <td>chr1</td>\n",
       "      <td>1184478</td>\n",
       "    </tr>\n",
       "    <tr>\n",
       "      <th>2</th>\n",
       "      <td>chr1</td>\n",
       "      <td>1122024</td>\n",
       "      <td>C</td>\n",
       "      <td>0.013543</td>\n",
       "      <td>1:1122024:T:C</td>\n",
       "      <td>chr1</td>\n",
       "      <td>1186644</td>\n",
       "    </tr>\n",
       "    <tr>\n",
       "      <th>3</th>\n",
       "      <td>chr1</td>\n",
       "      <td>1154858</td>\n",
       "      <td>T</td>\n",
       "      <td>-0.024307</td>\n",
       "      <td>1:1154858:C:T</td>\n",
       "      <td>chr1</td>\n",
       "      <td>1219478</td>\n",
       "    </tr>\n",
       "    <tr>\n",
       "      <th>4</th>\n",
       "      <td>chr1</td>\n",
       "      <td>1171417</td>\n",
       "      <td>T</td>\n",
       "      <td>-0.012684</td>\n",
       "      <td>1:1171417:C:T</td>\n",
       "      <td>chr1</td>\n",
       "      <td>1236037</td>\n",
       "    </tr>\n",
       "    <tr>\n",
       "      <th>...</th>\n",
       "      <td>...</td>\n",
       "      <td>...</td>\n",
       "      <td>...</td>\n",
       "      <td>...</td>\n",
       "      <td>...</td>\n",
       "      <td>...</td>\n",
       "      <td>...</td>\n",
       "    </tr>\n",
       "    <tr>\n",
       "      <th>75023</th>\n",
       "      <td>chr22</td>\n",
       "      <td>51091914</td>\n",
       "      <td>T</td>\n",
       "      <td>0.020546</td>\n",
       "      <td>22:51091914:C:T</td>\n",
       "      <td>chr22</td>\n",
       "      <td>50653486</td>\n",
       "    </tr>\n",
       "    <tr>\n",
       "      <th>75024</th>\n",
       "      <td>chr22</td>\n",
       "      <td>51095286</td>\n",
       "      <td>T</td>\n",
       "      <td>0.022332</td>\n",
       "      <td>22:51095286:C:T</td>\n",
       "      <td>chr22</td>\n",
       "      <td>50656858</td>\n",
       "    </tr>\n",
       "    <tr>\n",
       "      <th>75025</th>\n",
       "      <td>chr22</td>\n",
       "      <td>51104170</td>\n",
       "      <td>G</td>\n",
       "      <td>0.011036</td>\n",
       "      <td>22:51104170:A:G</td>\n",
       "      <td>chr22</td>\n",
       "      <td>50665742</td>\n",
       "    </tr>\n",
       "    <tr>\n",
       "      <th>75026</th>\n",
       "      <td>chr22</td>\n",
       "      <td>51115863</td>\n",
       "      <td>A</td>\n",
       "      <td>0.021235</td>\n",
       "      <td>22:51115863:G:A</td>\n",
       "      <td>chr22</td>\n",
       "      <td>50677435</td>\n",
       "    </tr>\n",
       "    <tr>\n",
       "      <th>75027</th>\n",
       "      <td>chr22</td>\n",
       "      <td>51148424</td>\n",
       "      <td>A</td>\n",
       "      <td>0.016764</td>\n",
       "      <td>22:51148424:G:A</td>\n",
       "      <td>chr22</td>\n",
       "      <td>50709996</td>\n",
       "    </tr>\n",
       "  </tbody>\n",
       "</table>\n",
       "<p>75022 rows × 7 columns</p>\n",
       "</div>"
      ],
      "text/plain": [
       "      chr_name  chr_position effect_allele  effect_weight variant_description  \\\n",
       "0         chr1        959231             A       0.011321        1:959231:G:A   \n",
       "1         chr1       1119858             T      -0.016588       1:1119858:C:T   \n",
       "2         chr1       1122024             C       0.013543       1:1122024:T:C   \n",
       "3         chr1       1154858             T      -0.024307       1:1154858:C:T   \n",
       "4         chr1       1171417             T      -0.012684       1:1171417:C:T   \n",
       "...        ...           ...           ...            ...                 ...   \n",
       "75023    chr22      51091914             T       0.020546     22:51091914:C:T   \n",
       "75024    chr22      51095286             T       0.022332     22:51095286:C:T   \n",
       "75025    chr22      51104170             G       0.011036     22:51104170:A:G   \n",
       "75026    chr22      51115863             A       0.021235     22:51115863:G:A   \n",
       "75027    chr22      51148424             A       0.016764     22:51148424:G:A   \n",
       "\n",
       "      chr_b38    ps_b38  \n",
       "0        chr1   1023851  \n",
       "1        chr1   1184478  \n",
       "2        chr1   1186644  \n",
       "3        chr1   1219478  \n",
       "4        chr1   1236037  \n",
       "...       ...       ...  \n",
       "75023   chr22  50653486  \n",
       "75024   chr22  50656858  \n",
       "75025   chr22  50665742  \n",
       "75026   chr22  50677435  \n",
       "75027   chr22  50709996  \n",
       "\n",
       "[75022 rows x 7 columns]"
      ]
     },
     "execution_count": 92,
     "metadata": {},
     "output_type": "execute_result"
    }
   ],
   "source": [
    "cadscore"
   ]
  },
  {
   "cell_type": "code",
   "execution_count": 99,
   "id": "2493cd30",
   "metadata": {
    "ExecuteTime": {
     "end_time": "2021-11-09T09:14:23.200237Z",
     "start_time": "2021-11-09T09:14:23.133649Z"
    }
   },
   "outputs": [],
   "source": [
    "cponly=pd.DataFrame({'chr' : cadscore.chr_b38.str.replace('chr', '').astype(int), 'pos' : cadscore.ps_b38})"
   ]
  },
  {
   "cell_type": "code",
   "execution_count": 115,
   "id": "e3e77da2",
   "metadata": {
    "ExecuteTime": {
     "end_time": "2021-11-11T05:00:23.366387Z",
     "start_time": "2021-11-11T05:00:23.357211Z"
    }
   },
   "outputs": [],
   "source": [
    "cponly=cponly.append(mep1b_score[['chr', 'pos']])"
   ]
  },
  {
   "cell_type": "code",
   "execution_count": 116,
   "id": "bc5757ae",
   "metadata": {
    "ExecuteTime": {
     "end_time": "2021-11-11T05:00:26.474788Z",
     "start_time": "2021-11-11T05:00:26.361451Z"
    }
   },
   "outputs": [],
   "source": [
    "cponly.to_csv(\"/lustre/groups/itg/teams/analytics/teaching/Gagneur_PRS/to.extract\", sep=\"\\t\", header=None)"
   ]
  },
  {
   "cell_type": "markdown",
   "id": "0615f6d8",
   "metadata": {},
   "source": [
    "## Extracting these from 1kg and hoping it's not too big\n",
    "\n",
    "```bash\n",
    "cut -f2,3 to.extract | sed 's/^/chr/' > to.extract.chrpos\n",
    "for i in {1..20} 22; do bcftools view -R to.extract.chrpos -Oz -o chr$i.vcf.gz /lustre/groups/itg/shared/referenceData/1kG/20190425_NYGC_GATK/CCDG_13607_B01_GRM_WGS_2019-02-19_chr$i.recalibrated_variants.vcf.gz & done\n",
    "bcftools concat -Oz -o autosomal.forPRS.vcf.gz $(echo chr{1..22}.vcf.gz)\n",
    "plink --set-missing-var-ids @:# --vcf autosomal.forPRS.vcf.gz --make-bed --out autosomal.forPRS\n",
    "plink --vcf autosomal.forPRS.vcf.gz --set-missing-var-ids @:# --recode A --out autosomal.forPRS.mx\n",
    "```\n",
    "\n",
    "The VCF is big but the plink not really. Even the raw is ok compressed 45Mb.\n",
    "\n",
    "We need a slightly different file for scoring, chr:pos allele weight. Easypeasy."
   ]
  },
  {
   "cell_type": "code",
   "execution_count": 108,
   "id": "77527f99",
   "metadata": {
    "ExecuteTime": {
     "end_time": "2021-11-11T04:54:49.563911Z",
     "start_time": "2021-11-11T04:54:49.484076Z"
    }
   },
   "outputs": [],
   "source": [
    "scfile=pd.DataFrame({'id' : cadscore.chr_b38+\":\"+cadscore.ps_b38.astype(str), 'ea' : cadscore.effect_allele, 'wt' : cadscore.effect_weight})"
   ]
  },
  {
   "cell_type": "code",
   "execution_count": 109,
   "id": "a0999bb5",
   "metadata": {
    "ExecuteTime": {
     "end_time": "2021-11-11T04:54:51.139359Z",
     "start_time": "2021-11-11T04:54:51.123685Z"
    }
   },
   "outputs": [
    {
     "data": {
      "text/html": [
       "<div>\n",
       "<style scoped>\n",
       "    .dataframe tbody tr th:only-of-type {\n",
       "        vertical-align: middle;\n",
       "    }\n",
       "\n",
       "    .dataframe tbody tr th {\n",
       "        vertical-align: top;\n",
       "    }\n",
       "\n",
       "    .dataframe thead th {\n",
       "        text-align: right;\n",
       "    }\n",
       "</style>\n",
       "<table border=\"1\" class=\"dataframe\">\n",
       "  <thead>\n",
       "    <tr style=\"text-align: right;\">\n",
       "      <th></th>\n",
       "      <th>id</th>\n",
       "      <th>ea</th>\n",
       "      <th>wt</th>\n",
       "    </tr>\n",
       "  </thead>\n",
       "  <tbody>\n",
       "    <tr>\n",
       "      <th>0</th>\n",
       "      <td>chr1:1023851</td>\n",
       "      <td>A</td>\n",
       "      <td>0.011321</td>\n",
       "    </tr>\n",
       "    <tr>\n",
       "      <th>1</th>\n",
       "      <td>chr1:1184478</td>\n",
       "      <td>T</td>\n",
       "      <td>-0.016588</td>\n",
       "    </tr>\n",
       "    <tr>\n",
       "      <th>2</th>\n",
       "      <td>chr1:1186644</td>\n",
       "      <td>C</td>\n",
       "      <td>0.013543</td>\n",
       "    </tr>\n",
       "    <tr>\n",
       "      <th>3</th>\n",
       "      <td>chr1:1219478</td>\n",
       "      <td>T</td>\n",
       "      <td>-0.024307</td>\n",
       "    </tr>\n",
       "    <tr>\n",
       "      <th>4</th>\n",
       "      <td>chr1:1236037</td>\n",
       "      <td>T</td>\n",
       "      <td>-0.012684</td>\n",
       "    </tr>\n",
       "    <tr>\n",
       "      <th>...</th>\n",
       "      <td>...</td>\n",
       "      <td>...</td>\n",
       "      <td>...</td>\n",
       "    </tr>\n",
       "    <tr>\n",
       "      <th>75023</th>\n",
       "      <td>chr22:50653486</td>\n",
       "      <td>T</td>\n",
       "      <td>0.020546</td>\n",
       "    </tr>\n",
       "    <tr>\n",
       "      <th>75024</th>\n",
       "      <td>chr22:50656858</td>\n",
       "      <td>T</td>\n",
       "      <td>0.022332</td>\n",
       "    </tr>\n",
       "    <tr>\n",
       "      <th>75025</th>\n",
       "      <td>chr22:50665742</td>\n",
       "      <td>G</td>\n",
       "      <td>0.011036</td>\n",
       "    </tr>\n",
       "    <tr>\n",
       "      <th>75026</th>\n",
       "      <td>chr22:50677435</td>\n",
       "      <td>A</td>\n",
       "      <td>0.021235</td>\n",
       "    </tr>\n",
       "    <tr>\n",
       "      <th>75027</th>\n",
       "      <td>chr22:50709996</td>\n",
       "      <td>A</td>\n",
       "      <td>0.016764</td>\n",
       "    </tr>\n",
       "  </tbody>\n",
       "</table>\n",
       "<p>75022 rows × 3 columns</p>\n",
       "</div>"
      ],
      "text/plain": [
       "                   id ea        wt\n",
       "0        chr1:1023851  A  0.011321\n",
       "1        chr1:1184478  T -0.016588\n",
       "2        chr1:1186644  C  0.013543\n",
       "3        chr1:1219478  T -0.024307\n",
       "4        chr1:1236037  T -0.012684\n",
       "...               ... ..       ...\n",
       "75023  chr22:50653486  T  0.020546\n",
       "75024  chr22:50656858  T  0.022332\n",
       "75025  chr22:50665742  G  0.011036\n",
       "75026  chr22:50677435  A  0.021235\n",
       "75027  chr22:50709996  A  0.016764\n",
       "\n",
       "[75022 rows x 3 columns]"
      ]
     },
     "execution_count": 109,
     "metadata": {},
     "output_type": "execute_result"
    }
   ],
   "source": [
    "scfile"
   ]
  },
  {
   "cell_type": "code",
   "execution_count": 111,
   "id": "6f23ccc2",
   "metadata": {
    "ExecuteTime": {
     "end_time": "2021-11-11T04:56:21.702361Z",
     "start_time": "2021-11-11T04:56:21.691833Z"
    }
   },
   "outputs": [],
   "source": [
    "mep=pd.DataFrame({'id' : 'chr' + mep1b_score.chr.astype(str)+ ':' +mep1b_score.pos.astype(str), 'ea' : mep1b_score.A1, 'wt' : mep1b_score.effect})"
   ]
  },
  {
   "cell_type": "code",
   "execution_count": 112,
   "id": "dafe3699",
   "metadata": {
    "ExecuteTime": {
     "end_time": "2021-11-11T04:57:34.934750Z",
     "start_time": "2021-11-11T04:57:34.732989Z"
    }
   },
   "outputs": [],
   "source": [
    "scfile.to_csv(\"/lustre/groups/itg/teams/analytics/teaching/Gagneur_PRS/cad.scorefile\", sep=\"\\t\", header=None, index=False)\n",
    "mep.to_csv(\"/lustre/groups/itg/teams/analytics/teaching/Gagneur_PRS/mep1b.scorefile\", sep=\"\\t\", header=None, index=False)"
   ]
  },
  {
   "cell_type": "markdown",
   "id": "872c093f",
   "metadata": {
    "ExecuteTime": {
     "end_time": "2021-11-11T06:56:26.897204Z",
     "start_time": "2021-11-11T06:56:26.889737Z"
    }
   },
   "source": [
    "## Applying scores\n",
    "\n",
    "### Plink style\n",
    "\n",
    "```bash\n",
    "plink --score cad.scorefile center --bfile autosomal.forPRS --out cadscore\n",
    "plink --score mep1b.scorefile center --bfile autosomal.forPRS --out mepscore\n",
    "```"
   ]
  },
  {
   "cell_type": "code",
   "execution_count": 118,
   "id": "7afd967c",
   "metadata": {
    "ExecuteTime": {
     "end_time": "2021-11-11T06:57:41.761575Z",
     "start_time": "2021-11-11T06:57:41.722217Z"
    }
   },
   "outputs": [],
   "source": [
    "csc=pd.read_table(\"/lustre/groups/itg/teams/analytics/teaching/Gagneur_PRS/cadscore.profile\",\n",
    "                    delim_whitespace=True)"
   ]
  },
  {
   "cell_type": "code",
   "execution_count": 120,
   "id": "b7499d3f",
   "metadata": {
    "ExecuteTime": {
     "end_time": "2021-11-11T06:57:59.769561Z",
     "start_time": "2021-11-11T06:57:52.778850Z"
    }
   },
   "outputs": [
    {
     "name": "stdout",
     "output_type": "stream",
     "text": [
      "/usr/lib/python3/dist-packages/secretstorage/dhcrypto.py:15: CryptographyDeprecationWarning: int_from_bytes is deprecated, use int.from_bytes instead\n",
      "  from cryptography.utils import int_from_bytes\n",
      "/usr/lib/python3/dist-packages/secretstorage/util.py:19: CryptographyDeprecationWarning: int_from_bytes is deprecated, use int.from_bytes instead\n",
      "  from cryptography.utils import int_from_bytes\n",
      "Defaulting to user installation because normal site-packages is not writeable\n",
      "Requirement already satisfied: seaborn in /usr/local/lib/python3.6/dist-packages (0.11.2)\n",
      "Requirement already satisfied: pandas>=0.23 in /usr/local/lib/python3.6/dist-packages (from seaborn) (1.1.5)\n",
      "Requirement already satisfied: numpy>=1.15 in /usr/local/lib/python3.6/dist-packages (from seaborn) (1.19.5)\n",
      "Requirement already satisfied: matplotlib>=2.2 in /usr/local/lib/python3.6/dist-packages (from seaborn) (3.3.4)\n",
      "Requirement already satisfied: scipy>=1.0 in /usr/local/lib/python3.6/dist-packages (from seaborn) (1.5.4)\n",
      "Requirement already satisfied: python-dateutil>=2.1 in /usr/local/lib/python3.6/dist-packages (from matplotlib>=2.2->seaborn) (2.8.2)\n",
      "Requirement already satisfied: pillow>=6.2.0 in /usr/local/lib/python3.6/dist-packages (from matplotlib>=2.2->seaborn) (8.4.0)\n",
      "Requirement already satisfied: cycler>=0.10 in /usr/local/lib/python3.6/dist-packages (from matplotlib>=2.2->seaborn) (0.11.0)\n",
      "Requirement already satisfied: pyparsing!=2.0.4,!=2.1.2,!=2.1.6,>=2.0.3 in /usr/local/lib/python3.6/dist-packages (from matplotlib>=2.2->seaborn) (2.4.7)\n",
      "Requirement already satisfied: kiwisolver>=1.0.1 in /usr/local/lib/python3.6/dist-packages (from matplotlib>=2.2->seaborn) (1.3.1)\n",
      "Requirement already satisfied: pytz>=2017.2 in /usr/local/lib/python3.6/dist-packages (from pandas>=0.23->seaborn) (2021.3)\n",
      "Requirement already satisfied: six>=1.5 in /home/itg/arthur.gilly/.local/lib/python3.6/site-packages (from python-dateutil>=2.1->matplotlib>=2.2->seaborn) (1.16.0)\n"
     ]
    }
   ],
   "source": [
    "!pip install seaborn"
   ]
  },
  {
   "cell_type": "code",
   "execution_count": 125,
   "id": "7b2e0742",
   "metadata": {
    "ExecuteTime": {
     "end_time": "2021-11-11T07:00:06.568145Z",
     "start_time": "2021-11-11T07:00:06.547618Z"
    }
   },
   "outputs": [
    {
     "data": {
      "text/plain": [
       "<Figure size 1152x432 with 0 Axes>"
      ]
     },
     "execution_count": 125,
     "metadata": {},
     "output_type": "execute_result"
    },
    {
     "data": {
      "text/plain": [
       "<Figure size 1152x432 with 0 Axes>"
      ]
     },
     "metadata": {},
     "output_type": "display_data"
    }
   ],
   "source": [
    "import matplotlib.pyplot as plt\n",
    "import seaborn as sns\n",
    "%matplotlib inline\n"
   ]
  },
  {
   "cell_type": "code",
   "execution_count": 127,
   "id": "54cd06fa",
   "metadata": {
    "ExecuteTime": {
     "end_time": "2021-11-11T07:00:18.931517Z",
     "start_time": "2021-11-11T07:00:18.687782Z"
    }
   },
   "outputs": [
    {
     "name": "stderr",
     "output_type": "stream",
     "text": [
      "/usr/local/lib/python3.6/dist-packages/seaborn/distributions.py:2619: FutureWarning: `distplot` is a deprecated function and will be removed in a future version. Please adapt your code to use either `displot` (a figure-level function with similar flexibility) or `histplot` (an axes-level function for histograms).\n",
      "  warnings.warn(msg, FutureWarning)\n"
     ]
    },
    {
     "data": {
      "text/plain": [
       "<AxesSubplot:xlabel='SCORE', ylabel='Density'>"
      ]
     },
     "execution_count": 127,
     "metadata": {},
     "output_type": "execute_result"
    },
    {
     "data": {
      "image/png": "[encoded data removed]",
      "text/plain": [
       "<Figure size 1152x432 with 1 Axes>"
      ]
     },
     "metadata": {
      "needs_background": "light"
     },
     "output_type": "display_data"
    }
   ],
   "source": [
    "plt.figure(figsize=(16, 6))\n",
    "sns.distplot(csc.SCORE)"
   ]
  },
  {
   "cell_type": "code",
   "execution_count": 128,
   "id": "e7027d27",
   "metadata": {
    "ExecuteTime": {
     "end_time": "2021-11-11T07:01:59.022548Z",
     "start_time": "2021-11-11T07:01:58.786229Z"
    }
   },
   "outputs": [
    {
     "name": "stderr",
     "output_type": "stream",
     "text": [
      "/usr/local/lib/python3.6/dist-packages/seaborn/distributions.py:2619: FutureWarning: `distplot` is a deprecated function and will be removed in a future version. Please adapt your code to use either `displot` (a figure-level function with similar flexibility) or `histplot` (an axes-level function for histograms).\n",
      "  warnings.warn(msg, FutureWarning)\n"
     ]
    },
    {
     "data": {
      "text/plain": [
       "<AxesSubplot:xlabel='SCORE', ylabel='Density'>"
      ]
     },
     "execution_count": 128,
     "metadata": {},
     "output_type": "execute_result"
    },
    {
     "data": {
      "image/png": "[encoded data removed]",
      "text/plain": [
       "<Figure size 1152x432 with 1 Axes>"
      ]
     },
     "metadata": {
      "needs_background": "light"
     },
     "output_type": "display_data"
    }
   ],
   "source": [
    "msc=pd.read_table(\"/lustre/groups/itg/teams/analytics/teaching/Gagneur_PRS/mepscore.profile\",\n",
    "                    delim_whitespace=True)\n",
    "plt.figure(figsize=(16, 6))\n",
    "sns.distplot(msc.SCORE)"
   ]
  },
  {
   "cell_type": "markdown",
   "id": "d3bcc0e7",
   "metadata": {},
   "source": [
    "### Applying the score manually"
   ]
  },
  {
   "cell_type": "code",
   "execution_count": 179,
   "id": "ebedbc49",
   "metadata": {
    "ExecuteTime": {
     "end_time": "2021-11-12T08:27:01.554484Z",
     "start_time": "2021-11-12T08:26:37.714218Z"
    }
   },
   "outputs": [],
   "source": [
    "genos=pd.read_table(\"/lustre/groups/itg/teams/analytics/teaching/Gagneur_PRS/autosomal.forPRS.mx.traw\",\n",
    "                   delim_whitespace=True)"
   ]
  },
  {
   "cell_type": "code",
   "execution_count": 180,
   "id": "13abbc4f",
   "metadata": {
    "ExecuteTime": {
     "end_time": "2021-11-12T08:27:01.559373Z",
     "start_time": "2021-11-12T08:27:01.556592Z"
    }
   },
   "outputs": [],
   "source": [
    "samplecols=genos.columns[6:]"
   ]
  },
  {
   "cell_type": "code",
   "execution_count": 181,
   "id": "69a87f94",
   "metadata": {
    "ExecuteTime": {
     "end_time": "2021-11-12T08:27:01.587063Z",
     "start_time": "2021-11-12T08:27:01.561262Z"
    }
   },
   "outputs": [],
   "source": [
    "mepg=genos[genos.SNP.isin(mep.id)]"
   ]
  },
  {
   "cell_type": "code",
   "execution_count": 182,
   "id": "07eb1177",
   "metadata": {
    "ExecuteTime": {
     "end_time": "2021-11-12T08:27:01.616349Z",
     "start_time": "2021-11-12T08:27:01.588843Z"
    }
   },
   "outputs": [
    {
     "data": {
      "text/html": [
       "<div>\n",
       "<style scoped>\n",
       "    .dataframe tbody tr th:only-of-type {\n",
       "        vertical-align: middle;\n",
       "    }\n",
       "\n",
       "    .dataframe tbody tr th {\n",
       "        vertical-align: top;\n",
       "    }\n",
       "\n",
       "    .dataframe thead th {\n",
       "        text-align: right;\n",
       "    }\n",
       "</style>\n",
       "<table border=\"1\" class=\"dataframe\">\n",
       "  <thead>\n",
       "    <tr style=\"text-align: right;\">\n",
       "      <th></th>\n",
       "      <th>index</th>\n",
       "      <th>CHR</th>\n",
       "      <th>SNP</th>\n",
       "      <th>(C)M</th>\n",
       "      <th>POS</th>\n",
       "      <th>COUNTED</th>\n",
       "      <th>ALT</th>\n",
       "      <th>HG00096_HG00096</th>\n",
       "      <th>HG00097_HG00097</th>\n",
       "      <th>HG00099_HG00099</th>\n",
       "      <th>...</th>\n",
       "      <th>NA21128_NA21128</th>\n",
       "      <th>NA21129_NA21129</th>\n",
       "      <th>NA21130_NA21130</th>\n",
       "      <th>NA21133_NA21133</th>\n",
       "      <th>NA21135_NA21135</th>\n",
       "      <th>NA21137_NA21137</th>\n",
       "      <th>NA21141_NA21141</th>\n",
       "      <th>NA21142_NA21142</th>\n",
       "      <th>NA21143_NA21143</th>\n",
       "      <th>NA21144_NA21144</th>\n",
       "    </tr>\n",
       "  </thead>\n",
       "  <tbody>\n",
       "    <tr>\n",
       "      <th>0</th>\n",
       "      <td>68063</td>\n",
       "      <td>18</td>\n",
       "      <td>chr18:32038169</td>\n",
       "      <td>0</td>\n",
       "      <td>32038169</td>\n",
       "      <td>T</td>\n",
       "      <td>C</td>\n",
       "      <td>0.0</td>\n",
       "      <td>1.0</td>\n",
       "      <td>1.0</td>\n",
       "      <td>...</td>\n",
       "      <td>0.0</td>\n",
       "      <td>1.0</td>\n",
       "      <td>1.0</td>\n",
       "      <td>1.0</td>\n",
       "      <td>1.0</td>\n",
       "      <td>2.0</td>\n",
       "      <td>0.0</td>\n",
       "      <td>1.0</td>\n",
       "      <td>0.0</td>\n",
       "      <td>1.0</td>\n",
       "    </tr>\n",
       "    <tr>\n",
       "      <th>1</th>\n",
       "      <td>68064</td>\n",
       "      <td>18</td>\n",
       "      <td>chr18:32067215</td>\n",
       "      <td>0</td>\n",
       "      <td>32067215</td>\n",
       "      <td>C</td>\n",
       "      <td>T</td>\n",
       "      <td>0.0</td>\n",
       "      <td>0.0</td>\n",
       "      <td>0.0</td>\n",
       "      <td>...</td>\n",
       "      <td>0.0</td>\n",
       "      <td>0.0</td>\n",
       "      <td>0.0</td>\n",
       "      <td>0.0</td>\n",
       "      <td>0.0</td>\n",
       "      <td>0.0</td>\n",
       "      <td>0.0</td>\n",
       "      <td>0.0</td>\n",
       "      <td>0.0</td>\n",
       "      <td>0.0</td>\n",
       "    </tr>\n",
       "    <tr>\n",
       "      <th>2</th>\n",
       "      <td>68071</td>\n",
       "      <td>18</td>\n",
       "      <td>chr18:32208550</td>\n",
       "      <td>0</td>\n",
       "      <td>32208550</td>\n",
       "      <td>G</td>\n",
       "      <td>C</td>\n",
       "      <td>0.0</td>\n",
       "      <td>1.0</td>\n",
       "      <td>1.0</td>\n",
       "      <td>...</td>\n",
       "      <td>1.0</td>\n",
       "      <td>1.0</td>\n",
       "      <td>0.0</td>\n",
       "      <td>0.0</td>\n",
       "      <td>0.0</td>\n",
       "      <td>1.0</td>\n",
       "      <td>0.0</td>\n",
       "      <td>0.0</td>\n",
       "      <td>2.0</td>\n",
       "      <td>1.0</td>\n",
       "    </tr>\n",
       "    <tr>\n",
       "      <th>3</th>\n",
       "      <td>68074</td>\n",
       "      <td>18</td>\n",
       "      <td>chr18:32224458</td>\n",
       "      <td>0</td>\n",
       "      <td>32224458</td>\n",
       "      <td>T</td>\n",
       "      <td>C</td>\n",
       "      <td>0.0</td>\n",
       "      <td>0.0</td>\n",
       "      <td>0.0</td>\n",
       "      <td>...</td>\n",
       "      <td>0.0</td>\n",
       "      <td>0.0</td>\n",
       "      <td>0.0</td>\n",
       "      <td>0.0</td>\n",
       "      <td>0.0</td>\n",
       "      <td>0.0</td>\n",
       "      <td>0.0</td>\n",
       "      <td>0.0</td>\n",
       "      <td>0.0</td>\n",
       "      <td>1.0</td>\n",
       "    </tr>\n",
       "    <tr>\n",
       "      <th>4</th>\n",
       "      <td>68075</td>\n",
       "      <td>18</td>\n",
       "      <td>chr18:32224900</td>\n",
       "      <td>0</td>\n",
       "      <td>32224900</td>\n",
       "      <td>A</td>\n",
       "      <td>T</td>\n",
       "      <td>2.0</td>\n",
       "      <td>2.0</td>\n",
       "      <td>1.0</td>\n",
       "      <td>...</td>\n",
       "      <td>1.0</td>\n",
       "      <td>1.0</td>\n",
       "      <td>1.0</td>\n",
       "      <td>2.0</td>\n",
       "      <td>1.0</td>\n",
       "      <td>1.0</td>\n",
       "      <td>0.0</td>\n",
       "      <td>0.0</td>\n",
       "      <td>2.0</td>\n",
       "      <td>2.0</td>\n",
       "    </tr>\n",
       "    <tr>\n",
       "      <th>5</th>\n",
       "      <td>68078</td>\n",
       "      <td>18</td>\n",
       "      <td>chr18:32317264</td>\n",
       "      <td>0</td>\n",
       "      <td>32317264</td>\n",
       "      <td>C</td>\n",
       "      <td>G</td>\n",
       "      <td>0.0</td>\n",
       "      <td>0.0</td>\n",
       "      <td>0.0</td>\n",
       "      <td>...</td>\n",
       "      <td>0.0</td>\n",
       "      <td>1.0</td>\n",
       "      <td>1.0</td>\n",
       "      <td>0.0</td>\n",
       "      <td>0.0</td>\n",
       "      <td>0.0</td>\n",
       "      <td>0.0</td>\n",
       "      <td>0.0</td>\n",
       "      <td>0.0</td>\n",
       "      <td>0.0</td>\n",
       "    </tr>\n",
       "    <tr>\n",
       "      <th>6</th>\n",
       "      <td>68079</td>\n",
       "      <td>18</td>\n",
       "      <td>chr18:32337385</td>\n",
       "      <td>0</td>\n",
       "      <td>32337385</td>\n",
       "      <td>C</td>\n",
       "      <td>T</td>\n",
       "      <td>1.0</td>\n",
       "      <td>2.0</td>\n",
       "      <td>0.0</td>\n",
       "      <td>...</td>\n",
       "      <td>1.0</td>\n",
       "      <td>1.0</td>\n",
       "      <td>1.0</td>\n",
       "      <td>0.0</td>\n",
       "      <td>2.0</td>\n",
       "      <td>2.0</td>\n",
       "      <td>1.0</td>\n",
       "      <td>1.0</td>\n",
       "      <td>2.0</td>\n",
       "      <td>1.0</td>\n",
       "    </tr>\n",
       "  </tbody>\n",
       "</table>\n",
       "<p>7 rows × 2511 columns</p>\n",
       "</div>"
      ],
      "text/plain": [
       "   index  CHR             SNP  (C)M       POS COUNTED ALT  HG00096_HG00096  \\\n",
       "0  68063   18  chr18:32038169     0  32038169       T   C              0.0   \n",
       "1  68064   18  chr18:32067215     0  32067215       C   T              0.0   \n",
       "2  68071   18  chr18:32208550     0  32208550       G   C              0.0   \n",
       "3  68074   18  chr18:32224458     0  32224458       T   C              0.0   \n",
       "4  68075   18  chr18:32224900     0  32224900       A   T              2.0   \n",
       "5  68078   18  chr18:32317264     0  32317264       C   G              0.0   \n",
       "6  68079   18  chr18:32337385     0  32337385       C   T              1.0   \n",
       "\n",
       "   HG00097_HG00097  HG00099_HG00099  ...  NA21128_NA21128  NA21129_NA21129  \\\n",
       "0              1.0              1.0  ...              0.0              1.0   \n",
       "1              0.0              0.0  ...              0.0              0.0   \n",
       "2              1.0              1.0  ...              1.0              1.0   \n",
       "3              0.0              0.0  ...              0.0              0.0   \n",
       "4              2.0              1.0  ...              1.0              1.0   \n",
       "5              0.0              0.0  ...              0.0              1.0   \n",
       "6              2.0              0.0  ...              1.0              1.0   \n",
       "\n",
       "   NA21130_NA21130  NA21133_NA21133  NA21135_NA21135  NA21137_NA21137  \\\n",
       "0              1.0              1.0              1.0              2.0   \n",
       "1              0.0              0.0              0.0              0.0   \n",
       "2              0.0              0.0              0.0              1.0   \n",
       "3              0.0              0.0              0.0              0.0   \n",
       "4              1.0              2.0              1.0              1.0   \n",
       "5              1.0              0.0              0.0              0.0   \n",
       "6              1.0              0.0              2.0              2.0   \n",
       "\n",
       "   NA21141_NA21141  NA21142_NA21142  NA21143_NA21143  NA21144_NA21144  \n",
       "0              0.0              1.0              0.0              1.0  \n",
       "1              0.0              0.0              0.0              0.0  \n",
       "2              0.0              0.0              2.0              1.0  \n",
       "3              0.0              0.0              0.0              1.0  \n",
       "4              0.0              0.0              2.0              2.0  \n",
       "5              0.0              0.0              0.0              0.0  \n",
       "6              1.0              1.0              2.0              1.0  \n",
       "\n",
       "[7 rows x 2511 columns]"
      ]
     },
     "execution_count": 182,
     "metadata": {},
     "output_type": "execute_result"
    }
   ],
   "source": [
    "mepg.reset_index(inplace=True)\n",
    "mepg"
   ]
  },
  {
   "cell_type": "code",
   "execution_count": 183,
   "id": "34d17420",
   "metadata": {
    "ExecuteTime": {
     "end_time": "2021-11-12T08:27:01.622701Z",
     "start_time": "2021-11-12T08:27:01.617904Z"
    }
   },
   "outputs": [],
   "source": [
    "mepscoreg=mepg[samplecols].mul(mep.wt, axis='index')"
   ]
  },
  {
   "cell_type": "code",
   "execution_count": 184,
   "id": "58e7d589",
   "metadata": {
    "ExecuteTime": {
     "end_time": "2021-11-12T08:27:01.655255Z",
     "start_time": "2021-11-12T08:27:01.624228Z"
    }
   },
   "outputs": [
    {
     "data": {
      "text/html": [
       "<div>\n",
       "<style scoped>\n",
       "    .dataframe tbody tr th:only-of-type {\n",
       "        vertical-align: middle;\n",
       "    }\n",
       "\n",
       "    .dataframe tbody tr th {\n",
       "        vertical-align: top;\n",
       "    }\n",
       "\n",
       "    .dataframe thead th {\n",
       "        text-align: right;\n",
       "    }\n",
       "</style>\n",
       "<table border=\"1\" class=\"dataframe\">\n",
       "  <thead>\n",
       "    <tr style=\"text-align: right;\">\n",
       "      <th></th>\n",
       "      <th>HG00096_HG00096</th>\n",
       "      <th>HG00097_HG00097</th>\n",
       "      <th>HG00099_HG00099</th>\n",
       "      <th>HG00100_HG00100</th>\n",
       "      <th>HG00101_HG00101</th>\n",
       "      <th>HG00102_HG00102</th>\n",
       "      <th>HG00103_HG00103</th>\n",
       "      <th>HG00105_HG00105</th>\n",
       "      <th>HG00106_HG00106</th>\n",
       "      <th>HG00107_HG00107</th>\n",
       "      <th>...</th>\n",
       "      <th>NA21128_NA21128</th>\n",
       "      <th>NA21129_NA21129</th>\n",
       "      <th>NA21130_NA21130</th>\n",
       "      <th>NA21133_NA21133</th>\n",
       "      <th>NA21135_NA21135</th>\n",
       "      <th>NA21137_NA21137</th>\n",
       "      <th>NA21141_NA21141</th>\n",
       "      <th>NA21142_NA21142</th>\n",
       "      <th>NA21143_NA21143</th>\n",
       "      <th>NA21144_NA21144</th>\n",
       "    </tr>\n",
       "  </thead>\n",
       "  <tbody>\n",
       "    <tr>\n",
       "      <th>0</th>\n",
       "      <td>-0.000000</td>\n",
       "      <td>-0.289171</td>\n",
       "      <td>-0.289171</td>\n",
       "      <td>-0.578342</td>\n",
       "      <td>-0.289171</td>\n",
       "      <td>-0.000000</td>\n",
       "      <td>-0.289171</td>\n",
       "      <td>-0.289171</td>\n",
       "      <td>-0.289171</td>\n",
       "      <td>-0.578342</td>\n",
       "      <td>...</td>\n",
       "      <td>-0.000000</td>\n",
       "      <td>-0.289171</td>\n",
       "      <td>-0.289171</td>\n",
       "      <td>-0.289171</td>\n",
       "      <td>-0.289171</td>\n",
       "      <td>-0.578342</td>\n",
       "      <td>-0.000000</td>\n",
       "      <td>-0.289171</td>\n",
       "      <td>-0.000000</td>\n",
       "      <td>-0.289171</td>\n",
       "    </tr>\n",
       "    <tr>\n",
       "      <th>1</th>\n",
       "      <td>0.000000</td>\n",
       "      <td>0.000000</td>\n",
       "      <td>0.000000</td>\n",
       "      <td>0.000000</td>\n",
       "      <td>0.000000</td>\n",
       "      <td>0.000000</td>\n",
       "      <td>0.000000</td>\n",
       "      <td>0.000000</td>\n",
       "      <td>0.000000</td>\n",
       "      <td>0.000000</td>\n",
       "      <td>...</td>\n",
       "      <td>0.000000</td>\n",
       "      <td>0.000000</td>\n",
       "      <td>0.000000</td>\n",
       "      <td>0.000000</td>\n",
       "      <td>0.000000</td>\n",
       "      <td>0.000000</td>\n",
       "      <td>0.000000</td>\n",
       "      <td>0.000000</td>\n",
       "      <td>0.000000</td>\n",
       "      <td>0.000000</td>\n",
       "    </tr>\n",
       "    <tr>\n",
       "      <th>2</th>\n",
       "      <td>-0.000000</td>\n",
       "      <td>-0.647045</td>\n",
       "      <td>-0.647045</td>\n",
       "      <td>-0.000000</td>\n",
       "      <td>-0.000000</td>\n",
       "      <td>-0.000000</td>\n",
       "      <td>-0.647045</td>\n",
       "      <td>-0.000000</td>\n",
       "      <td>-0.000000</td>\n",
       "      <td>-0.647045</td>\n",
       "      <td>...</td>\n",
       "      <td>-0.647045</td>\n",
       "      <td>-0.647045</td>\n",
       "      <td>-0.000000</td>\n",
       "      <td>-0.000000</td>\n",
       "      <td>-0.000000</td>\n",
       "      <td>-0.647045</td>\n",
       "      <td>-0.000000</td>\n",
       "      <td>-0.000000</td>\n",
       "      <td>-1.294089</td>\n",
       "      <td>-0.647045</td>\n",
       "    </tr>\n",
       "    <tr>\n",
       "      <th>3</th>\n",
       "      <td>-0.000000</td>\n",
       "      <td>-0.000000</td>\n",
       "      <td>-0.000000</td>\n",
       "      <td>-0.000000</td>\n",
       "      <td>-0.000000</td>\n",
       "      <td>-0.000000</td>\n",
       "      <td>-0.000000</td>\n",
       "      <td>-0.000000</td>\n",
       "      <td>-0.000000</td>\n",
       "      <td>-0.000000</td>\n",
       "      <td>...</td>\n",
       "      <td>-0.000000</td>\n",
       "      <td>-0.000000</td>\n",
       "      <td>-0.000000</td>\n",
       "      <td>-0.000000</td>\n",
       "      <td>-0.000000</td>\n",
       "      <td>-0.000000</td>\n",
       "      <td>-0.000000</td>\n",
       "      <td>-0.000000</td>\n",
       "      <td>-0.000000</td>\n",
       "      <td>-0.687161</td>\n",
       "    </tr>\n",
       "    <tr>\n",
       "      <th>4</th>\n",
       "      <td>-2.140226</td>\n",
       "      <td>-2.140226</td>\n",
       "      <td>-1.070113</td>\n",
       "      <td>-0.000000</td>\n",
       "      <td>-2.140226</td>\n",
       "      <td>-1.070113</td>\n",
       "      <td>-2.140226</td>\n",
       "      <td>-0.000000</td>\n",
       "      <td>-2.140226</td>\n",
       "      <td>-1.070113</td>\n",
       "      <td>...</td>\n",
       "      <td>-1.070113</td>\n",
       "      <td>-1.070113</td>\n",
       "      <td>-1.070113</td>\n",
       "      <td>-2.140226</td>\n",
       "      <td>-1.070113</td>\n",
       "      <td>-1.070113</td>\n",
       "      <td>-0.000000</td>\n",
       "      <td>-0.000000</td>\n",
       "      <td>-2.140226</td>\n",
       "      <td>-2.140226</td>\n",
       "    </tr>\n",
       "    <tr>\n",
       "      <th>5</th>\n",
       "      <td>-0.000000</td>\n",
       "      <td>-0.000000</td>\n",
       "      <td>-0.000000</td>\n",
       "      <td>-0.000000</td>\n",
       "      <td>-0.556034</td>\n",
       "      <td>-0.000000</td>\n",
       "      <td>-0.000000</td>\n",
       "      <td>-0.000000</td>\n",
       "      <td>-0.556034</td>\n",
       "      <td>-0.000000</td>\n",
       "      <td>...</td>\n",
       "      <td>-0.000000</td>\n",
       "      <td>-0.556034</td>\n",
       "      <td>-0.556034</td>\n",
       "      <td>-0.000000</td>\n",
       "      <td>-0.000000</td>\n",
       "      <td>-0.000000</td>\n",
       "      <td>-0.000000</td>\n",
       "      <td>-0.000000</td>\n",
       "      <td>-0.000000</td>\n",
       "      <td>-0.000000</td>\n",
       "    </tr>\n",
       "    <tr>\n",
       "      <th>6</th>\n",
       "      <td>0.329477</td>\n",
       "      <td>0.658954</td>\n",
       "      <td>0.000000</td>\n",
       "      <td>0.329477</td>\n",
       "      <td>0.329477</td>\n",
       "      <td>0.329477</td>\n",
       "      <td>0.329477</td>\n",
       "      <td>0.329477</td>\n",
       "      <td>0.000000</td>\n",
       "      <td>0.329477</td>\n",
       "      <td>...</td>\n",
       "      <td>0.329477</td>\n",
       "      <td>0.329477</td>\n",
       "      <td>0.329477</td>\n",
       "      <td>0.000000</td>\n",
       "      <td>0.658954</td>\n",
       "      <td>0.658954</td>\n",
       "      <td>0.329477</td>\n",
       "      <td>0.329477</td>\n",
       "      <td>0.658954</td>\n",
       "      <td>0.329477</td>\n",
       "    </tr>\n",
       "  </tbody>\n",
       "</table>\n",
       "<p>7 rows × 2504 columns</p>\n",
       "</div>"
      ],
      "text/plain": [
       "   HG00096_HG00096  HG00097_HG00097  HG00099_HG00099  HG00100_HG00100  \\\n",
       "0        -0.000000        -0.289171        -0.289171        -0.578342   \n",
       "1         0.000000         0.000000         0.000000         0.000000   \n",
       "2        -0.000000        -0.647045        -0.647045        -0.000000   \n",
       "3        -0.000000        -0.000000        -0.000000        -0.000000   \n",
       "4        -2.140226        -2.140226        -1.070113        -0.000000   \n",
       "5        -0.000000        -0.000000        -0.000000        -0.000000   \n",
       "6         0.329477         0.658954         0.000000         0.329477   \n",
       "\n",
       "   HG00101_HG00101  HG00102_HG00102  HG00103_HG00103  HG00105_HG00105  \\\n",
       "0        -0.289171        -0.000000        -0.289171        -0.289171   \n",
       "1         0.000000         0.000000         0.000000         0.000000   \n",
       "2        -0.000000        -0.000000        -0.647045        -0.000000   \n",
       "3        -0.000000        -0.000000        -0.000000        -0.000000   \n",
       "4        -2.140226        -1.070113        -2.140226        -0.000000   \n",
       "5        -0.556034        -0.000000        -0.000000        -0.000000   \n",
       "6         0.329477         0.329477         0.329477         0.329477   \n",
       "\n",
       "   HG00106_HG00106  HG00107_HG00107  ...  NA21128_NA21128  NA21129_NA21129  \\\n",
       "0        -0.289171        -0.578342  ...        -0.000000        -0.289171   \n",
       "1         0.000000         0.000000  ...         0.000000         0.000000   \n",
       "2        -0.000000        -0.647045  ...        -0.647045        -0.647045   \n",
       "3        -0.000000        -0.000000  ...        -0.000000        -0.000000   \n",
       "4        -2.140226        -1.070113  ...        -1.070113        -1.070113   \n",
       "5        -0.556034        -0.000000  ...        -0.000000        -0.556034   \n",
       "6         0.000000         0.329477  ...         0.329477         0.329477   \n",
       "\n",
       "   NA21130_NA21130  NA21133_NA21133  NA21135_NA21135  NA21137_NA21137  \\\n",
       "0        -0.289171        -0.289171        -0.289171        -0.578342   \n",
       "1         0.000000         0.000000         0.000000         0.000000   \n",
       "2        -0.000000        -0.000000        -0.000000        -0.647045   \n",
       "3        -0.000000        -0.000000        -0.000000        -0.000000   \n",
       "4        -1.070113        -2.140226        -1.070113        -1.070113   \n",
       "5        -0.556034        -0.000000        -0.000000        -0.000000   \n",
       "6         0.329477         0.000000         0.658954         0.658954   \n",
       "\n",
       "   NA21141_NA21141  NA21142_NA21142  NA21143_NA21143  NA21144_NA21144  \n",
       "0        -0.000000        -0.289171        -0.000000        -0.289171  \n",
       "1         0.000000         0.000000         0.000000         0.000000  \n",
       "2        -0.000000        -0.000000        -1.294089        -0.647045  \n",
       "3        -0.000000        -0.000000        -0.000000        -0.687161  \n",
       "4        -0.000000        -0.000000        -2.140226        -2.140226  \n",
       "5        -0.000000        -0.000000        -0.000000        -0.000000  \n",
       "6         0.329477         0.329477         0.658954         0.329477  \n",
       "\n",
       "[7 rows x 2504 columns]"
      ]
     },
     "execution_count": 184,
     "metadata": {},
     "output_type": "execute_result"
    }
   ],
   "source": [
    "mepscoreg"
   ]
  },
  {
   "cell_type": "code",
   "execution_count": 187,
   "id": "ef043f83",
   "metadata": {
    "ExecuteTime": {
     "end_time": "2021-11-12T08:27:33.020573Z",
     "start_time": "2021-11-12T08:27:32.713620Z"
    }
   },
   "outputs": [
    {
     "data": {
      "text/plain": [
       "<seaborn.axisgrid.FacetGrid at 0x7fdc69d12cc0>"
      ]
     },
     "execution_count": 187,
     "metadata": {},
     "output_type": "execute_result"
    },
    {
     "data": {
      "image/png": "[encoded data removed]",
      "text/plain": [
       "<Figure size 360x360 with 1 Axes>"
      ]
     },
     "metadata": {
      "needs_background": "light"
     },
     "output_type": "display_data"
    }
   ],
   "source": [
    "sns.displot(mepscoreg.sum())"
   ]
  },
  {
   "cell_type": "code",
   "execution_count": 188,
   "id": "daadab72",
   "metadata": {
    "ExecuteTime": {
     "end_time": "2021-11-12T08:28:32.593158Z",
     "start_time": "2021-11-12T08:28:31.530492Z"
    }
   },
   "outputs": [],
   "source": [
    "cadg=genos[genos.SNP.isin(scfile.id)]"
   ]
  },
  {
   "cell_type": "code",
   "execution_count": 189,
   "id": "7a5fb795",
   "metadata": {
    "ExecuteTime": {
     "end_time": "2021-11-12T08:28:34.895480Z",
     "start_time": "2021-11-12T08:28:34.826671Z"
    }
   },
   "outputs": [
    {
     "data": {
      "text/html": [
       "<div>\n",
       "<style scoped>\n",
       "    .dataframe tbody tr th:only-of-type {\n",
       "        vertical-align: middle;\n",
       "    }\n",
       "\n",
       "    .dataframe tbody tr th {\n",
       "        vertical-align: top;\n",
       "    }\n",
       "\n",
       "    .dataframe thead th {\n",
       "        text-align: right;\n",
       "    }\n",
       "</style>\n",
       "<table border=\"1\" class=\"dataframe\">\n",
       "  <thead>\n",
       "    <tr style=\"text-align: right;\">\n",
       "      <th></th>\n",
       "      <th>CHR</th>\n",
       "      <th>SNP</th>\n",
       "      <th>(C)M</th>\n",
       "      <th>POS</th>\n",
       "      <th>COUNTED</th>\n",
       "      <th>ALT</th>\n",
       "      <th>HG00096_HG00096</th>\n",
       "      <th>HG00097_HG00097</th>\n",
       "      <th>HG00099_HG00099</th>\n",
       "      <th>HG00100_HG00100</th>\n",
       "      <th>...</th>\n",
       "      <th>NA21128_NA21128</th>\n",
       "      <th>NA21129_NA21129</th>\n",
       "      <th>NA21130_NA21130</th>\n",
       "      <th>NA21133_NA21133</th>\n",
       "      <th>NA21135_NA21135</th>\n",
       "      <th>NA21137_NA21137</th>\n",
       "      <th>NA21141_NA21141</th>\n",
       "      <th>NA21142_NA21142</th>\n",
       "      <th>NA21143_NA21143</th>\n",
       "      <th>NA21144_NA21144</th>\n",
       "    </tr>\n",
       "  </thead>\n",
       "  <tbody>\n",
       "    <tr>\n",
       "      <th>0</th>\n",
       "      <td>1</td>\n",
       "      <td>chr1:1023851</td>\n",
       "      <td>0</td>\n",
       "      <td>1023851</td>\n",
       "      <td>A</td>\n",
       "      <td>G</td>\n",
       "      <td>0.0</td>\n",
       "      <td>1.0</td>\n",
       "      <td>2.0</td>\n",
       "      <td>1.0</td>\n",
       "      <td>...</td>\n",
       "      <td>1.0</td>\n",
       "      <td>2.0</td>\n",
       "      <td>1.0</td>\n",
       "      <td>0.0</td>\n",
       "      <td>0.0</td>\n",
       "      <td>0.0</td>\n",
       "      <td>2.0</td>\n",
       "      <td>1.0</td>\n",
       "      <td>1.0</td>\n",
       "      <td>0.0</td>\n",
       "    </tr>\n",
       "    <tr>\n",
       "      <th>1</th>\n",
       "      <td>1</td>\n",
       "      <td>chr1:1184478</td>\n",
       "      <td>0</td>\n",
       "      <td>1184478</td>\n",
       "      <td>T</td>\n",
       "      <td>C</td>\n",
       "      <td>0.0</td>\n",
       "      <td>0.0</td>\n",
       "      <td>0.0</td>\n",
       "      <td>0.0</td>\n",
       "      <td>...</td>\n",
       "      <td>0.0</td>\n",
       "      <td>1.0</td>\n",
       "      <td>0.0</td>\n",
       "      <td>0.0</td>\n",
       "      <td>1.0</td>\n",
       "      <td>0.0</td>\n",
       "      <td>1.0</td>\n",
       "      <td>1.0</td>\n",
       "      <td>1.0</td>\n",
       "      <td>0.0</td>\n",
       "    </tr>\n",
       "    <tr>\n",
       "      <th>2</th>\n",
       "      <td>1</td>\n",
       "      <td>chr1:1186644</td>\n",
       "      <td>0</td>\n",
       "      <td>1186644</td>\n",
       "      <td>C</td>\n",
       "      <td>T</td>\n",
       "      <td>0.0</td>\n",
       "      <td>0.0</td>\n",
       "      <td>0.0</td>\n",
       "      <td>0.0</td>\n",
       "      <td>...</td>\n",
       "      <td>1.0</td>\n",
       "      <td>0.0</td>\n",
       "      <td>2.0</td>\n",
       "      <td>1.0</td>\n",
       "      <td>0.0</td>\n",
       "      <td>1.0</td>\n",
       "      <td>1.0</td>\n",
       "      <td>1.0</td>\n",
       "      <td>1.0</td>\n",
       "      <td>0.0</td>\n",
       "    </tr>\n",
       "    <tr>\n",
       "      <th>3</th>\n",
       "      <td>1</td>\n",
       "      <td>chr1:1219478</td>\n",
       "      <td>0</td>\n",
       "      <td>1219478</td>\n",
       "      <td>T</td>\n",
       "      <td>C</td>\n",
       "      <td>0.0</td>\n",
       "      <td>0.0</td>\n",
       "      <td>0.0</td>\n",
       "      <td>0.0</td>\n",
       "      <td>...</td>\n",
       "      <td>0.0</td>\n",
       "      <td>0.0</td>\n",
       "      <td>0.0</td>\n",
       "      <td>0.0</td>\n",
       "      <td>0.0</td>\n",
       "      <td>0.0</td>\n",
       "      <td>0.0</td>\n",
       "      <td>0.0</td>\n",
       "      <td>0.0</td>\n",
       "      <td>0.0</td>\n",
       "    </tr>\n",
       "    <tr>\n",
       "      <th>4</th>\n",
       "      <td>1</td>\n",
       "      <td>chr1:1236037</td>\n",
       "      <td>0</td>\n",
       "      <td>1236037</td>\n",
       "      <td>C</td>\n",
       "      <td>T</td>\n",
       "      <td>1.0</td>\n",
       "      <td>1.0</td>\n",
       "      <td>2.0</td>\n",
       "      <td>1.0</td>\n",
       "      <td>...</td>\n",
       "      <td>1.0</td>\n",
       "      <td>0.0</td>\n",
       "      <td>0.0</td>\n",
       "      <td>0.0</td>\n",
       "      <td>1.0</td>\n",
       "      <td>1.0</td>\n",
       "      <td>0.0</td>\n",
       "      <td>0.0</td>\n",
       "      <td>0.0</td>\n",
       "      <td>1.0</td>\n",
       "    </tr>\n",
       "    <tr>\n",
       "      <th>...</th>\n",
       "      <td>...</td>\n",
       "      <td>...</td>\n",
       "      <td>...</td>\n",
       "      <td>...</td>\n",
       "      <td>...</td>\n",
       "      <td>...</td>\n",
       "      <td>...</td>\n",
       "      <td>...</td>\n",
       "      <td>...</td>\n",
       "      <td>...</td>\n",
       "      <td>...</td>\n",
       "      <td>...</td>\n",
       "      <td>...</td>\n",
       "      <td>...</td>\n",
       "      <td>...</td>\n",
       "      <td>...</td>\n",
       "      <td>...</td>\n",
       "      <td>...</td>\n",
       "      <td>...</td>\n",
       "      <td>...</td>\n",
       "      <td>...</td>\n",
       "    </tr>\n",
       "    <tr>\n",
       "      <th>75619</th>\n",
       "      <td>22</td>\n",
       "      <td>chr22:50653486</td>\n",
       "      <td>0</td>\n",
       "      <td>50653486</td>\n",
       "      <td>T</td>\n",
       "      <td>C</td>\n",
       "      <td>0.0</td>\n",
       "      <td>0.0</td>\n",
       "      <td>0.0</td>\n",
       "      <td>0.0</td>\n",
       "      <td>...</td>\n",
       "      <td>1.0</td>\n",
       "      <td>1.0</td>\n",
       "      <td>1.0</td>\n",
       "      <td>1.0</td>\n",
       "      <td>1.0</td>\n",
       "      <td>0.0</td>\n",
       "      <td>0.0</td>\n",
       "      <td>0.0</td>\n",
       "      <td>0.0</td>\n",
       "      <td>1.0</td>\n",
       "    </tr>\n",
       "    <tr>\n",
       "      <th>75620</th>\n",
       "      <td>22</td>\n",
       "      <td>chr22:50656858</td>\n",
       "      <td>0</td>\n",
       "      <td>50656858</td>\n",
       "      <td>T</td>\n",
       "      <td>C</td>\n",
       "      <td>0.0</td>\n",
       "      <td>0.0</td>\n",
       "      <td>0.0</td>\n",
       "      <td>0.0</td>\n",
       "      <td>...</td>\n",
       "      <td>1.0</td>\n",
       "      <td>1.0</td>\n",
       "      <td>1.0</td>\n",
       "      <td>1.0</td>\n",
       "      <td>1.0</td>\n",
       "      <td>0.0</td>\n",
       "      <td>0.0</td>\n",
       "      <td>0.0</td>\n",
       "      <td>0.0</td>\n",
       "      <td>1.0</td>\n",
       "    </tr>\n",
       "    <tr>\n",
       "      <th>75621</th>\n",
       "      <td>22</td>\n",
       "      <td>chr22:50665742</td>\n",
       "      <td>0</td>\n",
       "      <td>50665742</td>\n",
       "      <td>A</td>\n",
       "      <td>G</td>\n",
       "      <td>0.0</td>\n",
       "      <td>2.0</td>\n",
       "      <td>1.0</td>\n",
       "      <td>0.0</td>\n",
       "      <td>...</td>\n",
       "      <td>0.0</td>\n",
       "      <td>0.0</td>\n",
       "      <td>0.0</td>\n",
       "      <td>0.0</td>\n",
       "      <td>0.0</td>\n",
       "      <td>0.0</td>\n",
       "      <td>1.0</td>\n",
       "      <td>1.0</td>\n",
       "      <td>2.0</td>\n",
       "      <td>0.0</td>\n",
       "    </tr>\n",
       "    <tr>\n",
       "      <th>75622</th>\n",
       "      <td>22</td>\n",
       "      <td>chr22:50677435</td>\n",
       "      <td>0</td>\n",
       "      <td>50677435</td>\n",
       "      <td>A</td>\n",
       "      <td>G</td>\n",
       "      <td>0.0</td>\n",
       "      <td>0.0</td>\n",
       "      <td>0.0</td>\n",
       "      <td>0.0</td>\n",
       "      <td>...</td>\n",
       "      <td>1.0</td>\n",
       "      <td>1.0</td>\n",
       "      <td>1.0</td>\n",
       "      <td>1.0</td>\n",
       "      <td>0.0</td>\n",
       "      <td>0.0</td>\n",
       "      <td>0.0</td>\n",
       "      <td>0.0</td>\n",
       "      <td>0.0</td>\n",
       "      <td>1.0</td>\n",
       "    </tr>\n",
       "    <tr>\n",
       "      <th>75623</th>\n",
       "      <td>22</td>\n",
       "      <td>chr22:50709996</td>\n",
       "      <td>0</td>\n",
       "      <td>50709996</td>\n",
       "      <td>A</td>\n",
       "      <td>G</td>\n",
       "      <td>0.0</td>\n",
       "      <td>1.0</td>\n",
       "      <td>0.0</td>\n",
       "      <td>0.0</td>\n",
       "      <td>...</td>\n",
       "      <td>1.0</td>\n",
       "      <td>0.0</td>\n",
       "      <td>0.0</td>\n",
       "      <td>1.0</td>\n",
       "      <td>0.0</td>\n",
       "      <td>0.0</td>\n",
       "      <td>0.0</td>\n",
       "      <td>0.0</td>\n",
       "      <td>0.0</td>\n",
       "      <td>1.0</td>\n",
       "    </tr>\n",
       "  </tbody>\n",
       "</table>\n",
       "<p>74935 rows × 2510 columns</p>\n",
       "</div>"
      ],
      "text/plain": [
       "       CHR             SNP  (C)M       POS COUNTED ALT  HG00096_HG00096  \\\n",
       "0        1    chr1:1023851     0   1023851       A   G              0.0   \n",
       "1        1    chr1:1184478     0   1184478       T   C              0.0   \n",
       "2        1    chr1:1186644     0   1186644       C   T              0.0   \n",
       "3        1    chr1:1219478     0   1219478       T   C              0.0   \n",
       "4        1    chr1:1236037     0   1236037       C   T              1.0   \n",
       "...    ...             ...   ...       ...     ...  ..              ...   \n",
       "75619   22  chr22:50653486     0  50653486       T   C              0.0   \n",
       "75620   22  chr22:50656858     0  50656858       T   C              0.0   \n",
       "75621   22  chr22:50665742     0  50665742       A   G              0.0   \n",
       "75622   22  chr22:50677435     0  50677435       A   G              0.0   \n",
       "75623   22  chr22:50709996     0  50709996       A   G              0.0   \n",
       "\n",
       "       HG00097_HG00097  HG00099_HG00099  HG00100_HG00100  ...  \\\n",
       "0                  1.0              2.0              1.0  ...   \n",
       "1                  0.0              0.0              0.0  ...   \n",
       "2                  0.0              0.0              0.0  ...   \n",
       "3                  0.0              0.0              0.0  ...   \n",
       "4                  1.0              2.0              1.0  ...   \n",
       "...                ...              ...              ...  ...   \n",
       "75619              0.0              0.0              0.0  ...   \n",
       "75620              0.0              0.0              0.0  ...   \n",
       "75621              2.0              1.0              0.0  ...   \n",
       "75622              0.0              0.0              0.0  ...   \n",
       "75623              1.0              0.0              0.0  ...   \n",
       "\n",
       "       NA21128_NA21128  NA21129_NA21129  NA21130_NA21130  NA21133_NA21133  \\\n",
       "0                  1.0              2.0              1.0              0.0   \n",
       "1                  0.0              1.0              0.0              0.0   \n",
       "2                  1.0              0.0              2.0              1.0   \n",
       "3                  0.0              0.0              0.0              0.0   \n",
       "4                  1.0              0.0              0.0              0.0   \n",
       "...                ...              ...              ...              ...   \n",
       "75619              1.0              1.0              1.0              1.0   \n",
       "75620              1.0              1.0              1.0              1.0   \n",
       "75621              0.0              0.0              0.0              0.0   \n",
       "75622              1.0              1.0              1.0              1.0   \n",
       "75623              1.0              0.0              0.0              1.0   \n",
       "\n",
       "       NA21135_NA21135  NA21137_NA21137  NA21141_NA21141  NA21142_NA21142  \\\n",
       "0                  0.0              0.0              2.0              1.0   \n",
       "1                  1.0              0.0              1.0              1.0   \n",
       "2                  0.0              1.0              1.0              1.0   \n",
       "3                  0.0              0.0              0.0              0.0   \n",
       "4                  1.0              1.0              0.0              0.0   \n",
       "...                ...              ...              ...              ...   \n",
       "75619              1.0              0.0              0.0              0.0   \n",
       "75620              1.0              0.0              0.0              0.0   \n",
       "75621              0.0              0.0              1.0              1.0   \n",
       "75622              0.0              0.0              0.0              0.0   \n",
       "75623              0.0              0.0              0.0              0.0   \n",
       "\n",
       "       NA21143_NA21143  NA21144_NA21144  \n",
       "0                  1.0              0.0  \n",
       "1                  1.0              0.0  \n",
       "2                  1.0              0.0  \n",
       "3                  0.0              0.0  \n",
       "4                  0.0              1.0  \n",
       "...                ...              ...  \n",
       "75619              0.0              1.0  \n",
       "75620              0.0              1.0  \n",
       "75621              2.0              0.0  \n",
       "75622              0.0              1.0  \n",
       "75623              0.0              1.0  \n",
       "\n",
       "[74935 rows x 2510 columns]"
      ]
     },
     "execution_count": 189,
     "metadata": {},
     "output_type": "execute_result"
    }
   ],
   "source": [
    "cadg"
   ]
  },
  {
   "cell_type": "code",
   "execution_count": 192,
   "id": "49126414",
   "metadata": {
    "ExecuteTime": {
     "end_time": "2021-11-12T08:30:06.825839Z",
     "start_time": "2021-11-12T08:30:06.818395Z"
    }
   },
   "outputs": [
    {
     "data": {
      "text/plain": [
       "75022"
      ]
     },
     "execution_count": 192,
     "metadata": {},
     "output_type": "execute_result"
    }
   ],
   "source": [
    "len(scfile.ea)"
   ]
  },
  {
   "cell_type": "code",
   "execution_count": 193,
   "id": "f337f1ea",
   "metadata": {
    "ExecuteTime": {
     "end_time": "2021-11-12T08:30:11.006313Z",
     "start_time": "2021-11-12T08:30:10.998878Z"
    }
   },
   "outputs": [
    {
     "data": {
      "text/plain": [
       "74935"
      ]
     },
     "execution_count": 193,
     "metadata": {},
     "output_type": "execute_result"
    }
   ],
   "source": [
    "len(cadg.COUNTED)"
   ]
  },
  {
   "cell_type": "code",
   "execution_count": 195,
   "id": "d0972e9f",
   "metadata": {
    "ExecuteTime": {
     "end_time": "2021-11-12T08:31:13.916004Z",
     "start_time": "2021-11-12T08:31:12.801965Z"
    }
   },
   "outputs": [],
   "source": [
    "cadg=cadg.merge(scfile, left_on='SNP', right_on=\"id\")"
   ]
  },
  {
   "cell_type": "code",
   "execution_count": 205,
   "id": "e459fcc9",
   "metadata": {
    "ExecuteTime": {
     "end_time": "2021-11-12T08:47:33.628734Z",
     "start_time": "2021-11-12T08:47:32.187783Z"
    }
   },
   "outputs": [],
   "source": [
    "cadg.concordant=cadg[cadg.COUNTED==cadg.ea]\n",
    "cadg.discordant=cadg[cadg.ALT==cadg.ea]"
   ]
  },
  {
   "cell_type": "code",
   "execution_count": null,
   "id": "51a6eaab",
   "metadata": {},
   "outputs": [],
   "source": []
  },
  {
   "cell_type": "code",
   "execution_count": 209,
   "id": "5540c37a",
   "metadata": {
    "ExecuteTime": {
     "end_time": "2021-11-12T08:49:26.950549Z",
     "start_time": "2021-11-12T08:49:26.520059Z"
    }
   },
   "outputs": [],
   "source": [
    "cadg.discordant=cadg.discordant[samplecols].mul(cadg.discordant['wt']*-1, axis='index')"
   ]
  },
  {
   "cell_type": "code",
   "execution_count": 210,
   "id": "af32cc42",
   "metadata": {
    "ExecuteTime": {
     "end_time": "2021-11-12T08:49:31.565494Z",
     "start_time": "2021-11-12T08:49:31.533956Z"
    }
   },
   "outputs": [
    {
     "data": {
      "text/html": [
       "<div>\n",
       "<style scoped>\n",
       "    .dataframe tbody tr th:only-of-type {\n",
       "        vertical-align: middle;\n",
       "    }\n",
       "\n",
       "    .dataframe tbody tr th {\n",
       "        vertical-align: top;\n",
       "    }\n",
       "\n",
       "    .dataframe thead th {\n",
       "        text-align: right;\n",
       "    }\n",
       "</style>\n",
       "<table border=\"1\" class=\"dataframe\">\n",
       "  <thead>\n",
       "    <tr style=\"text-align: right;\">\n",
       "      <th></th>\n",
       "      <th>HG00096_HG00096</th>\n",
       "      <th>HG00097_HG00097</th>\n",
       "      <th>HG00099_HG00099</th>\n",
       "      <th>HG00100_HG00100</th>\n",
       "      <th>HG00101_HG00101</th>\n",
       "      <th>HG00102_HG00102</th>\n",
       "      <th>HG00103_HG00103</th>\n",
       "      <th>HG00105_HG00105</th>\n",
       "      <th>HG00106_HG00106</th>\n",
       "      <th>HG00107_HG00107</th>\n",
       "      <th>...</th>\n",
       "      <th>NA21128_NA21128</th>\n",
       "      <th>NA21129_NA21129</th>\n",
       "      <th>NA21130_NA21130</th>\n",
       "      <th>NA21133_NA21133</th>\n",
       "      <th>NA21135_NA21135</th>\n",
       "      <th>NA21137_NA21137</th>\n",
       "      <th>NA21141_NA21141</th>\n",
       "      <th>NA21142_NA21142</th>\n",
       "      <th>NA21143_NA21143</th>\n",
       "      <th>NA21144_NA21144</th>\n",
       "    </tr>\n",
       "  </thead>\n",
       "  <tbody>\n",
       "    <tr>\n",
       "      <th>4</th>\n",
       "      <td>0.012684</td>\n",
       "      <td>0.012684</td>\n",
       "      <td>0.025369</td>\n",
       "      <td>0.012684</td>\n",
       "      <td>0.025369</td>\n",
       "      <td>0.025369</td>\n",
       "      <td>0.012684</td>\n",
       "      <td>0.012684</td>\n",
       "      <td>0.012684</td>\n",
       "      <td>0.012684</td>\n",
       "      <td>...</td>\n",
       "      <td>0.012684</td>\n",
       "      <td>0.000000</td>\n",
       "      <td>0.000000</td>\n",
       "      <td>0.000000</td>\n",
       "      <td>0.012684</td>\n",
       "      <td>0.012684</td>\n",
       "      <td>0.000000</td>\n",
       "      <td>0.000000</td>\n",
       "      <td>0.000000</td>\n",
       "      <td>0.012684</td>\n",
       "    </tr>\n",
       "    <tr>\n",
       "      <th>12</th>\n",
       "      <td>-0.012678</td>\n",
       "      <td>-0.025356</td>\n",
       "      <td>-0.025356</td>\n",
       "      <td>-0.000000</td>\n",
       "      <td>-0.012678</td>\n",
       "      <td>-0.012678</td>\n",
       "      <td>-0.000000</td>\n",
       "      <td>-0.012678</td>\n",
       "      <td>-0.000000</td>\n",
       "      <td>-0.000000</td>\n",
       "      <td>...</td>\n",
       "      <td>-0.012678</td>\n",
       "      <td>-0.025356</td>\n",
       "      <td>-0.000000</td>\n",
       "      <td>-0.000000</td>\n",
       "      <td>-0.000000</td>\n",
       "      <td>-0.000000</td>\n",
       "      <td>-0.012678</td>\n",
       "      <td>-0.025356</td>\n",
       "      <td>-0.000000</td>\n",
       "      <td>-0.000000</td>\n",
       "    </tr>\n",
       "    <tr>\n",
       "      <th>19</th>\n",
       "      <td>0.000000</td>\n",
       "      <td>0.000000</td>\n",
       "      <td>0.000000</td>\n",
       "      <td>0.000000</td>\n",
       "      <td>0.000000</td>\n",
       "      <td>0.000000</td>\n",
       "      <td>0.012514</td>\n",
       "      <td>0.000000</td>\n",
       "      <td>0.025029</td>\n",
       "      <td>0.025029</td>\n",
       "      <td>...</td>\n",
       "      <td>0.012514</td>\n",
       "      <td>0.000000</td>\n",
       "      <td>0.000000</td>\n",
       "      <td>0.012514</td>\n",
       "      <td>0.000000</td>\n",
       "      <td>0.025029</td>\n",
       "      <td>0.012514</td>\n",
       "      <td>0.012514</td>\n",
       "      <td>0.025029</td>\n",
       "      <td>0.012514</td>\n",
       "    </tr>\n",
       "    <tr>\n",
       "      <th>28</th>\n",
       "      <td>0.000000</td>\n",
       "      <td>0.000000</td>\n",
       "      <td>0.000000</td>\n",
       "      <td>0.000000</td>\n",
       "      <td>0.000000</td>\n",
       "      <td>0.000000</td>\n",
       "      <td>0.028628</td>\n",
       "      <td>0.000000</td>\n",
       "      <td>0.014314</td>\n",
       "      <td>0.028628</td>\n",
       "      <td>...</td>\n",
       "      <td>0.014314</td>\n",
       "      <td>0.000000</td>\n",
       "      <td>0.000000</td>\n",
       "      <td>0.014314</td>\n",
       "      <td>0.000000</td>\n",
       "      <td>0.014314</td>\n",
       "      <td>0.000000</td>\n",
       "      <td>0.000000</td>\n",
       "      <td>0.014314</td>\n",
       "      <td>0.014314</td>\n",
       "    </tr>\n",
       "    <tr>\n",
       "      <th>30</th>\n",
       "      <td>0.020042</td>\n",
       "      <td>0.000000</td>\n",
       "      <td>0.020042</td>\n",
       "      <td>0.040084</td>\n",
       "      <td>0.000000</td>\n",
       "      <td>0.020042</td>\n",
       "      <td>0.040084</td>\n",
       "      <td>0.020042</td>\n",
       "      <td>0.020042</td>\n",
       "      <td>0.040084</td>\n",
       "      <td>...</td>\n",
       "      <td>0.020042</td>\n",
       "      <td>0.000000</td>\n",
       "      <td>0.020042</td>\n",
       "      <td>0.040084</td>\n",
       "      <td>0.000000</td>\n",
       "      <td>0.020042</td>\n",
       "      <td>0.000000</td>\n",
       "      <td>0.000000</td>\n",
       "      <td>0.020042</td>\n",
       "      <td>0.040084</td>\n",
       "    </tr>\n",
       "    <tr>\n",
       "      <th>...</th>\n",
       "      <td>...</td>\n",
       "      <td>...</td>\n",
       "      <td>...</td>\n",
       "      <td>...</td>\n",
       "      <td>...</td>\n",
       "      <td>...</td>\n",
       "      <td>...</td>\n",
       "      <td>...</td>\n",
       "      <td>...</td>\n",
       "      <td>...</td>\n",
       "      <td>...</td>\n",
       "      <td>...</td>\n",
       "      <td>...</td>\n",
       "      <td>...</td>\n",
       "      <td>...</td>\n",
       "      <td>...</td>\n",
       "      <td>...</td>\n",
       "      <td>...</td>\n",
       "      <td>...</td>\n",
       "      <td>...</td>\n",
       "      <td>...</td>\n",
       "    </tr>\n",
       "    <tr>\n",
       "      <th>74901</th>\n",
       "      <td>-0.023920</td>\n",
       "      <td>-0.011960</td>\n",
       "      <td>-0.011960</td>\n",
       "      <td>-0.011960</td>\n",
       "      <td>-0.011960</td>\n",
       "      <td>-0.011960</td>\n",
       "      <td>-0.011960</td>\n",
       "      <td>-0.011960</td>\n",
       "      <td>-0.023920</td>\n",
       "      <td>-0.023920</td>\n",
       "      <td>...</td>\n",
       "      <td>-0.011960</td>\n",
       "      <td>-0.023920</td>\n",
       "      <td>-0.023920</td>\n",
       "      <td>-0.011960</td>\n",
       "      <td>-0.011960</td>\n",
       "      <td>-0.011960</td>\n",
       "      <td>-0.000000</td>\n",
       "      <td>-0.011960</td>\n",
       "      <td>-0.011960</td>\n",
       "      <td>-0.011960</td>\n",
       "    </tr>\n",
       "    <tr>\n",
       "      <th>74903</th>\n",
       "      <td>-0.030314</td>\n",
       "      <td>-0.015157</td>\n",
       "      <td>-0.015157</td>\n",
       "      <td>-0.015157</td>\n",
       "      <td>-0.015157</td>\n",
       "      <td>-0.030314</td>\n",
       "      <td>-0.015157</td>\n",
       "      <td>-0.030314</td>\n",
       "      <td>-0.030314</td>\n",
       "      <td>-0.030314</td>\n",
       "      <td>...</td>\n",
       "      <td>-0.015157</td>\n",
       "      <td>-0.030314</td>\n",
       "      <td>-0.015157</td>\n",
       "      <td>-0.000000</td>\n",
       "      <td>-0.000000</td>\n",
       "      <td>-0.015157</td>\n",
       "      <td>-0.000000</td>\n",
       "      <td>-0.030314</td>\n",
       "      <td>-0.015157</td>\n",
       "      <td>-0.015157</td>\n",
       "    </tr>\n",
       "    <tr>\n",
       "      <th>74922</th>\n",
       "      <td>-0.000000</td>\n",
       "      <td>-0.000000</td>\n",
       "      <td>-0.021421</td>\n",
       "      <td>-0.000000</td>\n",
       "      <td>-0.000000</td>\n",
       "      <td>-0.021421</td>\n",
       "      <td>-0.010710</td>\n",
       "      <td>-0.000000</td>\n",
       "      <td>-0.000000</td>\n",
       "      <td>-0.010710</td>\n",
       "      <td>...</td>\n",
       "      <td>-0.010710</td>\n",
       "      <td>-0.010710</td>\n",
       "      <td>-0.000000</td>\n",
       "      <td>-0.000000</td>\n",
       "      <td>-0.000000</td>\n",
       "      <td>-0.000000</td>\n",
       "      <td>-0.000000</td>\n",
       "      <td>-0.000000</td>\n",
       "      <td>-0.010710</td>\n",
       "      <td>-0.010710</td>\n",
       "    </tr>\n",
       "    <tr>\n",
       "      <th>74928</th>\n",
       "      <td>-0.000000</td>\n",
       "      <td>-0.014666</td>\n",
       "      <td>-0.014666</td>\n",
       "      <td>-0.000000</td>\n",
       "      <td>-0.014666</td>\n",
       "      <td>-0.014666</td>\n",
       "      <td>-0.000000</td>\n",
       "      <td>-0.029331</td>\n",
       "      <td>-0.014666</td>\n",
       "      <td>-0.014666</td>\n",
       "      <td>...</td>\n",
       "      <td>-0.000000</td>\n",
       "      <td>-0.000000</td>\n",
       "      <td>-0.000000</td>\n",
       "      <td>-0.000000</td>\n",
       "      <td>-0.000000</td>\n",
       "      <td>-0.014666</td>\n",
       "      <td>-0.014666</td>\n",
       "      <td>-0.014666</td>\n",
       "      <td>-0.029331</td>\n",
       "      <td>-0.000000</td>\n",
       "    </tr>\n",
       "    <tr>\n",
       "      <th>74932</th>\n",
       "      <td>-0.000000</td>\n",
       "      <td>-0.022072</td>\n",
       "      <td>-0.011036</td>\n",
       "      <td>-0.000000</td>\n",
       "      <td>-0.011036</td>\n",
       "      <td>-0.011036</td>\n",
       "      <td>-0.000000</td>\n",
       "      <td>-0.022072</td>\n",
       "      <td>-0.011036</td>\n",
       "      <td>-0.011036</td>\n",
       "      <td>...</td>\n",
       "      <td>-0.000000</td>\n",
       "      <td>-0.000000</td>\n",
       "      <td>-0.000000</td>\n",
       "      <td>-0.000000</td>\n",
       "      <td>-0.000000</td>\n",
       "      <td>-0.000000</td>\n",
       "      <td>-0.011036</td>\n",
       "      <td>-0.011036</td>\n",
       "      <td>-0.022072</td>\n",
       "      <td>-0.000000</td>\n",
       "    </tr>\n",
       "  </tbody>\n",
       "</table>\n",
       "<p>18935 rows × 2504 columns</p>\n",
       "</div>"
      ],
      "text/plain": [
       "       HG00096_HG00096  HG00097_HG00097  HG00099_HG00099  HG00100_HG00100  \\\n",
       "4             0.012684         0.012684         0.025369         0.012684   \n",
       "12           -0.012678        -0.025356        -0.025356        -0.000000   \n",
       "19            0.000000         0.000000         0.000000         0.000000   \n",
       "28            0.000000         0.000000         0.000000         0.000000   \n",
       "30            0.020042         0.000000         0.020042         0.040084   \n",
       "...                ...              ...              ...              ...   \n",
       "74901        -0.023920        -0.011960        -0.011960        -0.011960   \n",
       "74903        -0.030314        -0.015157        -0.015157        -0.015157   \n",
       "74922        -0.000000        -0.000000        -0.021421        -0.000000   \n",
       "74928        -0.000000        -0.014666        -0.014666        -0.000000   \n",
       "74932        -0.000000        -0.022072        -0.011036        -0.000000   \n",
       "\n",
       "       HG00101_HG00101  HG00102_HG00102  HG00103_HG00103  HG00105_HG00105  \\\n",
       "4             0.025369         0.025369         0.012684         0.012684   \n",
       "12           -0.012678        -0.012678        -0.000000        -0.012678   \n",
       "19            0.000000         0.000000         0.012514         0.000000   \n",
       "28            0.000000         0.000000         0.028628         0.000000   \n",
       "30            0.000000         0.020042         0.040084         0.020042   \n",
       "...                ...              ...              ...              ...   \n",
       "74901        -0.011960        -0.011960        -0.011960        -0.011960   \n",
       "74903        -0.015157        -0.030314        -0.015157        -0.030314   \n",
       "74922        -0.000000        -0.021421        -0.010710        -0.000000   \n",
       "74928        -0.014666        -0.014666        -0.000000        -0.029331   \n",
       "74932        -0.011036        -0.011036        -0.000000        -0.022072   \n",
       "\n",
       "       HG00106_HG00106  HG00107_HG00107  ...  NA21128_NA21128  \\\n",
       "4             0.012684         0.012684  ...         0.012684   \n",
       "12           -0.000000        -0.000000  ...        -0.012678   \n",
       "19            0.025029         0.025029  ...         0.012514   \n",
       "28            0.014314         0.028628  ...         0.014314   \n",
       "30            0.020042         0.040084  ...         0.020042   \n",
       "...                ...              ...  ...              ...   \n",
       "74901        -0.023920        -0.023920  ...        -0.011960   \n",
       "74903        -0.030314        -0.030314  ...        -0.015157   \n",
       "74922        -0.000000        -0.010710  ...        -0.010710   \n",
       "74928        -0.014666        -0.014666  ...        -0.000000   \n",
       "74932        -0.011036        -0.011036  ...        -0.000000   \n",
       "\n",
       "       NA21129_NA21129  NA21130_NA21130  NA21133_NA21133  NA21135_NA21135  \\\n",
       "4             0.000000         0.000000         0.000000         0.012684   \n",
       "12           -0.025356        -0.000000        -0.000000        -0.000000   \n",
       "19            0.000000         0.000000         0.012514         0.000000   \n",
       "28            0.000000         0.000000         0.014314         0.000000   \n",
       "30            0.000000         0.020042         0.040084         0.000000   \n",
       "...                ...              ...              ...              ...   \n",
       "74901        -0.023920        -0.023920        -0.011960        -0.011960   \n",
       "74903        -0.030314        -0.015157        -0.000000        -0.000000   \n",
       "74922        -0.010710        -0.000000        -0.000000        -0.000000   \n",
       "74928        -0.000000        -0.000000        -0.000000        -0.000000   \n",
       "74932        -0.000000        -0.000000        -0.000000        -0.000000   \n",
       "\n",
       "       NA21137_NA21137  NA21141_NA21141  NA21142_NA21142  NA21143_NA21143  \\\n",
       "4             0.012684         0.000000         0.000000         0.000000   \n",
       "12           -0.000000        -0.012678        -0.025356        -0.000000   \n",
       "19            0.025029         0.012514         0.012514         0.025029   \n",
       "28            0.014314         0.000000         0.000000         0.014314   \n",
       "30            0.020042         0.000000         0.000000         0.020042   \n",
       "...                ...              ...              ...              ...   \n",
       "74901        -0.011960        -0.000000        -0.011960        -0.011960   \n",
       "74903        -0.015157        -0.000000        -0.030314        -0.015157   \n",
       "74922        -0.000000        -0.000000        -0.000000        -0.010710   \n",
       "74928        -0.014666        -0.014666        -0.014666        -0.029331   \n",
       "74932        -0.000000        -0.011036        -0.011036        -0.022072   \n",
       "\n",
       "       NA21144_NA21144  \n",
       "4             0.012684  \n",
       "12           -0.000000  \n",
       "19            0.012514  \n",
       "28            0.014314  \n",
       "30            0.040084  \n",
       "...                ...  \n",
       "74901        -0.011960  \n",
       "74903        -0.015157  \n",
       "74922        -0.010710  \n",
       "74928        -0.000000  \n",
       "74932        -0.000000  \n",
       "\n",
       "[18935 rows x 2504 columns]"
      ]
     },
     "execution_count": 210,
     "metadata": {},
     "output_type": "execute_result"
    }
   ],
   "source": [
    "cadg.discordant"
   ]
  },
  {
   "cell_type": "code",
   "execution_count": 211,
   "id": "8075b818",
   "metadata": {
    "ExecuteTime": {
     "end_time": "2021-11-12T08:50:05.290221Z",
     "start_time": "2021-11-12T08:50:03.939227Z"
    }
   },
   "outputs": [],
   "source": [
    "cadg.concordant=cadg.concordant[samplecols].mul(cadg.concordant['wt'], axis='index')"
   ]
  },
  {
   "cell_type": "code",
   "execution_count": 212,
   "id": "46cf511f",
   "metadata": {
    "ExecuteTime": {
     "end_time": "2021-11-12T08:50:41.051833Z",
     "start_time": "2021-11-12T08:50:40.215006Z"
    }
   },
   "outputs": [],
   "source": [
    "cadg=cadg.concordant.append(cadg.discordant)"
   ]
  },
  {
   "cell_type": "code",
   "execution_count": 213,
   "id": "7c8b6ead",
   "metadata": {
    "ExecuteTime": {
     "end_time": "2021-11-12T08:50:43.877372Z",
     "start_time": "2021-11-12T08:50:43.840703Z"
    }
   },
   "outputs": [
    {
     "data": {
      "text/html": [
       "<div>\n",
       "<style scoped>\n",
       "    .dataframe tbody tr th:only-of-type {\n",
       "        vertical-align: middle;\n",
       "    }\n",
       "\n",
       "    .dataframe tbody tr th {\n",
       "        vertical-align: top;\n",
       "    }\n",
       "\n",
       "    .dataframe thead th {\n",
       "        text-align: right;\n",
       "    }\n",
       "</style>\n",
       "<table border=\"1\" class=\"dataframe\">\n",
       "  <thead>\n",
       "    <tr style=\"text-align: right;\">\n",
       "      <th></th>\n",
       "      <th>HG00096_HG00096</th>\n",
       "      <th>HG00097_HG00097</th>\n",
       "      <th>HG00099_HG00099</th>\n",
       "      <th>HG00100_HG00100</th>\n",
       "      <th>HG00101_HG00101</th>\n",
       "      <th>HG00102_HG00102</th>\n",
       "      <th>HG00103_HG00103</th>\n",
       "      <th>HG00105_HG00105</th>\n",
       "      <th>HG00106_HG00106</th>\n",
       "      <th>HG00107_HG00107</th>\n",
       "      <th>...</th>\n",
       "      <th>NA21128_NA21128</th>\n",
       "      <th>NA21129_NA21129</th>\n",
       "      <th>NA21130_NA21130</th>\n",
       "      <th>NA21133_NA21133</th>\n",
       "      <th>NA21135_NA21135</th>\n",
       "      <th>NA21137_NA21137</th>\n",
       "      <th>NA21141_NA21141</th>\n",
       "      <th>NA21142_NA21142</th>\n",
       "      <th>NA21143_NA21143</th>\n",
       "      <th>NA21144_NA21144</th>\n",
       "    </tr>\n",
       "  </thead>\n",
       "  <tbody>\n",
       "    <tr>\n",
       "      <th>0</th>\n",
       "      <td>0.000000</td>\n",
       "      <td>0.011321</td>\n",
       "      <td>0.022643</td>\n",
       "      <td>0.011321</td>\n",
       "      <td>0.011321</td>\n",
       "      <td>0.000000</td>\n",
       "      <td>0.011321</td>\n",
       "      <td>0.011321</td>\n",
       "      <td>0.022643</td>\n",
       "      <td>0.000000</td>\n",
       "      <td>...</td>\n",
       "      <td>0.011321</td>\n",
       "      <td>0.022643</td>\n",
       "      <td>0.011321</td>\n",
       "      <td>0.000000</td>\n",
       "      <td>0.000000</td>\n",
       "      <td>0.000000</td>\n",
       "      <td>0.022643</td>\n",
       "      <td>0.011321</td>\n",
       "      <td>0.011321</td>\n",
       "      <td>0.000000</td>\n",
       "    </tr>\n",
       "    <tr>\n",
       "      <th>1</th>\n",
       "      <td>-0.000000</td>\n",
       "      <td>-0.000000</td>\n",
       "      <td>-0.000000</td>\n",
       "      <td>-0.000000</td>\n",
       "      <td>-0.000000</td>\n",
       "      <td>-0.000000</td>\n",
       "      <td>-0.016588</td>\n",
       "      <td>-0.000000</td>\n",
       "      <td>-0.016588</td>\n",
       "      <td>-0.016588</td>\n",
       "      <td>...</td>\n",
       "      <td>-0.000000</td>\n",
       "      <td>-0.016588</td>\n",
       "      <td>-0.000000</td>\n",
       "      <td>-0.000000</td>\n",
       "      <td>-0.016588</td>\n",
       "      <td>-0.000000</td>\n",
       "      <td>-0.016588</td>\n",
       "      <td>-0.016588</td>\n",
       "      <td>-0.016588</td>\n",
       "      <td>-0.000000</td>\n",
       "    </tr>\n",
       "    <tr>\n",
       "      <th>2</th>\n",
       "      <td>0.000000</td>\n",
       "      <td>0.000000</td>\n",
       "      <td>0.000000</td>\n",
       "      <td>0.000000</td>\n",
       "      <td>0.000000</td>\n",
       "      <td>0.000000</td>\n",
       "      <td>0.000000</td>\n",
       "      <td>0.000000</td>\n",
       "      <td>0.000000</td>\n",
       "      <td>0.000000</td>\n",
       "      <td>...</td>\n",
       "      <td>0.013543</td>\n",
       "      <td>0.000000</td>\n",
       "      <td>0.027086</td>\n",
       "      <td>0.013543</td>\n",
       "      <td>0.000000</td>\n",
       "      <td>0.013543</td>\n",
       "      <td>0.013543</td>\n",
       "      <td>0.013543</td>\n",
       "      <td>0.013543</td>\n",
       "      <td>0.000000</td>\n",
       "    </tr>\n",
       "    <tr>\n",
       "      <th>3</th>\n",
       "      <td>-0.000000</td>\n",
       "      <td>-0.000000</td>\n",
       "      <td>-0.000000</td>\n",
       "      <td>-0.000000</td>\n",
       "      <td>-0.000000</td>\n",
       "      <td>-0.000000</td>\n",
       "      <td>-0.024307</td>\n",
       "      <td>-0.000000</td>\n",
       "      <td>-0.024307</td>\n",
       "      <td>-0.000000</td>\n",
       "      <td>...</td>\n",
       "      <td>-0.000000</td>\n",
       "      <td>-0.000000</td>\n",
       "      <td>-0.000000</td>\n",
       "      <td>-0.000000</td>\n",
       "      <td>-0.000000</td>\n",
       "      <td>-0.000000</td>\n",
       "      <td>-0.000000</td>\n",
       "      <td>-0.000000</td>\n",
       "      <td>-0.000000</td>\n",
       "      <td>-0.000000</td>\n",
       "    </tr>\n",
       "    <tr>\n",
       "      <th>5</th>\n",
       "      <td>-0.000000</td>\n",
       "      <td>-0.000000</td>\n",
       "      <td>-0.000000</td>\n",
       "      <td>-0.000000</td>\n",
       "      <td>-0.000000</td>\n",
       "      <td>-0.000000</td>\n",
       "      <td>-0.019336</td>\n",
       "      <td>-0.000000</td>\n",
       "      <td>-0.000000</td>\n",
       "      <td>-0.019336</td>\n",
       "      <td>...</td>\n",
       "      <td>-0.000000</td>\n",
       "      <td>-0.019336</td>\n",
       "      <td>-0.019336</td>\n",
       "      <td>-0.019336</td>\n",
       "      <td>-0.000000</td>\n",
       "      <td>-0.019336</td>\n",
       "      <td>-0.019336</td>\n",
       "      <td>-0.038671</td>\n",
       "      <td>-0.038671</td>\n",
       "      <td>-0.000000</td>\n",
       "    </tr>\n",
       "    <tr>\n",
       "      <th>...</th>\n",
       "      <td>...</td>\n",
       "      <td>...</td>\n",
       "      <td>...</td>\n",
       "      <td>...</td>\n",
       "      <td>...</td>\n",
       "      <td>...</td>\n",
       "      <td>...</td>\n",
       "      <td>...</td>\n",
       "      <td>...</td>\n",
       "      <td>...</td>\n",
       "      <td>...</td>\n",
       "      <td>...</td>\n",
       "      <td>...</td>\n",
       "      <td>...</td>\n",
       "      <td>...</td>\n",
       "      <td>...</td>\n",
       "      <td>...</td>\n",
       "      <td>...</td>\n",
       "      <td>...</td>\n",
       "      <td>...</td>\n",
       "      <td>...</td>\n",
       "    </tr>\n",
       "    <tr>\n",
       "      <th>74901</th>\n",
       "      <td>-0.023920</td>\n",
       "      <td>-0.011960</td>\n",
       "      <td>-0.011960</td>\n",
       "      <td>-0.011960</td>\n",
       "      <td>-0.011960</td>\n",
       "      <td>-0.011960</td>\n",
       "      <td>-0.011960</td>\n",
       "      <td>-0.011960</td>\n",
       "      <td>-0.023920</td>\n",
       "      <td>-0.023920</td>\n",
       "      <td>...</td>\n",
       "      <td>-0.011960</td>\n",
       "      <td>-0.023920</td>\n",
       "      <td>-0.023920</td>\n",
       "      <td>-0.011960</td>\n",
       "      <td>-0.011960</td>\n",
       "      <td>-0.011960</td>\n",
       "      <td>-0.000000</td>\n",
       "      <td>-0.011960</td>\n",
       "      <td>-0.011960</td>\n",
       "      <td>-0.011960</td>\n",
       "    </tr>\n",
       "    <tr>\n",
       "      <th>74903</th>\n",
       "      <td>-0.030314</td>\n",
       "      <td>-0.015157</td>\n",
       "      <td>-0.015157</td>\n",
       "      <td>-0.015157</td>\n",
       "      <td>-0.015157</td>\n",
       "      <td>-0.030314</td>\n",
       "      <td>-0.015157</td>\n",
       "      <td>-0.030314</td>\n",
       "      <td>-0.030314</td>\n",
       "      <td>-0.030314</td>\n",
       "      <td>...</td>\n",
       "      <td>-0.015157</td>\n",
       "      <td>-0.030314</td>\n",
       "      <td>-0.015157</td>\n",
       "      <td>-0.000000</td>\n",
       "      <td>-0.000000</td>\n",
       "      <td>-0.015157</td>\n",
       "      <td>-0.000000</td>\n",
       "      <td>-0.030314</td>\n",
       "      <td>-0.015157</td>\n",
       "      <td>-0.015157</td>\n",
       "    </tr>\n",
       "    <tr>\n",
       "      <th>74922</th>\n",
       "      <td>-0.000000</td>\n",
       "      <td>-0.000000</td>\n",
       "      <td>-0.021421</td>\n",
       "      <td>-0.000000</td>\n",
       "      <td>-0.000000</td>\n",
       "      <td>-0.021421</td>\n",
       "      <td>-0.010710</td>\n",
       "      <td>-0.000000</td>\n",
       "      <td>-0.000000</td>\n",
       "      <td>-0.010710</td>\n",
       "      <td>...</td>\n",
       "      <td>-0.010710</td>\n",
       "      <td>-0.010710</td>\n",
       "      <td>-0.000000</td>\n",
       "      <td>-0.000000</td>\n",
       "      <td>-0.000000</td>\n",
       "      <td>-0.000000</td>\n",
       "      <td>-0.000000</td>\n",
       "      <td>-0.000000</td>\n",
       "      <td>-0.010710</td>\n",
       "      <td>-0.010710</td>\n",
       "    </tr>\n",
       "    <tr>\n",
       "      <th>74928</th>\n",
       "      <td>-0.000000</td>\n",
       "      <td>-0.014666</td>\n",
       "      <td>-0.014666</td>\n",
       "      <td>-0.000000</td>\n",
       "      <td>-0.014666</td>\n",
       "      <td>-0.014666</td>\n",
       "      <td>-0.000000</td>\n",
       "      <td>-0.029331</td>\n",
       "      <td>-0.014666</td>\n",
       "      <td>-0.014666</td>\n",
       "      <td>...</td>\n",
       "      <td>-0.000000</td>\n",
       "      <td>-0.000000</td>\n",
       "      <td>-0.000000</td>\n",
       "      <td>-0.000000</td>\n",
       "      <td>-0.000000</td>\n",
       "      <td>-0.014666</td>\n",
       "      <td>-0.014666</td>\n",
       "      <td>-0.014666</td>\n",
       "      <td>-0.029331</td>\n",
       "      <td>-0.000000</td>\n",
       "    </tr>\n",
       "    <tr>\n",
       "      <th>74932</th>\n",
       "      <td>-0.000000</td>\n",
       "      <td>-0.022072</td>\n",
       "      <td>-0.011036</td>\n",
       "      <td>-0.000000</td>\n",
       "      <td>-0.011036</td>\n",
       "      <td>-0.011036</td>\n",
       "      <td>-0.000000</td>\n",
       "      <td>-0.022072</td>\n",
       "      <td>-0.011036</td>\n",
       "      <td>-0.011036</td>\n",
       "      <td>...</td>\n",
       "      <td>-0.000000</td>\n",
       "      <td>-0.000000</td>\n",
       "      <td>-0.000000</td>\n",
       "      <td>-0.000000</td>\n",
       "      <td>-0.000000</td>\n",
       "      <td>-0.000000</td>\n",
       "      <td>-0.011036</td>\n",
       "      <td>-0.011036</td>\n",
       "      <td>-0.022072</td>\n",
       "      <td>-0.000000</td>\n",
       "    </tr>\n",
       "  </tbody>\n",
       "</table>\n",
       "<p>74835 rows × 2504 columns</p>\n",
       "</div>"
      ],
      "text/plain": [
       "       HG00096_HG00096  HG00097_HG00097  HG00099_HG00099  HG00100_HG00100  \\\n",
       "0             0.000000         0.011321         0.022643         0.011321   \n",
       "1            -0.000000        -0.000000        -0.000000        -0.000000   \n",
       "2             0.000000         0.000000         0.000000         0.000000   \n",
       "3            -0.000000        -0.000000        -0.000000        -0.000000   \n",
       "5            -0.000000        -0.000000        -0.000000        -0.000000   \n",
       "...                ...              ...              ...              ...   \n",
       "74901        -0.023920        -0.011960        -0.011960        -0.011960   \n",
       "74903        -0.030314        -0.015157        -0.015157        -0.015157   \n",
       "74922        -0.000000        -0.000000        -0.021421        -0.000000   \n",
       "74928        -0.000000        -0.014666        -0.014666        -0.000000   \n",
       "74932        -0.000000        -0.022072        -0.011036        -0.000000   \n",
       "\n",
       "       HG00101_HG00101  HG00102_HG00102  HG00103_HG00103  HG00105_HG00105  \\\n",
       "0             0.011321         0.000000         0.011321         0.011321   \n",
       "1            -0.000000        -0.000000        -0.016588        -0.000000   \n",
       "2             0.000000         0.000000         0.000000         0.000000   \n",
       "3            -0.000000        -0.000000        -0.024307        -0.000000   \n",
       "5            -0.000000        -0.000000        -0.019336        -0.000000   \n",
       "...                ...              ...              ...              ...   \n",
       "74901        -0.011960        -0.011960        -0.011960        -0.011960   \n",
       "74903        -0.015157        -0.030314        -0.015157        -0.030314   \n",
       "74922        -0.000000        -0.021421        -0.010710        -0.000000   \n",
       "74928        -0.014666        -0.014666        -0.000000        -0.029331   \n",
       "74932        -0.011036        -0.011036        -0.000000        -0.022072   \n",
       "\n",
       "       HG00106_HG00106  HG00107_HG00107  ...  NA21128_NA21128  \\\n",
       "0             0.022643         0.000000  ...         0.011321   \n",
       "1            -0.016588        -0.016588  ...        -0.000000   \n",
       "2             0.000000         0.000000  ...         0.013543   \n",
       "3            -0.024307        -0.000000  ...        -0.000000   \n",
       "5            -0.000000        -0.019336  ...        -0.000000   \n",
       "...                ...              ...  ...              ...   \n",
       "74901        -0.023920        -0.023920  ...        -0.011960   \n",
       "74903        -0.030314        -0.030314  ...        -0.015157   \n",
       "74922        -0.000000        -0.010710  ...        -0.010710   \n",
       "74928        -0.014666        -0.014666  ...        -0.000000   \n",
       "74932        -0.011036        -0.011036  ...        -0.000000   \n",
       "\n",
       "       NA21129_NA21129  NA21130_NA21130  NA21133_NA21133  NA21135_NA21135  \\\n",
       "0             0.022643         0.011321         0.000000         0.000000   \n",
       "1            -0.016588        -0.000000        -0.000000        -0.016588   \n",
       "2             0.000000         0.027086         0.013543         0.000000   \n",
       "3            -0.000000        -0.000000        -0.000000        -0.000000   \n",
       "5            -0.019336        -0.019336        -0.019336        -0.000000   \n",
       "...                ...              ...              ...              ...   \n",
       "74901        -0.023920        -0.023920        -0.011960        -0.011960   \n",
       "74903        -0.030314        -0.015157        -0.000000        -0.000000   \n",
       "74922        -0.010710        -0.000000        -0.000000        -0.000000   \n",
       "74928        -0.000000        -0.000000        -0.000000        -0.000000   \n",
       "74932        -0.000000        -0.000000        -0.000000        -0.000000   \n",
       "\n",
       "       NA21137_NA21137  NA21141_NA21141  NA21142_NA21142  NA21143_NA21143  \\\n",
       "0             0.000000         0.022643         0.011321         0.011321   \n",
       "1            -0.000000        -0.016588        -0.016588        -0.016588   \n",
       "2             0.013543         0.013543         0.013543         0.013543   \n",
       "3            -0.000000        -0.000000        -0.000000        -0.000000   \n",
       "5            -0.019336        -0.019336        -0.038671        -0.038671   \n",
       "...                ...              ...              ...              ...   \n",
       "74901        -0.011960        -0.000000        -0.011960        -0.011960   \n",
       "74903        -0.015157        -0.000000        -0.030314        -0.015157   \n",
       "74922        -0.000000        -0.000000        -0.000000        -0.010710   \n",
       "74928        -0.014666        -0.014666        -0.014666        -0.029331   \n",
       "74932        -0.000000        -0.011036        -0.011036        -0.022072   \n",
       "\n",
       "       NA21144_NA21144  \n",
       "0             0.000000  \n",
       "1            -0.000000  \n",
       "2             0.000000  \n",
       "3            -0.000000  \n",
       "5            -0.000000  \n",
       "...                ...  \n",
       "74901        -0.011960  \n",
       "74903        -0.015157  \n",
       "74922        -0.010710  \n",
       "74928        -0.000000  \n",
       "74932        -0.000000  \n",
       "\n",
       "[74835 rows x 2504 columns]"
      ]
     },
     "execution_count": 213,
     "metadata": {},
     "output_type": "execute_result"
    }
   ],
   "source": [
    "cadg"
   ]
  },
  {
   "cell_type": "code",
   "execution_count": 215,
   "id": "363fff3f",
   "metadata": {
    "ExecuteTime": {
     "end_time": "2021-11-12T08:51:10.159147Z",
     "start_time": "2021-11-12T08:51:07.102013Z"
    }
   },
   "outputs": [
    {
     "data": {
      "text/plain": [
       "<seaborn.axisgrid.FacetGrid at 0x7fdcae5652b0>"
      ]
     },
     "execution_count": 215,
     "metadata": {},
     "output_type": "execute_result"
    },
    {
     "data": {
      "image/png": "[encoded data removed]",
      "text/plain": [
       "<Figure size 360x360 with 1 Axes>"
      ]
     },
     "metadata": {
      "needs_background": "light"
     },
     "output_type": "display_data"
    }
   ],
   "source": [
    "sns.displot(cadg.sum())"
   ]
  },
  {
   "cell_type": "code",
   "execution_count": 237,
   "id": "af2808f5",
   "metadata": {
    "ExecuteTime": {
     "end_time": "2021-11-15T04:06:25.770436Z",
     "start_time": "2021-11-15T04:06:25.751659Z"
    }
   },
   "outputs": [],
   "source": [
    "manmep=mepscoreg.sum().to_frame().reset_index()\n",
    "manmep.rename({'index' : 'id', 0:'MEP1Bmanual'}, axis='columns', inplace=True)"
   ]
  },
  {
   "cell_type": "code",
   "execution_count": 240,
   "id": "04ba63b1",
   "metadata": {
    "ExecuteTime": {
     "end_time": "2021-11-15T04:06:38.412376Z",
     "start_time": "2021-11-15T04:06:35.426559Z"
    }
   },
   "outputs": [],
   "source": [
    "mancad=cadg.sum().to_frame().reset_index()\n",
    "mancad.rename({'index' : 'id', 0:'CADmanual'}, axis='columns', inplace=True)"
   ]
  },
  {
   "cell_type": "code",
   "execution_count": 220,
   "id": "4f7d0f41",
   "metadata": {
    "ExecuteTime": {
     "end_time": "2021-11-15T03:55:34.273182Z",
     "start_time": "2021-11-15T03:55:34.266375Z"
    }
   },
   "outputs": [],
   "source": [
    "msc['id']=msc.FID+\"_\"+msc.IID"
   ]
  },
  {
   "cell_type": "code",
   "execution_count": 221,
   "id": "ee4a79ce",
   "metadata": {
    "ExecuteTime": {
     "end_time": "2021-11-15T03:55:47.812790Z",
     "start_time": "2021-11-15T03:55:47.806241Z"
    }
   },
   "outputs": [],
   "source": [
    "csc['id']=csc.FID+\"_\"+csc.IID"
   ]
  },
  {
   "cell_type": "code",
   "execution_count": 224,
   "id": "3795c41b",
   "metadata": {
    "ExecuteTime": {
     "end_time": "2021-11-15T04:00:20.037974Z",
     "start_time": "2021-11-15T04:00:20.025543Z"
    }
   },
   "outputs": [],
   "source": [
    "msc.drop(['FID', 'IID', 'PHENO', 'CNT', 'CNT2'], axis='columns', inplace=True)\n",
    "csc.drop(['FID', 'IID', 'PHENO', 'CNT', 'CNT2'], axis='columns', inplace=True)"
   ]
  },
  {
   "cell_type": "code",
   "execution_count": 541,
   "id": "f117ef3e",
   "metadata": {
    "ExecuteTime": {
     "end_time": "2021-11-18T14:42:08.975780Z",
     "start_time": "2021-11-18T14:42:08.962730Z"
    }
   },
   "outputs": [],
   "source": [
    "allsc=msc.merge(csc, on='id', how='outer')"
   ]
  },
  {
   "cell_type": "code",
   "execution_count": 542,
   "id": "3ccfc1d3",
   "metadata": {
    "ExecuteTime": {
     "end_time": "2021-11-18T14:42:10.002115Z",
     "start_time": "2021-11-18T14:42:09.995555Z"
    }
   },
   "outputs": [],
   "source": [
    "allsc.rename({'SCORE_x':\"MEP1B\", \"SCORE_y\":\"CAD\"}, axis='columns', inplace=True)"
   ]
  },
  {
   "cell_type": "code",
   "execution_count": 543,
   "id": "d06f37fc",
   "metadata": {
    "ExecuteTime": {
     "end_time": "2021-11-18T14:42:11.701880Z",
     "start_time": "2021-11-18T14:42:11.683057Z"
    }
   },
   "outputs": [],
   "source": [
    "allsc=allsc.merge(manmep, on=\"id\", how='outer')\n",
    "allsc=allsc.merge(mancad, on=\"id\", how='outer')"
   ]
  },
  {
   "cell_type": "code",
   "execution_count": 544,
   "id": "f4e8e130",
   "metadata": {
    "ExecuteTime": {
     "end_time": "2021-11-18T14:42:12.461309Z",
     "start_time": "2021-11-18T14:42:12.443364Z"
    }
   },
   "outputs": [],
   "source": [
    "allsc.iloc[:,[j for j, c in enumerate(allsc.columns) if j != 1]]=allsc.iloc[:,[j for j, c in enumerate(allsc.columns) if j != 1]].apply(lambda x: (x-x.mean())/x.std(), axis=0)"
   ]
  },
  {
   "cell_type": "code",
   "execution_count": 545,
   "id": "56d6d086",
   "metadata": {
    "ExecuteTime": {
     "end_time": "2021-11-18T14:42:13.117123Z",
     "start_time": "2021-11-18T14:42:13.098532Z"
    }
   },
   "outputs": [
    {
     "data": {
      "text/html": [
       "<div>\n",
       "<style scoped>\n",
       "    .dataframe tbody tr th:only-of-type {\n",
       "        vertical-align: middle;\n",
       "    }\n",
       "\n",
       "    .dataframe tbody tr th {\n",
       "        vertical-align: top;\n",
       "    }\n",
       "\n",
       "    .dataframe thead th {\n",
       "        text-align: right;\n",
       "    }\n",
       "</style>\n",
       "<table border=\"1\" class=\"dataframe\">\n",
       "  <thead>\n",
       "    <tr style=\"text-align: right;\">\n",
       "      <th></th>\n",
       "      <th>MEP1B</th>\n",
       "      <th>CAD</th>\n",
       "      <th>MEP1Bmanual</th>\n",
       "      <th>CADmanual</th>\n",
       "    </tr>\n",
       "  </thead>\n",
       "  <tbody>\n",
       "    <tr>\n",
       "      <th>MEP1B</th>\n",
       "      <td>1.000000</td>\n",
       "      <td>-0.019078</td>\n",
       "      <td>1.000000</td>\n",
       "      <td>-0.019035</td>\n",
       "    </tr>\n",
       "    <tr>\n",
       "      <th>CAD</th>\n",
       "      <td>-0.019078</td>\n",
       "      <td>1.000000</td>\n",
       "      <td>-0.019078</td>\n",
       "      <td>0.999994</td>\n",
       "    </tr>\n",
       "    <tr>\n",
       "      <th>MEP1Bmanual</th>\n",
       "      <td>1.000000</td>\n",
       "      <td>-0.019078</td>\n",
       "      <td>1.000000</td>\n",
       "      <td>-0.019035</td>\n",
       "    </tr>\n",
       "    <tr>\n",
       "      <th>CADmanual</th>\n",
       "      <td>-0.019035</td>\n",
       "      <td>0.999994</td>\n",
       "      <td>-0.019035</td>\n",
       "      <td>1.000000</td>\n",
       "    </tr>\n",
       "  </tbody>\n",
       "</table>\n",
       "</div>"
      ],
      "text/plain": [
       "                MEP1B       CAD  MEP1Bmanual  CADmanual\n",
       "MEP1B        1.000000 -0.019078     1.000000  -0.019035\n",
       "CAD         -0.019078  1.000000    -0.019078   0.999994\n",
       "MEP1Bmanual  1.000000 -0.019078     1.000000  -0.019035\n",
       "CADmanual   -0.019035  0.999994    -0.019035   1.000000"
      ]
     },
     "execution_count": 545,
     "metadata": {},
     "output_type": "execute_result"
    }
   ],
   "source": [
    "allsc.drop('id', axis='columns').corr()"
   ]
  },
  {
   "cell_type": "code",
   "execution_count": 268,
   "id": "4f414116",
   "metadata": {
    "ExecuteTime": {
     "end_time": "2021-11-15T04:21:18.600570Z",
     "start_time": "2021-11-15T04:21:18.579219Z"
    }
   },
   "outputs": [
    {
     "data": {
      "text/html": [
       "<div>\n",
       "<style scoped>\n",
       "    .dataframe tbody tr th:only-of-type {\n",
       "        vertical-align: middle;\n",
       "    }\n",
       "\n",
       "    .dataframe tbody tr th {\n",
       "        vertical-align: top;\n",
       "    }\n",
       "\n",
       "    .dataframe thead th {\n",
       "        text-align: right;\n",
       "    }\n",
       "</style>\n",
       "<table border=\"1\" class=\"dataframe\">\n",
       "  <thead>\n",
       "    <tr style=\"text-align: right;\">\n",
       "      <th></th>\n",
       "      <th>MEP1B</th>\n",
       "      <th>id</th>\n",
       "      <th>CAD</th>\n",
       "      <th>MEP1Bmanual</th>\n",
       "      <th>CADmanual</th>\n",
       "    </tr>\n",
       "  </thead>\n",
       "  <tbody>\n",
       "    <tr>\n",
       "      <th>0</th>\n",
       "      <td>-0.416302</td>\n",
       "      <td>HG00096_HG00096</td>\n",
       "      <td>-0.617001</td>\n",
       "      <td>-0.416303</td>\n",
       "      <td>-0.611745</td>\n",
       "    </tr>\n",
       "    <tr>\n",
       "      <th>1</th>\n",
       "      <td>-0.958203</td>\n",
       "      <td>HG00097_HG00097</td>\n",
       "      <td>-0.552885</td>\n",
       "      <td>-0.958203</td>\n",
       "      <td>-0.554222</td>\n",
       "    </tr>\n",
       "    <tr>\n",
       "      <th>2</th>\n",
       "      <td>-0.590982</td>\n",
       "      <td>HG00099_HG00099</td>\n",
       "      <td>-0.100988</td>\n",
       "      <td>-0.590982</td>\n",
       "      <td>-0.100965</td>\n",
       "    </tr>\n",
       "    <tr>\n",
       "      <th>3</th>\n",
       "      <td>0.978672</td>\n",
       "      <td>HG00100_HG00100</td>\n",
       "      <td>-0.269309</td>\n",
       "      <td>0.978672</td>\n",
       "      <td>-0.268639</td>\n",
       "    </tr>\n",
       "    <tr>\n",
       "      <th>4</th>\n",
       "      <td>-1.171186</td>\n",
       "      <td>HG00101_HG00101</td>\n",
       "      <td>-0.055126</td>\n",
       "      <td>-1.171186</td>\n",
       "      <td>-0.053979</td>\n",
       "    </tr>\n",
       "    <tr>\n",
       "      <th>...</th>\n",
       "      <td>...</td>\n",
       "      <td>...</td>\n",
       "      <td>...</td>\n",
       "      <td>...</td>\n",
       "      <td>...</td>\n",
       "    </tr>\n",
       "    <tr>\n",
       "      <th>2499</th>\n",
       "      <td>-0.260715</td>\n",
       "      <td>NA21137_NA21137</td>\n",
       "      <td>-1.271608</td>\n",
       "      <td>-0.260715</td>\n",
       "      <td>-1.271979</td>\n",
       "    </tr>\n",
       "    <tr>\n",
       "      <th>2500</th>\n",
       "      <td>1.495205</td>\n",
       "      <td>NA21141_NA21141</td>\n",
       "      <td>1.144704</td>\n",
       "      <td>1.495210</td>\n",
       "      <td>1.148143</td>\n",
       "    </tr>\n",
       "    <tr>\n",
       "      <th>2501</th>\n",
       "      <td>1.236942</td>\n",
       "      <td>NA21142_NA21142</td>\n",
       "      <td>0.194592</td>\n",
       "      <td>1.236941</td>\n",
       "      <td>0.200000</td>\n",
       "    </tr>\n",
       "    <tr>\n",
       "      <th>2502</th>\n",
       "      <td>-1.277836</td>\n",
       "      <td>NA21143_NA21143</td>\n",
       "      <td>-0.855316</td>\n",
       "      <td>-1.277833</td>\n",
       "      <td>-0.852606</td>\n",
       "    </tr>\n",
       "    <tr>\n",
       "      <th>2503</th>\n",
       "      <td>-1.866195</td>\n",
       "      <td>NA21144_NA21144</td>\n",
       "      <td>0.715777</td>\n",
       "      <td>-1.866198</td>\n",
       "      <td>0.716041</td>\n",
       "    </tr>\n",
       "  </tbody>\n",
       "</table>\n",
       "<p>2504 rows × 5 columns</p>\n",
       "</div>"
      ],
      "text/plain": [
       "         MEP1B               id       CAD  MEP1Bmanual  CADmanual\n",
       "0    -0.416302  HG00096_HG00096 -0.617001    -0.416303  -0.611745\n",
       "1    -0.958203  HG00097_HG00097 -0.552885    -0.958203  -0.554222\n",
       "2    -0.590982  HG00099_HG00099 -0.100988    -0.590982  -0.100965\n",
       "3     0.978672  HG00100_HG00100 -0.269309     0.978672  -0.268639\n",
       "4    -1.171186  HG00101_HG00101 -0.055126    -1.171186  -0.053979\n",
       "...        ...              ...       ...          ...        ...\n",
       "2499 -0.260715  NA21137_NA21137 -1.271608    -0.260715  -1.271979\n",
       "2500  1.495205  NA21141_NA21141  1.144704     1.495210   1.148143\n",
       "2501  1.236942  NA21142_NA21142  0.194592     1.236941   0.200000\n",
       "2502 -1.277836  NA21143_NA21143 -0.855316    -1.277833  -0.852606\n",
       "2503 -1.866195  NA21144_NA21144  0.715777    -1.866198   0.716041\n",
       "\n",
       "[2504 rows x 5 columns]"
      ]
     },
     "execution_count": 268,
     "metadata": {},
     "output_type": "execute_result"
    }
   ],
   "source": [
    "allsc[allsc.CAD!=allsc.CADmanual]"
   ]
  },
  {
   "cell_type": "code",
   "execution_count": 292,
   "id": "99d9ea1b",
   "metadata": {
    "ExecuteTime": {
     "end_time": "2021-11-15T04:55:59.277796Z",
     "start_time": "2021-11-15T04:55:59.236855Z"
    }
   },
   "outputs": [],
   "source": [
    "cadw=allsc.loc[:,['id','CAD']]\n",
    "cadw[['FID', 'IID']]=cadw['id'].str.split('_', expand=True)\n",
    "cadw=cadw.drop('id',axis=1)\n",
    "cadw.iloc[:,[1,2,0]].to_csv(\"/lustre/groups/itg/teams/analytics/teaching/Gagneur_PRS/CAD.pheno\", sep=\"\\t\", index=False)"
   ]
  },
  {
   "cell_type": "markdown",
   "id": "72d6eb8a",
   "metadata": {},
   "source": [
    "## Performing association \n",
    "\n",
    "Creating an assoc set:\n",
    "\n",
    "```bash\n",
    "for i in {1..22}; do plink2 --vcf /lustre/groups/itg/shared/referenceData/1kG/20190425_NYGC_GATK/CCDG_13607_B01_GRM_WGS_2019-02-19_chr$i.recalibrated_variants.vcf.gz --maf 0.005 --make-pgen --out chr$i.autosomal & done\n",
    "for i in {2..22}; do echo chr$i.autosomal >> auto.tomerge;done\n",
    "plink2 --pfile chr1.autosomal --pmerge-list auto.tomerge --max-alleles 2 --make-bed --out autosomal.maf0.005\n",
    "cut -f1,2 autosomal.maf0.005.fam|sort -R | head -1000 > thin\n",
    "plink2 --bfile autosomal.maf0.005 --keep thin --make-bed --out autosomal.maf0.005.thin\n",
    "awk '$2=\"chr\"$1\":\"$4' autosomal.maf0.005.thin.bim | sponge autosomal.maf0.005.thin.bim\n",
    "sort -R autosomal.maf0.005.thin.bim | head -100000 | sort -k1,1n -k4,4n | cut -f2 -d' ' > additional.100k.var\n",
    "plink2 --bfile autosomal.maf0.005.thin --extract additional.100k.var --make-bed --out autosomal.maf0.005.thin.100k\n",
    "awk '{print $2,$2}' thin > thin.2id\n",
    "plink --bfile autosomal.forPRS --keep thin.2id --make-bed --out autosomal.forPRS.1k\n",
    "plink --bfile autosomal.maf0.005.thin.100k --bmerge autosomal.forPRS.1k --make-bed --out PRS.course.testset\n",
    "```\n",
    "\n",
    "### CAD score, no covar"
   ]
  },
  {
   "cell_type": "code",
   "execution_count": 293,
   "id": "aab30f8f",
   "metadata": {
    "ExecuteTime": {
     "end_time": "2021-11-15T04:56:11.991246Z",
     "start_time": "2021-11-15T04:56:01.969075Z"
    }
   },
   "outputs": [
    {
     "name": "stdout",
     "output_type": "stream",
     "text": [
      "--2021-11-15 05:56:05--  https://s3.amazonaws.com/plink1-assets/plink_linux_x86_64_20210606.zip\n",
      "Resolving s3.amazonaws.com (s3.amazonaws.com)... 52.217.92.150\n",
      "Connecting to s3.amazonaws.com (s3.amazonaws.com)|52.217.92.150|:443... connected.\n",
      "HTTP request sent, awaiting response... 200 OK\n",
      "Length: 8917076 (8.5M) [application/zip]\n",
      "Saving to: 'plink_linux_x86_64_20210606.zip'\n",
      "\n",
      "plink_linux_x86_64_ 100%[===================>]   8.50M  8.41MB/s    in 1.0s    \n",
      "\n",
      "2021-11-15 05:56:06 (8.41 MB/s) - 'plink_linux_x86_64_20210606.zip' saved [8917076/8917076]\n",
      "\n",
      "Archive:  plink_linux_x86_64_20210606.zip\n",
      "replace plink? [y]es, [n]o, [A]ll, [N]one, [r]ename: ^C\n"
     ]
    }
   ],
   "source": [
    "!wget https://s3.amazonaws.com/plink1-assets/plink_linux_x86_64_20210606.zip && unzip plink_linux_x86_64_20210606.zip && rm plink_linux_x86_64_20210606.zip && rm prettify toy.* LICENSE"
   ]
  },
  {
   "cell_type": "code",
   "execution_count": 356,
   "id": "12d5cf80",
   "metadata": {
    "ExecuteTime": {
     "end_time": "2021-11-15T08:39:31.322756Z",
     "start_time": "2021-11-15T08:39:26.617776Z"
    }
   },
   "outputs": [
    {
     "name": "stdout",
     "output_type": "stream",
     "text": [
      "PLINK v1.90b6.24 64-bit (6 Jun 2021)           www.cog-genomics.org/plink/1.9/\n",
      "(C) 2005-2021 Shaun Purcell, Christopher Chang   GNU General Public License v3\n",
      "Logging to CAD.log.\n",
      "Options in effect:\n",
      "  --allow-no-sex\n",
      "  --assoc\n",
      "  --bfile /lustre/groups/itg/teams/analytics/teaching/Gagneur_PRS/PRS.course.testset\n",
      "  --out CAD\n",
      "  --pheno /lustre/groups/itg/teams/analytics/teaching/Gagneur_PRS/CAD.pheno\n",
      "\n",
      "3095754 MB RAM detected; reserving 1547877 MB for main workspace.\n",
      "175219 variants loaded from .bim file.\n",
      "1000 people (0 males, 0 females, 1000 ambiguous) loaded from .fam.\n",
      "Ambiguous sex IDs written to CAD.nosex .\n",
      "1000 phenotype values present after --pheno.\n",
      "Using 1 thread (no multithreaded calculations invoked).\n",
      "Before main variant filters, 1000 founders and 0 nonfounders present.\n",
      "Calculating allele frequencies... 10111213141516171819202122232425262728293031323334353637383940414243444546474849505152535455565758596061626364656667686970717273747576777879808182838485868788899091929394959697989 done.\n",
      "Total genotyping rate is 0.982046.\n",
      "175219 variants and 1000 people pass filters and QC.\n",
      "Phenotype data is quantitative.\n",
      "Writing QT --assoc report to CAD.qassoc ... 101112131415161718192021222324252627282930313233343536373839404142434445464748495051525354555657585960616263646566676869707172737475767778798081828384858687888990919293949596979899done.\n"
     ]
    }
   ],
   "source": [
    "!./plink --bfile /lustre/groups/itg/teams/analytics/teaching/Gagneur_PRS/PRS.course.testset --pheno /lustre/groups/itg/teams/analytics/teaching/Gagneur_PRS/CAD.pheno --allow-no-sex --assoc --out CAD"
   ]
  },
  {
   "cell_type": "code",
   "execution_count": 357,
   "id": "f34e07bd",
   "metadata": {
    "ExecuteTime": {
     "end_time": "2021-11-15T08:39:34.052452Z",
     "start_time": "2021-11-15T08:39:33.753017Z"
    }
   },
   "outputs": [],
   "source": [
    "cada=pd.read_table(\"CAD.qassoc\", delim_whitespace=True)"
   ]
  },
  {
   "cell_type": "code",
   "execution_count": 358,
   "id": "89830aac",
   "metadata": {
    "ExecuteTime": {
     "end_time": "2021-11-15T08:39:35.505157Z",
     "start_time": "2021-11-15T08:39:35.480333Z"
    }
   },
   "outputs": [
    {
     "data": {
      "text/html": [
       "<div>\n",
       "<style scoped>\n",
       "    .dataframe tbody tr th:only-of-type {\n",
       "        vertical-align: middle;\n",
       "    }\n",
       "\n",
       "    .dataframe tbody tr th {\n",
       "        vertical-align: top;\n",
       "    }\n",
       "\n",
       "    .dataframe thead th {\n",
       "        text-align: right;\n",
       "    }\n",
       "</style>\n",
       "<table border=\"1\" class=\"dataframe\">\n",
       "  <thead>\n",
       "    <tr style=\"text-align: right;\">\n",
       "      <th></th>\n",
       "      <th>CHR</th>\n",
       "      <th>SNP</th>\n",
       "      <th>BP</th>\n",
       "      <th>NMISS</th>\n",
       "      <th>BETA</th>\n",
       "      <th>SE</th>\n",
       "      <th>R2</th>\n",
       "      <th>T</th>\n",
       "      <th>P</th>\n",
       "    </tr>\n",
       "  </thead>\n",
       "  <tbody>\n",
       "    <tr>\n",
       "      <th>0</th>\n",
       "      <td>1</td>\n",
       "      <td>chr1:10616</td>\n",
       "      <td>10616</td>\n",
       "      <td>705</td>\n",
       "      <td>0.06842</td>\n",
       "      <td>0.11210</td>\n",
       "      <td>0.000530</td>\n",
       "      <td>0.6106</td>\n",
       "      <td>0.541600</td>\n",
       "    </tr>\n",
       "    <tr>\n",
       "      <th>1</th>\n",
       "      <td>1</td>\n",
       "      <td>chr1:18717</td>\n",
       "      <td>18717</td>\n",
       "      <td>787</td>\n",
       "      <td>0.46020</td>\n",
       "      <td>0.31870</td>\n",
       "      <td>0.002650</td>\n",
       "      <td>1.4440</td>\n",
       "      <td>0.149100</td>\n",
       "    </tr>\n",
       "    <tr>\n",
       "      <th>2</th>\n",
       "      <td>1</td>\n",
       "      <td>chr1:107125</td>\n",
       "      <td>107125</td>\n",
       "      <td>993</td>\n",
       "      <td>-0.08869</td>\n",
       "      <td>0.12290</td>\n",
       "      <td>0.000525</td>\n",
       "      <td>-0.7216</td>\n",
       "      <td>0.470700</td>\n",
       "    </tr>\n",
       "    <tr>\n",
       "      <th>3</th>\n",
       "      <td>1</td>\n",
       "      <td>chr1:126847</td>\n",
       "      <td>126847</td>\n",
       "      <td>1000</td>\n",
       "      <td>-0.19570</td>\n",
       "      <td>0.09197</td>\n",
       "      <td>0.004515</td>\n",
       "      <td>-2.1270</td>\n",
       "      <td>0.033630</td>\n",
       "    </tr>\n",
       "    <tr>\n",
       "      <th>4</th>\n",
       "      <td>1</td>\n",
       "      <td>chr1:201322</td>\n",
       "      <td>201322</td>\n",
       "      <td>824</td>\n",
       "      <td>0.07386</td>\n",
       "      <td>0.20950</td>\n",
       "      <td>0.000151</td>\n",
       "      <td>0.3526</td>\n",
       "      <td>0.724500</td>\n",
       "    </tr>\n",
       "    <tr>\n",
       "      <th>...</th>\n",
       "      <td>...</td>\n",
       "      <td>...</td>\n",
       "      <td>...</td>\n",
       "      <td>...</td>\n",
       "      <td>...</td>\n",
       "      <td>...</td>\n",
       "      <td>...</td>\n",
       "      <td>...</td>\n",
       "      <td>...</td>\n",
       "    </tr>\n",
       "    <tr>\n",
       "      <th>175214</th>\n",
       "      <td>22</td>\n",
       "      <td>chr22:50713346</td>\n",
       "      <td>50713346</td>\n",
       "      <td>1000</td>\n",
       "      <td>0.22510</td>\n",
       "      <td>0.06354</td>\n",
       "      <td>0.012420</td>\n",
       "      <td>3.5420</td>\n",
       "      <td>0.000415</td>\n",
       "    </tr>\n",
       "    <tr>\n",
       "      <th>175215</th>\n",
       "      <td>22</td>\n",
       "      <td>chr22:50747663</td>\n",
       "      <td>50747663</td>\n",
       "      <td>1000</td>\n",
       "      <td>0.19000</td>\n",
       "      <td>0.12110</td>\n",
       "      <td>0.002459</td>\n",
       "      <td>1.5690</td>\n",
       "      <td>0.117100</td>\n",
       "    </tr>\n",
       "    <tr>\n",
       "      <th>175216</th>\n",
       "      <td>22</td>\n",
       "      <td>chr22:50764687</td>\n",
       "      <td>50764687</td>\n",
       "      <td>1000</td>\n",
       "      <td>0.12330</td>\n",
       "      <td>0.10160</td>\n",
       "      <td>0.001474</td>\n",
       "      <td>1.2140</td>\n",
       "      <td>0.225200</td>\n",
       "    </tr>\n",
       "    <tr>\n",
       "      <th>175217</th>\n",
       "      <td>22</td>\n",
       "      <td>chr22:50773902</td>\n",
       "      <td>50773902</td>\n",
       "      <td>1000</td>\n",
       "      <td>-0.14710</td>\n",
       "      <td>0.08963</td>\n",
       "      <td>0.002691</td>\n",
       "      <td>-1.6410</td>\n",
       "      <td>0.101100</td>\n",
       "    </tr>\n",
       "    <tr>\n",
       "      <th>175218</th>\n",
       "      <td>22</td>\n",
       "      <td>chr22:50786373</td>\n",
       "      <td>50786373</td>\n",
       "      <td>1000</td>\n",
       "      <td>0.02590</td>\n",
       "      <td>0.24950</td>\n",
       "      <td>0.000011</td>\n",
       "      <td>0.1038</td>\n",
       "      <td>0.917300</td>\n",
       "    </tr>\n",
       "  </tbody>\n",
       "</table>\n",
       "<p>175219 rows × 9 columns</p>\n",
       "</div>"
      ],
      "text/plain": [
       "        CHR             SNP        BP  NMISS     BETA       SE        R2  \\\n",
       "0         1      chr1:10616     10616    705  0.06842  0.11210  0.000530   \n",
       "1         1      chr1:18717     18717    787  0.46020  0.31870  0.002650   \n",
       "2         1     chr1:107125    107125    993 -0.08869  0.12290  0.000525   \n",
       "3         1     chr1:126847    126847   1000 -0.19570  0.09197  0.004515   \n",
       "4         1     chr1:201322    201322    824  0.07386  0.20950  0.000151   \n",
       "...     ...             ...       ...    ...      ...      ...       ...   \n",
       "175214   22  chr22:50713346  50713346   1000  0.22510  0.06354  0.012420   \n",
       "175215   22  chr22:50747663  50747663   1000  0.19000  0.12110  0.002459   \n",
       "175216   22  chr22:50764687  50764687   1000  0.12330  0.10160  0.001474   \n",
       "175217   22  chr22:50773902  50773902   1000 -0.14710  0.08963  0.002691   \n",
       "175218   22  chr22:50786373  50786373   1000  0.02590  0.24950  0.000011   \n",
       "\n",
       "             T         P  \n",
       "0       0.6106  0.541600  \n",
       "1       1.4440  0.149100  \n",
       "2      -0.7216  0.470700  \n",
       "3      -2.1270  0.033630  \n",
       "4       0.3526  0.724500  \n",
       "...        ...       ...  \n",
       "175214  3.5420  0.000415  \n",
       "175215  1.5690  0.117100  \n",
       "175216  1.2140  0.225200  \n",
       "175217 -1.6410  0.101100  \n",
       "175218  0.1038  0.917300  \n",
       "\n",
       "[175219 rows x 9 columns]"
      ]
     },
     "execution_count": 358,
     "metadata": {},
     "output_type": "execute_result"
    }
   ],
   "source": [
    "cada"
   ]
  },
  {
   "cell_type": "code",
   "execution_count": 359,
   "id": "18ba7516",
   "metadata": {
    "ExecuteTime": {
     "end_time": "2021-11-15T08:39:43.355440Z",
     "start_time": "2021-11-15T08:39:37.288566Z"
    }
   },
   "outputs": [
    {
     "name": "stdout",
     "output_type": "stream",
     "text": [
      "/usr/lib/python3/dist-packages/secretstorage/dhcrypto.py:15: CryptographyDeprecationWarning: int_from_bytes is deprecated, use int.from_bytes instead\n",
      "  from cryptography.utils import int_from_bytes\n",
      "/usr/lib/python3/dist-packages/secretstorage/util.py:19: CryptographyDeprecationWarning: int_from_bytes is deprecated, use int.from_bytes instead\n",
      "  from cryptography.utils import int_from_bytes\n",
      "Defaulting to user installation because normal site-packages is not writeable\n",
      "Requirement already satisfied: qmplot in /home/itg/arthur.gilly/.local/lib/python3.6/site-packages (0.1.6)\n",
      "Requirement already satisfied: pandas in /usr/local/lib/python3.6/dist-packages (from qmplot) (1.1.5)\n",
      "Requirement already satisfied: matplotlib in /usr/local/lib/python3.6/dist-packages (from qmplot) (3.3.4)\n",
      "Requirement already satisfied: scipy in /usr/local/lib/python3.6/dist-packages (from qmplot) (1.5.4)\n",
      "Requirement already satisfied: numpy in /usr/local/lib/python3.6/dist-packages (from qmplot) (1.19.5)\n",
      "Requirement already satisfied: cycler>=0.10 in /usr/local/lib/python3.6/dist-packages (from matplotlib->qmplot) (0.11.0)\n",
      "Requirement already satisfied: python-dateutil>=2.1 in /usr/local/lib/python3.6/dist-packages (from matplotlib->qmplot) (2.8.2)\n",
      "Requirement already satisfied: pillow>=6.2.0 in /usr/local/lib/python3.6/dist-packages (from matplotlib->qmplot) (8.4.0)\n",
      "Requirement already satisfied: kiwisolver>=1.0.1 in /usr/local/lib/python3.6/dist-packages (from matplotlib->qmplot) (1.3.1)\n",
      "Requirement already satisfied: pyparsing!=2.0.4,!=2.1.2,!=2.1.6,>=2.0.3 in /usr/local/lib/python3.6/dist-packages (from matplotlib->qmplot) (2.4.7)\n",
      "Requirement already satisfied: pytz>=2017.2 in /usr/local/lib/python3.6/dist-packages (from pandas->qmplot) (2021.3)\n",
      "Requirement already satisfied: six>=1.5 in /home/itg/arthur.gilly/.local/lib/python3.6/site-packages (from python-dateutil>=2.1->matplotlib->qmplot) (1.16.0)\n"
     ]
    }
   ],
   "source": [
    "!pip install qmplot"
   ]
  },
  {
   "cell_type": "code",
   "execution_count": 360,
   "id": "ee35746e",
   "metadata": {
    "ExecuteTime": {
     "end_time": "2021-11-15T08:39:51.573618Z",
     "start_time": "2021-11-15T08:39:50.183729Z"
    }
   },
   "outputs": [
    {
     "name": "stderr",
     "output_type": "stream",
     "text": [
      "/usr/local/lib/python3.6/dist-packages/pandas/core/frame.py:3069: SettingWithCopyWarning: \n",
      "A value is trying to be set on a copy of a slice from a DataFrame.\n",
      "Try using .loc[row_indexer,col_indexer] = value instead\n",
      "\n",
      "See the caveats in the documentation: https://pandas.pydata.org/pandas-docs/stable/user_guide/indexing.html#returning-a-view-versus-a-copy\n",
      "  self[k1] = value[k2]\n"
     ]
    },
    {
     "data": {
      "image/png": "[encoded data removed]",
      "text/plain": [
       "<Figure size 648x216 with 1 Axes>"
      ]
     },
     "metadata": {},
     "output_type": "display_data"
    },
    {
     "data": {
      "text/plain": [
       "<AxesSubplot:xlabel='Chromosome', ylabel='$-log_{10}{(P)}$'>"
      ]
     },
     "execution_count": 360,
     "metadata": {},
     "output_type": "execute_result"
    }
   ],
   "source": [
    "from qmplot import manhattanplot\n",
    "cada.dropna(how=\"any\", inplace=True, axis=0)\n",
    "manhattanplot(cada, chrom=\"CHR\", pos=\"BP\")"
   ]
  },
  {
   "cell_type": "markdown",
   "id": "49c00ef3",
   "metadata": {
    "ExecuteTime": {
     "end_time": "2021-11-15T05:45:54.241934Z",
     "start_time": "2021-11-15T05:45:54.234620Z"
    }
   },
   "source": [
    "#### CAD score, we add covariates:\n"
   ]
  },
  {
   "cell_type": "markdown",
   "id": "b37b51b5",
   "metadata": {},
   "source": [
    "the below takes too long, use plink2:\n",
    "```bash\n",
    "plink2 --glm --pheno CAD.pheno --bfile autosomal.maf0.005.thin --covar PCs.eigenvec  --out test --allow-no-sex\n",
    "```"
   ]
  },
  {
   "cell_type": "code",
   "execution_count": 361,
   "id": "917286f0",
   "metadata": {
    "ExecuteTime": {
     "end_time": "2021-11-15T08:42:11.056930Z",
     "start_time": "2021-11-15T08:40:29.328984Z"
    }
   },
   "outputs": [
    {
     "name": "stdout",
     "output_type": "stream",
     "text": [
      "PLINK v1.90b6.24 64-bit (6 Jun 2021)           www.cog-genomics.org/plink/1.9/\n",
      "(C) 2005-2021 Shaun Purcell, Christopher Chang   GNU General Public License v3\n",
      "Logging to CAD.wPC.log.\n",
      "Options in effect:\n",
      "  --allow-no-sex\n",
      "  --bfile /lustre/groups/itg/teams/analytics/teaching/Gagneur_PRS/PRS.course.testset\n",
      "  --covar /lustre/groups/itg/teams/analytics/teaching/Gagneur_PRS/PCs.eigenvec\n",
      "  --linear hide-covar\n",
      "  --out CAD.wPC\n",
      "  --pheno /lustre/groups/itg/teams/analytics/teaching/Gagneur_PRS/CAD.pheno\n",
      "\n",
      "3095754 MB RAM detected; reserving 1547877 MB for main workspace.\n",
      "175219 variants loaded from .bim file.\n",
      "1000 people (0 males, 0 females, 1000 ambiguous) loaded from .fam.\n",
      "Ambiguous sex IDs written to CAD.wPC.nosex .\n",
      "1000 phenotype values present after --pheno.\n",
      "Using 1 thread (no multithreaded calculations invoked).\n",
      "--covar: 10 covariates loaded.\n",
      "Before main variant filters, 1000 founders and 0 nonfounders present.\n",
      "Calculating allele frequencies... 10111213141516171819202122232425262728293031323334353637383940414243444546474849505152535455565758596061626364656667686970717273747576777879808182838485868788899091929394959697989 done.\n",
      "Total genotyping rate is 0.982046.\n",
      "175219 variants and 1000 people pass filters and QC.\n",
      "Phenotype data is quantitative.\n",
      "Writing linear model association results to CAD.wPC.assoc.linear ... 101112131415161718192021222324252627282930313233343536373839404142434445464748495051525354555657585960616263646566676869707172737475767778798081828384858687888990919293949596979899done.\n"
     ]
    }
   ],
   "source": [
    "!./plink --pheno /lustre/groups/itg/teams/analytics/teaching/Gagneur_PRS/CAD.pheno --bfile /lustre/groups/itg/teams/analytics/teaching/Gagneur_PRS/PRS.course.testset --linear hide-covar --covar /lustre/groups/itg/teams/analytics/teaching/Gagneur_PRS/PCs.eigenvec --out CAD.wPC --allow-no-sex"
   ]
  },
  {
   "cell_type": "code",
   "execution_count": 362,
   "id": "9be1c706",
   "metadata": {
    "ExecuteTime": {
     "end_time": "2021-11-15T08:42:32.618423Z",
     "start_time": "2021-11-15T08:42:32.330077Z"
    }
   },
   "outputs": [],
   "source": [
    "cada=pd.read_table(\"CAD.wPC.assoc.linear\", delim_whitespace=True)"
   ]
  },
  {
   "cell_type": "code",
   "execution_count": 363,
   "id": "c205030d",
   "metadata": {
    "ExecuteTime": {
     "end_time": "2021-11-15T08:42:35.060523Z",
     "start_time": "2021-11-15T08:42:35.033928Z"
    }
   },
   "outputs": [
    {
     "data": {
      "text/html": [
       "<div>\n",
       "<style scoped>\n",
       "    .dataframe tbody tr th:only-of-type {\n",
       "        vertical-align: middle;\n",
       "    }\n",
       "\n",
       "    .dataframe tbody tr th {\n",
       "        vertical-align: top;\n",
       "    }\n",
       "\n",
       "    .dataframe thead th {\n",
       "        text-align: right;\n",
       "    }\n",
       "</style>\n",
       "<table border=\"1\" class=\"dataframe\">\n",
       "  <thead>\n",
       "    <tr style=\"text-align: right;\">\n",
       "      <th></th>\n",
       "      <th>CHR</th>\n",
       "      <th>SNP</th>\n",
       "      <th>BP</th>\n",
       "      <th>A1</th>\n",
       "      <th>TEST</th>\n",
       "      <th>NMISS</th>\n",
       "      <th>BETA</th>\n",
       "      <th>STAT</th>\n",
       "      <th>P</th>\n",
       "    </tr>\n",
       "  </thead>\n",
       "  <tbody>\n",
       "    <tr>\n",
       "      <th>0</th>\n",
       "      <td>1</td>\n",
       "      <td>chr1:10616</td>\n",
       "      <td>10616</td>\n",
       "      <td>C</td>\n",
       "      <td>ADD</td>\n",
       "      <td>705</td>\n",
       "      <td>0.14000</td>\n",
       "      <td>1.3750</td>\n",
       "      <td>0.1695</td>\n",
       "    </tr>\n",
       "    <tr>\n",
       "      <th>1</th>\n",
       "      <td>1</td>\n",
       "      <td>chr1:18717</td>\n",
       "      <td>18717</td>\n",
       "      <td>G</td>\n",
       "      <td>ADD</td>\n",
       "      <td>787</td>\n",
       "      <td>0.29840</td>\n",
       "      <td>1.0100</td>\n",
       "      <td>0.3129</td>\n",
       "    </tr>\n",
       "    <tr>\n",
       "      <th>2</th>\n",
       "      <td>1</td>\n",
       "      <td>chr1:107125</td>\n",
       "      <td>107125</td>\n",
       "      <td>G</td>\n",
       "      <td>ADD</td>\n",
       "      <td>993</td>\n",
       "      <td>-0.06048</td>\n",
       "      <td>-0.5416</td>\n",
       "      <td>0.5882</td>\n",
       "    </tr>\n",
       "    <tr>\n",
       "      <th>3</th>\n",
       "      <td>1</td>\n",
       "      <td>chr1:126847</td>\n",
       "      <td>126847</td>\n",
       "      <td>C</td>\n",
       "      <td>ADD</td>\n",
       "      <td>1000</td>\n",
       "      <td>0.08430</td>\n",
       "      <td>0.9673</td>\n",
       "      <td>0.3336</td>\n",
       "    </tr>\n",
       "    <tr>\n",
       "      <th>4</th>\n",
       "      <td>1</td>\n",
       "      <td>chr1:201322</td>\n",
       "      <td>201322</td>\n",
       "      <td>G</td>\n",
       "      <td>ADD</td>\n",
       "      <td>824</td>\n",
       "      <td>-0.09441</td>\n",
       "      <td>-0.4917</td>\n",
       "      <td>0.6231</td>\n",
       "    </tr>\n",
       "    <tr>\n",
       "      <th>...</th>\n",
       "      <td>...</td>\n",
       "      <td>...</td>\n",
       "      <td>...</td>\n",
       "      <td>...</td>\n",
       "      <td>...</td>\n",
       "      <td>...</td>\n",
       "      <td>...</td>\n",
       "      <td>...</td>\n",
       "      <td>...</td>\n",
       "    </tr>\n",
       "    <tr>\n",
       "      <th>175214</th>\n",
       "      <td>22</td>\n",
       "      <td>chr22:50713346</td>\n",
       "      <td>50713346</td>\n",
       "      <td>G</td>\n",
       "      <td>ADD</td>\n",
       "      <td>1000</td>\n",
       "      <td>0.02904</td>\n",
       "      <td>0.3665</td>\n",
       "      <td>0.7141</td>\n",
       "    </tr>\n",
       "    <tr>\n",
       "      <th>175215</th>\n",
       "      <td>22</td>\n",
       "      <td>chr22:50747663</td>\n",
       "      <td>50747663</td>\n",
       "      <td>C</td>\n",
       "      <td>ADD</td>\n",
       "      <td>1000</td>\n",
       "      <td>-0.03701</td>\n",
       "      <td>-0.3130</td>\n",
       "      <td>0.7544</td>\n",
       "    </tr>\n",
       "    <tr>\n",
       "      <th>175216</th>\n",
       "      <td>22</td>\n",
       "      <td>chr22:50764687</td>\n",
       "      <td>50764687</td>\n",
       "      <td>T</td>\n",
       "      <td>ADD</td>\n",
       "      <td>1000</td>\n",
       "      <td>-0.09067</td>\n",
       "      <td>-0.9587</td>\n",
       "      <td>0.3379</td>\n",
       "    </tr>\n",
       "    <tr>\n",
       "      <th>175217</th>\n",
       "      <td>22</td>\n",
       "      <td>chr22:50773902</td>\n",
       "      <td>50773902</td>\n",
       "      <td>AT</td>\n",
       "      <td>ADD</td>\n",
       "      <td>1000</td>\n",
       "      <td>-0.07175</td>\n",
       "      <td>-0.8647</td>\n",
       "      <td>0.3874</td>\n",
       "    </tr>\n",
       "    <tr>\n",
       "      <th>175218</th>\n",
       "      <td>22</td>\n",
       "      <td>chr22:50786373</td>\n",
       "      <td>50786373</td>\n",
       "      <td>C</td>\n",
       "      <td>ADD</td>\n",
       "      <td>1000</td>\n",
       "      <td>-0.21480</td>\n",
       "      <td>-0.9307</td>\n",
       "      <td>0.3522</td>\n",
       "    </tr>\n",
       "  </tbody>\n",
       "</table>\n",
       "<p>175219 rows × 9 columns</p>\n",
       "</div>"
      ],
      "text/plain": [
       "        CHR             SNP        BP  A1 TEST  NMISS     BETA    STAT       P\n",
       "0         1      chr1:10616     10616   C  ADD    705  0.14000  1.3750  0.1695\n",
       "1         1      chr1:18717     18717   G  ADD    787  0.29840  1.0100  0.3129\n",
       "2         1     chr1:107125    107125   G  ADD    993 -0.06048 -0.5416  0.5882\n",
       "3         1     chr1:126847    126847   C  ADD   1000  0.08430  0.9673  0.3336\n",
       "4         1     chr1:201322    201322   G  ADD    824 -0.09441 -0.4917  0.6231\n",
       "...     ...             ...       ...  ..  ...    ...      ...     ...     ...\n",
       "175214   22  chr22:50713346  50713346   G  ADD   1000  0.02904  0.3665  0.7141\n",
       "175215   22  chr22:50747663  50747663   C  ADD   1000 -0.03701 -0.3130  0.7544\n",
       "175216   22  chr22:50764687  50764687   T  ADD   1000 -0.09067 -0.9587  0.3379\n",
       "175217   22  chr22:50773902  50773902  AT  ADD   1000 -0.07175 -0.8647  0.3874\n",
       "175218   22  chr22:50786373  50786373   C  ADD   1000 -0.21480 -0.9307  0.3522\n",
       "\n",
       "[175219 rows x 9 columns]"
      ]
     },
     "execution_count": 363,
     "metadata": {},
     "output_type": "execute_result"
    }
   ],
   "source": [
    "cada"
   ]
  },
  {
   "cell_type": "code",
   "execution_count": 390,
   "id": "d217e935",
   "metadata": {
    "ExecuteTime": {
     "end_time": "2021-11-15T10:16:14.159944Z",
     "start_time": "2021-11-15T10:16:11.053949Z"
    },
    "scrolled": false
   },
   "outputs": [
    {
     "data": {
      "image/png": "[encoded data removed]",
      "text/plain": [
       "<Figure size 1080x576 with 1 Axes>"
      ]
     },
     "metadata": {
      "needs_background": "light"
     },
     "output_type": "display_data"
    }
   ],
   "source": [
    "from qmplot import manhattanplot\n",
    "cada.dropna(how=\"any\", inplace=True, axis=0)\n",
    "f, ax = plt.subplots(ncols=1, nrows=1, figsize=(15, 8))\n",
    "m=manhattanplot(cada, chrom=\"CHR\", pos=\"BP\", suggestiveline=None, ax=ax)"
   ]
  },
  {
   "cell_type": "code",
   "execution_count": 320,
   "id": "37ff4d8c",
   "metadata": {
    "ExecuteTime": {
     "end_time": "2021-11-15T05:51:36.967847Z",
     "start_time": "2021-11-15T05:51:36.900795Z"
    }
   },
   "outputs": [],
   "source": [
    "mepw=allsc.loc[:,['id','MEP1B']]\n",
    "mepw[['FID', 'IID']]=mepw['id'].str.split('_', expand=True)\n",
    "mepw=mepw.drop('id',axis=1)\n",
    "mepw.iloc[:,[1,2,0]].to_csv(\"/lustre/groups/itg/teams/analytics/teaching/Gagneur_PRS/MEP1B.pheno\", sep=\"\\t\", index=False)"
   ]
  },
  {
   "cell_type": "code",
   "execution_count": 392,
   "id": "9eaad760",
   "metadata": {
    "ExecuteTime": {
     "end_time": "2021-11-15T10:19:41.156180Z",
     "start_time": "2021-11-15T10:17:53.438056Z"
    }
   },
   "outputs": [
    {
     "name": "stdout",
     "output_type": "stream",
     "text": [
      "PLINK v1.90b6.24 64-bit (6 Jun 2021)           www.cog-genomics.org/plink/1.9/\n",
      "(C) 2005-2021 Shaun Purcell, Christopher Chang   GNU General Public License v3\n",
      "Logging to MEP1B.wPC.log.\n",
      "Options in effect:\n",
      "  --allow-no-sex\n",
      "  --bfile /lustre/groups/itg/teams/analytics/teaching/Gagneur_PRS/PRS.course.testset\n",
      "  --covar /lustre/groups/itg/teams/analytics/teaching/Gagneur_PRS/PCs.eigenvec\n",
      "  --linear hide-covar\n",
      "  --out MEP1B.wPC\n",
      "  --pheno /lustre/groups/itg/teams/analytics/teaching/Gagneur_PRS/MEP1B.pheno\n",
      "\n",
      "3095754 MB RAM detected; reserving 1547877 MB for main workspace.\n",
      "175219 variants loaded from .bim file.\n",
      "1000 people (0 males, 0 females, 1000 ambiguous) loaded from .fam.\n",
      "Ambiguous sex IDs written to MEP1B.wPC.nosex .\n",
      "1000 phenotype values present after --pheno.\n",
      "Using 1 thread (no multithreaded calculations invoked).\n",
      "--covar: 10 covariates loaded.\n",
      "Before main variant filters, 1000 founders and 0 nonfounders present.\n",
      "Calculating allele frequencies... 10111213141516171819202122232425262728293031323334353637383940414243444546474849505152535455565758596061626364656667686970717273747576777879808182838485868788899091929394959697989 done.\n",
      "Total genotyping rate is 0.982046.\n",
      "175219 variants and 1000 people pass filters and QC.\n",
      "Phenotype data is quantitative.\n",
      "Writing linear model association results to MEP1B.wPC.assoc.linear ... 101112131415161718192021222324252627282930313233343536373839404142434445464748495051525354555657585960616263646566676869707172737475767778798081828384858687888990919293949596979899done.\n"
     ]
    }
   ],
   "source": [
    "!./plink --pheno /lustre/groups/itg/teams/analytics/teaching/Gagneur_PRS/MEP1B.pheno --bfile /lustre/groups/itg/teams/analytics/teaching/Gagneur_PRS/PRS.course.testset --linear hide-covar --covar /lustre/groups/itg/teams/analytics/teaching/Gagneur_PRS/PCs.eigenvec --out MEP1B.wPC --allow-no-sex"
   ]
  },
  {
   "cell_type": "code",
   "execution_count": 393,
   "id": "53f80275",
   "metadata": {
    "ExecuteTime": {
     "end_time": "2021-11-15T10:19:56.010313Z",
     "start_time": "2021-11-15T10:19:55.693218Z"
    }
   },
   "outputs": [],
   "source": [
    "mepa=pd.read_table(\"MEP1B.wPC.assoc.linear\", delim_whitespace=True)"
   ]
  },
  {
   "cell_type": "code",
   "execution_count": 405,
   "id": "3e129d81",
   "metadata": {
    "ExecuteTime": {
     "end_time": "2021-11-15T10:38:20.665559Z",
     "start_time": "2021-11-15T10:38:14.916956Z"
    }
   },
   "outputs": [
    {
     "data": {
      "image/png": "[encoded data removed]",
      "text/plain": [
       "<Figure size 1080x576 with 1 Axes>"
      ]
     },
     "metadata": {
      "needs_background": "light"
     },
     "output_type": "display_data"
    },
    {
     "name": "stderr",
     "output_type": "stream",
     "text": [
      "/usr/local/lib/python3.6/dist-packages/pandas/core/frame.py:3069: SettingWithCopyWarning: \n",
      "A value is trying to be set on a copy of a slice from a DataFrame.\n",
      "Try using .loc[row_indexer,col_indexer] = value instead\n",
      "\n",
      "See the caveats in the documentation: https://pandas.pydata.org/pandas-docs/stable/user_guide/indexing.html#returning-a-view-versus-a-copy\n",
      "  self[k1] = value[k2]\n"
     ]
    },
    {
     "data": {
      "image/png": "[encoded data removed]",
      "text/plain": [
       "<Figure size 1080x576 with 1 Axes>"
      ]
     },
     "metadata": {
      "needs_background": "light"
     },
     "output_type": "display_data"
    },
    {
     "data": {
      "text/plain": [
       "<AxesSubplot:xlabel='Chromosome', ylabel='$-log_{10}{(P)}$'>"
      ]
     },
     "execution_count": 405,
     "metadata": {},
     "output_type": "execute_result"
    }
   ],
   "source": [
    "import numpy as np\n",
    "import matplotlib.pyplot as plt\n",
    "mepa['logp']=-1*np.log10(mepa.P)\n",
    "mepa.replace([np.inf, -np.inf], np.nan, inplace=True)\n",
    "mepa.dropna(how=\"any\", inplace=True, axis=0)\n",
    "f, ax = plt.subplots(ncols=1, nrows=1, figsize=(15, 8))\n",
    "m=manhattanplot(mepa, chrom=\"CHR\", pos=\"BP\", suggestiveline=None, ax=ax)\n",
    "f, ax = plt.subplots(ncols=1, nrows=1, figsize=(15, 8))\n",
    "manhattanplot(mepa[mepa.logp<10], chrom=\"CHR\", pos=\"BP\", suggestiveline=None, ax=ax)\n",
    "#qqplot(mepa.P, uniform, fit=True, line='45')\n",
    "#plt.show()"
   ]
  },
  {
   "cell_type": "markdown",
   "id": "028c35ef",
   "metadata": {},
   "source": [
    "## Generating fake phenotypes for correlations\n",
    "\n",
    "### MEP1B\n",
    "\n",
    "This is the easiest. We use the predicted scores and add a Gaussian error."
   ]
  },
  {
   "cell_type": "code",
   "execution_count": 533,
   "id": "e755d5be",
   "metadata": {
    "ExecuteTime": {
     "end_time": "2021-11-18T14:40:40.133503Z",
     "start_time": "2021-11-18T14:40:40.083686Z"
    }
   },
   "outputs": [],
   "source": [
    "thousand=pd.read_table(\"/lustre/groups/itg/teams/analytics/teaching/Gagneur_PRS/PRS.course.testset.fam\", delim_whitespace=True, header=None)"
   ]
  },
  {
   "cell_type": "code",
   "execution_count": 547,
   "id": "70cd7da6",
   "metadata": {
    "ExecuteTime": {
     "end_time": "2021-11-18T14:42:46.860317Z",
     "start_time": "2021-11-18T14:42:46.852004Z"
    }
   },
   "outputs": [
    {
     "data": {
      "text/plain": [
       "0      HG00100_HG00100\n",
       "1      HG00101_HG00101\n",
       "2      HG00107_HG00107\n",
       "3      HG00110_HG00110\n",
       "4      HG00113_HG00113\n",
       "            ...       \n",
       "995    NA21124_NA21124\n",
       "996    NA21127_NA21127\n",
       "997    NA21129_NA21129\n",
       "998    NA21133_NA21133\n",
       "999    NA21141_NA21141\n",
       "Name: 1, Length: 1000, dtype: object"
      ]
     },
     "execution_count": 547,
     "metadata": {},
     "output_type": "execute_result"
    }
   ],
   "source": []
  },
  {
   "cell_type": "code",
   "execution_count": 548,
   "id": "0ff439f7",
   "metadata": {
    "ExecuteTime": {
     "end_time": "2021-11-18T14:42:56.769351Z",
     "start_time": "2021-11-18T14:42:56.761985Z"
    }
   },
   "outputs": [],
   "source": [
    "allsc=allsc[allsc.id.isin(thousand.loc[:,1]+\"_\"+thousand.loc[:,1])]"
   ]
  },
  {
   "cell_type": "code",
   "execution_count": 549,
   "id": "86819ee0",
   "metadata": {
    "ExecuteTime": {
     "end_time": "2021-11-18T14:42:57.581793Z",
     "start_time": "2021-11-18T14:42:57.564373Z"
    }
   },
   "outputs": [
    {
     "data": {
      "text/html": [
       "<div>\n",
       "<style scoped>\n",
       "    .dataframe tbody tr th:only-of-type {\n",
       "        vertical-align: middle;\n",
       "    }\n",
       "\n",
       "    .dataframe tbody tr th {\n",
       "        vertical-align: top;\n",
       "    }\n",
       "\n",
       "    .dataframe thead th {\n",
       "        text-align: right;\n",
       "    }\n",
       "</style>\n",
       "<table border=\"1\" class=\"dataframe\">\n",
       "  <thead>\n",
       "    <tr style=\"text-align: right;\">\n",
       "      <th></th>\n",
       "      <th>MEP1B</th>\n",
       "      <th>id</th>\n",
       "      <th>CAD</th>\n",
       "      <th>MEP1Bmanual</th>\n",
       "      <th>CADmanual</th>\n",
       "    </tr>\n",
       "  </thead>\n",
       "  <tbody>\n",
       "    <tr>\n",
       "      <th>3</th>\n",
       "      <td>0.978672</td>\n",
       "      <td>HG00100_HG00100</td>\n",
       "      <td>-0.269309</td>\n",
       "      <td>0.978672</td>\n",
       "      <td>-0.268639</td>\n",
       "    </tr>\n",
       "    <tr>\n",
       "      <th>4</th>\n",
       "      <td>-1.171186</td>\n",
       "      <td>HG00101_HG00101</td>\n",
       "      <td>-0.055126</td>\n",
       "      <td>-1.171186</td>\n",
       "      <td>-0.053979</td>\n",
       "    </tr>\n",
       "    <tr>\n",
       "      <th>9</th>\n",
       "      <td>-0.554983</td>\n",
       "      <td>HG00107_HG00107</td>\n",
       "      <td>-1.149339</td>\n",
       "      <td>-0.554983</td>\n",
       "      <td>-1.151884</td>\n",
       "    </tr>\n",
       "    <tr>\n",
       "      <th>12</th>\n",
       "      <td>-1.794373</td>\n",
       "      <td>HG00110_HG00110</td>\n",
       "      <td>0.588146</td>\n",
       "      <td>-1.794370</td>\n",
       "      <td>0.581087</td>\n",
       "    </tr>\n",
       "    <tr>\n",
       "      <th>15</th>\n",
       "      <td>0.162431</td>\n",
       "      <td>HG00113_HG00113</td>\n",
       "      <td>-0.609841</td>\n",
       "      <td>0.162430</td>\n",
       "      <td>-0.613248</td>\n",
       "    </tr>\n",
       "    <tr>\n",
       "      <th>...</th>\n",
       "      <td>...</td>\n",
       "      <td>...</td>\n",
       "      <td>...</td>\n",
       "      <td>...</td>\n",
       "      <td>...</td>\n",
       "    </tr>\n",
       "    <tr>\n",
       "      <th>2490</th>\n",
       "      <td>-0.994201</td>\n",
       "      <td>NA21124_NA21124</td>\n",
       "      <td>0.157557</td>\n",
       "      <td>-0.994202</td>\n",
       "      <td>0.159120</td>\n",
       "    </tr>\n",
       "    <tr>\n",
       "      <th>2493</th>\n",
       "      <td>1.789484</td>\n",
       "      <td>NA21127_NA21127</td>\n",
       "      <td>2.249775</td>\n",
       "      <td>1.789478</td>\n",
       "      <td>2.253687</td>\n",
       "    </tr>\n",
       "    <tr>\n",
       "      <th>2495</th>\n",
       "      <td>-0.793327</td>\n",
       "      <td>NA21129_NA21129</td>\n",
       "      <td>-1.452013</td>\n",
       "      <td>-0.793328</td>\n",
       "      <td>-1.452341</td>\n",
       "    </tr>\n",
       "    <tr>\n",
       "      <th>2497</th>\n",
       "      <td>-0.968840</td>\n",
       "      <td>NA21133_NA21133</td>\n",
       "      <td>-0.537862</td>\n",
       "      <td>-0.968840</td>\n",
       "      <td>-0.540104</td>\n",
       "    </tr>\n",
       "    <tr>\n",
       "      <th>2500</th>\n",
       "      <td>1.495205</td>\n",
       "      <td>NA21141_NA21141</td>\n",
       "      <td>1.144704</td>\n",
       "      <td>1.495210</td>\n",
       "      <td>1.148143</td>\n",
       "    </tr>\n",
       "  </tbody>\n",
       "</table>\n",
       "<p>1000 rows × 5 columns</p>\n",
       "</div>"
      ],
      "text/plain": [
       "         MEP1B               id       CAD  MEP1Bmanual  CADmanual\n",
       "3     0.978672  HG00100_HG00100 -0.269309     0.978672  -0.268639\n",
       "4    -1.171186  HG00101_HG00101 -0.055126    -1.171186  -0.053979\n",
       "9    -0.554983  HG00107_HG00107 -1.149339    -0.554983  -1.151884\n",
       "12   -1.794373  HG00110_HG00110  0.588146    -1.794370   0.581087\n",
       "15    0.162431  HG00113_HG00113 -0.609841     0.162430  -0.613248\n",
       "...        ...              ...       ...          ...        ...\n",
       "2490 -0.994201  NA21124_NA21124  0.157557    -0.994202   0.159120\n",
       "2493  1.789484  NA21127_NA21127  2.249775     1.789478   2.253687\n",
       "2495 -0.793327  NA21129_NA21129 -1.452013    -0.793328  -1.452341\n",
       "2497 -0.968840  NA21133_NA21133 -0.537862    -0.968840  -0.540104\n",
       "2500  1.495205  NA21141_NA21141  1.144704     1.495210   1.148143\n",
       "\n",
       "[1000 rows x 5 columns]"
      ]
     },
     "execution_count": 549,
     "metadata": {},
     "output_type": "execute_result"
    }
   ],
   "source": [
    "allsc"
   ]
  },
  {
   "cell_type": "code",
   "execution_count": 550,
   "id": "08b3be20",
   "metadata": {
    "ExecuteTime": {
     "end_time": "2021-11-18T14:42:59.634865Z",
     "start_time": "2021-11-18T14:42:59.459543Z"
    }
   },
   "outputs": [
    {
     "name": "stderr",
     "output_type": "stream",
     "text": [
      "/usr/local/lib/python3.6/dist-packages/ipykernel_launcher.py:3: SettingWithCopyWarning: \n",
      "A value is trying to be set on a copy of a slice from a DataFrame.\n",
      "Try using .loc[row_indexer,col_indexer] = value instead\n",
      "\n",
      "See the caveats in the documentation: https://pandas.pydata.org/pandas-docs/stable/user_guide/indexing.html#returning-a-view-versus-a-copy\n",
      "  This is separate from the ipykernel package so we can avoid doing imports until\n",
      "/usr/local/lib/python3.6/dist-packages/seaborn/_decorators.py:43: FutureWarning: Pass the following variables as keyword args: x, y. From version 0.12, the only valid positional argument will be `data`, and passing other arguments without an explicit keyword will result in an error or misinterpretation.\n",
      "  FutureWarning\n"
     ]
    },
    {
     "data": {
      "text/plain": [
       "<AxesSubplot:xlabel='MEP1B', ylabel='noisyMEP'>"
      ]
     },
     "execution_count": 550,
     "metadata": {},
     "output_type": "execute_result"
    },
    {
     "data": {
      "image/png": "[encoded data removed]",
      "text/plain": [
       "<Figure size 720x504 with 1 Axes>"
      ]
     },
     "metadata": {
      "needs_background": "light"
     },
     "output_type": "display_data"
    }
   ],
   "source": [
    "import numpy as np\n",
    "\n",
    "allsc['noisyMEP'] = allsc.MEP1B + np.random.normal(0,2,len(allsc.index))\n",
    "sns.scatterplot(allsc.MEP1B, allsc.noisyMEP)"
   ]
  },
  {
   "cell_type": "code",
   "execution_count": 551,
   "id": "e61f9692",
   "metadata": {
    "ExecuteTime": {
     "end_time": "2021-11-18T14:43:02.590110Z",
     "start_time": "2021-11-18T14:43:02.555846Z"
    }
   },
   "outputs": [
    {
     "data": {
      "text/html": [
       "<div>\n",
       "<style scoped>\n",
       "    .dataframe tbody tr th:only-of-type {\n",
       "        vertical-align: middle;\n",
       "    }\n",
       "\n",
       "    .dataframe tbody tr th {\n",
       "        vertical-align: top;\n",
       "    }\n",
       "\n",
       "    .dataframe thead th {\n",
       "        text-align: right;\n",
       "    }\n",
       "</style>\n",
       "<table border=\"1\" class=\"dataframe\">\n",
       "  <thead>\n",
       "    <tr style=\"text-align: right;\">\n",
       "      <th></th>\n",
       "      <th>MEP1B</th>\n",
       "      <th>noisyMEP</th>\n",
       "    </tr>\n",
       "  </thead>\n",
       "  <tbody>\n",
       "    <tr>\n",
       "      <th>MEP1B</th>\n",
       "      <td>1.000000</td>\n",
       "      <td>0.427365</td>\n",
       "    </tr>\n",
       "    <tr>\n",
       "      <th>noisyMEP</th>\n",
       "      <td>0.427365</td>\n",
       "      <td>1.000000</td>\n",
       "    </tr>\n",
       "  </tbody>\n",
       "</table>\n",
       "</div>"
      ],
      "text/plain": [
       "             MEP1B  noisyMEP\n",
       "MEP1B     1.000000  0.427365\n",
       "noisyMEP  0.427365  1.000000"
      ]
     },
     "execution_count": 551,
     "metadata": {},
     "output_type": "execute_result"
    }
   ],
   "source": [
    "allsc.loc[:,[\"MEP1B\", 'noisyMEP']].corr()"
   ]
  },
  {
   "cell_type": "code",
   "execution_count": 582,
   "id": "ea6fc526",
   "metadata": {
    "ExecuteTime": {
     "end_time": "2021-11-18T14:49:51.126668Z",
     "start_time": "2021-11-18T14:49:50.954547Z"
    }
   },
   "outputs": [
    {
     "name": "stderr",
     "output_type": "stream",
     "text": [
      "/usr/local/lib/python3.6/dist-packages/seaborn/_decorators.py:43: FutureWarning: Pass the following variables as keyword args: x, y. From version 0.12, the only valid positional argument will be `data`, and passing other arguments without an explicit keyword will result in an error or misinterpretation.\n",
      "  FutureWarning\n"
     ]
    },
    {
     "data": {
      "text/plain": [
       "<AxesSubplot:xlabel='CAD', ylabel='CAD'>"
      ]
     },
     "execution_count": 582,
     "metadata": {},
     "output_type": "execute_result"
    },
    {
     "data": {
      "image/png": "[encoded data removed]",
      "text/plain": [
       "<Figure size 720x504 with 1 Axes>"
      ]
     },
     "metadata": {
      "needs_background": "light"
     },
     "output_type": "display_data"
    }
   ],
   "source": [
    "prev=0.5\n",
    "k=0.6\n",
    "x0=np.log2(np.exp(np.log2(1)-np.log2(prev))-1)/k\n",
    "#x0=(np.log2(np.exp(np.log2(1)-np.log2(0.1))-1))/k\n",
    "pvector=1/(1+np.exp(-k*(allsc.CAD-x0)))\n",
    "sns.scatterplot(allsc.CAD, pvector)"
   ]
  },
  {
   "cell_type": "code",
   "execution_count": 583,
   "id": "4a3f027d",
   "metadata": {
    "ExecuteTime": {
     "end_time": "2021-11-18T14:49:51.271677Z",
     "start_time": "2021-11-18T14:49:51.259263Z"
    }
   },
   "outputs": [
    {
     "data": {
      "text/plain": [
       "0    705\n",
       "1    295\n",
       "Name: CAD, dtype: int64"
      ]
     },
     "execution_count": 583,
     "metadata": {},
     "output_type": "execute_result"
    }
   ],
   "source": [
    "pd.Series(pvector.apply(lambda x : np.random.binomial(n=1, p=x))).value_counts()"
   ]
  },
  {
   "cell_type": "code",
   "execution_count": 584,
   "id": "57c908fd",
   "metadata": {
    "ExecuteTime": {
     "end_time": "2021-11-18T14:49:51.697838Z",
     "start_time": "2021-11-18T14:49:51.467380Z"
    }
   },
   "outputs": [
    {
     "data": {
      "text/plain": [
       "<AxesSubplot:xlabel='CAD', ylabel='Count'>"
      ]
     },
     "execution_count": 584,
     "metadata": {},
     "output_type": "execute_result"
    },
    {
     "data": {
      "image/png": "[encoded data removed]",
      "text/plain": [
       "<Figure size 720x504 with 1 Axes>"
      ]
     },
     "metadata": {
      "needs_background": "light"
     },
     "output_type": "display_data"
    }
   ],
   "source": [
    "sns.histplot(pvector)"
   ]
  },
  {
   "cell_type": "code",
   "execution_count": 585,
   "id": "82444763",
   "metadata": {
    "ExecuteTime": {
     "end_time": "2021-11-18T14:49:51.706531Z",
     "start_time": "2021-11-18T14:49:51.699374Z"
    }
   },
   "outputs": [
    {
     "name": "stderr",
     "output_type": "stream",
     "text": [
      "/usr/local/lib/python3.6/dist-packages/ipykernel_launcher.py:1: SettingWithCopyWarning: \n",
      "A value is trying to be set on a copy of a slice from a DataFrame.\n",
      "Try using .loc[row_indexer,col_indexer] = value instead\n",
      "\n",
      "See the caveats in the documentation: https://pandas.pydata.org/pandas-docs/stable/user_guide/indexing.html#returning-a-view-versus-a-copy\n",
      "  \"\"\"Entry point for launching an IPython kernel.\n"
     ]
    }
   ],
   "source": [
    "allsc['simCAD']=pvector.apply(lambda x : np.random.binomial(n=1, p=x))"
   ]
  },
  {
   "cell_type": "code",
   "execution_count": 586,
   "id": "d3589e8b",
   "metadata": {
    "ExecuteTime": {
     "end_time": "2021-11-18T14:49:52.632608Z",
     "start_time": "2021-11-18T14:49:52.619310Z"
    }
   },
   "outputs": [
    {
     "data": {
      "text/plain": [
       "0.1   -1.301830\n",
       "0.9    1.203025\n",
       "Name: CAD, dtype: float64"
      ]
     },
     "execution_count": 586,
     "metadata": {},
     "output_type": "execute_result"
    }
   ],
   "source": [
    "allsc.CAD.quantile([0.1, 0.9])"
   ]
  },
  {
   "cell_type": "code",
   "execution_count": 587,
   "id": "876e1625",
   "metadata": {
    "ExecuteTime": {
     "end_time": "2021-11-18T14:49:53.635751Z",
     "start_time": "2021-11-18T14:49:53.619520Z"
    }
   },
   "outputs": [
    {
     "data": {
      "text/plain": [
       "0    85\n",
       "1    15\n",
       "Name: simCAD, dtype: int64"
      ]
     },
     "execution_count": 587,
     "metadata": {},
     "output_type": "execute_result"
    }
   ],
   "source": [
    "allsc.simCAD[allsc.CAD<allsc.CAD.quantile(0.1)].value_counts()"
   ]
  },
  {
   "cell_type": "code",
   "execution_count": 589,
   "id": "c470456f",
   "metadata": {
    "ExecuteTime": {
     "end_time": "2021-11-18T14:50:18.845122Z",
     "start_time": "2021-11-18T14:50:18.829625Z"
    }
   },
   "outputs": [
    {
     "data": {
      "text/plain": [
       "1    54\n",
       "0    46\n",
       "Name: simCAD, dtype: int64"
      ]
     },
     "execution_count": 589,
     "metadata": {},
     "output_type": "execute_result"
    }
   ],
   "source": [
    "allsc.simCAD[allsc.CAD>allsc.CAD.quantile(0.9)].value_counts()"
   ]
  },
  {
   "cell_type": "code",
   "execution_count": 590,
   "id": "34a3ee07",
   "metadata": {
    "ExecuteTime": {
     "end_time": "2021-11-18T14:50:42.124382Z",
     "start_time": "2021-11-18T14:50:42.116055Z"
    }
   },
   "outputs": [
    {
     "data": {
      "text/plain": [
       "0.1503267973856209"
      ]
     },
     "execution_count": 590,
     "metadata": {},
     "output_type": "execute_result"
    }
   ],
   "source": [
    "(15/85)/(54/46)"
   ]
  },
  {
   "cell_type": "code",
   "execution_count": 594,
   "id": "76ffac44",
   "metadata": {
    "ExecuteTime": {
     "end_time": "2021-11-18T14:52:41.126554Z",
     "start_time": "2021-11-18T14:52:41.061401Z"
    }
   },
   "outputs": [],
   "source": [
    "allsc.loc[:,['id', 'simCAD']].to_csv(\"CAD.phenotype\", index=False, header=None, sep=\"\\t\")"
   ]
  },
  {
   "cell_type": "code",
   "execution_count": 595,
   "id": "85f65192",
   "metadata": {
    "ExecuteTime": {
     "end_time": "2021-11-18T14:52:55.622302Z",
     "start_time": "2021-11-18T14:52:51.410814Z"
    }
   },
   "outputs": [
    {
     "name": "stdout",
     "output_type": "stream",
     "text": [
      "HG00100_HG00100\t0\r\n",
      "HG00101_HG00101\t0\r\n",
      "HG00107_HG00107\t0\r\n",
      "HG00110_HG00110\t0\r\n",
      "HG00113_HG00113\t1\r\n",
      "HG00114_HG00114\t0\r\n",
      "HG00117_HG00117\t0\r\n",
      "HG00118_HG00118\t1\r\n",
      "HG00119_HG00119\t1\r\n",
      "HG00120_HG00120\t1\r\n"
     ]
    }
   ],
   "source": [
    "!head CAD.phenotype"
   ]
  },
  {
   "cell_type": "code",
   "execution_count": 597,
   "id": "81bcdcb6",
   "metadata": {
    "ExecuteTime": {
     "end_time": "2021-11-18T14:53:28.481614Z",
     "start_time": "2021-11-18T14:53:28.452979Z"
    }
   },
   "outputs": [],
   "source": [
    "allsc.loc[:,['id', 'noisyMEP']].to_csv(\"MEP1B.phenotype\", index=False, header=None, sep=\"\\t\")"
   ]
  },
  {
   "cell_type": "code",
   "execution_count": 598,
   "id": "1360d705",
   "metadata": {
    "ExecuteTime": {
     "end_time": "2021-11-18T14:53:35.806766Z",
     "start_time": "2021-11-18T14:53:31.514775Z"
    }
   },
   "outputs": [
    {
     "name": "stdout",
     "output_type": "stream",
     "text": [
      "/lustre/groups/itg/shared/notebooks/arthur.gilly/teaching\r\n"
     ]
    }
   ],
   "source": [
    "!pwd"
   ]
  },
  {
   "cell_type": "code",
   "execution_count": null,
   "id": "ee229bef",
   "metadata": {},
   "outputs": [],
   "source": []
  }
 ],
 "metadata": {
  "hide_input": false,
  "kernelspec": {
   "display_name": "Python 3 (ipykernel)",
   "language": "python",
   "name": "python3"
  },
  "language_info": {
   "codemirror_mode": {
    "name": "ipython",
    "version": 3
   },
   "file_extension": ".py",
   "mimetype": "text/x-python",
   "name": "python",
   "nbconvert_exporter": "python",
   "pygments_lexer": "ipython3",
   "version": "3.6.9"
  },
  "toc": {
   "base_numbering": 1,
   "nav_menu": {},
   "number_sections": true,
   "sideBar": true,
   "skip_h1_title": false,
   "title_cell": "Table of Contents",
   "title_sidebar": "Contents",
   "toc_cell": false,
   "toc_position": {},
   "toc_section_display": true,
   "toc_window_display": false
  }
 },
 "nbformat": 4,
 "nbformat_minor": 5
}
