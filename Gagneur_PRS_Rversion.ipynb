{
 "cells": [
  {
   "cell_type": "markdown",
   "id": "0a11df5f-3b5d-4946-a6a6-8b3927eca9d8",
   "metadata": {},
   "source": [
    "<center><h1>Exercise on Polygenic Scoring (R Version)</h1>\n",
    "<b>Systems Genetics Lecture - 25.11.21</b></br></br>\n",
    "<i><small>Arthur Gilly (arthur.gilly@helmholtz-muenchen.de) - Ana Arruda (ana.arruda@helmholtz-muenchen.de)</i></small>\n",
    "</center>\n",
    "\n",
    "# Summary\n",
    "In this exercise, we will apply two polygenic scores to a cohort of 1000 indivuduals. The samples come from the 1000 Genomes project, and the two scores are **a polygenic risk score for Coronary Artery Disease (CAD)** and a **polygenic score for levels of the MEP1B protein**. We will study the influence of ethnicity, see how well these two scores predict the traits in question, and finally, we will examine the polygenicity of these two traits through a genome-wide association.\n",
    "\n",
    "## Downloading the data and installing libraries\n",
    "\n",
    "<div class=\"alert alert-warning\">This R notebook uses the <code>data.table</code> library for data manipulation and base R for graphics. In particular, <code>magrittr</code>, <code>ggplot2</code> and <code>tidyr</code> are not supported.</div>\n",
    "\n",
    "All the libraries you need are already installed and most data files are in the `data` directory.\n",
    "\n"
   ]
  },
  {
   "cell_type": "markdown",
   "id": "cd38a216",
   "metadata": {},
   "source": [
    "## Lifting over the polygenic score\n",
    "\n",
    "We will be working with a CAD score that was downloaded from the publicly available PGS catalog. Variants in that score are identified by chromosome:position, but are on build 37 (also called hg19) of the human reference genome. Our genetic data is on build 38, we must therefore first map these coordinates onto that build. That process is called a liftover. There are R libraries to do this, but they come from the Bioconductor project, and are clunky and hard to use. We will use an external program called CrossMap.\n",
    "\n",
    "First, we download the dictionary of positions from build 37 to 38 from the USCS Liftover FTP Website.\n",
    "\n",
    "**Question 1**: Download the chain file from https://hgdownload.cse.ucsc.edu/goldenpath/hg19/liftOver/hg19ToHg38.over.chain.gz"
   ]
  },
  {
   "cell_type": "code",
   "execution_count": 1,
   "id": "6f815014",
   "metadata": {
    "ExecuteTime": {
     "end_time": "2021-11-24T04:08:13.857904Z",
     "start_time": "2021-11-24T04:08:12.705Z"
    }
   },
   "outputs": [
    {
     "name": "stdout",
     "output_type": "stream",
     "text": [
      "downloading\n",
      "--2021-11-24 11:42:02--  https://hgdownload.cse.ucsc.edu/goldenpath/hg19/liftOver/hg19ToHg38.over.chain.gz\n",
      "Resolving hgdownload.cse.ucsc.edu (hgdownload.cse.ucsc.edu)... 128.114.119.163\n",
      "Connecting to hgdownload.cse.ucsc.edu (hgdownload.cse.ucsc.edu)|128.114.119.163|:443... connected.\n",
      "HTTP request sent, awaiting response... 200 OK\n",
      "Length: 227698 (222K) [application/x-gzip]\n",
      "Saving to: 'hg19ToHg38.over.chain.gz'\n",
      "\n",
      "     0K .......... .......... .......... .......... .......... 22%  452K 0s\n",
      "    50K .......... .......... .......... .......... .......... 44%  902K 0s\n",
      "   100K .......... .......... .......... .......... .......... 67%  902K 0s\n",
      "   150K .......... .......... .......... .......... .......... 89%  139M 0s\n",
      "   200K .......... .......... ..                              100%  187M=0.2s\n",
      "\n",
      "2021-11-24 11:42:03 (1001 KB/s) - 'hg19ToHg38.over.chain.gz' saved [227698/227698]\n",
      "\n"
     ]
    }
   ],
   "source": [
    "cat(system('\n",
    "(rm *.chain.gz || echo downloading) && wget https://hgdownload.cse.ucsc.edu/goldenpath/hg19/liftOver/hg19ToHg38.over.chain.gz 2>&1\n",
    "', intern=T), sep=\"\\n\")\n"
   ]
  },
  {
   "cell_type": "markdown",
   "id": "3d48c1db-bffb-43f4-a227-8db70f8aa75f",
   "metadata": {},
   "source": [
    "Here is CrossMap's help:"
   ]
  },
  {
   "cell_type": "code",
   "execution_count": 2,
   "id": "593d6508-d1d4-43eb-a793-f32ba82e28ac",
   "metadata": {},
   "outputs": [
    {
     "name": "stdout",
     "output_type": "stream",
     "text": [
      "usage: CrossMap.py [-h] [-v]\n",
      "                   {bed,bam,gff,wig,bigwig,vcf,gvcf,maf,region,viewchain} ...\n",
      "\n",
      "CrossMap (v0.6.0) is a program to convert (liftover) genome coordinates\n",
      "between different reference assemblies (e.g., from human GRCh37/hg19 to\n",
      "GRCh38/hg38 or vice versa). Supported file formats: BAM, BED, BigWig, CRAM,\n",
      "GFF, GTF, GVCF, MAF (mutation annotation format), SAM, Wiggle, and VCF.\n",
      "\n",
      "positional arguments:\n",
      "  {bed,bam,gff,wig,bigwig,vcf,gvcf,maf,region,viewchain}\n",
      "                        sub-command help\n",
      "    bed                 converts BED, bedGraph or other BED-like files. Only\n",
      "                        genome coordinates (i.e., the first 3 columns) will be\n",
      "                        updated. Regions mapped to multiple locations to the\n",
      "                        new assembly will be split. Use the \"region\" command\n",
      "                        to liftover large genomic regions. Use the \"wig\"\n",
      "                        command if you need bedGraph/bigWig output.\n",
      "    bam                 converts BAM, CRAM, or SAM format file. Genome\n",
      "                        coordinates, header section, all SAM flags, insert\n",
      "                        size will be updated.\n",
      "    gff                 converts GFF or GTF format file. Genome coordinates\n",
      "                        will be updated.\n",
      "    wig                 converts Wiggle or bedGraph format file. Genome\n",
      "                        coordinates will be updated.\n",
      "    bigwig              converts BigWig file. Genome coordinates will be\n",
      "                        updated.\n",
      "    vcf                 converts VCF file. Genome coordinates, header section,\n",
      "                        reference alleles will be updated.\n",
      "    gvcf                converts GVCF file. Genome coordinates, header\n",
      "                        section, reference alleles will be updated.\n",
      "    maf                 converts MAF (mutation annotation format) file. Genome\n",
      "                        coordinates and reference alleles will be updated.\n",
      "    region              converts big genomic regions (in BED format) such as\n",
      "                        CNV blocks. Genome coordinates will be updated.\n",
      "    viewchain           prints out the content of a chain file into a human\n",
      "                        readable, block-to-block format.\n",
      "\n",
      "optional arguments:\n",
      "  -h, --help            show this help message and exit\n",
      "  -v, --version         show program's version number and exit\n",
      "\n",
      "https://crossmap.readthedocs.io/en/latest/\n"
     ]
    }
   ],
   "source": [
    "cat(system('\n",
    "CrossMap.py --help 2>&1\n",
    "', intern=T), sep=\"\\n\")\n"
   ]
  },
  {
   "cell_type": "markdown",
   "id": "23dbcb6f-9bbc-40ac-b9b0-b2b594603e72",
   "metadata": {},
   "source": [
    "As you can see, it supports multiple input formats. We are going to use `bed` as it is the easiest to use. This format is composed of 3 mandatory, tab-separated columns, and an arbitrary number of columns afterwards. The 3 columns are `chr    pos-1    pos`. \n",
    "\n",
    "\n",
    "**Question 2:** Read in the CAD score (`data/PGS000337.txt.gz`) and make it compatible with the BED format."
   ]
  },
  {
   "cell_type": "code",
   "execution_count": 3,
   "id": "668cb839",
   "metadata": {
    "ExecuteTime": {
     "end_time": "2021-11-24T04:08:07.832340Z",
     "start_time": "2021-11-24T04:08:07.712Z"
    }
   },
   "outputs": [],
   "source": [
    "library(data.table)\n",
    "cadscore=fread(\"data/PGS000337.txt.gz\")"
   ]
  },
  {
   "cell_type": "code",
   "execution_count": 4,
   "id": "8ee7d345",
   "metadata": {
    "ExecuteTime": {
     "end_time": "2021-11-24T04:08:10.002189Z",
     "start_time": "2021-11-24T04:08:10.465Z"
    }
   },
   "outputs": [],
   "source": [
    "cadscore[,start:=chr_position - 1]\n",
    "setcolorder(cadscore, c(\"chr_name\", \"start\", colnames(cadscore)[2:5]))\n",
    "fwrite(cadscore, \"cad.bed\", col.names=F, sep=\"\\t\", quote=F)"
   ]
  },
  {
   "cell_type": "markdown",
   "id": "8c7724c2-f71b-4b24-af16-544edfb29615",
   "metadata": {},
   "source": [
    "**Question 3:** Use `CrossMap bed` to convert the positions in the CAD score from build 37 to build 38."
   ]
  },
  {
   "cell_type": "code",
   "execution_count": 5,
   "id": "c3a46e95",
   "metadata": {
    "ExecuteTime": {
     "end_time": "2021-11-24T04:08:19.851545Z",
     "start_time": "2021-11-24T04:08:17.904Z"
    }
   },
   "outputs": [
    {
     "name": "stdout",
     "output_type": "stream",
     "text": [
      "2021-11-24 11:42:04 [INFO]  Read the chain file \"hg19ToHg38.over.chain.gz\" \n"
     ]
    }
   ],
   "source": [
    "cat(system('\n",
    "CrossMap.py bed hg19ToHg38.over.chain.gz cad.bed cad.38.bed 2>&1\n",
    "', intern=T), sep=\"\\n\")\n"
   ]
  },
  {
   "cell_type": "markdown",
   "id": "726ee5b4-74e0-4b3f-b462-8989b9ba3304",
   "metadata": {},
   "source": [
    "**Question 4:** Read in the lifted over file, remove the second column (`pos - 1`), remove any position that maps outside of the autosomes (chr1-chr22), and check that no variant maps to several positions on build 38."
   ]
  },
  {
   "cell_type": "code",
   "execution_count": 6,
   "id": "a6a05137",
   "metadata": {
    "ExecuteTime": {
     "end_time": "2021-11-24T04:08:25.157148Z",
     "start_time": "2021-11-24T04:08:25.608Z"
    }
   },
   "outputs": [],
   "source": [
    "liftedover=fread(\"cad.38.bed\")"
   ]
  },
  {
   "cell_type": "code",
   "execution_count": 7,
   "id": "9eb8e579",
   "metadata": {
    "ExecuteTime": {
     "end_time": "2021-11-24T04:08:28.579688Z",
     "start_time": "2021-11-24T04:08:29.056Z"
    }
   },
   "outputs": [
    {
     "data": {
      "text/html": [
       "<table class=\"dataframe\">\n",
       "<caption>A data.table: 6 x 6</caption>\n",
       "<thead>\n",
       "\t<tr><th scope=col>chr_name</th><th scope=col>start</th><th scope=col>chr_position</th><th scope=col>effect_allele</th><th scope=col>effect_weight</th><th scope=col>variant_description</th></tr>\n",
       "\t<tr><th scope=col>&lt;chr&gt;</th><th scope=col>&lt;int&gt;</th><th scope=col>&lt;int&gt;</th><th scope=col>&lt;chr&gt;</th><th scope=col>&lt;dbl&gt;</th><th scope=col>&lt;chr&gt;</th></tr>\n",
       "</thead>\n",
       "<tbody>\n",
       "\t<tr><td>1</td><td>1023850</td><td>1023851</td><td>A</td><td> 0.0113215</td><td>1:959231:G:A </td></tr>\n",
       "\t<tr><td>1</td><td>1184477</td><td>1184478</td><td>T</td><td>-0.0165875</td><td>1:1119858:C:T</td></tr>\n",
       "\t<tr><td>1</td><td>1186643</td><td>1186644</td><td>C</td><td> 0.0135431</td><td>1:1122024:T:C</td></tr>\n",
       "\t<tr><td>1</td><td>1219477</td><td>1219478</td><td>T</td><td>-0.0243073</td><td>1:1154858:C:T</td></tr>\n",
       "\t<tr><td>1</td><td>1236036</td><td>1236037</td><td>T</td><td>-0.0126844</td><td>1:1171417:C:T</td></tr>\n",
       "\t<tr><td>1</td><td>1274971</td><td>1274972</td><td>G</td><td>-0.0193357</td><td>1:1210352:A:G</td></tr>\n",
       "</tbody>\n",
       "</table>\n"
      ],
      "text/latex": [
       "A data.table: 6 x 6\n",
       "\\begin{tabular}{llllll}\n",
       " chr\\_name & start & chr\\_position & effect\\_allele & effect\\_weight & variant\\_description\\\\\n",
       " <chr> & <int> & <int> & <chr> & <dbl> & <chr>\\\\\n",
       "\\hline\n",
       "\t 1 & 1023850 & 1023851 & A &  0.0113215 & 1:959231:G:A \\\\\n",
       "\t 1 & 1184477 & 1184478 & T & -0.0165875 & 1:1119858:C:T\\\\\n",
       "\t 1 & 1186643 & 1186644 & C &  0.0135431 & 1:1122024:T:C\\\\\n",
       "\t 1 & 1219477 & 1219478 & T & -0.0243073 & 1:1154858:C:T\\\\\n",
       "\t 1 & 1236036 & 1236037 & T & -0.0126844 & 1:1171417:C:T\\\\\n",
       "\t 1 & 1274971 & 1274972 & G & -0.0193357 & 1:1210352:A:G\\\\\n",
       "\\end{tabular}\n"
      ],
      "text/markdown": [
       "\n",
       "A data.table: 6 x 6\n",
       "\n",
       "| chr_name &lt;chr&gt; | start &lt;int&gt; | chr_position &lt;int&gt; | effect_allele &lt;chr&gt; | effect_weight &lt;dbl&gt; | variant_description &lt;chr&gt; |\n",
       "|---|---|---|---|---|---|\n",
       "| 1 | 1023850 | 1023851 | A |  0.0113215 | 1:959231:G:A  |\n",
       "| 1 | 1184477 | 1184478 | T | -0.0165875 | 1:1119858:C:T |\n",
       "| 1 | 1186643 | 1186644 | C |  0.0135431 | 1:1122024:T:C |\n",
       "| 1 | 1219477 | 1219478 | T | -0.0243073 | 1:1154858:C:T |\n",
       "| 1 | 1236036 | 1236037 | T | -0.0126844 | 1:1171417:C:T |\n",
       "| 1 | 1274971 | 1274972 | G | -0.0193357 | 1:1210352:A:G |\n",
       "\n"
      ],
      "text/plain": [
       "  chr_name start   chr_position effect_allele effect_weight variant_description\n",
       "1 1        1023850 1023851      A              0.0113215    1:959231:G:A       \n",
       "2 1        1184477 1184478      T             -0.0165875    1:1119858:C:T      \n",
       "3 1        1186643 1186644      C              0.0135431    1:1122024:T:C      \n",
       "4 1        1219477 1219478      T             -0.0243073    1:1154858:C:T      \n",
       "5 1        1236036 1236037      T             -0.0126844    1:1171417:C:T      \n",
       "6 1        1274971 1274972      G             -0.0193357    1:1210352:A:G      "
      ]
     },
     "metadata": {},
     "output_type": "display_data"
    }
   ],
   "source": [
    "setnames(liftedover, colnames(cadscore))\n",
    "head(liftedover)"
   ]
  },
  {
   "cell_type": "code",
   "execution_count": 8,
   "id": "fad35203",
   "metadata": {
    "ExecuteTime": {
     "end_time": "2021-11-24T04:08:30.294586Z",
     "start_time": "2021-11-24T04:08:30.808Z"
    }
   },
   "outputs": [],
   "source": [
    "liftedover[,start:=NULL]"
   ]
  },
  {
   "cell_type": "code",
   "execution_count": 9,
   "id": "979c940a",
   "metadata": {
    "ExecuteTime": {
     "end_time": "2021-11-24T04:08:32.990041Z",
     "start_time": "2021-11-24T04:08:33.505Z"
    }
   },
   "outputs": [
    {
     "data": {
      "text/html": [
       "75001"
      ],
      "text/latex": [
       "75001"
      ],
      "text/markdown": [
       "75001"
      ],
      "text/plain": [
       "[1] 75001"
      ]
     },
     "metadata": {},
     "output_type": "display_data"
    }
   ],
   "source": [
    "nrow(liftedover)"
   ]
  },
  {
   "cell_type": "code",
   "execution_count": 10,
   "id": "84a59dba",
   "metadata": {
    "ExecuteTime": {
     "end_time": "2021-11-24T04:08:37.559381Z",
     "start_time": "2021-11-24T04:08:38.041Z"
    }
   },
   "outputs": [],
   "source": [
    "liftedover=liftedover[chr_name %in% 1:22,]"
   ]
  },
  {
   "cell_type": "code",
   "execution_count": 11,
   "id": "de4b1a53",
   "metadata": {
    "ExecuteTime": {
     "end_time": "2021-11-24T04:08:38.797473Z",
     "start_time": "2021-11-24T04:08:39.312Z"
    }
   },
   "outputs": [
    {
     "data": {
      "text/html": [
       "74999"
      ],
      "text/latex": [
       "74999"
      ],
      "text/markdown": [
       "74999"
      ],
      "text/plain": [
       "[1] 74999"
      ]
     },
     "metadata": {},
     "output_type": "display_data"
    }
   ],
   "source": [
    "nrow(liftedover)"
   ]
  },
  {
   "cell_type": "code",
   "execution_count": 12,
   "id": "bc78be49",
   "metadata": {
    "ExecuteTime": {
     "start_time": "2021-11-24T04:08:41.297Z"
    }
   },
   "outputs": [],
   "source": [
    "ct=liftedover[,.N,by=variant_description]"
   ]
  },
  {
   "cell_type": "markdown",
   "id": "7ed0d9dd-4216-4941-9a1c-336c4c56bea8",
   "metadata": {},
   "source": [
    "**Question 5:** Create a tab-separated, headerless score file for your lifted over CAD score, with the following columns :\n",
    "* `id` which has the form chr1:1234\n",
    "* `effect_allele`\n",
    "* `effect_weight`"
   ]
  },
  {
   "cell_type": "code",
   "execution_count": 13,
   "id": "113fa4b6",
   "metadata": {
    "ExecuteTime": {
     "end_time": "2021-11-23T10:00:59.026957Z",
     "start_time": "2021-11-23T10:00:57.577Z"
    }
   },
   "outputs": [],
   "source": [
    "cadscore=liftedover\n",
    "cadscore[,id:=paste0(\"chr\", chr_name, \":\", chr_position)]\n",
    "fwrite(cadscore[,c(\"id\", \"effect_allele\", \"effect_weight\")], \"CAD.score\", sep=\"\\t\", col.names=F, quote=F)"
   ]
  },
  {
   "cell_type": "markdown",
   "id": "0b685b4e-64d2-4a91-a068-32c3efde9eed",
   "metadata": {},
   "source": [
    "**Question 6:** Do the same for the MEP1B protein score located at `data/MEP1B.gilly.prs.txt`. The coordinates in that file are already in build 38, you only need to reformat the file, not lift it over."
   ]
  },
  {
   "cell_type": "code",
   "execution_count": 14,
   "id": "e1624a30",
   "metadata": {
    "ExecuteTime": {
     "end_time": "2021-11-23T10:01:00.426646Z",
     "start_time": "2021-11-23T10:00:59.082Z"
    }
   },
   "outputs": [],
   "source": [
    "mepscore=fread(\"data/MEP1B.gilly.prs.txt\")"
   ]
  },
  {
   "cell_type": "code",
   "execution_count": 15,
   "id": "4b4b6893",
   "metadata": {
    "ExecuteTime": {
     "end_time": "2021-11-23T10:01:01.532532Z",
     "start_time": "2021-11-23T10:01:00.185Z"
    }
   },
   "outputs": [],
   "source": [
    "mepscore[,id:=paste0(\"chr\", chr, \":\", pos)]\n",
    "fwrite(mepscore[,c(\"id\", \"A1\", \"effect\")], \"MEP1B.score\", sep=\"\\t\", col.names=F, quote=F)"
   ]
  },
  {
   "cell_type": "code",
   "execution_count": 16,
   "id": "4577d1c5",
   "metadata": {
    "ExecuteTime": {
     "end_time": "2021-11-23T10:01:02.342285Z",
     "start_time": "2021-11-23T10:01:00.969Z"
    }
   },
   "outputs": [
    {
     "name": "stdout",
     "output_type": "stream",
     "text": [
      "==> CAD.score <==\n",
      "chr1:1023851\tA\t0.0113215\n",
      "chr1:1184478\tT\t-0.0165875\n",
      "chr1:1186644\tC\t0.0135431\n",
      "chr1:1219478\tT\t-0.0243073\n",
      "chr1:1236037\tT\t-0.0126844\n",
      "chr1:1274972\tG\t-0.0193357\n",
      "chr1:1276547\tT\t-0.0211415\n",
      "chr1:1277415\tA\t-0.0213939\n",
      "chr1:1279698\tG\t-0.0209343\n",
      "chr1:1284756\tG\t-0.0178729\n",
      "\n",
      "==> MEP1B.score <==\n",
      "chr18:32038169\tT\t-0.2891709\n",
      "chr18:32067215\tC\t0.4230704\n",
      "chr18:32208550\tG\t-0.6470447\n",
      "chr18:32224458\tT\t-0.6871607\n",
      "chr18:32224900\tA\t-1.070113\n",
      "chr18:32317264\tC\t-0.556034\n",
      "chr18:32337385\tC\t0.3294772\n"
     ]
    }
   ],
   "source": [
    "cat(system('\n",
    "head *.score\n",
    "', intern=T), sep=\"\\n\")"
   ]
  },
  {
   "cell_type": "markdown",
   "id": "d0eb72c1",
   "metadata": {
    "ExecuteTime": {
     "end_time": "2021-11-23T09:42:07.219359Z",
     "start_time": "2021-11-23T09:42:05.868Z"
    }
   },
   "source": [
    "## Applying scores\n",
    "\n",
    "We will now apply the scores to a cohort of 1,000 individuals. From the lecture, you will remember that we need genotype data for these individuals as well as the weights contained in the score files above. We will first use PLINK, a popular genetic toolbox installed in this environment. Then we will do it manually, and compare the results."
   ]
  },
  {
   "cell_type": "markdown",
   "id": "4df64b88",
   "metadata": {},
   "source": [
    "### Method 1 : using PLINK\n",
    "\n",
    "**Question 7:** Check the PLINK 1.9 user manual for applying risk scores and create two score profiles. Use the `data/autosomal.forPRS.{bed|bim|fam}` dataset for genotypes and the score files you have created in questions 6 and 7."
   ]
  },
  {
   "cell_type": "code",
   "execution_count": 17,
   "id": "5ce5d1da",
   "metadata": {
    "ExecuteTime": {
     "end_time": "2021-11-23T10:01:05.932512Z",
     "start_time": "2021-11-23T10:01:03.884Z"
    }
   },
   "outputs": [
    {
     "name": "stdout",
     "output_type": "stream",
     "text": [
      "PLINK v1.90b6.24 64-bit (6 Jun 2021)           www.cog-genomics.org/plink/1.9/\n",
      "(C) 2005-2021 Shaun Purcell, Christopher Chang   GNU General Public License v3\n",
      "Logging to CAD.log.\n",
      "Options in effect:\n",
      "  --bfile data/autosomal.forPRS\n",
      "  --out CAD\n",
      "  --score CAD.score\n",
      "\n",
      "52229 MB RAM detected; reserving 26114 MB for main workspace.\n",
      "75624 variants loaded from .bim file.\n",
      "2504 people (0 males, 0 females, 2504 ambiguous) loaded from .fam.\n",
      "Ambiguous sex IDs written to CAD.nosex .\n",
      "Using 1 thread (no multithreaded calculations invoked).\n",
      "Before main variant filters, 2504 founders and 0 nonfounders present.\n",
      "Calculating allele frequencies... 10111213141516171819202122232425262728293031323334353637383940414243444546474849505152535455565758596061626364656667686970717273747576777879808182838485868788899091929394959697989 done.\n",
      "Total genotyping rate is 0.999812.\n",
      "75624 variants and 2504 people pass filters and QC.\n",
      "Note: No phenotypes present.\n",
      "--score: 74813 valid predictors loaded.\n",
      "--score: Results written to CAD.profile .\n",
      "PLINK v1.90b6.24 64-bit (6 Jun 2021)           www.cog-genomics.org/plink/1.9/\n",
      "(C) 2005-2021 Shaun Purcell, Christopher Chang   GNU General Public License v3\n",
      "Logging to MEP1B.log.\n",
      "Options in effect:\n",
      "  --bfile data/autosomal.forPRS\n",
      "  --out MEP1B\n",
      "  --score MEP1B.score\n",
      "\n",
      "52229 MB RAM detected; reserving 26114 MB for main workspace.\n",
      "75624 variants loaded from .bim file.\n",
      "2504 people (0 males, 0 females, 2504 ambiguous) loaded from .fam.\n",
      "Ambiguous sex IDs written to MEP1B.nosex .\n",
      "Using 1 thread (no multithreaded calculations invoked).\n",
      "Before main variant filters, 2504 founders and 0 nonfounders present.\n",
      "Calculating allele frequencies... 10111213141516171819202122232425262728293031323334353637383940414243444546474849505152535455565758596061626364656667686970717273747576777879808182838485868788899091929394959697989 done.\n",
      "Total genotyping rate is 0.999812.\n",
      "75624 variants and 2504 people pass filters and QC.\n",
      "Note: No phenotypes present.\n",
      "--score: 7 valid predictors loaded.\n",
      "--score: Results written to MEP1B.profile .\n"
     ]
    }
   ],
   "source": [
    "cat(system('\n",
    "plink --bfile data/autosomal.forPRS --score CAD.score --out CAD\n",
    "plink --bfile data/autosomal.forPRS --score MEP1B.score --out MEP1B\n",
    "', intern=T), sep=\"\\n\")"
   ]
  },
  {
   "cell_type": "markdown",
   "id": "51bbae86",
   "metadata": {},
   "source": [
    "#### Visualising scores\n",
    "\n",
    "**Question 8:** Visualise the distributions of scores for the two scores you have just calculated. Comment on the distribution shape for both scores."
   ]
  },
  {
   "cell_type": "code",
   "execution_count": 18,
   "id": "0b59b451",
   "metadata": {
    "ExecuteTime": {
     "end_time": "2021-11-23T10:01:08.353232Z",
     "start_time": "2021-11-23T10:01:06.747Z"
    }
   },
   "outputs": [
    {
     "data": {
      "image/png": "[encoded data removed]",
      "text/plain": [
       "Plot with title \"CAD score\""
      ]
     },
     "metadata": {
      "image/png": {
       "height": 420,
       "width": 900
      }
     },
     "output_type": "display_data"
    },
    {
     "data": {
      "image/png": "[encoded data removed]",
      "text/plain": [
       "Plot with title \"MEP1B protein score\""
      ]
     },
     "metadata": {
      "image/png": {
       "height": 420,
       "width": 900
      }
     },
     "output_type": "display_data"
    }
   ],
   "source": [
    "cadsc=fread(\"CAD.profile\")\n",
    "options(repr.plot.width=15)\n",
    "hist(cadsc$SCORE, breaks=61, main=\"CAD score\")\n",
    "mepsc=fread(\"MEP1B.profile\")\n",
    "hist(mepsc$SCORE, breaks=41, main=\"MEP1B protein score\")"
   ]
  },
  {
   "cell_type": "markdown",
   "id": "8bc99556-1016-4b6e-b82d-61f182ef1d0e",
   "metadata": {},
   "source": [
    "The MEP1B score is much less well-behaved and deviates markedly from the normal assumption."
   ]
  },
  {
   "cell_type": "markdown",
   "id": "869ac4c7",
   "metadata": {},
   "source": [
    "### Method 2: Manually applying scores (bonus section, only if you are proficient with data.table and/or data wrangling in R)\n",
    "\n",
    "We do not exactly know what PLINK did for us. We can repeat the process manually using R data.table's data manipulation tools.\n",
    "\n",
    "**Question 9:** Load the `autosomal.forPRS.mx.traw` file. It is a matrix of genotypes with positions as rows and samples as columns. There are 7 \"header\" columns describing each position. For each score, restrict the dataframe to the positions in the score file, then apply an element-wise multiplication column by column, and sum the weighted genotypes: $score_j=\\sum_{i \\in SNPs}w_i*g_i$ where $i$ denotes SNPs and $j$ denotes individuals. For the CAD score, beware that the score file and genotype file do not contain the same variants, and that alleles may be different even if they are present."
   ]
  },
  {
   "cell_type": "code",
   "execution_count": 19,
   "id": "136fee10",
   "metadata": {
    "ExecuteTime": {
     "end_time": "2021-11-23T10:01:28.368632Z",
     "start_time": "2021-11-23T10:01:24.409Z"
    }
   },
   "outputs": [],
   "source": [
    "genos=fread(\"data/autosomal.forPRS.mx.traw\")\n",
    "famfile=fread(\"data/PRS.course.testset.fam\")\n",
    "tokeep=paste(famfile$V1, famfile$V2, sep=\"_\")\n",
    "tokeep=c(colnames(genos)[1:6], tokeep)\n",
    "genos=genos[,..tokeep]\n"
   ]
  },
  {
   "cell_type": "code",
   "execution_count": 20,
   "id": "51f75d4e",
   "metadata": {
    "ExecuteTime": {
     "end_time": "2021-11-23T10:01:31.797193Z",
     "start_time": "2021-11-23T10:01:29.260Z"
    }
   },
   "outputs": [
    {
     "data": {
      "text/html": [
       "<table class=\"dataframe\">\n",
       "<caption>A data.table: 6 x 1006</caption>\n",
       "<thead>\n",
       "\t<tr><th scope=col>CHR</th><th scope=col>SNP</th><th scope=col>(C)M</th><th scope=col>POS</th><th scope=col>COUNTED</th><th scope=col>ALT</th><th scope=col>HG00100_HG00100</th><th scope=col>HG00101_HG00101</th><th scope=col>HG00107_HG00107</th><th scope=col>HG00110_HG00110</th><th scope=col>...</th><th scope=col>NA21110_NA21110</th><th scope=col>NA21112_NA21112</th><th scope=col>NA21114_NA21114</th><th scope=col>NA21119_NA21119</th><th scope=col>NA21123_NA21123</th><th scope=col>NA21124_NA21124</th><th scope=col>NA21127_NA21127</th><th scope=col>NA21129_NA21129</th><th scope=col>NA21133_NA21133</th><th scope=col>NA21141_NA21141</th></tr>\n",
       "\t<tr><th scope=col>&lt;int&gt;</th><th scope=col>&lt;chr&gt;</th><th scope=col>&lt;int&gt;</th><th scope=col>&lt;int&gt;</th><th scope=col>&lt;chr&gt;</th><th scope=col>&lt;chr&gt;</th><th scope=col>&lt;int&gt;</th><th scope=col>&lt;int&gt;</th><th scope=col>&lt;int&gt;</th><th scope=col>&lt;int&gt;</th><th scope=col>...</th><th scope=col>&lt;int&gt;</th><th scope=col>&lt;int&gt;</th><th scope=col>&lt;int&gt;</th><th scope=col>&lt;int&gt;</th><th scope=col>&lt;int&gt;</th><th scope=col>&lt;int&gt;</th><th scope=col>&lt;int&gt;</th><th scope=col>&lt;int&gt;</th><th scope=col>&lt;int&gt;</th><th scope=col>&lt;int&gt;</th></tr>\n",
       "</thead>\n",
       "<tbody>\n",
       "\t<tr><td>1</td><td>chr1:1023851</td><td>0</td><td>1023851</td><td>A</td><td>G</td><td>1</td><td>1</td><td>0</td><td>1</td><td>...</td><td>1</td><td>1</td><td>1</td><td>1</td><td>1</td><td>0</td><td>0</td><td>2</td><td>0</td><td>2</td></tr>\n",
       "\t<tr><td>1</td><td>chr1:1184478</td><td>0</td><td>1184478</td><td>T</td><td>C</td><td>0</td><td>0</td><td>1</td><td>0</td><td>...</td><td>1</td><td>0</td><td>0</td><td>0</td><td>0</td><td>0</td><td>1</td><td>1</td><td>0</td><td>1</td></tr>\n",
       "\t<tr><td>1</td><td>chr1:1186644</td><td>0</td><td>1186644</td><td>C</td><td>T</td><td>0</td><td>0</td><td>0</td><td>0</td><td>...</td><td>1</td><td>0</td><td>2</td><td>1</td><td>0</td><td>1</td><td>0</td><td>0</td><td>1</td><td>1</td></tr>\n",
       "\t<tr><td>1</td><td>chr1:1219478</td><td>0</td><td>1219478</td><td>T</td><td>C</td><td>0</td><td>0</td><td>0</td><td>0</td><td>...</td><td>0</td><td>0</td><td>0</td><td>0</td><td>0</td><td>0</td><td>0</td><td>0</td><td>0</td><td>0</td></tr>\n",
       "\t<tr><td>1</td><td>chr1:1236037</td><td>0</td><td>1236037</td><td>C</td><td>T</td><td>1</td><td>2</td><td>1</td><td>2</td><td>...</td><td>0</td><td>1</td><td>0</td><td>1</td><td>1</td><td>0</td><td>0</td><td>0</td><td>0</td><td>0</td></tr>\n",
       "\t<tr><td>1</td><td>chr1:1274972</td><td>0</td><td>1274972</td><td>G</td><td>A</td><td>0</td><td>0</td><td>1</td><td>0</td><td>...</td><td>1</td><td>1</td><td>2</td><td>0</td><td>0</td><td>2</td><td>2</td><td>1</td><td>1</td><td>1</td></tr>\n",
       "</tbody>\n",
       "</table>\n"
      ],
      "text/latex": [
       "A data.table: 6 x 1006\n",
       "\\begin{tabular}{lllllllllllllllllllll}\n",
       " CHR & SNP & (C)M & POS & COUNTED & ALT & HG00100\\_HG00100 & HG00101\\_HG00101 & HG00107\\_HG00107 & HG00110\\_HG00110 & ... & NA21110\\_NA21110 & NA21112\\_NA21112 & NA21114\\_NA21114 & NA21119\\_NA21119 & NA21123\\_NA21123 & NA21124\\_NA21124 & NA21127\\_NA21127 & NA21129\\_NA21129 & NA21133\\_NA21133 & NA21141\\_NA21141\\\\\n",
       " <int> & <chr> & <int> & <int> & <chr> & <chr> & <int> & <int> & <int> & <int> & ... & <int> & <int> & <int> & <int> & <int> & <int> & <int> & <int> & <int> & <int>\\\\\n",
       "\\hline\n",
       "\t 1 & chr1:1023851 & 0 & 1023851 & A & G & 1 & 1 & 0 & 1 & ... & 1 & 1 & 1 & 1 & 1 & 0 & 0 & 2 & 0 & 2\\\\\n",
       "\t 1 & chr1:1184478 & 0 & 1184478 & T & C & 0 & 0 & 1 & 0 & ... & 1 & 0 & 0 & 0 & 0 & 0 & 1 & 1 & 0 & 1\\\\\n",
       "\t 1 & chr1:1186644 & 0 & 1186644 & C & T & 0 & 0 & 0 & 0 & ... & 1 & 0 & 2 & 1 & 0 & 1 & 0 & 0 & 1 & 1\\\\\n",
       "\t 1 & chr1:1219478 & 0 & 1219478 & T & C & 0 & 0 & 0 & 0 & ... & 0 & 0 & 0 & 0 & 0 & 0 & 0 & 0 & 0 & 0\\\\\n",
       "\t 1 & chr1:1236037 & 0 & 1236037 & C & T & 1 & 2 & 1 & 2 & ... & 0 & 1 & 0 & 1 & 1 & 0 & 0 & 0 & 0 & 0\\\\\n",
       "\t 1 & chr1:1274972 & 0 & 1274972 & G & A & 0 & 0 & 1 & 0 & ... & 1 & 1 & 2 & 0 & 0 & 2 & 2 & 1 & 1 & 1\\\\\n",
       "\\end{tabular}\n"
      ],
      "text/markdown": [
       "\n",
       "A data.table: 6 x 1006\n",
       "\n",
       "| CHR &lt;int&gt; | SNP &lt;chr&gt; | (C)M &lt;int&gt; | POS &lt;int&gt; | COUNTED &lt;chr&gt; | ALT &lt;chr&gt; | HG00100_HG00100 &lt;int&gt; | HG00101_HG00101 &lt;int&gt; | HG00107_HG00107 &lt;int&gt; | HG00110_HG00110 &lt;int&gt; | ... ... | NA21110_NA21110 &lt;int&gt; | NA21112_NA21112 &lt;int&gt; | NA21114_NA21114 &lt;int&gt; | NA21119_NA21119 &lt;int&gt; | NA21123_NA21123 &lt;int&gt; | NA21124_NA21124 &lt;int&gt; | NA21127_NA21127 &lt;int&gt; | NA21129_NA21129 &lt;int&gt; | NA21133_NA21133 &lt;int&gt; | NA21141_NA21141 &lt;int&gt; |\n",
       "|---|---|---|---|---|---|---|---|---|---|---|---|---|---|---|---|---|---|---|---|---|\n",
       "| 1 | chr1:1023851 | 0 | 1023851 | A | G | 1 | 1 | 0 | 1 | ... | 1 | 1 | 1 | 1 | 1 | 0 | 0 | 2 | 0 | 2 |\n",
       "| 1 | chr1:1184478 | 0 | 1184478 | T | C | 0 | 0 | 1 | 0 | ... | 1 | 0 | 0 | 0 | 0 | 0 | 1 | 1 | 0 | 1 |\n",
       "| 1 | chr1:1186644 | 0 | 1186644 | C | T | 0 | 0 | 0 | 0 | ... | 1 | 0 | 2 | 1 | 0 | 1 | 0 | 0 | 1 | 1 |\n",
       "| 1 | chr1:1219478 | 0 | 1219478 | T | C | 0 | 0 | 0 | 0 | ... | 0 | 0 | 0 | 0 | 0 | 0 | 0 | 0 | 0 | 0 |\n",
       "| 1 | chr1:1236037 | 0 | 1236037 | C | T | 1 | 2 | 1 | 2 | ... | 0 | 1 | 0 | 1 | 1 | 0 | 0 | 0 | 0 | 0 |\n",
       "| 1 | chr1:1274972 | 0 | 1274972 | G | A | 0 | 0 | 1 | 0 | ... | 1 | 1 | 2 | 0 | 0 | 2 | 2 | 1 | 1 | 1 |\n",
       "\n"
      ],
      "text/plain": [
       "  CHR SNP          (C)M POS     COUNTED ALT HG00100_HG00100 HG00101_HG00101\n",
       "1 1   chr1:1023851 0    1023851 A       G   1               1              \n",
       "2 1   chr1:1184478 0    1184478 T       C   0               0              \n",
       "3 1   chr1:1186644 0    1186644 C       T   0               0              \n",
       "4 1   chr1:1219478 0    1219478 T       C   0               0              \n",
       "5 1   chr1:1236037 0    1236037 C       T   1               2              \n",
       "6 1   chr1:1274972 0    1274972 G       A   0               0              \n",
       "  HG00107_HG00107 HG00110_HG00110 ... NA21110_NA21110 NA21112_NA21112\n",
       "1 0               1               ... 1               1              \n",
       "2 1               0               ... 1               0              \n",
       "3 0               0               ... 1               0              \n",
       "4 0               0               ... 0               0              \n",
       "5 1               2               ... 0               1              \n",
       "6 1               0               ... 1               1              \n",
       "  NA21114_NA21114 NA21119_NA21119 NA21123_NA21123 NA21124_NA21124\n",
       "1 1               1               1               0              \n",
       "2 0               0               0               0              \n",
       "3 2               1               0               1              \n",
       "4 0               0               0               0              \n",
       "5 0               1               1               0              \n",
       "6 2               0               0               2              \n",
       "  NA21127_NA21127 NA21129_NA21129 NA21133_NA21133 NA21141_NA21141\n",
       "1 0               2               0               2              \n",
       "2 1               1               0               1              \n",
       "3 0               0               1               1              \n",
       "4 0               0               0               0              \n",
       "5 0               0               0               0              \n",
       "6 2               1               1               1              "
      ]
     },
     "metadata": {},
     "output_type": "display_data"
    }
   ],
   "source": [
    "head(genos)"
   ]
  },
  {
   "cell_type": "code",
   "execution_count": 21,
   "id": "eadcd86c",
   "metadata": {
    "ExecuteTime": {
     "end_time": "2021-11-23T10:01:33.956257Z",
     "start_time": "2021-11-23T10:01:32.593Z"
    }
   },
   "outputs": [],
   "source": [
    "spnames=colnames(genos)[7:ncol(genos)]"
   ]
  },
  {
   "cell_type": "code",
   "execution_count": 22,
   "id": "8cc84e2e",
   "metadata": {
    "ExecuteTime": {
     "start_time": "2021-11-23T10:01:37.401Z"
    }
   },
   "outputs": [],
   "source": [
    "mepg=genos[SNP %in% mepscore$id]"
   ]
  },
  {
   "cell_type": "code",
   "execution_count": 23,
   "id": "9df3dc6e",
   "metadata": {
    "ExecuteTime": {
     "start_time": "2021-11-23T09:59:20.834Z"
    }
   },
   "outputs": [
    {
     "data": {
      "text/html": [
       "<table class=\"dataframe\">\n",
       "<caption>A data.table: 7 x 1006</caption>\n",
       "<thead>\n",
       "\t<tr><th scope=col>CHR</th><th scope=col>SNP</th><th scope=col>(C)M</th><th scope=col>POS</th><th scope=col>COUNTED</th><th scope=col>ALT</th><th scope=col>HG00100_HG00100</th><th scope=col>HG00101_HG00101</th><th scope=col>HG00107_HG00107</th><th scope=col>HG00110_HG00110</th><th scope=col>...</th><th scope=col>NA21110_NA21110</th><th scope=col>NA21112_NA21112</th><th scope=col>NA21114_NA21114</th><th scope=col>NA21119_NA21119</th><th scope=col>NA21123_NA21123</th><th scope=col>NA21124_NA21124</th><th scope=col>NA21127_NA21127</th><th scope=col>NA21129_NA21129</th><th scope=col>NA21133_NA21133</th><th scope=col>NA21141_NA21141</th></tr>\n",
       "\t<tr><th scope=col>&lt;int&gt;</th><th scope=col>&lt;chr&gt;</th><th scope=col>&lt;int&gt;</th><th scope=col>&lt;int&gt;</th><th scope=col>&lt;chr&gt;</th><th scope=col>&lt;chr&gt;</th><th scope=col>&lt;int&gt;</th><th scope=col>&lt;int&gt;</th><th scope=col>&lt;int&gt;</th><th scope=col>&lt;int&gt;</th><th scope=col>...</th><th scope=col>&lt;int&gt;</th><th scope=col>&lt;int&gt;</th><th scope=col>&lt;int&gt;</th><th scope=col>&lt;int&gt;</th><th scope=col>&lt;int&gt;</th><th scope=col>&lt;int&gt;</th><th scope=col>&lt;int&gt;</th><th scope=col>&lt;int&gt;</th><th scope=col>&lt;int&gt;</th><th scope=col>&lt;int&gt;</th></tr>\n",
       "</thead>\n",
       "<tbody>\n",
       "\t<tr><td>18</td><td>chr18:32038169</td><td>0</td><td>32038169</td><td>T</td><td>C</td><td>2</td><td>1</td><td>2</td><td>2</td><td>...</td><td>0</td><td>0</td><td>1</td><td>2</td><td>0</td><td>0</td><td>0</td><td>1</td><td>1</td><td>0</td></tr>\n",
       "\t<tr><td>18</td><td>chr18:32067215</td><td>0</td><td>32067215</td><td>C</td><td>T</td><td>0</td><td>0</td><td>0</td><td>0</td><td>...</td><td>0</td><td>0</td><td>0</td><td>0</td><td>0</td><td>0</td><td>0</td><td>0</td><td>0</td><td>0</td></tr>\n",
       "\t<tr><td>18</td><td>chr18:32208550</td><td>0</td><td>32208550</td><td>G</td><td>C</td><td>0</td><td>0</td><td>1</td><td>2</td><td>...</td><td>0</td><td>0</td><td>1</td><td>0</td><td>0</td><td>1</td><td>0</td><td>1</td><td>0</td><td>0</td></tr>\n",
       "\t<tr><td>18</td><td>chr18:32224458</td><td>0</td><td>32224458</td><td>T</td><td>C</td><td>0</td><td>0</td><td>0</td><td>0</td><td>...</td><td>0</td><td>0</td><td>0</td><td>1</td><td>0</td><td>0</td><td>0</td><td>0</td><td>0</td><td>0</td></tr>\n",
       "\t<tr><td>18</td><td>chr18:32224900</td><td>0</td><td>32224900</td><td>A</td><td>T</td><td>0</td><td>2</td><td>1</td><td>2</td><td>...</td><td>2</td><td>1</td><td>1</td><td>1</td><td>0</td><td>2</td><td>0</td><td>1</td><td>2</td><td>0</td></tr>\n",
       "\t<tr><td>18</td><td>chr18:32317264</td><td>0</td><td>32317264</td><td>C</td><td>G</td><td>0</td><td>1</td><td>0</td><td>0</td><td>...</td><td>0</td><td>0</td><td>1</td><td>0</td><td>0</td><td>0</td><td>0</td><td>1</td><td>0</td><td>0</td></tr>\n",
       "\t<tr><td>18</td><td>chr18:32337385</td><td>0</td><td>32337385</td><td>C</td><td>T</td><td>1</td><td>1</td><td>1</td><td>2</td><td>...</td><td>1</td><td>1</td><td>1</td><td>1</td><td>1</td><td>1</td><td>2</td><td>1</td><td>0</td><td>1</td></tr>\n",
       "</tbody>\n",
       "</table>\n"
      ],
      "text/latex": [
       "A data.table: 7 x 1006\n",
       "\\begin{tabular}{lllllllllllllllllllll}\n",
       " CHR & SNP & (C)M & POS & COUNTED & ALT & HG00100\\_HG00100 & HG00101\\_HG00101 & HG00107\\_HG00107 & HG00110\\_HG00110 & ... & NA21110\\_NA21110 & NA21112\\_NA21112 & NA21114\\_NA21114 & NA21119\\_NA21119 & NA21123\\_NA21123 & NA21124\\_NA21124 & NA21127\\_NA21127 & NA21129\\_NA21129 & NA21133\\_NA21133 & NA21141\\_NA21141\\\\\n",
       " <int> & <chr> & <int> & <int> & <chr> & <chr> & <int> & <int> & <int> & <int> & ... & <int> & <int> & <int> & <int> & <int> & <int> & <int> & <int> & <int> & <int>\\\\\n",
       "\\hline\n",
       "\t 18 & chr18:32038169 & 0 & 32038169 & T & C & 2 & 1 & 2 & 2 & ... & 0 & 0 & 1 & 2 & 0 & 0 & 0 & 1 & 1 & 0\\\\\n",
       "\t 18 & chr18:32067215 & 0 & 32067215 & C & T & 0 & 0 & 0 & 0 & ... & 0 & 0 & 0 & 0 & 0 & 0 & 0 & 0 & 0 & 0\\\\\n",
       "\t 18 & chr18:32208550 & 0 & 32208550 & G & C & 0 & 0 & 1 & 2 & ... & 0 & 0 & 1 & 0 & 0 & 1 & 0 & 1 & 0 & 0\\\\\n",
       "\t 18 & chr18:32224458 & 0 & 32224458 & T & C & 0 & 0 & 0 & 0 & ... & 0 & 0 & 0 & 1 & 0 & 0 & 0 & 0 & 0 & 0\\\\\n",
       "\t 18 & chr18:32224900 & 0 & 32224900 & A & T & 0 & 2 & 1 & 2 & ... & 2 & 1 & 1 & 1 & 0 & 2 & 0 & 1 & 2 & 0\\\\\n",
       "\t 18 & chr18:32317264 & 0 & 32317264 & C & G & 0 & 1 & 0 & 0 & ... & 0 & 0 & 1 & 0 & 0 & 0 & 0 & 1 & 0 & 0\\\\\n",
       "\t 18 & chr18:32337385 & 0 & 32337385 & C & T & 1 & 1 & 1 & 2 & ... & 1 & 1 & 1 & 1 & 1 & 1 & 2 & 1 & 0 & 1\\\\\n",
       "\\end{tabular}\n"
      ],
      "text/markdown": [
       "\n",
       "A data.table: 7 x 1006\n",
       "\n",
       "| CHR &lt;int&gt; | SNP &lt;chr&gt; | (C)M &lt;int&gt; | POS &lt;int&gt; | COUNTED &lt;chr&gt; | ALT &lt;chr&gt; | HG00100_HG00100 &lt;int&gt; | HG00101_HG00101 &lt;int&gt; | HG00107_HG00107 &lt;int&gt; | HG00110_HG00110 &lt;int&gt; | ... ... | NA21110_NA21110 &lt;int&gt; | NA21112_NA21112 &lt;int&gt; | NA21114_NA21114 &lt;int&gt; | NA21119_NA21119 &lt;int&gt; | NA21123_NA21123 &lt;int&gt; | NA21124_NA21124 &lt;int&gt; | NA21127_NA21127 &lt;int&gt; | NA21129_NA21129 &lt;int&gt; | NA21133_NA21133 &lt;int&gt; | NA21141_NA21141 &lt;int&gt; |\n",
       "|---|---|---|---|---|---|---|---|---|---|---|---|---|---|---|---|---|---|---|---|---|\n",
       "| 18 | chr18:32038169 | 0 | 32038169 | T | C | 2 | 1 | 2 | 2 | ... | 0 | 0 | 1 | 2 | 0 | 0 | 0 | 1 | 1 | 0 |\n",
       "| 18 | chr18:32067215 | 0 | 32067215 | C | T | 0 | 0 | 0 | 0 | ... | 0 | 0 | 0 | 0 | 0 | 0 | 0 | 0 | 0 | 0 |\n",
       "| 18 | chr18:32208550 | 0 | 32208550 | G | C | 0 | 0 | 1 | 2 | ... | 0 | 0 | 1 | 0 | 0 | 1 | 0 | 1 | 0 | 0 |\n",
       "| 18 | chr18:32224458 | 0 | 32224458 | T | C | 0 | 0 | 0 | 0 | ... | 0 | 0 | 0 | 1 | 0 | 0 | 0 | 0 | 0 | 0 |\n",
       "| 18 | chr18:32224900 | 0 | 32224900 | A | T | 0 | 2 | 1 | 2 | ... | 2 | 1 | 1 | 1 | 0 | 2 | 0 | 1 | 2 | 0 |\n",
       "| 18 | chr18:32317264 | 0 | 32317264 | C | G | 0 | 1 | 0 | 0 | ... | 0 | 0 | 1 | 0 | 0 | 0 | 0 | 1 | 0 | 0 |\n",
       "| 18 | chr18:32337385 | 0 | 32337385 | C | T | 1 | 1 | 1 | 2 | ... | 1 | 1 | 1 | 1 | 1 | 1 | 2 | 1 | 0 | 1 |\n",
       "\n"
      ],
      "text/plain": [
       "  CHR SNP            (C)M POS      COUNTED ALT HG00100_HG00100 HG00101_HG00101\n",
       "1 18  chr18:32038169 0    32038169 T       C   2               1              \n",
       "2 18  chr18:32067215 0    32067215 C       T   0               0              \n",
       "3 18  chr18:32208550 0    32208550 G       C   0               0              \n",
       "4 18  chr18:32224458 0    32224458 T       C   0               0              \n",
       "5 18  chr18:32224900 0    32224900 A       T   0               2              \n",
       "6 18  chr18:32317264 0    32317264 C       G   0               1              \n",
       "7 18  chr18:32337385 0    32337385 C       T   1               1              \n",
       "  HG00107_HG00107 HG00110_HG00110 ... NA21110_NA21110 NA21112_NA21112\n",
       "1 2               2               ... 0               0              \n",
       "2 0               0               ... 0               0              \n",
       "3 1               2               ... 0               0              \n",
       "4 0               0               ... 0               0              \n",
       "5 1               2               ... 2               1              \n",
       "6 0               0               ... 0               0              \n",
       "7 1               2               ... 1               1              \n",
       "  NA21114_NA21114 NA21119_NA21119 NA21123_NA21123 NA21124_NA21124\n",
       "1 1               2               0               0              \n",
       "2 0               0               0               0              \n",
       "3 1               0               0               1              \n",
       "4 0               1               0               0              \n",
       "5 1               1               0               2              \n",
       "6 1               0               0               0              \n",
       "7 1               1               1               1              \n",
       "  NA21127_NA21127 NA21129_NA21129 NA21133_NA21133 NA21141_NA21141\n",
       "1 0               1               1               0              \n",
       "2 0               0               0               0              \n",
       "3 0               1               0               0              \n",
       "4 0               0               0               0              \n",
       "5 0               1               2               0              \n",
       "6 0               1               0               0              \n",
       "7 2               1               0               1              "
      ]
     },
     "metadata": {},
     "output_type": "display_data"
    }
   ],
   "source": [
    "mepg"
   ]
  },
  {
   "cell_type": "code",
   "execution_count": 24,
   "id": "18b505e5",
   "metadata": {
    "ExecuteTime": {
     "end_time": "2021-11-23T09:50:37.433719Z",
     "start_time": "2021-11-23T09:50:36.082Z"
    }
   },
   "outputs": [
    {
     "data": {
      "text/html": [
       "<table class=\"dataframe\">\n",
       "<caption>A data.table: 7 x 6</caption>\n",
       "<thead>\n",
       "\t<tr><th scope=col>chr</th><th scope=col>pos</th><th scope=col>A1</th><th scope=col>A2</th><th scope=col>effect</th><th scope=col>id</th></tr>\n",
       "\t<tr><th scope=col>&lt;int&gt;</th><th scope=col>&lt;int&gt;</th><th scope=col>&lt;chr&gt;</th><th scope=col>&lt;chr&gt;</th><th scope=col>&lt;dbl&gt;</th><th scope=col>&lt;chr&gt;</th></tr>\n",
       "</thead>\n",
       "<tbody>\n",
       "\t<tr><td>18</td><td>32038169</td><td>T</td><td>C</td><td>-0.2891709</td><td>chr18:32038169</td></tr>\n",
       "\t<tr><td>18</td><td>32067215</td><td>C</td><td>T</td><td> 0.4230704</td><td>chr18:32067215</td></tr>\n",
       "\t<tr><td>18</td><td>32208550</td><td>G</td><td>C</td><td>-0.6470447</td><td>chr18:32208550</td></tr>\n",
       "\t<tr><td>18</td><td>32224458</td><td>T</td><td>C</td><td>-0.6871607</td><td>chr18:32224458</td></tr>\n",
       "\t<tr><td>18</td><td>32224900</td><td>A</td><td>T</td><td>-1.0701130</td><td>chr18:32224900</td></tr>\n",
       "\t<tr><td>18</td><td>32317264</td><td>C</td><td>G</td><td>-0.5560340</td><td>chr18:32317264</td></tr>\n",
       "\t<tr><td>18</td><td>32337385</td><td>C</td><td>T</td><td> 0.3294772</td><td>chr18:32337385</td></tr>\n",
       "</tbody>\n",
       "</table>\n"
      ],
      "text/latex": [
       "A data.table: 7 x 6\n",
       "\\begin{tabular}{llllll}\n",
       " chr & pos & A1 & A2 & effect & id\\\\\n",
       " <int> & <int> & <chr> & <chr> & <dbl> & <chr>\\\\\n",
       "\\hline\n",
       "\t 18 & 32038169 & T & C & -0.2891709 & chr18:32038169\\\\\n",
       "\t 18 & 32067215 & C & T &  0.4230704 & chr18:32067215\\\\\n",
       "\t 18 & 32208550 & G & C & -0.6470447 & chr18:32208550\\\\\n",
       "\t 18 & 32224458 & T & C & -0.6871607 & chr18:32224458\\\\\n",
       "\t 18 & 32224900 & A & T & -1.0701130 & chr18:32224900\\\\\n",
       "\t 18 & 32317264 & C & G & -0.5560340 & chr18:32317264\\\\\n",
       "\t 18 & 32337385 & C & T &  0.3294772 & chr18:32337385\\\\\n",
       "\\end{tabular}\n"
      ],
      "text/markdown": [
       "\n",
       "A data.table: 7 x 6\n",
       "\n",
       "| chr &lt;int&gt; | pos &lt;int&gt; | A1 &lt;chr&gt; | A2 &lt;chr&gt; | effect &lt;dbl&gt; | id &lt;chr&gt; |\n",
       "|---|---|---|---|---|---|\n",
       "| 18 | 32038169 | T | C | -0.2891709 | chr18:32038169 |\n",
       "| 18 | 32067215 | C | T |  0.4230704 | chr18:32067215 |\n",
       "| 18 | 32208550 | G | C | -0.6470447 | chr18:32208550 |\n",
       "| 18 | 32224458 | T | C | -0.6871607 | chr18:32224458 |\n",
       "| 18 | 32224900 | A | T | -1.0701130 | chr18:32224900 |\n",
       "| 18 | 32317264 | C | G | -0.5560340 | chr18:32317264 |\n",
       "| 18 | 32337385 | C | T |  0.3294772 | chr18:32337385 |\n",
       "\n"
      ],
      "text/plain": [
       "  chr pos      A1 A2 effect     id            \n",
       "1 18  32038169 T  C  -0.2891709 chr18:32038169\n",
       "2 18  32067215 C  T   0.4230704 chr18:32067215\n",
       "3 18  32208550 G  C  -0.6470447 chr18:32208550\n",
       "4 18  32224458 T  C  -0.6871607 chr18:32224458\n",
       "5 18  32224900 A  T  -1.0701130 chr18:32224900\n",
       "6 18  32317264 C  G  -0.5560340 chr18:32317264\n",
       "7 18  32337385 C  T   0.3294772 chr18:32337385"
      ]
     },
     "metadata": {},
     "output_type": "display_data"
    }
   ],
   "source": [
    "mepscore"
   ]
  },
  {
   "cell_type": "code",
   "execution_count": 25,
   "id": "0b67cd70",
   "metadata": {
    "ExecuteTime": {
     "end_time": "2021-11-23T09:53:37.051146Z",
     "start_time": "2021-11-23T09:53:35.595Z"
    }
   },
   "outputs": [],
   "source": [
    "mepg=colSums(mepg[,lapply(.SD, function(x) x*mepscore$effect), .SDcol=spnames])"
   ]
  },
  {
   "cell_type": "code",
   "execution_count": 26,
   "id": "d76b5e62",
   "metadata": {
    "ExecuteTime": {
     "end_time": "2021-11-23T09:53:53.393282Z",
     "start_time": "2021-11-23T09:53:51.973Z"
    }
   },
   "outputs": [
    {
     "data": {
      "image/png": "[encoded data removed]",
      "text/plain": [
       "Plot with title \"Histogram of mepg\""
      ]
     },
     "metadata": {
      "image/png": {
       "height": 420,
       "width": 900
      }
     },
     "output_type": "display_data"
    }
   ],
   "source": [
    "hist(mepg, breaks=41)"
   ]
  },
  {
   "cell_type": "markdown",
   "id": "e9e0e703",
   "metadata": {
    "ExecuteTime": {
     "start_time": "2021-11-23T09:54:46.899Z"
    }
   },
   "source": [
    "<div class=\"alert alert-warning\"> You might be thinking of <code>cadg=genos[SNP %in% cadscore$id]</code> which usually works. But this binder has very low memory, so a merge is more efficient. Don't forget to <code>gc()</code> from time to time to free up memory."
   ]
  },
  {
   "cell_type": "code",
   "execution_count": 27,
   "id": "a3c95ea8",
   "metadata": {},
   "outputs": [],
   "source": [
    "cadg=merge(cadscore, genos, by.x=\"id\", by.y=\"SNP\")"
   ]
  },
  {
   "cell_type": "code",
   "execution_count": 28,
   "id": "d013d4f9",
   "metadata": {},
   "outputs": [
    {
     "data": {
      "text/html": [
       "<table class=\"dataframe\">\n",
       "<caption>A matrix: 2 x 6 of type dbl</caption>\n",
       "<thead>\n",
       "\t<tr><th></th><th scope=col>used</th><th scope=col>(Mb)</th><th scope=col>gc trigger</th><th scope=col>(Mb)</th><th scope=col>max used</th><th scope=col>(Mb)</th></tr>\n",
       "</thead>\n",
       "<tbody>\n",
       "\t<tr><th scope=row>Ncells</th><td>  855474</td><td> 45.7</td><td>  1621800</td><td>  86.7</td><td>  1621800</td><td>  86.7</td></tr>\n",
       "\t<tr><th scope=row>Vcells</th><td>49957382</td><td>381.2</td><td>157730686</td><td>1203.4</td><td>157697146</td><td>1203.2</td></tr>\n",
       "</tbody>\n",
       "</table>\n"
      ],
      "text/latex": [
       "A matrix: 2 x 6 of type dbl\n",
       "\\begin{tabular}{r|llllll}\n",
       "  & used & (Mb) & gc trigger & (Mb) & max used & (Mb)\\\\\n",
       "\\hline\n",
       "\tNcells &   855474 &  45.7 &   1621800 &   86.7 &   1621800 &   86.7\\\\\n",
       "\tVcells & 49957382 & 381.2 & 157730686 & 1203.4 & 157697146 & 1203.2\\\\\n",
       "\\end{tabular}\n"
      ],
      "text/markdown": [
       "\n",
       "A matrix: 2 x 6 of type dbl\n",
       "\n",
       "| <!--/--> | used | (Mb) | gc trigger | (Mb) | max used | (Mb) |\n",
       "|---|---|---|---|---|---|---|\n",
       "| Ncells |   855474 |  45.7 |   1621800 |   86.7 |   1621800 |   86.7 |\n",
       "| Vcells | 49957382 | 381.2 | 157730686 | 1203.4 | 157697146 | 1203.2 |\n",
       "\n"
      ],
      "text/plain": [
       "       used     (Mb)  gc trigger (Mb)   max used  (Mb)  \n",
       "Ncells   855474  45.7   1621800    86.7   1621800   86.7\n",
       "Vcells 49957382 381.2 157730686  1203.4 157697146 1203.2"
      ]
     },
     "metadata": {},
     "output_type": "display_data"
    }
   ],
   "source": [
    "rm(genos)\n",
    "gc()"
   ]
  },
  {
   "cell_type": "code",
   "execution_count": 29,
   "id": "e41fdfce-0884-4ee5-9033-1ec7825ed41b",
   "metadata": {},
   "outputs": [],
   "source": [
    "cadg[,eff:=effect_weight]\n",
    "cadg[effect_allele==ALT,eff:=-1*eff]\n",
    "cadg=cadg[effect_allele==ALT | effect_allele == COUNTED]\n",
    "cadg=cadg[,lapply(.SD, function(x) sum(x*eff, na.rm=T)), .SDcol=spnames]"
   ]
  },
  {
   "cell_type": "code",
   "execution_count": 30,
   "id": "739d14a3-98b9-4d74-86ee-bdfef76a8485",
   "metadata": {},
   "outputs": [],
   "source": [
    "cadg=t(cadg)"
   ]
  },
  {
   "cell_type": "code",
   "execution_count": 31,
   "id": "540bae62-6318-460b-a7f8-268ed3b4a189",
   "metadata": {},
   "outputs": [],
   "source": [
    "cadg=data.table(id=rownames(cadg), CAD.manual=cadg)"
   ]
  },
  {
   "cell_type": "markdown",
   "id": "fb000579-0bf9-4bfb-836d-bdc6d9c33fef",
   "metadata": {},
   "source": [
    "**Question 10:** Merge all scores into a single dataframe, and compute the correlations between your scores and the ones calculated by PLINK. Where do you think the difference comes from?"
   ]
  },
  {
   "cell_type": "code",
   "execution_count": 32,
   "id": "7b5870b7-7599-4325-b365-82a3aafe0da6",
   "metadata": {},
   "outputs": [
    {
     "data": {
      "text/html": [
       "<table class=\"dataframe\">\n",
       "<caption>A data.table: 6 x 2</caption>\n",
       "<thead>\n",
       "\t<tr><th scope=col>id</th><th scope=col>MEP1B.manual</th></tr>\n",
       "\t<tr><th scope=col>&lt;chr&gt;</th><th scope=col>&lt;dbl&gt;</th></tr>\n",
       "</thead>\n",
       "<tbody>\n",
       "\t<tr><td>HG00100_HG00100</td><td>-0.2488646</td></tr>\n",
       "\t<tr><td>HG00101_HG00101</td><td>-2.6559537</td></tr>\n",
       "\t<tr><td>HG00107_HG00107</td><td>-1.9660223</td></tr>\n",
       "\t<tr><td>HG00110_HG00110</td><td>-3.3537028</td></tr>\n",
       "\t<tr><td>HG00113_HG00113</td><td>-1.1627703</td></tr>\n",
       "\t<tr><td>HG00114_HG00114</td><td>-1.0047261</td></tr>\n",
       "</tbody>\n",
       "</table>\n"
      ],
      "text/latex": [
       "A data.table: 6 x 2\n",
       "\\begin{tabular}{ll}\n",
       " id & MEP1B.manual\\\\\n",
       " <chr> & <dbl>\\\\\n",
       "\\hline\n",
       "\t HG00100\\_HG00100 & -0.2488646\\\\\n",
       "\t HG00101\\_HG00101 & -2.6559537\\\\\n",
       "\t HG00107\\_HG00107 & -1.9660223\\\\\n",
       "\t HG00110\\_HG00110 & -3.3537028\\\\\n",
       "\t HG00113\\_HG00113 & -1.1627703\\\\\n",
       "\t HG00114\\_HG00114 & -1.0047261\\\\\n",
       "\\end{tabular}\n"
      ],
      "text/markdown": [
       "\n",
       "A data.table: 6 x 2\n",
       "\n",
       "| id &lt;chr&gt; | MEP1B.manual &lt;dbl&gt; |\n",
       "|---|---|\n",
       "| HG00100_HG00100 | -0.2488646 |\n",
       "| HG00101_HG00101 | -2.6559537 |\n",
       "| HG00107_HG00107 | -1.9660223 |\n",
       "| HG00110_HG00110 | -3.3537028 |\n",
       "| HG00113_HG00113 | -1.1627703 |\n",
       "| HG00114_HG00114 | -1.0047261 |\n",
       "\n"
      ],
      "text/plain": [
       "  id              MEP1B.manual\n",
       "1 HG00100_HG00100 -0.2488646  \n",
       "2 HG00101_HG00101 -2.6559537  \n",
       "3 HG00107_HG00107 -1.9660223  \n",
       "4 HG00110_HG00110 -3.3537028  \n",
       "5 HG00113_HG00113 -1.1627703  \n",
       "6 HG00114_HG00114 -1.0047261  "
      ]
     },
     "metadata": {},
     "output_type": "display_data"
    }
   ],
   "source": [
    "mepg=data.table(id=names(mepg), MEP1B.manual=mepg)\n",
    "head(mepg)"
   ]
  },
  {
   "cell_type": "code",
   "execution_count": 33,
   "id": "144f0142-058e-4671-a487-0abe4be67dc9",
   "metadata": {},
   "outputs": [],
   "source": [
    "allscores=merge(mepg, cadg, by=\"id\")"
   ]
  },
  {
   "cell_type": "code",
   "execution_count": 34,
   "id": "9ac86e27-66c2-4ebe-a4e1-33f471b11c09",
   "metadata": {},
   "outputs": [],
   "source": [
    "allscores=merge(allscores, data.table(id=paste(cadsc$FID, cadsc$IID, sep=\"_\"), CAD=cadsc$SCORE), by=\"id\")"
   ]
  },
  {
   "cell_type": "code",
   "execution_count": 35,
   "id": "0eb458fd-57d9-4fa8-b478-5030db980bdf",
   "metadata": {},
   "outputs": [],
   "source": [
    "allscores=merge(allscores, data.table(id=paste(mepsc$FID, mepsc$IID, sep=\"_\"), MEP1B=mepsc$SCORE), by=\"id\")"
   ]
  },
  {
   "cell_type": "code",
   "execution_count": 36,
   "id": "c2a1f0a3-6ec6-468e-8101-2b1b90a7954a",
   "metadata": {},
   "outputs": [
    {
     "data": {
      "text/html": [
       "<table class=\"dataframe\">\n",
       "<caption>A matrix: 4 x 4 of type dbl</caption>\n",
       "<thead>\n",
       "\t<tr><th></th><th scope=col>MEP1B.manual</th><th scope=col>CAD.manual.V1</th><th scope=col>CAD</th><th scope=col>MEP1B</th></tr>\n",
       "</thead>\n",
       "<tbody>\n",
       "\t<tr><th scope=row>MEP1B.manual</th><td>1.0000000000</td><td>0.001015305</td><td>0.0008709215</td><td>1.0000000000</td></tr>\n",
       "\t<tr><th scope=row>CAD.manual.V1</th><td>0.0010153052</td><td>1.000000000</td><td>0.9999940156</td><td>0.0010154164</td></tr>\n",
       "\t<tr><th scope=row>CAD</th><td>0.0008709215</td><td>0.999994016</td><td>1.0000000000</td><td>0.0008710321</td></tr>\n",
       "\t<tr><th scope=row>MEP1B</th><td>1.0000000000</td><td>0.001015416</td><td>0.0008710321</td><td>1.0000000000</td></tr>\n",
       "</tbody>\n",
       "</table>\n"
      ],
      "text/latex": [
       "A matrix: 4 x 4 of type dbl\n",
       "\\begin{tabular}{r|llll}\n",
       "  & MEP1B.manual & CAD.manual.V1 & CAD & MEP1B\\\\\n",
       "\\hline\n",
       "\tMEP1B.manual & 1.0000000000 & 0.001015305 & 0.0008709215 & 1.0000000000\\\\\n",
       "\tCAD.manual.V1 & 0.0010153052 & 1.000000000 & 0.9999940156 & 0.0010154164\\\\\n",
       "\tCAD & 0.0008709215 & 0.999994016 & 1.0000000000 & 0.0008710321\\\\\n",
       "\tMEP1B & 1.0000000000 & 0.001015416 & 0.0008710321 & 1.0000000000\\\\\n",
       "\\end{tabular}\n"
      ],
      "text/markdown": [
       "\n",
       "A matrix: 4 x 4 of type dbl\n",
       "\n",
       "| <!--/--> | MEP1B.manual | CAD.manual.V1 | CAD | MEP1B |\n",
       "|---|---|---|---|---|\n",
       "| MEP1B.manual | 1.0000000000 | 0.001015305 | 0.0008709215 | 1.0000000000 |\n",
       "| CAD.manual.V1 | 0.0010153052 | 1.000000000 | 0.9999940156 | 0.0010154164 |\n",
       "| CAD | 0.0008709215 | 0.999994016 | 1.0000000000 | 0.0008710321 |\n",
       "| MEP1B | 1.0000000000 | 0.001015416 | 0.0008710321 | 1.0000000000 |\n",
       "\n"
      ],
      "text/plain": [
       "              MEP1B.manual CAD.manual.V1 CAD          MEP1B       \n",
       "MEP1B.manual  1.0000000000 0.001015305   0.0008709215 1.0000000000\n",
       "CAD.manual.V1 0.0010153052 1.000000000   0.9999940156 0.0010154164\n",
       "CAD           0.0008709215 0.999994016   1.0000000000 0.0008710321\n",
       "MEP1B         1.0000000000 0.001015416   0.0008710321 1.0000000000"
      ]
     },
     "metadata": {},
     "output_type": "display_data"
    }
   ],
   "source": [
    "cor(allscores[,-1])"
   ]
  },
  {
   "cell_type": "markdown",
   "id": "2b83aed7-a42d-48c3-b6d1-a079e454d1b8",
   "metadata": {},
   "source": [
    "We see a slight discrepancy between the manual and Plink-generated CAD scores. This is likely due to our imperfect allele matching, PLINK is more conservative as it only keeps variants where effect alleles concord."
   ]
  },
  {
   "cell_type": "markdown",
   "id": "ede949d6-715c-4036-acb8-be22691e3ad2",
   "metadata": {},
   "source": [
    "## Predictive accuracy of MEP1B levels and CAD events\n",
    "\n",
    "**Question 11:** Load the CAD and MEP1B phenotypes for these individuals in `data/CAD.phenotype` and `data/MEP1B.phenotype`. Compute the Pearson's correlation for MEP1B, and the odds ratio for people in the top vs bottom deciles of the distribution for CAD. What can you say about the predictive accuracy of both scores?\n"
   ]
  },
  {
   "cell_type": "code",
   "execution_count": 37,
   "id": "2d767f85-7719-4851-9c93-94c1ce18e26f",
   "metadata": {},
   "outputs": [],
   "source": [
    "rCAD=fread(\"data/CAD.phenotype\")\n",
    "rMEP=fread(\"data/MEP1B.phenotype\")"
   ]
  },
  {
   "cell_type": "code",
   "execution_count": 38,
   "id": "08eff578-25e8-42d2-a207-6093cde60323",
   "metadata": {},
   "outputs": [],
   "source": [
    "setnames(rCAD, c(\"id\", \"CADpheno\"))\n",
    "setnames(rMEP, c(\"id\", \"MEP1Bpheno\"))\n",
    "allscores=merge(allscores, rCAD, by=\"id\") \n",
    "allscores=merge(allscores, rMEP, by=\"id\")"
   ]
  },
  {
   "cell_type": "code",
   "execution_count": 39,
   "id": "3caeb8ca-62cb-4188-9c07-e1cdb3b88f15",
   "metadata": {},
   "outputs": [
    {
     "data": {
      "text/html": [
       "<table class=\"dataframe\">\n",
       "<caption>A matrix: 2 x 2 of type dbl</caption>\n",
       "<thead>\n",
       "\t<tr><th></th><th scope=col>MEP1B</th><th scope=col>MEP1Bpheno</th></tr>\n",
       "</thead>\n",
       "<tbody>\n",
       "\t<tr><th scope=row>MEP1B</th><td>1.0000000</td><td>0.4273652</td></tr>\n",
       "\t<tr><th scope=row>MEP1Bpheno</th><td>0.4273652</td><td>1.0000000</td></tr>\n",
       "</tbody>\n",
       "</table>\n"
      ],
      "text/latex": [
       "A matrix: 2 x 2 of type dbl\n",
       "\\begin{tabular}{r|ll}\n",
       "  & MEP1B & MEP1Bpheno\\\\\n",
       "\\hline\n",
       "\tMEP1B & 1.0000000 & 0.4273652\\\\\n",
       "\tMEP1Bpheno & 0.4273652 & 1.0000000\\\\\n",
       "\\end{tabular}\n"
      ],
      "text/markdown": [
       "\n",
       "A matrix: 2 x 2 of type dbl\n",
       "\n",
       "| <!--/--> | MEP1B | MEP1Bpheno |\n",
       "|---|---|---|\n",
       "| MEP1B | 1.0000000 | 0.4273652 |\n",
       "| MEP1Bpheno | 0.4273652 | 1.0000000 |\n",
       "\n"
      ],
      "text/plain": [
       "           MEP1B     MEP1Bpheno\n",
       "MEP1B      1.0000000 0.4273652 \n",
       "MEP1Bpheno 0.4273652 1.0000000 "
      ]
     },
     "metadata": {},
     "output_type": "display_data"
    }
   ],
   "source": [
    "cor(allscores[,c(\"MEP1B\", \"MEP1Bpheno\")])"
   ]
  },
  {
   "cell_type": "code",
   "execution_count": 40,
   "id": "34db6781-e809-4e57-bdec-e0174f8a84e2",
   "metadata": {},
   "outputs": [
    {
     "data": {
      "image/png": "[encoded data removed]",
      "text/plain": [
       "plot without title"
      ]
     },
     "metadata": {
      "image/png": {
       "height": 420,
       "width": 900
      }
     },
     "output_type": "display_data"
    }
   ],
   "source": [
    "plot(allscores$MEP1Bpheno, allscores$MEP1B, col=\"cornflowerblue\", pch=20)"
   ]
  },
  {
   "cell_type": "code",
   "execution_count": 41,
   "id": "ca5339fd-b5b3-4d3d-bcf7-2bde0b6d860e",
   "metadata": {},
   "outputs": [],
   "source": [
    "cadq=quantile(allscores$CAD, c(0.1, 0.9))\n"
   ]
  },
  {
   "cell_type": "code",
   "execution_count": 42,
   "id": "fdf87d31-b966-4838-997b-d15cb1bc67f9",
   "metadata": {},
   "outputs": [
    {
     "data": {
      "text/plain": [
       "\n",
       " 0  1 \n",
       "85 15 "
      ]
     },
     "metadata": {},
     "output_type": "display_data"
    },
    {
     "data": {
      "text/html": [
       "<strong>1:</strong> 0.176470588235294"
      ],
      "text/latex": [
       "\\textbf{1:} 0.176470588235294"
      ],
      "text/markdown": [
       "**1:** 0.176470588235294"
      ],
      "text/plain": [
       "        1 \n",
       "0.1764706 "
      ]
     },
     "metadata": {},
     "output_type": "display_data"
    }
   ],
   "source": [
    "ta=table(allscores[CAD<cadq[1]]$CADpheno)\n",
    "ta\n",
    "ta[2]/ta[1]"
   ]
  },
  {
   "cell_type": "code",
   "execution_count": 43,
   "id": "521c9e33-6eae-4f75-a504-b3bb24306414",
   "metadata": {},
   "outputs": [
    {
     "data": {
      "text/plain": [
       "\n",
       " 0  1 \n",
       "45 55 "
      ]
     },
     "metadata": {},
     "output_type": "display_data"
    },
    {
     "data": {
      "text/html": [
       "<strong>1:</strong> 1.22222222222222"
      ],
      "text/latex": [
       "\\textbf{1:} 1.22222222222222"
      ],
      "text/markdown": [
       "**1:** 1.22222222222222"
      ],
      "text/plain": [
       "       1 \n",
       "1.222222 "
      ]
     },
     "metadata": {},
     "output_type": "display_data"
    }
   ],
   "source": [
    "tb=table(allscores[CAD>cadq[2]]$CADpheno)\n",
    "tb\n",
    "tb[2]/tb[1]"
   ]
  },
  {
   "cell_type": "code",
   "execution_count": 44,
   "id": "4c18e9f8-fda6-4abb-96b8-4ff9d14b75f0",
   "metadata": {},
   "outputs": [
    {
     "data": {
      "text/html": [
       "<strong>1:</strong> 6.92592592592593"
      ],
      "text/latex": [
       "\\textbf{1:} 6.92592592592593"
      ],
      "text/markdown": [
       "**1:** 6.92592592592593"
      ],
      "text/plain": [
       "       1 \n",
       "6.925926 "
      ]
     },
     "metadata": {},
     "output_type": "display_data"
    }
   ],
   "source": [
    "(tb[2]/tb[1])/(ta[2]/ta[1])"
   ]
  },
  {
   "cell_type": "markdown",
   "id": "98a15b89-bbbc-463a-b2ea-9eb0bf7ea42a",
   "metadata": {},
   "source": [
    "## PRS and Polygenicity\n",
    "\n",
    "Until now, we have applied two genetic risk scores and examined how well they predict actual phenotypes. We will now examine what these scores can tell us about the genetic architecture of these traits.\n",
    "\n",
    "**Question 12:** How many variants are present in each score? Does that correspond to what you know of the genetic architecture of both traits?"
   ]
  },
  {
   "cell_type": "code",
   "execution_count": 45,
   "id": "ec4a35bf-360f-422e-9b2b-78712e90a0bb",
   "metadata": {},
   "outputs": [
    {
     "data": {
      "text/html": [
       "74999"
      ],
      "text/latex": [
       "74999"
      ],
      "text/markdown": [
       "74999"
      ],
      "text/plain": [
       "[1] 74999"
      ]
     },
     "metadata": {},
     "output_type": "display_data"
    },
    {
     "data": {
      "text/html": [
       "7"
      ],
      "text/latex": [
       "7"
      ],
      "text/markdown": [
       "7"
      ],
      "text/plain": [
       "[1] 7"
      ]
     },
     "metadata": {},
     "output_type": "display_data"
    }
   ],
   "source": [
    "nrow(cadscore)\n",
    "nrow(mepscore)"
   ]
  },
  {
   "cell_type": "markdown",
   "id": "5ca73a5d-3aba-4265-85d9-f37adf0fdada",
   "metadata": {},
   "source": [
    "MEP1B is a protein trait, expected to be much less polygenic than CAD, a complex trait."
   ]
  },
  {
   "cell_type": "markdown",
   "id": "6810cc8b-786b-4baa-b8e9-0e89e636c6d1",
   "metadata": {},
   "source": [
    "**Question 13:** Perform a genome-wide association, using each score profile as a phenotype (you will need to create a properly formatted `.pheno` file) and `PRS.course.testset` as a binary genotype set, using PLINK's `--assoc` flag. Use `qmplot` to visualise the results. What can you say about these association results?"
   ]
  },
  {
   "cell_type": "code",
   "execution_count": 46,
   "id": "4d503825-f142-4edb-9118-e92278240554",
   "metadata": {},
   "outputs": [],
   "source": [
    "pheno=allscores[,c(\"id\", \"CAD\")]\n",
    "pheno[,c(\"FID\", \"IID\"):=tstrsplit(id, \"_\")]\n",
    "pheno[,id:=NULL]\n",
    "setcolorder(pheno, c(2,3,1))\n",
    "fwrite(pheno, \"CAD.pheno\", sep=\"\\t\", quote=F, col.names=F)"
   ]
  },
  {
   "cell_type": "code",
   "execution_count": 47,
   "id": "0398f6e7-2845-4487-a715-6ef9f5d0cc7b",
   "metadata": {},
   "outputs": [],
   "source": [
    "pheno=allscores[,c(\"id\", \"MEP1B\")]\n",
    "pheno[,c(\"FID\", \"IID\"):=tstrsplit(id, \"_\")]\n",
    "pheno[,id:=NULL]\n",
    "setcolorder(pheno, c(2,3,1))\n",
    "fwrite(pheno, \"MEP1B.pheno\", sep=\"\\t\", quote=F, col.names=F)"
   ]
  },
  {
   "cell_type": "code",
   "execution_count": 48,
   "id": "b71312ff-dcc3-4646-b030-cdf3a6d874a2",
   "metadata": {},
   "outputs": [
    {
     "name": "stdout",
     "output_type": "stream",
     "text": [
      "PLINK v1.90b6.24 64-bit (6 Jun 2021)           www.cog-genomics.org/plink/1.9/\n",
      "(C) 2005-2021 Shaun Purcell, Christopher Chang   GNU General Public License v3\n",
      "Logging to CAD.log.\n",
      "Options in effect:\n",
      "  --allow-no-sex\n",
      "  --assoc\n",
      "  --bfile data/PRS.course.testset\n",
      "  --out CAD\n",
      "  --pheno CAD.pheno\n",
      "\n",
      "52229 MB RAM detected; reserving 26114 MB for main workspace.\n",
      "175219 variants loaded from .bim file.\n",
      "1000 people (0 males, 0 females, 1000 ambiguous) loaded from .fam.\n",
      "Ambiguous sex IDs written to CAD.nosex .\n",
      "1000 phenotype values present after --pheno.\n",
      "Using 1 thread (no multithreaded calculations invoked).\n",
      "Before main variant filters, 1000 founders and 0 nonfounders present.\n",
      "Calculating allele frequencies... 10111213141516171819202122232425262728293031323334353637383940414243444546474849505152535455565758596061626364656667686970717273747576777879808182838485868788899091929394959697989 done.\n",
      "Total genotyping rate is 0.982046.\n",
      "175219 variants and 1000 people pass filters and QC.\n",
      "Phenotype data is quantitative.\n",
      "Writing QT --assoc report to CAD.qassoc ... 101112131415161718192021222324252627282930313233343536373839404142434445464748495051525354555657585960616263646566676869707172737475767778798081828384858687888990919293949596979899done.\n"
     ]
    }
   ],
   "source": [
    "cat(system('\n",
    "plink --bfile data/PRS.course.testset --pheno CAD.pheno --allow-no-sex --assoc --out CAD 2>&1\n",
    "', intern=T), sep=\"\\n\")\n",
    "\n"
   ]
  },
  {
   "cell_type": "code",
   "execution_count": 49,
   "id": "a31e4420-0518-4014-8e9d-e88bf28e2854",
   "metadata": {},
   "outputs": [],
   "source": [
    "library(manqq)"
   ]
  },
  {
   "cell_type": "code",
   "execution_count": 58,
   "id": "b2f62f46-c76c-45b4-87c6-35b5b1ece0a4",
   "metadata": {},
   "outputs": [
    {
     "name": "stdout",
     "output_type": "stream",
     "text": [
      "[1] \"entering qq function\"\n",
      "[1] \"lambda is 0.0439126835242913\"\n"
     ]
    },
    {
     "data": {
      "text/plain": [
       "NULL"
      ]
     },
     "metadata": {},
     "output_type": "display_data"
    },
    {
     "data": {
      "image/png": "[encoded data removed]",
      "text/plain": [
       "plot without title"
      ]
     },
     "metadata": {
      "image/png": {
       "height": 420,
       "width": 900
      }
     },
     "output_type": "display_data"
    }
   ],
   "source": [
    "outcad=fread(\"CAD.qassoc\")\n",
    "outcad=outcad[!is.na(outcad$P)]\n",
    "fastqq(outcad$P)"
   ]
  },
  {
   "cell_type": "markdown",
   "id": "293a99be-ff50-4ddc-938b-8e53e9df6356",
   "metadata": {},
   "source": [
    "This is a bad-looking qq-plot, our model is misspecified."
   ]
  },
  {
   "cell_type": "markdown",
   "id": "7f7dfd1d-035e-44dc-a3c1-e22fdd951785",
   "metadata": {},
   "source": [
    "\n",
    "**Question 16:** This cohort is multiethnic, and there is therefore a strong chance that some score variants will be correlated with ethnicity. Use the genetic principal components from `data/PCs.eigenvec` and use them as covariates using the `--linear` and `--covar` flags of PLINK. Check that your association results are now well-behaved.\n",
    "\n",
    "<div class=\"alert alert-warning\">Running associations in linear mode can be quite slow (~10 minutes).</div>\n"
   ]
  },
  {
   "cell_type": "code",
   "execution_count": 59,
   "id": "3be54ea6-34ec-495a-a5ce-1efcfe9e3324",
   "metadata": {},
   "outputs": [
    {
     "name": "stdout",
     "output_type": "stream",
     "text": [
      "PLINK v1.90b6.24 64-bit (6 Jun 2021)           www.cog-genomics.org/plink/1.9/\n",
      "(C) 2005-2021 Shaun Purcell, Christopher Chang   GNU General Public License v3\n",
      "Logging to CAD.wPC.log.\n",
      "Options in effect:\n",
      "  --allow-no-sex\n",
      "  --bfile data/PRS.course.testset\n",
      "  --covar data/PCs.eigenvec\n",
      "  --linear hide-covar\n",
      "  --out CAD.wPC\n",
      "  --pheno CAD.pheno\n",
      "\n",
      "52229 MB RAM detected; reserving 26114 MB for main workspace.\n",
      "175219 variants loaded from .bim file.\n",
      "1000 people (0 males, 0 females, 1000 ambiguous) loaded from .fam.\n",
      "Ambiguous sex IDs written to CAD.wPC.nosex .\n",
      "1000 phenotype values present after --pheno.\n",
      "Using 1 thread (no multithreaded calculations invoked).\n",
      "--covar: 10 covariates loaded.\n",
      "Before main variant filters, 1000 founders and 0 nonfounders present.\n",
      "Calculating allele frequencies... 10111213141516171819202122232425262728293031323334353637383940414243444546474849505152535455565758596061626364656667686970717273747576777879808182838485868788899091929394959697989 done.\n",
      "Total genotyping rate is 0.982046.\n",
      "175219 variants and 1000 people pass filters and QC.\n",
      "Phenotype data is quantitative.\n",
      "Writing linear model association results to CAD.wPC.assoc.linear ... 101112131415161718192021222324252627282930313233343536373839404142434445464748495051525354555657585960616263646566676869707172737475767778798081828384858687888990919293949596979899done.\n"
     ]
    }
   ],
   "source": [
    "cat(system('\n",
    "plink --pheno CAD.pheno --bfile data/PRS.course.testset --linear hide-covar --covar data/PCs.eigenvec --out CAD.wPC --allow-no-sex 2>&1\n",
    "', intern=T), sep=\"\\n\")\n",
    "\n"
   ]
  },
  {
   "cell_type": "code",
   "execution_count": null,
   "id": "d951d97d-b449-4431-89af-26a3e126f468",
   "metadata": {},
   "outputs": [],
   "source": [
    "cat(system('\n",
    "plink --pheno MEP1B.pheno --bfile data/PRS.course.testset --linear hide-covar --covar data/PCs.eigenvec --out MEP1B.wPC --allow-no-sex 2>&1\n",
    "', intern=T), sep=\"\\n\")\n",
    "\n"
   ]
  },
  {
   "cell_type": "code",
   "execution_count": null,
   "id": "6de8e784-9b86-449f-b7fe-3b08c325f3be",
   "metadata": {},
   "outputs": [],
   "source": [
    "cadpc=fread(\"CAD.wPC.assoc.linear\")\n",
    "cadpc=cadpc[!is.na(cadpc$P)]\n",
    "fastqq(cadpc$P)\n",
    "cadpc=cadpc[,c(\"CHR\", \"BP\", \"P\")]\n",
    "setnames(cadpc, c(\"chr\", \"pos\", \"p\"))\n",
    "fastmanh(cadpc)"
   ]
  },
  {
   "cell_type": "code",
   "execution_count": null,
   "id": "1ca08666-a1d4-44fe-bd72-1107947958bb",
   "metadata": {},
   "outputs": [],
   "source": [
    "meppc=fread(\"MEP1B.wPC.assoc.linear\")\n",
    "meppc=cadpc[!is.na(meppc$P)]\n",
    "fastqq(meppc$P)\n",
    "meppc=meppc[,c(\"CHR\", \"BP\", \"P\")]\n",
    "setnames(meppc, c(\"chr\", \"pos\", \"p\"))\n",
    "fastmanh(meppc)"
   ]
  },
  {
   "cell_type": "markdown",
   "id": "ddd9bdca-ea10-4bc2-9ecd-37dd4b0cb45f",
   "metadata": {},
   "source": [
    "**Question 17:** What can you deduce from the two manhattan plots about the architecture of these two traits?"
   ]
  },
  {
   "cell_type": "markdown",
   "id": "7918ee38-2aa3-4835-93e6-10d431356a5c",
   "metadata": {},
   "source": [
    "Both are perfectly controlled (lambdas very close to 1). We can see that while MEP1B is driven by a very strong effect signal that is detectable at current sample size (1000 individuals), CAD is a much more complex traits where no signal actually reaches significance level. This hints at GWAS power: proteome association studies can detect effects even with hundreds of samples, whereas complex trait associations require large meta-analyses of hundreds of thousands of samples."
   ]
  }
 ],
 "metadata": {
  "hide_input": false,
  "kernelspec": {
   "display_name": "R 4.1",
   "language": "R",
   "name": "ir41"
  },
  "language_info": {
   "codemirror_mode": "r",
   "file_extension": ".r",
   "mimetype": "text/x-r-source",
   "name": "R",
   "pygments_lexer": "r",
   "version": "4.1.2"
  },
  "toc": {
   "base_numbering": 1,
   "nav_menu": {},
   "number_sections": true,
   "sideBar": true,
   "skip_h1_title": false,
   "title_cell": "Table of Contents",
   "title_sidebar": "Contents",
   "toc_cell": false,
   "toc_position": {},
   "toc_section_display": true,
   "toc_window_display": false
  }
 },
 "nbformat": 4,
 "nbformat_minor": 5
}
