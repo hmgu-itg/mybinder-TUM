{
 "cells": [
  {
   "cell_type": "markdown",
   "id": "0a11df5f-3b5d-4946-a6a6-8b3927eca9d8",
   "metadata": {},
   "source": [
    "<center><h1>Exercise on Polygenic Scoring (R Version)</h1>\n",
    "<b>Systems Genetics Lecture - 25.11.21</b></br></br>\n",
    "<i><small>Arthur Gilly (arthur.gilly@helmholtz-muenchen.de) - Ana Arruda (ana.arruda@helmholtz-muenchen.de)</i></small>\n",
    "</center>\n",
    "\n",
    "# Summary\n",
    "In this exercise, we will apply two polygenic scores to a cohort of 1000 indivuduals. The samples come from the 1000 Genomes project, and the two scores are **a polygenic risk score for Coronary Artery Disease (CAD)** and a **polygenic score for levels of the MEP1B protein**. We will study the influence of ethnicity, see how well these two scores predict the traits in question, and finally, we will examine the polygenicity of these two traits through a genome-wide association.\n",
    "\n",
    "## Downloading the data and installing libraries\n",
    "\n",
    "<div class=\"alert alert-warning\">This R notebook uses the <code>data.table</code> library for data manipulation and base R for graphics. In particular, <code>magrittr</code>, <code>ggplot2</code> and <code>tidyr</code> are not supported.</div>\n",
    "\n",
    "All the libraries you need are already installed and most data files are in the `data` directory.\n",
    "\n"
   ]
  },
  {
   "cell_type": "markdown",
   "id": "cd38a216",
   "metadata": {},
   "source": [
    "## Lifting over the polygenic score\n",
    "\n",
    "We will be working with a CAD score that was downloaded from the publicly available PGS catalog. Variants in that score are identified by chromosome:position, but are on build 37 (also called hg19) of the human reference genome. Our genetic data is on build 38, we must therefore first map these coordinates onto that build. That process is called a liftover. There are R libraries to do this, but they come from the Bioconductor project, and are clunky and hard to use. We will use an external program called CrossMap.\n",
    "\n",
    "First, we download the dictionary of positions from build 37 to 38 from the USCS Liftover FTP Website.\n",
    "\n",
    "**Question 1**: Download the chain file from https://hgdownload.cse.ucsc.edu/goldenpath/hg19/liftOver/hg19ToHg38.over.chain.gz"
   ]
  },
  {
   "cell_type": "code",
   "execution_count": 1,
   "id": "6f815014",
   "metadata": {
    "ExecuteTime": {
     "end_time": "2021-11-24T04:08:13.857904Z",
     "start_time": "2021-11-24T04:08:12.705Z"
    }
   },
   "outputs": [
    {
     "name": "stdout",
     "output_type": "stream",
     "text": [
      "downloading\n",
      "--2021-11-24 08:23:04--  https://hgdownload.cse.ucsc.edu/goldenpath/hg19/liftOver/hg19ToHg38.over.chain.gz\n",
      "Resolving hgdownload.cse.ucsc.edu (hgdownload.cse.ucsc.edu)... 128.114.119.163\n",
      "Connecting to hgdownload.cse.ucsc.edu (hgdownload.cse.ucsc.edu)|128.114.119.163|:443... connected.\n",
      "HTTP request sent, awaiting response... 200 OK\n",
      "Length: 227698 (222K) [application/x-gzip]\n",
      "Saving to: 'hg19ToHg38.over.chain.gz'\n",
      "\n",
      "     0K .......... .......... .......... .......... .......... 22%  451K 0s\n",
      "    50K .......... .......... .......... .......... .......... 44%  900K 0s\n",
      "   100K .......... .......... .......... .......... .......... 67%  903K 0s\n",
      "   150K .......... .......... .......... .......... .......... 89%  190M 0s\n",
      "   200K .......... .......... ..                              100%  209M=0.2s\n",
      "\n",
      "2021-11-24 08:23:04 (1001 KB/s) - 'hg19ToHg38.over.chain.gz' saved [227698/227698]\n",
      "\n"
     ]
    }
   ],
   "source": [
    "cat(system('\n",
    "(rm *.chain.gz || echo downloading) && wget https://hgdownload.cse.ucsc.edu/goldenpath/hg19/liftOver/hg19ToHg38.over.chain.gz 2>&1\n",
    "', intern=T), sep=\"\\n\")\n"
   ]
  },
  {
   "cell_type": "markdown",
   "id": "3d48c1db-bffb-43f4-a227-8db70f8aa75f",
   "metadata": {},
   "source": [
    "Here is CrossMap's help:"
   ]
  },
  {
   "cell_type": "code",
   "execution_count": 2,
   "id": "593d6508-d1d4-43eb-a793-f32ba82e28ac",
   "metadata": {},
   "outputs": [
    {
     "name": "stdout",
     "output_type": "stream",
     "text": [
      "usage: CrossMap.py [-h] [-v]\n",
      "                   {bed,bam,gff,wig,bigwig,vcf,gvcf,maf,region,viewchain} ...\n",
      "\n",
      "CrossMap (v0.6.0) is a program to convert (liftover) genome coordinates\n",
      "between different reference assemblies (e.g., from human GRCh37/hg19 to\n",
      "GRCh38/hg38 or vice versa). Supported file formats: BAM, BED, BigWig, CRAM,\n",
      "GFF, GTF, GVCF, MAF (mutation annotation format), SAM, Wiggle, and VCF.\n",
      "\n",
      "positional arguments:\n",
      "  {bed,bam,gff,wig,bigwig,vcf,gvcf,maf,region,viewchain}\n",
      "                        sub-command help\n",
      "    bed                 converts BED, bedGraph or other BED-like files. Only\n",
      "                        genome coordinates (i.e., the first 3 columns) will be\n",
      "                        updated. Regions mapped to multiple locations to the\n",
      "                        new assembly will be split. Use the \"region\" command\n",
      "                        to liftover large genomic regions. Use the \"wig\"\n",
      "                        command if you need bedGraph/bigWig output.\n",
      "    bam                 converts BAM, CRAM, or SAM format file. Genome\n",
      "                        coordinates, header section, all SAM flags, insert\n",
      "                        size will be updated.\n",
      "    gff                 converts GFF or GTF format file. Genome coordinates\n",
      "                        will be updated.\n",
      "    wig                 converts Wiggle or bedGraph format file. Genome\n",
      "                        coordinates will be updated.\n",
      "    bigwig              converts BigWig file. Genome coordinates will be\n",
      "                        updated.\n",
      "    vcf                 converts VCF file. Genome coordinates, header section,\n",
      "                        reference alleles will be updated.\n",
      "    gvcf                converts GVCF file. Genome coordinates, header\n",
      "                        section, reference alleles will be updated.\n",
      "    maf                 converts MAF (mutation annotation format) file. Genome\n",
      "                        coordinates and reference alleles will be updated.\n",
      "    region              converts big genomic regions (in BED format) such as\n",
      "                        CNV blocks. Genome coordinates will be updated.\n",
      "    viewchain           prints out the content of a chain file into a human\n",
      "                        readable, block-to-block format.\n",
      "\n",
      "optional arguments:\n",
      "  -h, --help            show this help message and exit\n",
      "  -v, --version         show program's version number and exit\n",
      "\n",
      "https://crossmap.readthedocs.io/en/latest/\n"
     ]
    }
   ],
   "source": [
    "cat(system('\n",
    "CrossMap.py --help 2>&1\n",
    "', intern=T), sep=\"\\n\")\n"
   ]
  },
  {
   "cell_type": "markdown",
   "id": "23dbcb6f-9bbc-40ac-b9b0-b2b594603e72",
   "metadata": {},
   "source": [
    "As you can see, it supports multiple input formats. We are going to use `bed` as it is the easiest to use. This format is composed of 3 mandatory, tab-separated columns, and an arbitrary number of columns afterwards. The 3 columns are `chr    pos-1    pos`. \n",
    "\n",
    "\n",
    "**Question 2:** Read in the CAD score (`data/PGS000337.txt.gz`) and make it compatible with the BED format."
   ]
  },
  {
   "cell_type": "code",
   "execution_count": 3,
   "id": "668cb839",
   "metadata": {
    "ExecuteTime": {
     "end_time": "2021-11-24T04:08:07.832340Z",
     "start_time": "2021-11-24T04:08:07.712Z"
    }
   },
   "outputs": [],
   "source": [
    "library(data.table)\n",
    "cadscore=fread(\"data/PGS000337.txt.gz\")"
   ]
  },
  {
   "cell_type": "code",
   "execution_count": 4,
   "id": "8ee7d345",
   "metadata": {
    "ExecuteTime": {
     "end_time": "2021-11-24T04:08:10.002189Z",
     "start_time": "2021-11-24T04:08:10.465Z"
    }
   },
   "outputs": [],
   "source": [
    "cadscore[,start:=chr_position - 1]\n",
    "setcolorder(cadscore, c(\"chr_name\", \"start\", colnames(cadscore)[2:5]))\n",
    "fwrite(cadscore, \"cad.bed\", col.names=F, sep=\"\\t\", quote=F)"
   ]
  },
  {
   "cell_type": "markdown",
   "id": "8c7724c2-f71b-4b24-af16-544edfb29615",
   "metadata": {},
   "source": [
    "**Question 3:** Use `CrossMap bed` to convert the positions in the CAD score from build 37 to build 38."
   ]
  },
  {
   "cell_type": "code",
   "execution_count": 6,
   "id": "c3a46e95",
   "metadata": {
    "ExecuteTime": {
     "end_time": "2021-11-24T04:08:19.851545Z",
     "start_time": "2021-11-24T04:08:17.904Z"
    }
   },
   "outputs": [
    {
     "name": "stdout",
     "output_type": "stream",
     "text": [
      "2021-11-24 08:28:20 [INFO]  Read the chain file \"hg19ToHg38.over.chain.gz\" \n"
     ]
    }
   ],
   "source": [
    "cat(system('\n",
    "CrossMap.py bed hg19ToHg38.over.chain.gz cad.bed cad.38.bed 2>&1\n",
    "', intern=T), sep=\"\\n\")\n"
   ]
  },
  {
   "cell_type": "markdown",
   "id": "726ee5b4-74e0-4b3f-b462-8989b9ba3304",
   "metadata": {},
   "source": [
    "**Question 4:** Read in the lifted over file, remove the second column (`pos - 1`), remove any position that maps outside of the autosomes (chr1-chr22), and check that no variant maps to several positions on build 38."
   ]
  },
  {
   "cell_type": "code",
   "execution_count": 7,
   "id": "a6a05137",
   "metadata": {
    "ExecuteTime": {
     "end_time": "2021-11-24T04:08:25.157148Z",
     "start_time": "2021-11-24T04:08:25.608Z"
    }
   },
   "outputs": [],
   "source": [
    "liftedover=fread(\"cad.38.bed\")"
   ]
  },
  {
   "cell_type": "code",
   "execution_count": 8,
   "id": "9eb8e579",
   "metadata": {
    "ExecuteTime": {
     "end_time": "2021-11-24T04:08:28.579688Z",
     "start_time": "2021-11-24T04:08:29.056Z"
    }
   },
   "outputs": [
    {
     "data": {
      "text/html": [
       "<table class=\"dataframe\">\n",
       "<caption>A data.table: 6 x 6</caption>\n",
       "<thead>\n",
       "\t<tr><th scope=col>chr_name</th><th scope=col>start</th><th scope=col>chr_position</th><th scope=col>effect_allele</th><th scope=col>effect_weight</th><th scope=col>variant_description</th></tr>\n",
       "\t<tr><th scope=col>&lt;chr&gt;</th><th scope=col>&lt;int&gt;</th><th scope=col>&lt;int&gt;</th><th scope=col>&lt;chr&gt;</th><th scope=col>&lt;dbl&gt;</th><th scope=col>&lt;chr&gt;</th></tr>\n",
       "</thead>\n",
       "<tbody>\n",
       "\t<tr><td>1</td><td>1023850</td><td>1023851</td><td>A</td><td> 0.0113215</td><td>1:959231:G:A </td></tr>\n",
       "\t<tr><td>1</td><td>1184477</td><td>1184478</td><td>T</td><td>-0.0165875</td><td>1:1119858:C:T</td></tr>\n",
       "\t<tr><td>1</td><td>1186643</td><td>1186644</td><td>C</td><td> 0.0135431</td><td>1:1122024:T:C</td></tr>\n",
       "\t<tr><td>1</td><td>1219477</td><td>1219478</td><td>T</td><td>-0.0243073</td><td>1:1154858:C:T</td></tr>\n",
       "\t<tr><td>1</td><td>1236036</td><td>1236037</td><td>T</td><td>-0.0126844</td><td>1:1171417:C:T</td></tr>\n",
       "\t<tr><td>1</td><td>1274971</td><td>1274972</td><td>G</td><td>-0.0193357</td><td>1:1210352:A:G</td></tr>\n",
       "</tbody>\n",
       "</table>\n"
      ],
      "text/latex": [
       "A data.table: 6 x 6\n",
       "\\begin{tabular}{llllll}\n",
       " chr\\_name & start & chr\\_position & effect\\_allele & effect\\_weight & variant\\_description\\\\\n",
       " <chr> & <int> & <int> & <chr> & <dbl> & <chr>\\\\\n",
       "\\hline\n",
       "\t 1 & 1023850 & 1023851 & A &  0.0113215 & 1:959231:G:A \\\\\n",
       "\t 1 & 1184477 & 1184478 & T & -0.0165875 & 1:1119858:C:T\\\\\n",
       "\t 1 & 1186643 & 1186644 & C &  0.0135431 & 1:1122024:T:C\\\\\n",
       "\t 1 & 1219477 & 1219478 & T & -0.0243073 & 1:1154858:C:T\\\\\n",
       "\t 1 & 1236036 & 1236037 & T & -0.0126844 & 1:1171417:C:T\\\\\n",
       "\t 1 & 1274971 & 1274972 & G & -0.0193357 & 1:1210352:A:G\\\\\n",
       "\\end{tabular}\n"
      ],
      "text/markdown": [
       "\n",
       "A data.table: 6 x 6\n",
       "\n",
       "| chr_name &lt;chr&gt; | start &lt;int&gt; | chr_position &lt;int&gt; | effect_allele &lt;chr&gt; | effect_weight &lt;dbl&gt; | variant_description &lt;chr&gt; |\n",
       "|---|---|---|---|---|---|\n",
       "| 1 | 1023850 | 1023851 | A |  0.0113215 | 1:959231:G:A  |\n",
       "| 1 | 1184477 | 1184478 | T | -0.0165875 | 1:1119858:C:T |\n",
       "| 1 | 1186643 | 1186644 | C |  0.0135431 | 1:1122024:T:C |\n",
       "| 1 | 1219477 | 1219478 | T | -0.0243073 | 1:1154858:C:T |\n",
       "| 1 | 1236036 | 1236037 | T | -0.0126844 | 1:1171417:C:T |\n",
       "| 1 | 1274971 | 1274972 | G | -0.0193357 | 1:1210352:A:G |\n",
       "\n"
      ],
      "text/plain": [
       "  chr_name start   chr_position effect_allele effect_weight variant_description\n",
       "1 1        1023850 1023851      A              0.0113215    1:959231:G:A       \n",
       "2 1        1184477 1184478      T             -0.0165875    1:1119858:C:T      \n",
       "3 1        1186643 1186644      C              0.0135431    1:1122024:T:C      \n",
       "4 1        1219477 1219478      T             -0.0243073    1:1154858:C:T      \n",
       "5 1        1236036 1236037      T             -0.0126844    1:1171417:C:T      \n",
       "6 1        1274971 1274972      G             -0.0193357    1:1210352:A:G      "
      ]
     },
     "metadata": {},
     "output_type": "display_data"
    }
   ],
   "source": [
    "setnames(liftedover, colnames(cadscore))\n",
    "head(liftedover)"
   ]
  },
  {
   "cell_type": "code",
   "execution_count": 9,
   "id": "fad35203",
   "metadata": {
    "ExecuteTime": {
     "end_time": "2021-11-24T04:08:30.294586Z",
     "start_time": "2021-11-24T04:08:30.808Z"
    }
   },
   "outputs": [],
   "source": [
    "liftedover[,start:=NULL]"
   ]
  },
  {
   "cell_type": "code",
   "execution_count": 10,
   "id": "979c940a",
   "metadata": {
    "ExecuteTime": {
     "end_time": "2021-11-24T04:08:32.990041Z",
     "start_time": "2021-11-24T04:08:33.505Z"
    }
   },
   "outputs": [
    {
     "data": {
      "text/html": [
       "75001"
      ],
      "text/latex": [
       "75001"
      ],
      "text/markdown": [
       "75001"
      ],
      "text/plain": [
       "[1] 75001"
      ]
     },
     "metadata": {},
     "output_type": "display_data"
    }
   ],
   "source": [
    "nrow(liftedover)"
   ]
  },
  {
   "cell_type": "code",
   "execution_count": 11,
   "id": "84a59dba",
   "metadata": {
    "ExecuteTime": {
     "end_time": "2021-11-24T04:08:37.559381Z",
     "start_time": "2021-11-24T04:08:38.041Z"
    }
   },
   "outputs": [],
   "source": [
    "liftedover=liftedover[chr_name %in% 1:22,]"
   ]
  },
  {
   "cell_type": "code",
   "execution_count": 12,
   "id": "de4b1a53",
   "metadata": {
    "ExecuteTime": {
     "end_time": "2021-11-24T04:08:38.797473Z",
     "start_time": "2021-11-24T04:08:39.312Z"
    }
   },
   "outputs": [
    {
     "data": {
      "text/html": [
       "74999"
      ],
      "text/latex": [
       "74999"
      ],
      "text/markdown": [
       "74999"
      ],
      "text/plain": [
       "[1] 74999"
      ]
     },
     "metadata": {},
     "output_type": "display_data"
    }
   ],
   "source": [
    "nrow(liftedover)"
   ]
  },
  {
   "cell_type": "code",
   "execution_count": 13,
   "id": "bc78be49",
   "metadata": {
    "ExecuteTime": {
     "start_time": "2021-11-24T04:08:41.297Z"
    }
   },
   "outputs": [],
   "source": [
    "ct=liftedover[,.N,by=variant_description]"
   ]
  },
  {
   "cell_type": "markdown",
   "id": "7ed0d9dd-4216-4941-9a1c-336c4c56bea8",
   "metadata": {},
   "source": [
    "**Question 5:** Create a tab-separated, headerless score file for your lifted over CAD score, with the following columns :\n",
    "* `id` which has the form chr1:1234\n",
    "* `effect_allele`\n",
    "* `effect_weight`"
   ]
  },
  {
   "cell_type": "code",
   "execution_count": 14,
   "id": "113fa4b6",
   "metadata": {
    "ExecuteTime": {
     "end_time": "2021-11-23T10:00:59.026957Z",
     "start_time": "2021-11-23T10:00:57.577Z"
    }
   },
   "outputs": [],
   "source": [
    "cadscore=liftedover\n",
    "cadscore[,id:=paste0(\"chr\", chr_name, \":\", chr_position)]\n",
    "fwrite(cadscore[,c(\"id\", \"effect_allele\", \"effect_weight\")], \"CAD.score\", sep=\"\\t\", col.names=F, quote=F)"
   ]
  },
  {
   "cell_type": "markdown",
   "id": "0b685b4e-64d2-4a91-a068-32c3efde9eed",
   "metadata": {},
   "source": [
    "**Question 6:** Do the same for the MEP1B protein score located at `data/MEP1B.gilly.prs.txt`. The coordinates in that file are already in build 38, you only need to reformat the file, not lift it over."
   ]
  },
  {
   "cell_type": "code",
   "execution_count": 15,
   "id": "e1624a30",
   "metadata": {
    "ExecuteTime": {
     "end_time": "2021-11-23T10:01:00.426646Z",
     "start_time": "2021-11-23T10:00:59.082Z"
    }
   },
   "outputs": [],
   "source": [
    "mepscore=fread(\"data/MEP1B.gilly.prs.txt\")"
   ]
  },
  {
   "cell_type": "code",
   "execution_count": 16,
   "id": "4b4b6893",
   "metadata": {
    "ExecuteTime": {
     "end_time": "2021-11-23T10:01:01.532532Z",
     "start_time": "2021-11-23T10:01:00.185Z"
    }
   },
   "outputs": [],
   "source": [
    "mepscore[,id:=paste0(\"chr\", chr, \":\", pos)]\n",
    "fwrite(mepscore[,c(\"id\", \"A1\", \"effect\")], \"MEP1B.score\", sep=\"\\t\", col.names=F, quote=F)"
   ]
  },
  {
   "cell_type": "code",
   "execution_count": 17,
   "id": "4577d1c5",
   "metadata": {
    "ExecuteTime": {
     "end_time": "2021-11-23T10:01:02.342285Z",
     "start_time": "2021-11-23T10:01:00.969Z"
    }
   },
   "outputs": [
    {
     "name": "stdout",
     "output_type": "stream",
     "text": [
      "==> CAD.score <==\n",
      "chr1:1023851\tA\t0.0113215\n",
      "chr1:1184478\tT\t-0.0165875\n",
      "chr1:1186644\tC\t0.0135431\n",
      "chr1:1219478\tT\t-0.0243073\n",
      "chr1:1236037\tT\t-0.0126844\n",
      "chr1:1274972\tG\t-0.0193357\n",
      "chr1:1276547\tT\t-0.0211415\n",
      "chr1:1277415\tA\t-0.0213939\n",
      "chr1:1279698\tG\t-0.0209343\n",
      "chr1:1284756\tG\t-0.0178729\n",
      "\n",
      "==> MEP1B.score <==\n",
      "chr18:32038169\tT\t-0.2891709\n",
      "chr18:32067215\tC\t0.4230704\n",
      "chr18:32208550\tG\t-0.6470447\n",
      "chr18:32224458\tT\t-0.6871607\n",
      "chr18:32224900\tA\t-1.070113\n",
      "chr18:32317264\tC\t-0.556034\n",
      "chr18:32337385\tC\t0.3294772\n"
     ]
    }
   ],
   "source": [
    "cat(system('\n",
    "head *.score\n",
    "', intern=T), sep=\"\\n\")"
   ]
  },
  {
   "cell_type": "markdown",
   "id": "d0eb72c1",
   "metadata": {
    "ExecuteTime": {
     "end_time": "2021-11-23T09:42:07.219359Z",
     "start_time": "2021-11-23T09:42:05.868Z"
    }
   },
   "source": [
    "## Applying scores\n",
    "\n",
    "We will now apply the scores to a cohort of 1,000 individuals. From the lecture, you will remember that we need genotype data for these individuals as well as the weights contained in the score files above. We will first use PLINK, a popular genetic toolbox installed in this environment. Then we will do it manually, and compare the results."
   ]
  },
  {
   "cell_type": "markdown",
   "id": "4df64b88",
   "metadata": {},
   "source": [
    "### Method 1 : using PLINK\n",
    "\n",
    "**Question 7:** Check the PLINK 1.9 user manual for applying risk scores and create two score profiles. Use the `data/autosomal.forPRS.{bed|bim|fam}` dataset for genotypes and the score files you have created in questions 6 and 7."
   ]
  },
  {
   "cell_type": "code",
   "execution_count": 20,
   "id": "5ce5d1da",
   "metadata": {
    "ExecuteTime": {
     "end_time": "2021-11-23T10:01:05.932512Z",
     "start_time": "2021-11-23T10:01:03.884Z"
    }
   },
   "outputs": [
    {
     "name": "stdout",
     "output_type": "stream",
     "text": [
      "PLINK v1.90b6.24 64-bit (6 Jun 2021)           www.cog-genomics.org/plink/1.9/\n",
      "(C) 2005-2021 Shaun Purcell, Christopher Chang   GNU General Public License v3\n",
      "Logging to CAD.log.\n",
      "Options in effect:\n",
      "  --bfile data/autosomal.forPRS\n",
      "  --out CAD\n",
      "  --score CAD.score\n",
      "\n",
      "52229 MB RAM detected; reserving 26114 MB for main workspace.\n",
      "75624 variants loaded from .bim file.\n",
      "2504 people (0 males, 0 females, 2504 ambiguous) loaded from .fam.\n",
      "Ambiguous sex IDs written to CAD.nosex .\n",
      "Using 1 thread (no multithreaded calculations invoked).\n",
      "Before main variant filters, 2504 founders and 0 nonfounders present.\n",
      "Calculating allele frequencies... 10111213141516171819202122232425262728293031323334353637383940414243444546474849505152535455565758596061626364656667686970717273747576777879808182838485868788899091929394959697989 done.\n",
      "Total genotyping rate is 0.999812.\n",
      "75624 variants and 2504 people pass filters and QC.\n",
      "Note: No phenotypes present.\n",
      "--score: 74813 valid predictors loaded.\n",
      "--score: Results written to CAD.profile .\n",
      "PLINK v1.90b6.24 64-bit (6 Jun 2021)           www.cog-genomics.org/plink/1.9/\n",
      "(C) 2005-2021 Shaun Purcell, Christopher Chang   GNU General Public License v3\n",
      "Logging to MEP1B.log.\n",
      "Options in effect:\n",
      "  --bfile data/autosomal.forPRS\n",
      "  --out MEP1B\n",
      "  --score MEP1B.score\n",
      "\n",
      "52229 MB RAM detected; reserving 26114 MB for main workspace.\n",
      "75624 variants loaded from .bim file.\n",
      "2504 people (0 males, 0 females, 2504 ambiguous) loaded from .fam.\n",
      "Ambiguous sex IDs written to MEP1B.nosex .\n",
      "Using 1 thread (no multithreaded calculations invoked).\n",
      "Before main variant filters, 2504 founders and 0 nonfounders present.\n",
      "Calculating allele frequencies... 10111213141516171819202122232425262728293031323334353637383940414243444546474849505152535455565758596061626364656667686970717273747576777879808182838485868788899091929394959697989 done.\n",
      "Total genotyping rate is 0.999812.\n",
      "75624 variants and 2504 people pass filters and QC.\n",
      "Note: No phenotypes present.\n",
      "--score: 7 valid predictors loaded.\n",
      "--score: Results written to MEP1B.profile .\n"
     ]
    }
   ],
   "source": [
    "cat(system('\n",
    "plink --bfile data/autosomal.forPRS --score CAD.score --out CAD\n",
    "plink --bfile data/autosomal.forPRS --score MEP1B.score --out MEP1B\n",
    "', intern=T), sep=\"\\n\")"
   ]
  },
  {
   "cell_type": "markdown",
   "id": "51bbae86",
   "metadata": {},
   "source": [
    "#### Visualising scores\n",
    "\n",
    "**Question 8:** Visualise the distributions of scores for the two scores you have just calculated. Comment on the distribution shape for both scores."
   ]
  },
  {
   "cell_type": "code",
   "execution_count": 21,
   "id": "0b59b451",
   "metadata": {
    "ExecuteTime": {
     "end_time": "2021-11-23T10:01:08.353232Z",
     "start_time": "2021-11-23T10:01:06.747Z"
    }
   },
   "outputs": [
    {
     "data": {
      "image/png": "[encoded data removed]",
      "text/plain": [
       "Plot with title \"CAD score\""
      ]
     },
     "metadata": {
      "image/png": {
       "height": 420,
       "width": 900
      }
     },
     "output_type": "display_data"
    },
    {
     "data": {
      "image/png": "[encoded data removed]",
      "text/plain": [
       "Plot with title \"MEP1B protein score\""
      ]
     },
     "metadata": {
      "image/png": {
       "height": 420,
       "width": 900
      }
     },
     "output_type": "display_data"
    }
   ],
   "source": [
    "cadsc=fread(\"CAD.profile\")\n",
    "options(repr.plot.width=15)\n",
    "hist(cadsc$SCORE, breaks=61, main=\"CAD score\")\n",
    "mepsc=fread(\"MEP1B.profile\")\n",
    "hist(mepsc$SCORE, breaks=41, main=\"MEP1B protein score\")"
   ]
  },
  {
   "cell_type": "markdown",
   "id": "8bc99556-1016-4b6e-b82d-61f182ef1d0e",
   "metadata": {},
   "source": [
    "The MEP1B score is much less well-behaved and deviates markedly from the normal assumption."
   ]
  },
  {
   "cell_type": "markdown",
   "id": "869ac4c7",
   "metadata": {},
   "source": [
    "### Method 2: Manually applying scores (bonus section, only if you are proficient with data.table and/or data wrangling in R)\n",
    "\n",
    "We do not exactly know what PLINK did for us. We can repeat the process manually using R data.table's data manipulation tools.\n",
    "\n",
    "**Question 9:** Load the `autosomal.forPRS.mx.traw` file. It is a matrix of genotypes with positions as rows and samples as columns. There are 7 \"header\" columns describing each position. For each score, restrict the dataframe to the positions in the score file, then apply an element-wise multiplication column by column, and sum the weighted genotypes: $score_j=\\sum_{i \\in SNPs}w_i*g_i$ where $i$ denotes SNPs and $j$ denotes individuals. For the CAD score, beware that the score file and genotype file do not contain the same variants, and that alleles may be different even if they are present."
   ]
  },
  {
   "cell_type": "code",
   "execution_count": 23,
   "id": "136fee10",
   "metadata": {
    "ExecuteTime": {
     "end_time": "2021-11-23T10:01:28.368632Z",
     "start_time": "2021-11-23T10:01:24.409Z"
    }
   },
   "outputs": [],
   "source": [
    "genos=fread(\"data/autosomal.forPRS.mx.traw\")\n",
    "famfile=fread(\"data/PRS.course.testset.fam\")\n",
    "tokeep=paste(famfile$V1, famfile$V2, sep=\"_\")\n",
    "tokeep=c(colnames(genos)[1:6], tokeep)\n",
    "genos=genos[,..tokeep]\n"
   ]
  },
  {
   "cell_type": "code",
   "execution_count": 24,
   "id": "51f75d4e",
   "metadata": {
    "ExecuteTime": {
     "end_time": "2021-11-23T10:01:31.797193Z",
     "start_time": "2021-11-23T10:01:29.260Z"
    }
   },
   "outputs": [
    {
     "data": {
      "text/html": [
       "<table class=\"dataframe\">\n",
       "<caption>A data.table: 6 x 2510</caption>\n",
       "<thead>\n",
       "\t<tr><th scope=col>CHR</th><th scope=col>SNP</th><th scope=col>(C)M</th><th scope=col>POS</th><th scope=col>COUNTED</th><th scope=col>ALT</th><th scope=col>HG00096_HG00096</th><th scope=col>HG00097_HG00097</th><th scope=col>HG00099_HG00099</th><th scope=col>HG00100_HG00100</th><th scope=col>...</th><th scope=col>NA21128_NA21128</th><th scope=col>NA21129_NA21129</th><th scope=col>NA21130_NA21130</th><th scope=col>NA21133_NA21133</th><th scope=col>NA21135_NA21135</th><th scope=col>NA21137_NA21137</th><th scope=col>NA21141_NA21141</th><th scope=col>NA21142_NA21142</th><th scope=col>NA21143_NA21143</th><th scope=col>NA21144_NA21144</th></tr>\n",
       "\t<tr><th scope=col>&lt;int&gt;</th><th scope=col>&lt;chr&gt;</th><th scope=col>&lt;int&gt;</th><th scope=col>&lt;int&gt;</th><th scope=col>&lt;chr&gt;</th><th scope=col>&lt;chr&gt;</th><th scope=col>&lt;int&gt;</th><th scope=col>&lt;int&gt;</th><th scope=col>&lt;int&gt;</th><th scope=col>&lt;int&gt;</th><th scope=col>...</th><th scope=col>&lt;int&gt;</th><th scope=col>&lt;int&gt;</th><th scope=col>&lt;int&gt;</th><th scope=col>&lt;int&gt;</th><th scope=col>&lt;int&gt;</th><th scope=col>&lt;int&gt;</th><th scope=col>&lt;int&gt;</th><th scope=col>&lt;int&gt;</th><th scope=col>&lt;int&gt;</th><th scope=col>&lt;int&gt;</th></tr>\n",
       "</thead>\n",
       "<tbody>\n",
       "\t<tr><td>1</td><td>chr1:1023851</td><td>0</td><td>1023851</td><td>A</td><td>G</td><td>0</td><td>1</td><td>2</td><td>1</td><td>...</td><td>1</td><td>2</td><td>1</td><td>0</td><td>0</td><td>0</td><td>2</td><td>1</td><td>1</td><td>0</td></tr>\n",
       "\t<tr><td>1</td><td>chr1:1184478</td><td>0</td><td>1184478</td><td>T</td><td>C</td><td>0</td><td>0</td><td>0</td><td>0</td><td>...</td><td>0</td><td>1</td><td>0</td><td>0</td><td>1</td><td>0</td><td>1</td><td>1</td><td>1</td><td>0</td></tr>\n",
       "\t<tr><td>1</td><td>chr1:1186644</td><td>0</td><td>1186644</td><td>C</td><td>T</td><td>0</td><td>0</td><td>0</td><td>0</td><td>...</td><td>1</td><td>0</td><td>2</td><td>1</td><td>0</td><td>1</td><td>1</td><td>1</td><td>1</td><td>0</td></tr>\n",
       "\t<tr><td>1</td><td>chr1:1219478</td><td>0</td><td>1219478</td><td>T</td><td>C</td><td>0</td><td>0</td><td>0</td><td>0</td><td>...</td><td>0</td><td>0</td><td>0</td><td>0</td><td>0</td><td>0</td><td>0</td><td>0</td><td>0</td><td>0</td></tr>\n",
       "\t<tr><td>1</td><td>chr1:1236037</td><td>0</td><td>1236037</td><td>C</td><td>T</td><td>1</td><td>1</td><td>2</td><td>1</td><td>...</td><td>1</td><td>0</td><td>0</td><td>0</td><td>1</td><td>1</td><td>0</td><td>0</td><td>0</td><td>1</td></tr>\n",
       "\t<tr><td>1</td><td>chr1:1274972</td><td>0</td><td>1274972</td><td>G</td><td>A</td><td>0</td><td>0</td><td>0</td><td>0</td><td>...</td><td>0</td><td>1</td><td>1</td><td>1</td><td>0</td><td>1</td><td>1</td><td>2</td><td>2</td><td>0</td></tr>\n",
       "</tbody>\n",
       "</table>\n"
      ],
      "text/latex": [
       "A data.table: 6 x 2510\n",
       "\\begin{tabular}{lllllllllllllllllllll}\n",
       " CHR & SNP & (C)M & POS & COUNTED & ALT & HG00096\\_HG00096 & HG00097\\_HG00097 & HG00099\\_HG00099 & HG00100\\_HG00100 & ... & NA21128\\_NA21128 & NA21129\\_NA21129 & NA21130\\_NA21130 & NA21133\\_NA21133 & NA21135\\_NA21135 & NA21137\\_NA21137 & NA21141\\_NA21141 & NA21142\\_NA21142 & NA21143\\_NA21143 & NA21144\\_NA21144\\\\\n",
       " <int> & <chr> & <int> & <int> & <chr> & <chr> & <int> & <int> & <int> & <int> & ... & <int> & <int> & <int> & <int> & <int> & <int> & <int> & <int> & <int> & <int>\\\\\n",
       "\\hline\n",
       "\t 1 & chr1:1023851 & 0 & 1023851 & A & G & 0 & 1 & 2 & 1 & ... & 1 & 2 & 1 & 0 & 0 & 0 & 2 & 1 & 1 & 0\\\\\n",
       "\t 1 & chr1:1184478 & 0 & 1184478 & T & C & 0 & 0 & 0 & 0 & ... & 0 & 1 & 0 & 0 & 1 & 0 & 1 & 1 & 1 & 0\\\\\n",
       "\t 1 & chr1:1186644 & 0 & 1186644 & C & T & 0 & 0 & 0 & 0 & ... & 1 & 0 & 2 & 1 & 0 & 1 & 1 & 1 & 1 & 0\\\\\n",
       "\t 1 & chr1:1219478 & 0 & 1219478 & T & C & 0 & 0 & 0 & 0 & ... & 0 & 0 & 0 & 0 & 0 & 0 & 0 & 0 & 0 & 0\\\\\n",
       "\t 1 & chr1:1236037 & 0 & 1236037 & C & T & 1 & 1 & 2 & 1 & ... & 1 & 0 & 0 & 0 & 1 & 1 & 0 & 0 & 0 & 1\\\\\n",
       "\t 1 & chr1:1274972 & 0 & 1274972 & G & A & 0 & 0 & 0 & 0 & ... & 0 & 1 & 1 & 1 & 0 & 1 & 1 & 2 & 2 & 0\\\\\n",
       "\\end{tabular}\n"
      ],
      "text/markdown": [
       "\n",
       "A data.table: 6 x 2510\n",
       "\n",
       "| CHR &lt;int&gt; | SNP &lt;chr&gt; | (C)M &lt;int&gt; | POS &lt;int&gt; | COUNTED &lt;chr&gt; | ALT &lt;chr&gt; | HG00096_HG00096 &lt;int&gt; | HG00097_HG00097 &lt;int&gt; | HG00099_HG00099 &lt;int&gt; | HG00100_HG00100 &lt;int&gt; | ... ... | NA21128_NA21128 &lt;int&gt; | NA21129_NA21129 &lt;int&gt; | NA21130_NA21130 &lt;int&gt; | NA21133_NA21133 &lt;int&gt; | NA21135_NA21135 &lt;int&gt; | NA21137_NA21137 &lt;int&gt; | NA21141_NA21141 &lt;int&gt; | NA21142_NA21142 &lt;int&gt; | NA21143_NA21143 &lt;int&gt; | NA21144_NA21144 &lt;int&gt; |\n",
       "|---|---|---|---|---|---|---|---|---|---|---|---|---|---|---|---|---|---|---|---|---|\n",
       "| 1 | chr1:1023851 | 0 | 1023851 | A | G | 0 | 1 | 2 | 1 | ... | 1 | 2 | 1 | 0 | 0 | 0 | 2 | 1 | 1 | 0 |\n",
       "| 1 | chr1:1184478 | 0 | 1184478 | T | C | 0 | 0 | 0 | 0 | ... | 0 | 1 | 0 | 0 | 1 | 0 | 1 | 1 | 1 | 0 |\n",
       "| 1 | chr1:1186644 | 0 | 1186644 | C | T | 0 | 0 | 0 | 0 | ... | 1 | 0 | 2 | 1 | 0 | 1 | 1 | 1 | 1 | 0 |\n",
       "| 1 | chr1:1219478 | 0 | 1219478 | T | C | 0 | 0 | 0 | 0 | ... | 0 | 0 | 0 | 0 | 0 | 0 | 0 | 0 | 0 | 0 |\n",
       "| 1 | chr1:1236037 | 0 | 1236037 | C | T | 1 | 1 | 2 | 1 | ... | 1 | 0 | 0 | 0 | 1 | 1 | 0 | 0 | 0 | 1 |\n",
       "| 1 | chr1:1274972 | 0 | 1274972 | G | A | 0 | 0 | 0 | 0 | ... | 0 | 1 | 1 | 1 | 0 | 1 | 1 | 2 | 2 | 0 |\n",
       "\n"
      ],
      "text/plain": [
       "  CHR SNP          (C)M POS     COUNTED ALT HG00096_HG00096 HG00097_HG00097\n",
       "1 1   chr1:1023851 0    1023851 A       G   0               1              \n",
       "2 1   chr1:1184478 0    1184478 T       C   0               0              \n",
       "3 1   chr1:1186644 0    1186644 C       T   0               0              \n",
       "4 1   chr1:1219478 0    1219478 T       C   0               0              \n",
       "5 1   chr1:1236037 0    1236037 C       T   1               1              \n",
       "6 1   chr1:1274972 0    1274972 G       A   0               0              \n",
       "  HG00099_HG00099 HG00100_HG00100 ... NA21128_NA21128 NA21129_NA21129\n",
       "1 2               1               ... 1               2              \n",
       "2 0               0               ... 0               1              \n",
       "3 0               0               ... 1               0              \n",
       "4 0               0               ... 0               0              \n",
       "5 2               1               ... 1               0              \n",
       "6 0               0               ... 0               1              \n",
       "  NA21130_NA21130 NA21133_NA21133 NA21135_NA21135 NA21137_NA21137\n",
       "1 1               0               0               0              \n",
       "2 0               0               1               0              \n",
       "3 2               1               0               1              \n",
       "4 0               0               0               0              \n",
       "5 0               0               1               1              \n",
       "6 1               1               0               1              \n",
       "  NA21141_NA21141 NA21142_NA21142 NA21143_NA21143 NA21144_NA21144\n",
       "1 2               1               1               0              \n",
       "2 1               1               1               0              \n",
       "3 1               1               1               0              \n",
       "4 0               0               0               0              \n",
       "5 0               0               0               1              \n",
       "6 1               2               2               0              "
      ]
     },
     "metadata": {},
     "output_type": "display_data"
    }
   ],
   "source": [
    "head(genos)"
   ]
  },
  {
   "cell_type": "code",
   "execution_count": 25,
   "id": "eadcd86c",
   "metadata": {
    "ExecuteTime": {
     "end_time": "2021-11-23T10:01:33.956257Z",
     "start_time": "2021-11-23T10:01:32.593Z"
    }
   },
   "outputs": [],
   "source": [
    "spnames=colnames(genos)[7:ncol(genos)]"
   ]
  },
  {
   "cell_type": "code",
   "execution_count": 26,
   "id": "8cc84e2e",
   "metadata": {
    "ExecuteTime": {
     "start_time": "2021-11-23T10:01:37.401Z"
    }
   },
   "outputs": [],
   "source": [
    "mepg=genos[SNP %in% mepscore$id]"
   ]
  },
  {
   "cell_type": "code",
   "execution_count": 27,
   "id": "9df3dc6e",
   "metadata": {
    "ExecuteTime": {
     "start_time": "2021-11-23T09:59:20.834Z"
    }
   },
   "outputs": [
    {
     "data": {
      "text/html": [
       "<table class=\"dataframe\">\n",
       "<caption>A data.table: 7 x 2510</caption>\n",
       "<thead>\n",
       "\t<tr><th scope=col>CHR</th><th scope=col>SNP</th><th scope=col>(C)M</th><th scope=col>POS</th><th scope=col>COUNTED</th><th scope=col>ALT</th><th scope=col>HG00096_HG00096</th><th scope=col>HG00097_HG00097</th><th scope=col>HG00099_HG00099</th><th scope=col>HG00100_HG00100</th><th scope=col>...</th><th scope=col>NA21128_NA21128</th><th scope=col>NA21129_NA21129</th><th scope=col>NA21130_NA21130</th><th scope=col>NA21133_NA21133</th><th scope=col>NA21135_NA21135</th><th scope=col>NA21137_NA21137</th><th scope=col>NA21141_NA21141</th><th scope=col>NA21142_NA21142</th><th scope=col>NA21143_NA21143</th><th scope=col>NA21144_NA21144</th></tr>\n",
       "\t<tr><th scope=col>&lt;int&gt;</th><th scope=col>&lt;chr&gt;</th><th scope=col>&lt;int&gt;</th><th scope=col>&lt;int&gt;</th><th scope=col>&lt;chr&gt;</th><th scope=col>&lt;chr&gt;</th><th scope=col>&lt;int&gt;</th><th scope=col>&lt;int&gt;</th><th scope=col>&lt;int&gt;</th><th scope=col>&lt;int&gt;</th><th scope=col>...</th><th scope=col>&lt;int&gt;</th><th scope=col>&lt;int&gt;</th><th scope=col>&lt;int&gt;</th><th scope=col>&lt;int&gt;</th><th scope=col>&lt;int&gt;</th><th scope=col>&lt;int&gt;</th><th scope=col>&lt;int&gt;</th><th scope=col>&lt;int&gt;</th><th scope=col>&lt;int&gt;</th><th scope=col>&lt;int&gt;</th></tr>\n",
       "</thead>\n",
       "<tbody>\n",
       "\t<tr><td>18</td><td>chr18:32038169</td><td>0</td><td>32038169</td><td>T</td><td>C</td><td>0</td><td>1</td><td>1</td><td>2</td><td>...</td><td>0</td><td>1</td><td>1</td><td>1</td><td>1</td><td>2</td><td>0</td><td>1</td><td>0</td><td>1</td></tr>\n",
       "\t<tr><td>18</td><td>chr18:32067215</td><td>0</td><td>32067215</td><td>C</td><td>T</td><td>0</td><td>0</td><td>0</td><td>0</td><td>...</td><td>0</td><td>0</td><td>0</td><td>0</td><td>0</td><td>0</td><td>0</td><td>0</td><td>0</td><td>0</td></tr>\n",
       "\t<tr><td>18</td><td>chr18:32208550</td><td>0</td><td>32208550</td><td>G</td><td>C</td><td>0</td><td>1</td><td>1</td><td>0</td><td>...</td><td>1</td><td>1</td><td>0</td><td>0</td><td>0</td><td>1</td><td>0</td><td>0</td><td>2</td><td>1</td></tr>\n",
       "\t<tr><td>18</td><td>chr18:32224458</td><td>0</td><td>32224458</td><td>T</td><td>C</td><td>0</td><td>0</td><td>0</td><td>0</td><td>...</td><td>0</td><td>0</td><td>0</td><td>0</td><td>0</td><td>0</td><td>0</td><td>0</td><td>0</td><td>1</td></tr>\n",
       "\t<tr><td>18</td><td>chr18:32224900</td><td>0</td><td>32224900</td><td>A</td><td>T</td><td>2</td><td>2</td><td>1</td><td>0</td><td>...</td><td>1</td><td>1</td><td>1</td><td>2</td><td>1</td><td>1</td><td>0</td><td>0</td><td>2</td><td>2</td></tr>\n",
       "\t<tr><td>18</td><td>chr18:32317264</td><td>0</td><td>32317264</td><td>C</td><td>G</td><td>0</td><td>0</td><td>0</td><td>0</td><td>...</td><td>0</td><td>1</td><td>1</td><td>0</td><td>0</td><td>0</td><td>0</td><td>0</td><td>0</td><td>0</td></tr>\n",
       "\t<tr><td>18</td><td>chr18:32337385</td><td>0</td><td>32337385</td><td>C</td><td>T</td><td>1</td><td>2</td><td>0</td><td>1</td><td>...</td><td>1</td><td>1</td><td>1</td><td>0</td><td>2</td><td>2</td><td>1</td><td>1</td><td>2</td><td>1</td></tr>\n",
       "</tbody>\n",
       "</table>\n"
      ],
      "text/latex": [
       "A data.table: 7 x 2510\n",
       "\\begin{tabular}{lllllllllllllllllllll}\n",
       " CHR & SNP & (C)M & POS & COUNTED & ALT & HG00096\\_HG00096 & HG00097\\_HG00097 & HG00099\\_HG00099 & HG00100\\_HG00100 & ... & NA21128\\_NA21128 & NA21129\\_NA21129 & NA21130\\_NA21130 & NA21133\\_NA21133 & NA21135\\_NA21135 & NA21137\\_NA21137 & NA21141\\_NA21141 & NA21142\\_NA21142 & NA21143\\_NA21143 & NA21144\\_NA21144\\\\\n",
       " <int> & <chr> & <int> & <int> & <chr> & <chr> & <int> & <int> & <int> & <int> & ... & <int> & <int> & <int> & <int> & <int> & <int> & <int> & <int> & <int> & <int>\\\\\n",
       "\\hline\n",
       "\t 18 & chr18:32038169 & 0 & 32038169 & T & C & 0 & 1 & 1 & 2 & ... & 0 & 1 & 1 & 1 & 1 & 2 & 0 & 1 & 0 & 1\\\\\n",
       "\t 18 & chr18:32067215 & 0 & 32067215 & C & T & 0 & 0 & 0 & 0 & ... & 0 & 0 & 0 & 0 & 0 & 0 & 0 & 0 & 0 & 0\\\\\n",
       "\t 18 & chr18:32208550 & 0 & 32208550 & G & C & 0 & 1 & 1 & 0 & ... & 1 & 1 & 0 & 0 & 0 & 1 & 0 & 0 & 2 & 1\\\\\n",
       "\t 18 & chr18:32224458 & 0 & 32224458 & T & C & 0 & 0 & 0 & 0 & ... & 0 & 0 & 0 & 0 & 0 & 0 & 0 & 0 & 0 & 1\\\\\n",
       "\t 18 & chr18:32224900 & 0 & 32224900 & A & T & 2 & 2 & 1 & 0 & ... & 1 & 1 & 1 & 2 & 1 & 1 & 0 & 0 & 2 & 2\\\\\n",
       "\t 18 & chr18:32317264 & 0 & 32317264 & C & G & 0 & 0 & 0 & 0 & ... & 0 & 1 & 1 & 0 & 0 & 0 & 0 & 0 & 0 & 0\\\\\n",
       "\t 18 & chr18:32337385 & 0 & 32337385 & C & T & 1 & 2 & 0 & 1 & ... & 1 & 1 & 1 & 0 & 2 & 2 & 1 & 1 & 2 & 1\\\\\n",
       "\\end{tabular}\n"
      ],
      "text/markdown": [
       "\n",
       "A data.table: 7 x 2510\n",
       "\n",
       "| CHR &lt;int&gt; | SNP &lt;chr&gt; | (C)M &lt;int&gt; | POS &lt;int&gt; | COUNTED &lt;chr&gt; | ALT &lt;chr&gt; | HG00096_HG00096 &lt;int&gt; | HG00097_HG00097 &lt;int&gt; | HG00099_HG00099 &lt;int&gt; | HG00100_HG00100 &lt;int&gt; | ... ... | NA21128_NA21128 &lt;int&gt; | NA21129_NA21129 &lt;int&gt; | NA21130_NA21130 &lt;int&gt; | NA21133_NA21133 &lt;int&gt; | NA21135_NA21135 &lt;int&gt; | NA21137_NA21137 &lt;int&gt; | NA21141_NA21141 &lt;int&gt; | NA21142_NA21142 &lt;int&gt; | NA21143_NA21143 &lt;int&gt; | NA21144_NA21144 &lt;int&gt; |\n",
       "|---|---|---|---|---|---|---|---|---|---|---|---|---|---|---|---|---|---|---|---|---|\n",
       "| 18 | chr18:32038169 | 0 | 32038169 | T | C | 0 | 1 | 1 | 2 | ... | 0 | 1 | 1 | 1 | 1 | 2 | 0 | 1 | 0 | 1 |\n",
       "| 18 | chr18:32067215 | 0 | 32067215 | C | T | 0 | 0 | 0 | 0 | ... | 0 | 0 | 0 | 0 | 0 | 0 | 0 | 0 | 0 | 0 |\n",
       "| 18 | chr18:32208550 | 0 | 32208550 | G | C | 0 | 1 | 1 | 0 | ... | 1 | 1 | 0 | 0 | 0 | 1 | 0 | 0 | 2 | 1 |\n",
       "| 18 | chr18:32224458 | 0 | 32224458 | T | C | 0 | 0 | 0 | 0 | ... | 0 | 0 | 0 | 0 | 0 | 0 | 0 | 0 | 0 | 1 |\n",
       "| 18 | chr18:32224900 | 0 | 32224900 | A | T | 2 | 2 | 1 | 0 | ... | 1 | 1 | 1 | 2 | 1 | 1 | 0 | 0 | 2 | 2 |\n",
       "| 18 | chr18:32317264 | 0 | 32317264 | C | G | 0 | 0 | 0 | 0 | ... | 0 | 1 | 1 | 0 | 0 | 0 | 0 | 0 | 0 | 0 |\n",
       "| 18 | chr18:32337385 | 0 | 32337385 | C | T | 1 | 2 | 0 | 1 | ... | 1 | 1 | 1 | 0 | 2 | 2 | 1 | 1 | 2 | 1 |\n",
       "\n"
      ],
      "text/plain": [
       "  CHR SNP            (C)M POS      COUNTED ALT HG00096_HG00096 HG00097_HG00097\n",
       "1 18  chr18:32038169 0    32038169 T       C   0               1              \n",
       "2 18  chr18:32067215 0    32067215 C       T   0               0              \n",
       "3 18  chr18:32208550 0    32208550 G       C   0               1              \n",
       "4 18  chr18:32224458 0    32224458 T       C   0               0              \n",
       "5 18  chr18:32224900 0    32224900 A       T   2               2              \n",
       "6 18  chr18:32317264 0    32317264 C       G   0               0              \n",
       "7 18  chr18:32337385 0    32337385 C       T   1               2              \n",
       "  HG00099_HG00099 HG00100_HG00100 ... NA21128_NA21128 NA21129_NA21129\n",
       "1 1               2               ... 0               1              \n",
       "2 0               0               ... 0               0              \n",
       "3 1               0               ... 1               1              \n",
       "4 0               0               ... 0               0              \n",
       "5 1               0               ... 1               1              \n",
       "6 0               0               ... 0               1              \n",
       "7 0               1               ... 1               1              \n",
       "  NA21130_NA21130 NA21133_NA21133 NA21135_NA21135 NA21137_NA21137\n",
       "1 1               1               1               2              \n",
       "2 0               0               0               0              \n",
       "3 0               0               0               1              \n",
       "4 0               0               0               0              \n",
       "5 1               2               1               1              \n",
       "6 1               0               0               0              \n",
       "7 1               0               2               2              \n",
       "  NA21141_NA21141 NA21142_NA21142 NA21143_NA21143 NA21144_NA21144\n",
       "1 0               1               0               1              \n",
       "2 0               0               0               0              \n",
       "3 0               0               2               1              \n",
       "4 0               0               0               1              \n",
       "5 0               0               2               2              \n",
       "6 0               0               0               0              \n",
       "7 1               1               2               1              "
      ]
     },
     "metadata": {},
     "output_type": "display_data"
    }
   ],
   "source": [
    "mepg"
   ]
  },
  {
   "cell_type": "code",
   "execution_count": 28,
   "id": "18b505e5",
   "metadata": {
    "ExecuteTime": {
     "end_time": "2021-11-23T09:50:37.433719Z",
     "start_time": "2021-11-23T09:50:36.082Z"
    }
   },
   "outputs": [
    {
     "data": {
      "text/html": [
       "<table class=\"dataframe\">\n",
       "<caption>A data.table: 7 x 6</caption>\n",
       "<thead>\n",
       "\t<tr><th scope=col>chr</th><th scope=col>pos</th><th scope=col>A1</th><th scope=col>A2</th><th scope=col>effect</th><th scope=col>id</th></tr>\n",
       "\t<tr><th scope=col>&lt;int&gt;</th><th scope=col>&lt;int&gt;</th><th scope=col>&lt;chr&gt;</th><th scope=col>&lt;chr&gt;</th><th scope=col>&lt;dbl&gt;</th><th scope=col>&lt;chr&gt;</th></tr>\n",
       "</thead>\n",
       "<tbody>\n",
       "\t<tr><td>18</td><td>32038169</td><td>T</td><td>C</td><td>-0.2891709</td><td>chr18:32038169</td></tr>\n",
       "\t<tr><td>18</td><td>32067215</td><td>C</td><td>T</td><td> 0.4230704</td><td>chr18:32067215</td></tr>\n",
       "\t<tr><td>18</td><td>32208550</td><td>G</td><td>C</td><td>-0.6470447</td><td>chr18:32208550</td></tr>\n",
       "\t<tr><td>18</td><td>32224458</td><td>T</td><td>C</td><td>-0.6871607</td><td>chr18:32224458</td></tr>\n",
       "\t<tr><td>18</td><td>32224900</td><td>A</td><td>T</td><td>-1.0701130</td><td>chr18:32224900</td></tr>\n",
       "\t<tr><td>18</td><td>32317264</td><td>C</td><td>G</td><td>-0.5560340</td><td>chr18:32317264</td></tr>\n",
       "\t<tr><td>18</td><td>32337385</td><td>C</td><td>T</td><td> 0.3294772</td><td>chr18:32337385</td></tr>\n",
       "</tbody>\n",
       "</table>\n"
      ],
      "text/latex": [
       "A data.table: 7 x 6\n",
       "\\begin{tabular}{llllll}\n",
       " chr & pos & A1 & A2 & effect & id\\\\\n",
       " <int> & <int> & <chr> & <chr> & <dbl> & <chr>\\\\\n",
       "\\hline\n",
       "\t 18 & 32038169 & T & C & -0.2891709 & chr18:32038169\\\\\n",
       "\t 18 & 32067215 & C & T &  0.4230704 & chr18:32067215\\\\\n",
       "\t 18 & 32208550 & G & C & -0.6470447 & chr18:32208550\\\\\n",
       "\t 18 & 32224458 & T & C & -0.6871607 & chr18:32224458\\\\\n",
       "\t 18 & 32224900 & A & T & -1.0701130 & chr18:32224900\\\\\n",
       "\t 18 & 32317264 & C & G & -0.5560340 & chr18:32317264\\\\\n",
       "\t 18 & 32337385 & C & T &  0.3294772 & chr18:32337385\\\\\n",
       "\\end{tabular}\n"
      ],
      "text/markdown": [
       "\n",
       "A data.table: 7 x 6\n",
       "\n",
       "| chr &lt;int&gt; | pos &lt;int&gt; | A1 &lt;chr&gt; | A2 &lt;chr&gt; | effect &lt;dbl&gt; | id &lt;chr&gt; |\n",
       "|---|---|---|---|---|---|\n",
       "| 18 | 32038169 | T | C | -0.2891709 | chr18:32038169 |\n",
       "| 18 | 32067215 | C | T |  0.4230704 | chr18:32067215 |\n",
       "| 18 | 32208550 | G | C | -0.6470447 | chr18:32208550 |\n",
       "| 18 | 32224458 | T | C | -0.6871607 | chr18:32224458 |\n",
       "| 18 | 32224900 | A | T | -1.0701130 | chr18:32224900 |\n",
       "| 18 | 32317264 | C | G | -0.5560340 | chr18:32317264 |\n",
       "| 18 | 32337385 | C | T |  0.3294772 | chr18:32337385 |\n",
       "\n"
      ],
      "text/plain": [
       "  chr pos      A1 A2 effect     id            \n",
       "1 18  32038169 T  C  -0.2891709 chr18:32038169\n",
       "2 18  32067215 C  T   0.4230704 chr18:32067215\n",
       "3 18  32208550 G  C  -0.6470447 chr18:32208550\n",
       "4 18  32224458 T  C  -0.6871607 chr18:32224458\n",
       "5 18  32224900 A  T  -1.0701130 chr18:32224900\n",
       "6 18  32317264 C  G  -0.5560340 chr18:32317264\n",
       "7 18  32337385 C  T   0.3294772 chr18:32337385"
      ]
     },
     "metadata": {},
     "output_type": "display_data"
    }
   ],
   "source": [
    "mepscore"
   ]
  },
  {
   "cell_type": "code",
   "execution_count": 29,
   "id": "0b67cd70",
   "metadata": {
    "ExecuteTime": {
     "end_time": "2021-11-23T09:53:37.051146Z",
     "start_time": "2021-11-23T09:53:35.595Z"
    }
   },
   "outputs": [],
   "source": [
    "mepg=colSums(mepg[,lapply(.SD, function(x) x*mepscore$effect), .SDcol=spnames])"
   ]
  },
  {
   "cell_type": "code",
   "execution_count": 30,
   "id": "d76b5e62",
   "metadata": {
    "ExecuteTime": {
     "end_time": "2021-11-23T09:53:53.393282Z",
     "start_time": "2021-11-23T09:53:51.973Z"
    }
   },
   "outputs": [
    {
     "data": {
      "image/png": "[encoded data removed]",
      "text/plain": [
       "Plot with title \"Histogram of mepg\""
      ]
     },
     "metadata": {
      "image/png": {
       "height": 420,
       "width": 900
      }
     },
     "output_type": "display_data"
    }
   ],
   "source": [
    "hist(mepg, breaks=41)"
   ]
  },
  {
   "cell_type": "markdown",
   "id": "e9e0e703",
   "metadata": {
    "ExecuteTime": {
     "start_time": "2021-11-23T09:54:46.899Z"
    }
   },
   "source": [
    "<div class=\"alert alert-warning\"> You might be thinking of <code>cadg=genos[SNP %in% cadscore$id]</code> which usually works. But this binder has very low memory, so a merge is more efficient. Don't forget to <code>gc()</code> from time to time to free up memory."
   ]
  },
  {
   "cell_type": "code",
   "execution_count": null,
   "id": "a3c95ea8",
   "metadata": {},
   "outputs": [],
   "source": [
    "cadg=merge(cadscore, genos, by.x=\"id\", by.y=\"SNP\")"
   ]
  },
  {
   "cell_type": "code",
   "execution_count": null,
   "id": "d013d4f9",
   "metadata": {},
   "outputs": [],
   "source": [
    "rm(genos)\n",
    "gc()"
   ]
  },
  {
   "cell_type": "code",
   "execution_count": null,
   "id": "e41fdfce-0884-4ee5-9033-1ec7825ed41b",
   "metadata": {},
   "outputs": [],
   "source": [
    "cadg[,eff:=effect_weight]\n",
    "cadg[effect_allele==ALT,eff:=-1*eff]\n",
    "cadg=cadg[effect_allele==ALT | effect_allele == COUNTED]\n",
    "cadg=cadg[,lapply(.SD, function(x) sum(x*eff, na.rm=T)), .SDcol=spnames]"
   ]
  }
 ],
 "metadata": {
  "hide_input": false,
  "kernelspec": {
   "display_name": "R",
   "language": "R",
   "name": "ir"
  },
  "language_info": {
   "codemirror_mode": "r",
   "file_extension": ".r",
   "mimetype": "text/x-r-source",
   "name": "R",
   "pygments_lexer": "r",
   "version": "4.1.1"
  },
  "toc": {
   "base_numbering": 1,
   "nav_menu": {},
   "number_sections": true,
   "sideBar": true,
   "skip_h1_title": false,
   "title_cell": "Table of Contents",
   "title_sidebar": "Contents",
   "toc_cell": false,
   "toc_position": {},
   "toc_section_display": true,
   "toc_window_display": false
  }
 },
 "nbformat": 4,
 "nbformat_minor": 5
}
