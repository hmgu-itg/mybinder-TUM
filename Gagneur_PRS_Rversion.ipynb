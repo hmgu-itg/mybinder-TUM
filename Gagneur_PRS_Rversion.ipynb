{
 "cells": [
  {
   "cell_type": "markdown",
   "id": "0a11df5f-3b5d-4946-a6a6-8b3927eca9d8",
   "metadata": {},
   "source": [
    "<center><h1>Exercise on Polygenic Scoring (R Version)</h1>\n",
    "<b>Systems Genetics Lecture - 25.11.21</b><br><br>\n",
    "<i><small>Arthur Gilly (arthur.gilly@helmholtz-muenchen.de) - Ana Arruda (ana.arruda@helmholtz-muenchen.de)</small></i>\n",
    "</center>\n",
    "\n",
    "# Summary\n",
    "In this exercise, we will apply two polygenic scores to a cohort of 1000 indivuduals. The samples come from the 1000 Genomes project, and the two scores are **a polygenic risk score for Coronary Artery Disease (CAD)** and a **polygenic score for levels of the MEP1B protein**. We will study the influence of ethnicity, see how well these two scores predict the traits in question, and finally, we will examine the polygenicity of these two traits through a genome-wide association.\n",
    "\n",
    "## Downloading the data and installing libraries\n",
    "\n",
    "<div class=\"alert alert-warning\">This R notebook uses the <code>data.table</code> library for data manipulation and base R for graphics. In particular, <code>magrittr</code>, <code>ggplot2</code> and <code>tidyr</code> are not supported.</div>\n",
    "\n",
    "All the libraries you need are already installed and most data files are in the `data` directory.\n",
    "\n"
   ]
  },
  {
   "cell_type": "markdown",
   "id": "cd38a216",
   "metadata": {},
   "source": [
    "## Lifting over the polygenic score\n",
    "\n",
    "We will be working with a CAD score that was downloaded from the publicly available PGS catalog. Variants in that score are identified by chromosome:position, but are on build 37 (also called hg19) of the human reference genome. Our genetic data is on build 38, we must therefore first map these coordinates onto that build. That process is called a liftover. There are R libraries to do this, but they come from the Bioconductor project, and are clunky and hard to use. We will use an external program called CrossMap.\n",
    "\n",
    "First, we download the dictionary of positions from build 37 to 38 from the USCS Liftover FTP Website.\n",
    "\n",
    "**Question 1**: Download the chain file from https://hgdownload.cse.ucsc.edu/goldenpath/hg19/liftOver/hg19ToHg38.over.chain.gz"
   ]
  },
  {
   "cell_type": "code",
   "execution_count": null,
   "id": "6f815014",
   "metadata": {
    "ExecuteTime": {
     "end_time": "2021-11-24T04:08:13.857904Z",
     "start_time": "2021-11-24T04:08:12.705Z"
    }
   },
   "outputs": [],
   "source": [
    "cat(system('\n",
    "## Paste your command here followed by : 2>&1\n",
    "', intern=T), sep=\"\\n\")\n"
   ]
  },
  {
   "cell_type": "markdown",
   "id": "3d48c1db-bffb-43f4-a227-8db70f8aa75f",
   "metadata": {},
   "source": [
    "Here is CrossMap's help:"
   ]
  },
  {
   "cell_type": "code",
   "execution_count": null,
   "id": "593d6508-d1d4-43eb-a793-f32ba82e28ac",
   "metadata": {},
   "outputs": [],
   "source": [
    "cat(system('\n",
    "CrossMap.py --help 2>&1\n",
    "', intern=T), sep=\"\\n\")\n"
   ]
  },
  {
   "cell_type": "markdown",
   "id": "23dbcb6f-9bbc-40ac-b9b0-b2b594603e72",
   "metadata": {},
   "source": [
    "As you can see, it supports multiple input formats. We are going to use `bed` as it is the easiest to use. This format is composed of 3 mandatory, tab-separated columns, and an arbitrary number of columns afterwards. The 3 columns are `chr    pos-1    pos`. \n",
    "\n",
    "\n",
    "**Question 2:** Read in the CAD score (`data/PGS000337.txt.gz`) and make it compatible with the BED format."
   ]
  },
  {
   "cell_type": "code",
   "execution_count": null,
   "id": "668cb839",
   "metadata": {
    "ExecuteTime": {
     "end_time": "2021-11-24T04:08:07.832340Z",
     "start_time": "2021-11-24T04:08:07.712Z"
    }
   },
   "outputs": [],
   "source": [
    "library(data.table)\n",
    "# use function fread"
   ]
  },
  {
   "cell_type": "code",
   "execution_count": null,
   "id": "8ee7d345",
   "metadata": {
    "ExecuteTime": {
     "end_time": "2021-11-24T04:08:10.002189Z",
     "start_time": "2021-11-24T04:08:10.465Z"
    }
   },
   "outputs": [],
   "source": [
    "# create a new column subtracting 1 from the position\n",
    "# reorder columns if necessary\n",
    "# use function fwrite to write file to disk, use tab, do not print header, do not use quotes"
   ]
  },
  {
   "cell_type": "markdown",
   "id": "8c7724c2-f71b-4b24-af16-544edfb29615",
   "metadata": {},
   "source": [
    "**Question 3:** Use `CrossMap bed` to convert the positions in the CAD score from build 37 to build 38."
   ]
  },
  {
   "cell_type": "code",
   "execution_count": null,
   "id": "c3a46e95",
   "metadata": {
    "ExecuteTime": {
     "end_time": "2021-11-24T04:08:19.851545Z",
     "start_time": "2021-11-24T04:08:17.904Z"
    }
   },
   "outputs": [],
   "source": [
    "cat(system('\n",
    "CrossMap.py bed --help 2>&1\n",
    "', intern=T), sep=\"\\n\")\n"
   ]
  },
  {
   "cell_type": "markdown",
   "id": "726ee5b4-74e0-4b3f-b462-8989b9ba3304",
   "metadata": {},
   "source": [
    "**Question 4:** Read in the lifted over file, remove the second column (`pos - 1`), remove any position that maps outside of the autosomes (chr1-chr22), and check that no variant maps to several positions on build 38."
   ]
  },
  {
   "cell_type": "code",
   "execution_count": null,
   "id": "a6a05137",
   "metadata": {
    "ExecuteTime": {
     "end_time": "2021-11-24T04:08:25.157148Z",
     "start_time": "2021-11-24T04:08:25.608Z"
    }
   },
   "outputs": [],
   "source": [
    "# DT[,col:=NULL] will remove column \"col\"\n",
    "# use setnames to rename columns\n",
    "# use %in% to check whether members of a vector contains values from another\n",
    "# use function table to count occurrences of an element in a vector, or DT[,.N, by=col]"
   ]
  },
  {
   "cell_type": "markdown",
   "id": "7ed0d9dd-4216-4941-9a1c-336c4c56bea8",
   "metadata": {},
   "source": [
    "**Question 5:** Create a tab-separated, headerless score file for your lifted over CAD score, with the following columns :\n",
    "* `id` which has the form chr1:1234\n",
    "* `effect_allele`\n",
    "* `effect_weight`"
   ]
  },
  {
   "cell_type": "code",
   "execution_count": null,
   "id": "113fa4b6",
   "metadata": {
    "ExecuteTime": {
     "end_time": "2021-11-23T10:00:59.026957Z",
     "start_time": "2021-11-23T10:00:57.577Z"
    }
   },
   "outputs": [],
   "source": [
    "# use paste and paste0 to concatenate columns"
   ]
  },
  {
   "cell_type": "markdown",
   "id": "0b685b4e-64d2-4a91-a068-32c3efde9eed",
   "metadata": {},
   "source": [
    "**Question 6:** Do the same for the MEP1B protein score located at `data/MEP1B.gilly.prs.txt`. The coordinates in that file are already in build 38, you only need to reformat the file, not lift it over."
   ]
  },
  {
   "cell_type": "code",
   "execution_count": null,
   "id": "4577d1c5",
   "metadata": {
    "ExecuteTime": {
     "end_time": "2021-11-23T10:01:02.342285Z",
     "start_time": "2021-11-23T10:01:00.969Z"
    }
   },
   "outputs": [],
   "source": []
  },
  {
   "cell_type": "markdown",
   "id": "d0eb72c1",
   "metadata": {
    "ExecuteTime": {
     "end_time": "2021-11-23T09:42:07.219359Z",
     "start_time": "2021-11-23T09:42:05.868Z"
    }
   },
   "source": [
    "## Applying scores\n",
    "\n",
    "We will now apply the scores to a cohort of 1,000 individuals. From the lecture, you will remember that we need genotype data for these individuals as well as the weights contained in the score files above. We will first use PLINK, a popular genetic toolbox installed in this environment. Then we will do it manually, and compare the results."
   ]
  },
  {
   "cell_type": "markdown",
   "id": "4df64b88",
   "metadata": {},
   "source": [
    "### Method 1 : using PLINK\n",
    "\n",
    "**Question 7:** Check the PLINK 1.9 user manual for applying risk scores and create two score profiles. Use the `data/autosomal.forPRS.{bed|bim|fam}` dataset for genotypes and the score files you have created in questions 6 and 7."
   ]
  },
  {
   "cell_type": "code",
   "execution_count": null,
   "id": "5ce5d1da",
   "metadata": {
    "ExecuteTime": {
     "end_time": "2021-11-23T10:01:05.932512Z",
     "start_time": "2021-11-23T10:01:03.884Z"
    }
   },
   "outputs": [],
   "source": [
    "cat(system('\n",
    "plink --help\n",
    "', intern=T), sep=\"\\n\")"
   ]
  },
  {
   "cell_type": "markdown",
   "id": "51bbae86",
   "metadata": {},
   "source": [
    "#### Visualising scores\n",
    "\n",
    "**Question 8:** Visualise the distributions of scores for the two scores you have just calculated. Comment on the distribution shape for both scores."
   ]
  },
  {
   "cell_type": "code",
   "execution_count": null,
   "id": "0b59b451",
   "metadata": {
    "ExecuteTime": {
     "end_time": "2021-11-23T10:01:08.353232Z",
     "start_time": "2021-11-23T10:01:06.747Z"
    }
   },
   "outputs": [],
   "source": [
    "# use the 'hist' function, increase bins by using the 'breaks' argument"
   ]
  },
  {
   "cell_type": "markdown",
   "id": "869ac4c7",
   "metadata": {},
   "source": [
    "### Method 2: Manually applying scores (bonus section, only if you are proficient with data.table and/or data wrangling in R)\n",
    "\n",
    "We do not exactly know what PLINK did for us. We can repeat the process manually using R data.table's data manipulation tools.\n",
    "\n",
    "**Question 9:** Load the `autosomal.forPRS.mx.traw` file. It is a matrix of genotypes with positions as rows and samples as columns. There are 7 \"header\" columns describing each position. For each score, restrict the dataframe to the positions in the score file, then apply an element-wise multiplication column by column, and sum the weighted genotypes: $score_j=\\sum_{i \\in SNPs}w_i*g_i$ where $i$ denotes SNPs and $j$ denotes individuals. For the CAD score, beware that the score file and genotype file do not contain the same variants, and that alleles may be different even if they are present."
   ]
  },
  {
   "cell_type": "code",
   "execution_count": null,
   "id": "136fee10",
   "metadata": {
    "ExecuteTime": {
     "end_time": "2021-11-23T10:01:28.368632Z",
     "start_time": "2021-11-23T10:01:24.409Z"
    }
   },
   "outputs": [],
   "source": [
    "# read the traw\n",
    "# read the famfile\n",
    "# subset the traw\n",
    "# create a new DF with the subset of SNPs in the MEP1B score\n",
    "# apply the score using lapply and colSums"
   ]
  },
  {
   "cell_type": "markdown",
   "id": "e9e0e703",
   "metadata": {
    "ExecuteTime": {
     "start_time": "2021-11-23T09:54:46.899Z"
    }
   },
   "source": [
    "<div class=\"alert alert-warning\"> You might be thinking of <code>cadg=genos[SNP %in% cadscore$id]</code> which usually works. But this binder has very low memory, so a merge is more efficient. Don't forget to <code>gc()</code> from time to time to free up memory."
   ]
  },
  {
   "cell_type": "code",
   "execution_count": null,
   "id": "a3c95ea8",
   "metadata": {},
   "outputs": [],
   "source": [
    "# merge the cad score DF with the traw DF and delete the traw DF from memory"
   ]
  },
  {
   "cell_type": "code",
   "execution_count": null,
   "id": "e41fdfce-0884-4ee5-9033-1ec7825ed41b",
   "metadata": {},
   "outputs": [],
   "source": [
    "# compare alleles from the score to the COUNTED allele in the traw. Identical ones are fine.\n",
    "# for discordant ones, you can either discard them or try to match the ALT allele and flip the effects"
   ]
  },
  {
   "cell_type": "markdown",
   "id": "fb000579-0bf9-4bfb-836d-bdc6d9c33fef",
   "metadata": {},
   "source": [
    "**Question 10:** Merge all scores into a single dataframe, and compute the correlations between your scores and the ones calculated by PLINK. Where do you think the difference comes from?"
   ]
  },
  {
   "cell_type": "code",
   "execution_count": null,
   "id": "7b5870b7-7599-4325-b365-82a3aafe0da6",
   "metadata": {},
   "outputs": [],
   "source": [
    "# use merge and cor"
   ]
  },
  {
   "cell_type": "markdown",
   "id": "ede949d6-715c-4036-acb8-be22691e3ad2",
   "metadata": {},
   "source": [
    "## Predictive accuracy of MEP1B levels and CAD events\n",
    "\n",
    "**Question 11:** Load the CAD and MEP1B phenotypes for these individuals in `data/CAD.phenotype` and `data/MEP1B.phenotype`. Compute the Pearson's correlation for MEP1B, and the odds ratio for people in the top vs bottom deciles of the distribution for CAD. What can you say about the predictive accuracy of both scores?\n"
   ]
  },
  {
   "cell_type": "code",
   "execution_count": null,
   "id": "2d767f85-7719-4851-9c93-94c1ce18e26f",
   "metadata": {},
   "outputs": [],
   "source": [
    "# For MEP1B, merge and cor again, you can plot(x,y) to produce a scatterplot"
   ]
  },
  {
   "cell_type": "code",
   "execution_count": null,
   "id": "ca5339fd-b5b3-4d3d-bcf7-2bde0b6d860e",
   "metadata": {},
   "outputs": [],
   "source": [
    "# For CAD, compute score quantiles using `quantile`, and check number of C/c using table.\n",
    "# then calculate the odds ratio using simple arithmetic"
   ]
  },
  {
   "cell_type": "markdown",
   "id": "98a15b89-bbbc-463a-b2ea-9eb0bf7ea42a",
   "metadata": {},
   "source": [
    "## PRS and Polygenicity\n",
    "\n",
    "Until now, we have applied two genetic risk scores and examined how well they predict actual phenotypes. We will now examine what these scores can tell us about the genetic architecture of these traits.\n",
    "\n",
    "**Question 12:** How many variants are present in each score? Does that correspond to what you know of the genetic architecture of both traits?"
   ]
  },
  {
   "cell_type": "code",
   "execution_count": null,
   "id": "ec4a35bf-360f-422e-9b2b-78712e90a0bb",
   "metadata": {},
   "outputs": [],
   "source": [
    "#nrow or dim"
   ]
  },
  {
   "cell_type": "markdown",
   "id": "5ca73a5d-3aba-4265-85d9-f37adf0fdada",
   "metadata": {},
   "source": [
    "MEP1B is a protein trait, expected to be much less polygenic than CAD, a complex trait."
   ]
  },
  {
   "cell_type": "markdown",
   "id": "6810cc8b-786b-4baa-b8e9-0e89e636c6d1",
   "metadata": {},
   "source": [
    "**Question 13:** Perform a genome-wide association, using each score profile as a phenotype (you will need to create a properly formatted `.pheno` file) and `PRS.course.testset` as a binary genotype set, using PLINK's `--assoc` flag. You can use `manqq::fastqq(P)` to visualise the results. What can you say about these association results?"
   ]
  },
  {
   "cell_type": "code",
   "execution_count": null,
   "id": "4d503825-f142-4edb-9118-e92278240554",
   "metadata": {},
   "outputs": [],
   "source": [
    "# plink wants FID IID and pheno as columns, no header.\n",
    "# tstrsplit may be useful to create 2 columns from a split"
   ]
  },
  {
   "cell_type": "markdown",
   "id": "7f7dfd1d-035e-44dc-a3c1-e22fdd951785",
   "metadata": {},
   "source": [
    "\n",
    "**Question 16:** This cohort is multiethnic, and there is therefore a strong chance that some score variants will be correlated with ethnicity. Use the genetic principal components from `data/PCs.eigenvec` and use them as covariates using the `--linear` and `--covar` flags of PLINK. Check that your association results are now well-behaved. You can use `manqq::fastmanh(DT, no_annot=T)` to visualise results, where `DT` has three columns: `chr`, `pos` and `p`.\n",
    "\n",
    "<div class=\"alert alert-warning\">Running associations in linear mode can be quite slow (~10 minutes).</div>\n"
   ]
  },
  {
   "cell_type": "code",
   "execution_count": null,
   "id": "6de8e784-9b86-449f-b7fe-3b08c325f3be",
   "metadata": {
    "scrolled": true
   },
   "outputs": [],
   "source": [
    "# be careful to remove NAs and 0s from the P-values in your DF"
   ]
  },
  {
   "cell_type": "markdown",
   "id": "ddd9bdca-ea10-4bc2-9ecd-37dd4b0cb45f",
   "metadata": {},
   "source": [
    "**Question 17:** What can you deduce from the two manhattan plots about the architecture of these two traits?"
   ]
  }
 ],
 "metadata": {
  "hide_input": false,
  "kernelspec": {
   "display_name": "R",
   "language": "R",
   "name": "ir"
  },
  "language_info": {
   "codemirror_mode": "r",
   "file_extension": ".r",
   "mimetype": "text/x-r-source",
   "name": "R",
   "pygments_lexer": "r",
   "version": "4.1.1"
  },
  "toc": {
   "base_numbering": 1,
   "nav_menu": {},
   "number_sections": true,
   "sideBar": true,
   "skip_h1_title": false,
   "title_cell": "Table of Contents",
   "title_sidebar": "Contents",
   "toc_cell": false,
   "toc_position": {},
   "toc_section_display": true,
   "toc_window_display": false
  }
 },
 "nbformat": 4,
 "nbformat_minor": 5
}
