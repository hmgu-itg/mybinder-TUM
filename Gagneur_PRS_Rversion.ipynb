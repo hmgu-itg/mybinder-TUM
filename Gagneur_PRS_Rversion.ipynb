{
 "cells": [
  {
   "cell_type": "markdown",
   "id": "cd38a216",
   "metadata": {},
   "source": [
    "## Lifting over the polygenic score\n"
   ]
  },
  {
   "cell_type": "code",
   "execution_count": 4,
   "id": "77dc9972",
   "metadata": {
    "ExecuteTime": {
     "end_time": "2021-11-23T09:33:12.708140Z",
     "start_time": "2021-11-23T09:33:10.155Z"
    }
   },
   "outputs": [
    {
     "name": "stdout",
     "output_type": "stream",
     "text": [
      "Defaulting to user installation because normal site-packages is not writeable\n",
      "Requirement already satisfied: CrossMap in /home/itg/arthur.gilly/.local/lib/python3.10/site-packages (0.5.4)\n",
      "Requirement already satisfied: bx-python in /home/itg/arthur.gilly/.local/lib/python3.10/site-packages (from CrossMap) (0.8.11)\n",
      "Requirement already satisfied: pysam in /home/itg/arthur.gilly/.local/lib/python3.10/site-packages (from CrossMap) (0.17.0)\n",
      "Requirement already satisfied: cython>=0.17 in /home/itg/arthur.gilly/.local/lib/python3.10/site-packages (from CrossMap) (0.29.24)\n",
      "Requirement already satisfied: pyBigWig in /home/itg/arthur.gilly/.local/lib/python3.10/site-packages (from CrossMap) (0.3.18)\n",
      "Requirement already satisfied: numpy in /usr/local/lib/python3.10/site-packages (from bx-python->CrossMap) (1.21.3)\n"
     ]
    }
   ],
   "source": [
    "cat(system(\"\n",
    "pip3 install CrossMap\", intern=T), sep=\"\\n\")"
   ]
  },
  {
   "cell_type": "code",
   "execution_count": 56,
   "id": "a0e1df6d",
   "metadata": {
    "ExecuteTime": {
     "end_time": "2021-11-23T09:05:23.900726Z",
     "start_time": "2021-11-23T09:05:21.925Z"
    }
   },
   "outputs": [
    {
     "name": "stdout",
     "output_type": "stream",
     "text": [
      "\n"
     ]
    }
   ],
   "source": [
    "cat(system('\n",
    "wget https://ftp.ebi.ac.uk/pub/databases/spot/pgs/scores/PGS000337/ScoringFiles/PGS000337.txt.gz\n",
    "', intern=T), sep=\"\\n\")\n"
   ]
  },
  {
   "cell_type": "code",
   "execution_count": 1,
   "id": "668cb839",
   "metadata": {
    "ExecuteTime": {
     "end_time": "2021-11-24T04:08:07.832340Z",
     "start_time": "2021-11-24T04:08:07.712Z"
    }
   },
   "outputs": [],
   "source": [
    "library(data.table)\n",
    "cadscore=fread(\"PGS000337.txt.gz\")"
   ]
  },
  {
   "cell_type": "code",
   "execution_count": 2,
   "id": "8ee7d345",
   "metadata": {
    "ExecuteTime": {
     "end_time": "2021-11-24T04:08:10.002189Z",
     "start_time": "2021-11-24T04:08:10.465Z"
    }
   },
   "outputs": [],
   "source": [
    "cadscore[,start:=chr_position - 1]\n",
    "setcolorder(cadscore, c(\"chr_name\", \"start\", colnames(cadscore)[2:5]))\n",
    "fwrite(cadscore, \"cad.bed\", col.names=F, sep=\"\\t\", quote=F)"
   ]
  },
  {
   "cell_type": "code",
   "execution_count": 3,
   "id": "6f815014",
   "metadata": {
    "ExecuteTime": {
     "end_time": "2021-11-24T04:08:13.857904Z",
     "start_time": "2021-11-24T04:08:12.705Z"
    }
   },
   "outputs": [
    {
     "name": "stdout",
     "output_type": "stream",
     "text": [
      "downloading\n",
      "--2021-11-24 05:08:12--  https://hgdownload.cse.ucsc.edu/goldenpath/hg19/liftOver/hg19ToHg38.over.chain.gz\n",
      "Resolving hgdownload.cse.ucsc.edu (hgdownload.cse.ucsc.edu)... 128.114.119.163\n",
      "Connecting to hgdownload.cse.ucsc.edu (hgdownload.cse.ucsc.edu)|128.114.119.163|:443... connected.\n",
      "HTTP request sent, awaiting response... 200 OK\n",
      "Length: 227698 (222K) [application/x-gzip]\n",
      "Saving to: 'hg19ToHg38.over.chain.gz'\n",
      "\n",
      "     0K .......... .......... .......... .......... .......... 22%  147K 1s\n",
      "    50K .......... .......... .......... .......... .......... 44%  295K 1s\n",
      "   100K .......... .......... .......... .......... .......... 67% 43.2M 0s\n",
      "   150K .......... .......... .......... .......... .......... 89% 1.24M 0s\n",
      "   200K .......... .......... ..                              100% 31.2M=0.6s\n",
      "\n",
      "2021-11-24 05:08:13 (404 KB/s) - 'hg19ToHg38.over.chain.gz' saved [227698/227698]\n",
      "\n"
     ]
    }
   ],
   "source": [
    "cat(system('\n",
    "(rm *.chain.gz || echo downloading) && wget https://hgdownload.cse.ucsc.edu/goldenpath/hg19/liftOver/hg19ToHg38.over.chain.gz 2>&1\n",
    "', intern=T), sep=\"\\n\")\n"
   ]
  },
  {
   "cell_type": "code",
   "execution_count": 4,
   "id": "c3a46e95",
   "metadata": {
    "ExecuteTime": {
     "end_time": "2021-11-24T04:08:19.851545Z",
     "start_time": "2021-11-24T04:08:17.904Z"
    }
   },
   "outputs": [
    {
     "name": "stdout",
     "output_type": "stream",
     "text": [
      "2021-11-24 05:08:18 [INFO]  Read the chain file \"hg19ToHg38.over.chain\" \n"
     ]
    }
   ],
   "source": [
    "cat(system('\n",
    "gunzip *chain.gz\n",
    "~/.local/bin/CrossMap.py bed hg19ToHg38.over.chain cad.bed cad.38.bed 2>&1\n",
    "', intern=T), sep=\"\\n\")\n"
   ]
  },
  {
   "cell_type": "code",
   "execution_count": 5,
   "id": "a6a05137",
   "metadata": {
    "ExecuteTime": {
     "end_time": "2021-11-24T04:08:25.157148Z",
     "start_time": "2021-11-24T04:08:25.608Z"
    }
   },
   "outputs": [],
   "source": [
    "liftedover=fread(\"cad.38.bed\")"
   ]
  },
  {
   "cell_type": "code",
   "execution_count": 6,
   "id": "9eb8e579",
   "metadata": {
    "ExecuteTime": {
     "end_time": "2021-11-24T04:08:28.579688Z",
     "start_time": "2021-11-24T04:08:29.056Z"
    }
   },
   "outputs": [
    {
     "data": {
      "text/html": [
       "<table class=\"dataframe\">\n",
       "<caption>A data.table: 6 x 6</caption>\n",
       "<thead>\n",
       "\t<tr><th scope=col>chr_name</th><th scope=col>start</th><th scope=col>chr_position</th><th scope=col>effect_allele</th><th scope=col>effect_weight</th><th scope=col>variant_description</th></tr>\n",
       "\t<tr><th scope=col>&lt;chr&gt;</th><th scope=col>&lt;int&gt;</th><th scope=col>&lt;int&gt;</th><th scope=col>&lt;chr&gt;</th><th scope=col>&lt;dbl&gt;</th><th scope=col>&lt;chr&gt;</th></tr>\n",
       "</thead>\n",
       "<tbody>\n",
       "\t<tr><td>1</td><td>1023850</td><td>1023851</td><td>A</td><td> 0.0113215</td><td>1:959231:G:A </td></tr>\n",
       "\t<tr><td>1</td><td>1184477</td><td>1184478</td><td>T</td><td>-0.0165875</td><td>1:1119858:C:T</td></tr>\n",
       "\t<tr><td>1</td><td>1186643</td><td>1186644</td><td>C</td><td> 0.0135431</td><td>1:1122024:T:C</td></tr>\n",
       "\t<tr><td>1</td><td>1219477</td><td>1219478</td><td>T</td><td>-0.0243073</td><td>1:1154858:C:T</td></tr>\n",
       "\t<tr><td>1</td><td>1236036</td><td>1236037</td><td>T</td><td>-0.0126844</td><td>1:1171417:C:T</td></tr>\n",
       "\t<tr><td>1</td><td>1274971</td><td>1274972</td><td>G</td><td>-0.0193357</td><td>1:1210352:A:G</td></tr>\n",
       "</tbody>\n",
       "</table>\n"
      ],
      "text/latex": [
       "A data.table: 6 x 6\n",
       "\\begin{tabular}{llllll}\n",
       " chr\\_name & start & chr\\_position & effect\\_allele & effect\\_weight & variant\\_description\\\\\n",
       " <chr> & <int> & <int> & <chr> & <dbl> & <chr>\\\\\n",
       "\\hline\n",
       "\t 1 & 1023850 & 1023851 & A &  0.0113215 & 1:959231:G:A \\\\\n",
       "\t 1 & 1184477 & 1184478 & T & -0.0165875 & 1:1119858:C:T\\\\\n",
       "\t 1 & 1186643 & 1186644 & C &  0.0135431 & 1:1122024:T:C\\\\\n",
       "\t 1 & 1219477 & 1219478 & T & -0.0243073 & 1:1154858:C:T\\\\\n",
       "\t 1 & 1236036 & 1236037 & T & -0.0126844 & 1:1171417:C:T\\\\\n",
       "\t 1 & 1274971 & 1274972 & G & -0.0193357 & 1:1210352:A:G\\\\\n",
       "\\end{tabular}\n"
      ],
      "text/markdown": [
       "\n",
       "A data.table: 6 x 6\n",
       "\n",
       "| chr_name &lt;chr&gt; | start &lt;int&gt; | chr_position &lt;int&gt; | effect_allele &lt;chr&gt; | effect_weight &lt;dbl&gt; | variant_description &lt;chr&gt; |\n",
       "|---|---|---|---|---|---|\n",
       "| 1 | 1023850 | 1023851 | A |  0.0113215 | 1:959231:G:A  |\n",
       "| 1 | 1184477 | 1184478 | T | -0.0165875 | 1:1119858:C:T |\n",
       "| 1 | 1186643 | 1186644 | C |  0.0135431 | 1:1122024:T:C |\n",
       "| 1 | 1219477 | 1219478 | T | -0.0243073 | 1:1154858:C:T |\n",
       "| 1 | 1236036 | 1236037 | T | -0.0126844 | 1:1171417:C:T |\n",
       "| 1 | 1274971 | 1274972 | G | -0.0193357 | 1:1210352:A:G |\n",
       "\n"
      ],
      "text/plain": [
       "  chr_name start   chr_position effect_allele effect_weight variant_description\n",
       "1 1        1023850 1023851      A              0.0113215    1:959231:G:A       \n",
       "2 1        1184477 1184478      T             -0.0165875    1:1119858:C:T      \n",
       "3 1        1186643 1186644      C              0.0135431    1:1122024:T:C      \n",
       "4 1        1219477 1219478      T             -0.0243073    1:1154858:C:T      \n",
       "5 1        1236036 1236037      T             -0.0126844    1:1171417:C:T      \n",
       "6 1        1274971 1274972      G             -0.0193357    1:1210352:A:G      "
      ]
     },
     "metadata": {},
     "output_type": "display_data"
    }
   ],
   "source": [
    "setnames(liftedover, colnames(cadscore))\n",
    "head(liftedover)"
   ]
  },
  {
   "cell_type": "code",
   "execution_count": 7,
   "id": "fad35203",
   "metadata": {
    "ExecuteTime": {
     "end_time": "2021-11-24T04:08:30.294586Z",
     "start_time": "2021-11-24T04:08:30.808Z"
    }
   },
   "outputs": [],
   "source": [
    "liftedover[,start:=NULL]"
   ]
  },
  {
   "cell_type": "code",
   "execution_count": 8,
   "id": "979c940a",
   "metadata": {
    "ExecuteTime": {
     "end_time": "2021-11-24T04:08:32.990041Z",
     "start_time": "2021-11-24T04:08:33.505Z"
    }
   },
   "outputs": [
    {
     "data": {
      "text/html": [
       "75001"
      ],
      "text/latex": [
       "75001"
      ],
      "text/markdown": [
       "75001"
      ],
      "text/plain": [
       "[1] 75001"
      ]
     },
     "metadata": {},
     "output_type": "display_data"
    }
   ],
   "source": [
    "nrow(liftedover)"
   ]
  },
  {
   "cell_type": "code",
   "execution_count": 9,
   "id": "84a59dba",
   "metadata": {
    "ExecuteTime": {
     "end_time": "2021-11-24T04:08:37.559381Z",
     "start_time": "2021-11-24T04:08:38.041Z"
    }
   },
   "outputs": [],
   "source": [
    "liftedover=liftedover[chr_name %in% 1:22,]"
   ]
  },
  {
   "cell_type": "code",
   "execution_count": 10,
   "id": "de4b1a53",
   "metadata": {
    "ExecuteTime": {
     "end_time": "2021-11-24T04:08:38.797473Z",
     "start_time": "2021-11-24T04:08:39.312Z"
    }
   },
   "outputs": [
    {
     "data": {
      "text/html": [
       "74999"
      ],
      "text/latex": [
       "74999"
      ],
      "text/markdown": [
       "74999"
      ],
      "text/plain": [
       "[1] 74999"
      ]
     },
     "metadata": {},
     "output_type": "display_data"
    }
   ],
   "source": [
    "nrow(liftedover)"
   ]
  },
  {
   "cell_type": "code",
   "execution_count": null,
   "id": "bc78be49",
   "metadata": {
    "ExecuteTime": {
     "start_time": "2021-11-24T04:08:41.297Z"
    }
   },
   "outputs": [],
   "source": [
    "ct=liftedover[,.N,by=variant_description]"
   ]
  },
  {
   "cell_type": "code",
   "execution_count": 9,
   "id": "e3e7b983",
   "metadata": {
    "ExecuteTime": {
     "end_time": "2021-11-23T09:38:14.467049Z",
     "start_time": "2021-11-23T09:38:00.411Z"
    }
   },
   "outputs": [
    {
     "name": "stdout",
     "output_type": "stream",
     "text": [
      "--2021-11-23 10:38:01--  https://www.dropbox.com/s/o71gg622t2vnjqu/MEP1B.gilly.prs.txt?dl=1\n",
      "Resolving www.dropbox.com (www.dropbox.com)... 162.125.66.18, 2620:100:6022:18::a27d:4212\n",
      "Connecting to www.dropbox.com (www.dropbox.com)|162.125.66.18|:443... connected.\n",
      "HTTP request sent, awaiting response... 301 Moved Permanently\n",
      "Location: /s/dl/o71gg622t2vnjqu/MEP1B.gilly.prs.txt [following]\n",
      "--2021-11-23 10:38:02--  https://www.dropbox.com/s/dl/o71gg622t2vnjqu/MEP1B.gilly.prs.txt\n",
      "Reusing existing connection to www.dropbox.com:443.\n",
      "HTTP request sent, awaiting response... 302 Found\n",
      "Location: https://uc8cef4ff1e00cdffade5ec96f5d.dl.dropboxusercontent.com/cd/0/get/BahOvQYkIG0DgQjui9p0MSLlWWAGEZsmNii8V6nGPLN6iTPPR8d1z_7gxqQ4YLiHqlm9p8TnGwwZqEt19xK5mFO8dRmT4bHjs0v0oCrn_UUcgGtN4cmwHe_dhG7isWHh934s8uf7PpJO2Z8eHAM8dGFK/file?dl=1# [following]\n",
      "--2021-11-23 10:38:03--  https://uc8cef4ff1e00cdffade5ec96f5d.dl.dropboxusercontent.com/cd/0/get/BahOvQYkIG0DgQjui9p0MSLlWWAGEZsmNii8V6nGPLN6iTPPR8d1z_7gxqQ4YLiHqlm9p8TnGwwZqEt19xK5mFO8dRmT4bHjs0v0oCrn_UUcgGtN4cmwHe_dhG7isWHh934s8uf7PpJO2Z8eHAM8dGFK/file?dl=1\n",
      "Resolving uc8cef4ff1e00cdffade5ec96f5d.dl.dropboxusercontent.com (uc8cef4ff1e00cdffade5ec96f5d.dl.dropboxusercontent.com)... 162.125.66.15, 2620:100:6022:15::a27d:420f\n",
      "Connecting to uc8cef4ff1e00cdffade5ec96f5d.dl.dropboxusercontent.com (uc8cef4ff1e00cdffade5ec96f5d.dl.dropboxusercontent.com)|162.125.66.15|:443... connected.\n",
      "HTTP request sent, awaiting response... 200 OK\n",
      "Length: 417 [application/binary]\n",
      "Saving to: 'MEP1B.gilly.prs.txt'\n",
      "\n",
      "     0K                                                       100% 42.0M=0s\n",
      "\n",
      "2021-11-23 10:38:03 (42.0 MB/s) - 'MEP1B.gilly.prs.txt' saved [417/417]\n",
      "\n",
      "autosomal.forPRS.mx.traw\n",
      "autosomal.forPRS.bed\n",
      "autosomal.forPRS.bim\n",
      "autosomal.forPRS.fam\n",
      "PRS.course.testset.bed\n",
      "PRS.course.testset.bim\n",
      "PRS.course.testset.fam\n"
     ]
    }
   ],
   "source": [
    "cat(system('\n",
    "wget https://www.dropbox.com/s/o71gg622t2vnjqu/MEP1B.gilly.prs.txt?dl=1 -O MEP1B.gilly.prs.txt 2>&1\n",
    "wget -O PRS.course.forscore.tar.gz https://www.dropbox.com/s/civmjfv89ou72cc/PRS.course.forscore.tar.gz?dl=1 && tar -xvzf PRS.course.forscore.tar.gz 2>&1\n",
    "wget -O PRS.course.geno.tar.gz https://www.dropbox.com/s/oml7xw36yse7lld/PRS.course.geno.tar.gz?dl=1 && tar -xvzf PRS.course.geno.tar.gz 2>&1\n",
    "', intern=T), sep=\"\\n\")"
   ]
  },
  {
   "cell_type": "code",
   "execution_count": 10,
   "id": "113fa4b6",
   "metadata": {
    "ExecuteTime": {
     "end_time": "2021-11-23T10:00:59.026957Z",
     "start_time": "2021-11-23T10:00:57.577Z"
    }
   },
   "outputs": [],
   "source": [
    "cadscore=liftedover\n",
    "cadscore[,id:=paste0(\"chr\", chr_name, \":\", chr_position)]\n",
    "fwrite(cadscore[,c(\"id\", \"effect_allele\", \"effect_weight\")], \"CAD.score\", sep=\"\\t\", col.names=F, quote=F)"
   ]
  },
  {
   "cell_type": "code",
   "execution_count": 11,
   "id": "e1624a30",
   "metadata": {
    "ExecuteTime": {
     "end_time": "2021-11-23T10:01:00.426646Z",
     "start_time": "2021-11-23T10:00:59.082Z"
    }
   },
   "outputs": [],
   "source": [
    "mepscore=fread(\"MEP1B.gilly.prs.txt\")"
   ]
  },
  {
   "cell_type": "code",
   "execution_count": 12,
   "id": "4b4b6893",
   "metadata": {
    "ExecuteTime": {
     "end_time": "2021-11-23T10:01:01.532532Z",
     "start_time": "2021-11-23T10:01:00.185Z"
    }
   },
   "outputs": [],
   "source": [
    "mepscore[,id:=paste0(\"chr\", chr, \":\", pos)]\n",
    "fwrite(mepscore[,c(\"id\", \"A1\", \"effect\")], \"MEP1B.score\", sep=\"\\t\", col.names=F, quote=F)"
   ]
  },
  {
   "cell_type": "code",
   "execution_count": 13,
   "id": "4577d1c5",
   "metadata": {
    "ExecuteTime": {
     "end_time": "2021-11-23T10:01:02.342285Z",
     "start_time": "2021-11-23T10:01:00.969Z"
    }
   },
   "outputs": [
    {
     "name": "stdout",
     "output_type": "stream",
     "text": [
      "==> CAD.score <==\n",
      "chr1:1023851\tA\t0.0113215\n",
      "chr1:1184478\tT\t-0.0165875\n",
      "chr1:1186644\tC\t0.0135431\n",
      "chr1:1219478\tT\t-0.0243073\n",
      "chr1:1236037\tT\t-0.0126844\n",
      "chr1:1274972\tG\t-0.0193357\n",
      "chr1:1276547\tT\t-0.0211415\n",
      "chr1:1277415\tA\t-0.0213939\n",
      "chr1:1279698\tG\t-0.0209343\n",
      "chr1:1284756\tG\t-0.0178729\n",
      "\n",
      "==> MEP1B.score <==\n",
      "chr18:32038169\tT\t-0.2891709\n",
      "chr18:32067215\tC\t0.4230704\n",
      "chr18:32208550\tG\t-0.6470447\n",
      "chr18:32224458\tT\t-0.6871607\n",
      "chr18:32224900\tA\t-1.070113\n",
      "chr18:32317264\tC\t-0.556034\n",
      "chr18:32337385\tC\t0.3294772\n"
     ]
    }
   ],
   "source": [
    "cat(system('\n",
    "head *.score\n",
    "', intern=T), sep=\"\\n\")"
   ]
  },
  {
   "cell_type": "markdown",
   "id": "d0eb72c1",
   "metadata": {
    "ExecuteTime": {
     "end_time": "2021-11-23T09:42:07.219359Z",
     "start_time": "2021-11-23T09:42:05.868Z"
    }
   },
   "source": [
    "## Applying scores"
   ]
  },
  {
   "cell_type": "markdown",
   "id": "4df64b88",
   "metadata": {},
   "source": [
    "### Method 1 : using PLINK"
   ]
  },
  {
   "cell_type": "code",
   "execution_count": 14,
   "id": "5ce5d1da",
   "metadata": {
    "ExecuteTime": {
     "end_time": "2021-11-23T10:01:05.932512Z",
     "start_time": "2021-11-23T10:01:03.884Z"
    }
   },
   "outputs": [
    {
     "name": "stdout",
     "output_type": "stream",
     "text": [
      "PLINK v1.90b6.24 64-bit (6 Jun 2021)           www.cog-genomics.org/plink/1.9/\n",
      "(C) 2005-2021 Shaun Purcell, Christopher Chang   GNU General Public License v3\n",
      "Logging to CAD.log.\n",
      "Options in effect:\n",
      "  --bfile autosomal.forPRS\n",
      "  --out CAD\n",
      "  --score CAD.score\n",
      "\n",
      "3095754 MB RAM detected; reserving 1547877 MB for main workspace.\n",
      "75624 variants loaded from .bim file.\n",
      "2504 people (0 males, 0 females, 2504 ambiguous) loaded from .fam.\n",
      "Ambiguous sex IDs written to CAD.nosex .\n",
      "Using 1 thread (no multithreaded calculations invoked).\n",
      "Before main variant filters, 2504 founders and 0 nonfounders present.\n",
      "Calculating allele frequencies... 0%\b\b1%\b\b2%\b\b3%\b\b4%\b\b5%\b\b6%\b\b7%\b\b8%\b\b9%\b\b10%\b\b\b11%\b\b\b12%\b\b\b13%\b\b\b14%\b\b\b15%\b\b\b16%\b\b\b17%\b\b\b18%\b\b\b19%\b\b\b20%\b\b\b21%\b\b\b22%\b\b\b23%\b\b\b24%\b\b\b25%\b\b\b26%\b\b\b27%\b\b\b28%\b\b\b29%\b\b\b30%\b\b\b31%\b\b\b32%\b\b\b33%\b\b\b34%\b\b\b35%\b\b\b36%\b\b\b37%\b\b\b38%\b\b\b39%\b\b\b40%\b\b\b41%\b\b\b42%\b\b\b43%\b\b\b44%\b\b\b45%\b\b\b46%\b\b\b47%\b\b\b48%\b\b\b49%\b\b\b50%\b\b\b51%\b\b\b52%\b\b\b53%\b\b\b54%\b\b\b55%\b\b\b56%\b\b\b57%\b\b\b58%\b\b\b59%\b\b\b60%\b\b\b61%\b\b\b62%\b\b\b63%\b\b\b64%\b\b\b65%\b\b\b66%\b\b\b67%\b\b\b68%\b\b\b69%\b\b\b70%\b\b\b71%\b\b\b72%\b\b\b73%\b\b\b74%\b\b\b75%\b\b\b76%\b\b\b77%\b\b\b78%\b\b\b79%\b\b\b80%\b\b\b81%\b\b\b82%\b\b\b83%\b\b\b84%\b\b\b85%\b\b\b86%\b\b\b87%\b\b\b88%\b\b\b89%\b\b\b90%\b\b\b91%\b\b\b92%\b\b\b93%\b\b\b94%\b\b\b95%\b\b\b96%\b\b\b97%\b\b\b98%\b\b\b99%\b\b\b\b done.\n",
      "Total genotyping rate is 0.999812.\n",
      "75624 variants and 2504 people pass filters and QC.\n",
      "Note: No phenotypes present.\n",
      "--score: 74813 valid predictors loaded.\n",
      "--score: Results written to CAD.profile .\n",
      "PLINK v1.90b6.24 64-bit (6 Jun 2021)           www.cog-genomics.org/plink/1.9/\n",
      "(C) 2005-2021 Shaun Purcell, Christopher Chang   GNU General Public License v3\n",
      "Logging to MEP1B.log.\n",
      "Options in effect:\n",
      "  --bfile autosomal.forPRS\n",
      "  --out MEP1B\n",
      "  --score MEP1B.score\n",
      "\n",
      "3095754 MB RAM detected; reserving 1547877 MB for main workspace.\n",
      "75624 variants loaded from .bim file.\n",
      "2504 people (0 males, 0 females, 2504 ambiguous) loaded from .fam.\n",
      "Ambiguous sex IDs written to MEP1B.nosex .\n",
      "Using 1 thread (no multithreaded calculations invoked).\n",
      "Before main variant filters, 2504 founders and 0 nonfounders present.\n",
      "Calculating allele frequencies... 0%\b\b1%\b\b2%\b\b3%\b\b4%\b\b5%\b\b6%\b\b7%\b\b8%\b\b9%\b\b10%\b\b\b11%\b\b\b12%\b\b\b13%\b\b\b14%\b\b\b15%\b\b\b16%\b\b\b17%\b\b\b18%\b\b\b19%\b\b\b20%\b\b\b21%\b\b\b22%\b\b\b23%\b\b\b24%\b\b\b25%\b\b\b26%\b\b\b27%\b\b\b28%\b\b\b29%\b\b\b30%\b\b\b31%\b\b\b32%\b\b\b33%\b\b\b34%\b\b\b35%\b\b\b36%\b\b\b37%\b\b\b38%\b\b\b39%\b\b\b40%\b\b\b41%\b\b\b42%\b\b\b43%\b\b\b44%\b\b\b45%\b\b\b46%\b\b\b47%\b\b\b48%\b\b\b49%\b\b\b50%\b\b\b51%\b\b\b52%\b\b\b53%\b\b\b54%\b\b\b55%\b\b\b56%\b\b\b57%\b\b\b58%\b\b\b59%\b\b\b60%\b\b\b61%\b\b\b62%\b\b\b63%\b\b\b64%\b\b\b65%\b\b\b66%\b\b\b67%\b\b\b68%\b\b\b69%\b\b\b70%\b\b\b71%\b\b\b72%\b\b\b73%\b\b\b74%\b\b\b75%\b\b\b76%\b\b\b77%\b\b\b78%\b\b\b79%\b\b\b80%\b\b\b81%\b\b\b82%\b\b\b83%\b\b\b84%\b\b\b85%\b\b\b86%\b\b\b87%\b\b\b88%\b\b\b89%\b\b\b90%\b\b\b91%\b\b\b92%\b\b\b93%\b\b\b94%\b\b\b95%\b\b\b96%\b\b\b97%\b\b\b98%\b\b\b99%\b\b\b\b done.\n",
      "Total genotyping rate is 0.999812.\n",
      "75624 variants and 2504 people pass filters and QC.\n",
      "Note: No phenotypes present.\n",
      "--score: 7 valid predictors loaded.\n",
      "--score: Results written to MEP1B.profile .\n"
     ]
    }
   ],
   "source": [
    "cat(system('\n",
    "./plink --bfile autosomal.forPRS --score CAD.score --out CAD\n",
    "./plink --bfile autosomal.forPRS --score MEP1B.score --out MEP1B\n",
    "', intern=T), sep=\"\\n\")"
   ]
  },
  {
   "cell_type": "markdown",
   "id": "51bbae86",
   "metadata": {},
   "source": [
    "#### Visualising scores"
   ]
  },
  {
   "cell_type": "code",
   "execution_count": 15,
   "id": "0b59b451",
   "metadata": {
    "ExecuteTime": {
     "end_time": "2021-11-23T10:01:08.353232Z",
     "start_time": "2021-11-23T10:01:06.747Z"
    }
   },
   "outputs": [
    {
     "data": {
      "image/png": "[encoded data removed]",
      "text/plain": [
       "Plot with title \"Histogram of cadsc$SCORE\""
      ]
     },
     "metadata": {
      "image/png": {
       "height": 420,
       "width": 900
      }
     },
     "output_type": "display_data"
    },
    {
     "data": {
      "image/png": "[encoded data removed]",
      "text/plain": [
       "Plot with title \"Histogram of mepsc$SCORE\""
      ]
     },
     "metadata": {
      "image/png": {
       "height": 420,
       "width": 900
      }
     },
     "output_type": "display_data"
    }
   ],
   "source": [
    "cadsc=fread(\"CAD.profile\")\n",
    "options(repr.plot.width=15)\n",
    "hist(cadsc$SCORE, breaks=61)\n",
    "mepsc=fread(\"MEP1B.profile\")\n",
    "hist(mepsc$SCORE, breaks=41)"
   ]
  },
  {
   "cell_type": "markdown",
   "id": "869ac4c7",
   "metadata": {},
   "source": [
    "### Method 2: Manually applying scores"
   ]
  },
  {
   "cell_type": "code",
   "execution_count": 16,
   "id": "136fee10",
   "metadata": {
    "ExecuteTime": {
     "end_time": "2021-11-23T10:01:28.368632Z",
     "start_time": "2021-11-23T10:01:24.409Z"
    }
   },
   "outputs": [],
   "source": [
    "genos=fread(\"autosomal.forPRS.mx.traw\")"
   ]
  },
  {
   "cell_type": "code",
   "execution_count": 17,
   "id": "51f75d4e",
   "metadata": {
    "ExecuteTime": {
     "end_time": "2021-11-23T10:01:31.797193Z",
     "start_time": "2021-11-23T10:01:29.260Z"
    }
   },
   "outputs": [
    {
     "data": {
      "text/html": [
       "<table class=\"dataframe\">\n",
       "<caption>A data.table: 6 x 2510</caption>\n",
       "<thead>\n",
       "\t<tr><th scope=col>CHR</th><th scope=col>SNP</th><th scope=col>(C)M</th><th scope=col>POS</th><th scope=col>COUNTED</th><th scope=col>ALT</th><th scope=col>HG00096_HG00096</th><th scope=col>HG00097_HG00097</th><th scope=col>HG00099_HG00099</th><th scope=col>HG00100_HG00100</th><th scope=col>...</th><th scope=col>NA21128_NA21128</th><th scope=col>NA21129_NA21129</th><th scope=col>NA21130_NA21130</th><th scope=col>NA21133_NA21133</th><th scope=col>NA21135_NA21135</th><th scope=col>NA21137_NA21137</th><th scope=col>NA21141_NA21141</th><th scope=col>NA21142_NA21142</th><th scope=col>NA21143_NA21143</th><th scope=col>NA21144_NA21144</th></tr>\n",
       "\t<tr><th scope=col>&lt;int&gt;</th><th scope=col>&lt;chr&gt;</th><th scope=col>&lt;int&gt;</th><th scope=col>&lt;int&gt;</th><th scope=col>&lt;chr&gt;</th><th scope=col>&lt;chr&gt;</th><th scope=col>&lt;int&gt;</th><th scope=col>&lt;int&gt;</th><th scope=col>&lt;int&gt;</th><th scope=col>&lt;int&gt;</th><th scope=col>...</th><th scope=col>&lt;int&gt;</th><th scope=col>&lt;int&gt;</th><th scope=col>&lt;int&gt;</th><th scope=col>&lt;int&gt;</th><th scope=col>&lt;int&gt;</th><th scope=col>&lt;int&gt;</th><th scope=col>&lt;int&gt;</th><th scope=col>&lt;int&gt;</th><th scope=col>&lt;int&gt;</th><th scope=col>&lt;int&gt;</th></tr>\n",
       "</thead>\n",
       "<tbody>\n",
       "\t<tr><td>1</td><td>chr1:1023851</td><td>0</td><td>1023851</td><td>A</td><td>G</td><td>0</td><td>1</td><td>2</td><td>1</td><td>...</td><td>1</td><td>2</td><td>1</td><td>0</td><td>0</td><td>0</td><td>2</td><td>1</td><td>1</td><td>0</td></tr>\n",
       "\t<tr><td>1</td><td>chr1:1184478</td><td>0</td><td>1184478</td><td>T</td><td>C</td><td>0</td><td>0</td><td>0</td><td>0</td><td>...</td><td>0</td><td>1</td><td>0</td><td>0</td><td>1</td><td>0</td><td>1</td><td>1</td><td>1</td><td>0</td></tr>\n",
       "\t<tr><td>1</td><td>chr1:1186644</td><td>0</td><td>1186644</td><td>C</td><td>T</td><td>0</td><td>0</td><td>0</td><td>0</td><td>...</td><td>1</td><td>0</td><td>2</td><td>1</td><td>0</td><td>1</td><td>1</td><td>1</td><td>1</td><td>0</td></tr>\n",
       "\t<tr><td>1</td><td>chr1:1219478</td><td>0</td><td>1219478</td><td>T</td><td>C</td><td>0</td><td>0</td><td>0</td><td>0</td><td>...</td><td>0</td><td>0</td><td>0</td><td>0</td><td>0</td><td>0</td><td>0</td><td>0</td><td>0</td><td>0</td></tr>\n",
       "\t<tr><td>1</td><td>chr1:1236037</td><td>0</td><td>1236037</td><td>C</td><td>T</td><td>1</td><td>1</td><td>2</td><td>1</td><td>...</td><td>1</td><td>0</td><td>0</td><td>0</td><td>1</td><td>1</td><td>0</td><td>0</td><td>0</td><td>1</td></tr>\n",
       "\t<tr><td>1</td><td>chr1:1274972</td><td>0</td><td>1274972</td><td>G</td><td>A</td><td>0</td><td>0</td><td>0</td><td>0</td><td>...</td><td>0</td><td>1</td><td>1</td><td>1</td><td>0</td><td>1</td><td>1</td><td>2</td><td>2</td><td>0</td></tr>\n",
       "</tbody>\n",
       "</table>\n"
      ],
      "text/latex": [
       "A data.table: 6 x 2510\n",
       "\\begin{tabular}{lllllllllllllllllllll}\n",
       " CHR & SNP & (C)M & POS & COUNTED & ALT & HG00096\\_HG00096 & HG00097\\_HG00097 & HG00099\\_HG00099 & HG00100\\_HG00100 & ... & NA21128\\_NA21128 & NA21129\\_NA21129 & NA21130\\_NA21130 & NA21133\\_NA21133 & NA21135\\_NA21135 & NA21137\\_NA21137 & NA21141\\_NA21141 & NA21142\\_NA21142 & NA21143\\_NA21143 & NA21144\\_NA21144\\\\\n",
       " <int> & <chr> & <int> & <int> & <chr> & <chr> & <int> & <int> & <int> & <int> & ... & <int> & <int> & <int> & <int> & <int> & <int> & <int> & <int> & <int> & <int>\\\\\n",
       "\\hline\n",
       "\t 1 & chr1:1023851 & 0 & 1023851 & A & G & 0 & 1 & 2 & 1 & ... & 1 & 2 & 1 & 0 & 0 & 0 & 2 & 1 & 1 & 0\\\\\n",
       "\t 1 & chr1:1184478 & 0 & 1184478 & T & C & 0 & 0 & 0 & 0 & ... & 0 & 1 & 0 & 0 & 1 & 0 & 1 & 1 & 1 & 0\\\\\n",
       "\t 1 & chr1:1186644 & 0 & 1186644 & C & T & 0 & 0 & 0 & 0 & ... & 1 & 0 & 2 & 1 & 0 & 1 & 1 & 1 & 1 & 0\\\\\n",
       "\t 1 & chr1:1219478 & 0 & 1219478 & T & C & 0 & 0 & 0 & 0 & ... & 0 & 0 & 0 & 0 & 0 & 0 & 0 & 0 & 0 & 0\\\\\n",
       "\t 1 & chr1:1236037 & 0 & 1236037 & C & T & 1 & 1 & 2 & 1 & ... & 1 & 0 & 0 & 0 & 1 & 1 & 0 & 0 & 0 & 1\\\\\n",
       "\t 1 & chr1:1274972 & 0 & 1274972 & G & A & 0 & 0 & 0 & 0 & ... & 0 & 1 & 1 & 1 & 0 & 1 & 1 & 2 & 2 & 0\\\\\n",
       "\\end{tabular}\n"
      ],
      "text/markdown": [
       "\n",
       "A data.table: 6 x 2510\n",
       "\n",
       "| CHR &lt;int&gt; | SNP &lt;chr&gt; | (C)M &lt;int&gt; | POS &lt;int&gt; | COUNTED &lt;chr&gt; | ALT &lt;chr&gt; | HG00096_HG00096 &lt;int&gt; | HG00097_HG00097 &lt;int&gt; | HG00099_HG00099 &lt;int&gt; | HG00100_HG00100 &lt;int&gt; | ... ... | NA21128_NA21128 &lt;int&gt; | NA21129_NA21129 &lt;int&gt; | NA21130_NA21130 &lt;int&gt; | NA21133_NA21133 &lt;int&gt; | NA21135_NA21135 &lt;int&gt; | NA21137_NA21137 &lt;int&gt; | NA21141_NA21141 &lt;int&gt; | NA21142_NA21142 &lt;int&gt; | NA21143_NA21143 &lt;int&gt; | NA21144_NA21144 &lt;int&gt; |\n",
       "|---|---|---|---|---|---|---|---|---|---|---|---|---|---|---|---|---|---|---|---|---|\n",
       "| 1 | chr1:1023851 | 0 | 1023851 | A | G | 0 | 1 | 2 | 1 | ... | 1 | 2 | 1 | 0 | 0 | 0 | 2 | 1 | 1 | 0 |\n",
       "| 1 | chr1:1184478 | 0 | 1184478 | T | C | 0 | 0 | 0 | 0 | ... | 0 | 1 | 0 | 0 | 1 | 0 | 1 | 1 | 1 | 0 |\n",
       "| 1 | chr1:1186644 | 0 | 1186644 | C | T | 0 | 0 | 0 | 0 | ... | 1 | 0 | 2 | 1 | 0 | 1 | 1 | 1 | 1 | 0 |\n",
       "| 1 | chr1:1219478 | 0 | 1219478 | T | C | 0 | 0 | 0 | 0 | ... | 0 | 0 | 0 | 0 | 0 | 0 | 0 | 0 | 0 | 0 |\n",
       "| 1 | chr1:1236037 | 0 | 1236037 | C | T | 1 | 1 | 2 | 1 | ... | 1 | 0 | 0 | 0 | 1 | 1 | 0 | 0 | 0 | 1 |\n",
       "| 1 | chr1:1274972 | 0 | 1274972 | G | A | 0 | 0 | 0 | 0 | ... | 0 | 1 | 1 | 1 | 0 | 1 | 1 | 2 | 2 | 0 |\n",
       "\n"
      ],
      "text/plain": [
       "  CHR SNP          (C)M POS     COUNTED ALT HG00096_HG00096 HG00097_HG00097\n",
       "1 1   chr1:1023851 0    1023851 A       G   0               1              \n",
       "2 1   chr1:1184478 0    1184478 T       C   0               0              \n",
       "3 1   chr1:1186644 0    1186644 C       T   0               0              \n",
       "4 1   chr1:1219478 0    1219478 T       C   0               0              \n",
       "5 1   chr1:1236037 0    1236037 C       T   1               1              \n",
       "6 1   chr1:1274972 0    1274972 G       A   0               0              \n",
       "  HG00099_HG00099 HG00100_HG00100 ... NA21128_NA21128 NA21129_NA21129\n",
       "1 2               1               ... 1               2              \n",
       "2 0               0               ... 0               1              \n",
       "3 0               0               ... 1               0              \n",
       "4 0               0               ... 0               0              \n",
       "5 2               1               ... 1               0              \n",
       "6 0               0               ... 0               1              \n",
       "  NA21130_NA21130 NA21133_NA21133 NA21135_NA21135 NA21137_NA21137\n",
       "1 1               0               0               0              \n",
       "2 0               0               1               0              \n",
       "3 2               1               0               1              \n",
       "4 0               0               0               0              \n",
       "5 0               0               1               1              \n",
       "6 1               1               0               1              \n",
       "  NA21141_NA21141 NA21142_NA21142 NA21143_NA21143 NA21144_NA21144\n",
       "1 2               1               1               0              \n",
       "2 1               1               1               0              \n",
       "3 1               1               1               0              \n",
       "4 0               0               0               0              \n",
       "5 0               0               0               1              \n",
       "6 1               2               2               0              "
      ]
     },
     "metadata": {},
     "output_type": "display_data"
    }
   ],
   "source": [
    "head(genos)"
   ]
  },
  {
   "cell_type": "code",
   "execution_count": 18,
   "id": "eadcd86c",
   "metadata": {
    "ExecuteTime": {
     "end_time": "2021-11-23T10:01:33.956257Z",
     "start_time": "2021-11-23T10:01:32.593Z"
    }
   },
   "outputs": [],
   "source": [
    "spnames=colnames(genos)[7:ncol(genos)]"
   ]
  },
  {
   "cell_type": "code",
   "execution_count": null,
   "id": "8cc84e2e",
   "metadata": {
    "ExecuteTime": {
     "start_time": "2021-11-23T10:01:37.401Z"
    }
   },
   "outputs": [],
   "source": [
    "mepg=genos[SNP %in% mepscore$id]"
   ]
  },
  {
   "cell_type": "code",
   "execution_count": null,
   "id": "9df3dc6e",
   "metadata": {
    "ExecuteTime": {
     "start_time": "2021-11-23T09:59:20.834Z"
    }
   },
   "outputs": [],
   "source": [
    "mepg"
   ]
  },
  {
   "cell_type": "code",
   "execution_count": 34,
   "id": "18b505e5",
   "metadata": {
    "ExecuteTime": {
     "end_time": "2021-11-23T09:50:37.433719Z",
     "start_time": "2021-11-23T09:50:36.082Z"
    }
   },
   "outputs": [
    {
     "data": {
      "text/html": [
       "<table class=\"dataframe\">\n",
       "<caption>A data.table: 7 x 6</caption>\n",
       "<thead>\n",
       "\t<tr><th scope=col>chr</th><th scope=col>pos</th><th scope=col>A1</th><th scope=col>A2</th><th scope=col>effect</th><th scope=col>id</th></tr>\n",
       "\t<tr><th scope=col>&lt;int&gt;</th><th scope=col>&lt;int&gt;</th><th scope=col>&lt;chr&gt;</th><th scope=col>&lt;chr&gt;</th><th scope=col>&lt;dbl&gt;</th><th scope=col>&lt;chr&gt;</th></tr>\n",
       "</thead>\n",
       "<tbody>\n",
       "\t<tr><td>18</td><td>32038169</td><td>T</td><td>C</td><td>-0.2891709</td><td>chr18:32038169</td></tr>\n",
       "\t<tr><td>18</td><td>32067215</td><td>C</td><td>T</td><td> 0.4230704</td><td>chr18:32067215</td></tr>\n",
       "\t<tr><td>18</td><td>32208550</td><td>G</td><td>C</td><td>-0.6470447</td><td>chr18:32208550</td></tr>\n",
       "\t<tr><td>18</td><td>32224458</td><td>T</td><td>C</td><td>-0.6871607</td><td>chr18:32224458</td></tr>\n",
       "\t<tr><td>18</td><td>32224900</td><td>A</td><td>T</td><td>-1.0701130</td><td>chr18:32224900</td></tr>\n",
       "\t<tr><td>18</td><td>32317264</td><td>C</td><td>G</td><td>-0.5560340</td><td>chr18:32317264</td></tr>\n",
       "\t<tr><td>18</td><td>32337385</td><td>C</td><td>T</td><td> 0.3294772</td><td>chr18:32337385</td></tr>\n",
       "</tbody>\n",
       "</table>\n"
      ],
      "text/latex": [
       "A data.table: 7 x 6\n",
       "\\begin{tabular}{llllll}\n",
       " chr & pos & A1 & A2 & effect & id\\\\\n",
       " <int> & <int> & <chr> & <chr> & <dbl> & <chr>\\\\\n",
       "\\hline\n",
       "\t 18 & 32038169 & T & C & -0.2891709 & chr18:32038169\\\\\n",
       "\t 18 & 32067215 & C & T &  0.4230704 & chr18:32067215\\\\\n",
       "\t 18 & 32208550 & G & C & -0.6470447 & chr18:32208550\\\\\n",
       "\t 18 & 32224458 & T & C & -0.6871607 & chr18:32224458\\\\\n",
       "\t 18 & 32224900 & A & T & -1.0701130 & chr18:32224900\\\\\n",
       "\t 18 & 32317264 & C & G & -0.5560340 & chr18:32317264\\\\\n",
       "\t 18 & 32337385 & C & T &  0.3294772 & chr18:32337385\\\\\n",
       "\\end{tabular}\n"
      ],
      "text/markdown": [
       "\n",
       "A data.table: 7 x 6\n",
       "\n",
       "| chr &lt;int&gt; | pos &lt;int&gt; | A1 &lt;chr&gt; | A2 &lt;chr&gt; | effect &lt;dbl&gt; | id &lt;chr&gt; |\n",
       "|---|---|---|---|---|---|\n",
       "| 18 | 32038169 | T | C | -0.2891709 | chr18:32038169 |\n",
       "| 18 | 32067215 | C | T |  0.4230704 | chr18:32067215 |\n",
       "| 18 | 32208550 | G | C | -0.6470447 | chr18:32208550 |\n",
       "| 18 | 32224458 | T | C | -0.6871607 | chr18:32224458 |\n",
       "| 18 | 32224900 | A | T | -1.0701130 | chr18:32224900 |\n",
       "| 18 | 32317264 | C | G | -0.5560340 | chr18:32317264 |\n",
       "| 18 | 32337385 | C | T |  0.3294772 | chr18:32337385 |\n",
       "\n"
      ],
      "text/plain": [
       "  chr pos      A1 A2 effect     id            \n",
       "1 18  32038169 T  C  -0.2891709 chr18:32038169\n",
       "2 18  32067215 C  T   0.4230704 chr18:32067215\n",
       "3 18  32208550 G  C  -0.6470447 chr18:32208550\n",
       "4 18  32224458 T  C  -0.6871607 chr18:32224458\n",
       "5 18  32224900 A  T  -1.0701130 chr18:32224900\n",
       "6 18  32317264 C  G  -0.5560340 chr18:32317264\n",
       "7 18  32337385 C  T   0.3294772 chr18:32337385"
      ]
     },
     "metadata": {},
     "output_type": "display_data"
    }
   ],
   "source": [
    "mepscore"
   ]
  },
  {
   "cell_type": "code",
   "execution_count": 41,
   "id": "0b67cd70",
   "metadata": {
    "ExecuteTime": {
     "end_time": "2021-11-23T09:53:37.051146Z",
     "start_time": "2021-11-23T09:53:35.595Z"
    }
   },
   "outputs": [],
   "source": [
    "mepg=colSums(mepg[,lapply(.SD, function(x) x*mepscore$effect), .SDcol=spnames])"
   ]
  },
  {
   "cell_type": "code",
   "execution_count": 43,
   "id": "d76b5e62",
   "metadata": {
    "ExecuteTime": {
     "end_time": "2021-11-23T09:53:53.393282Z",
     "start_time": "2021-11-23T09:53:51.973Z"
    }
   },
   "outputs": [
    {
     "data": {
      "image/png": "[encoded data removed]",
      "text/plain": [
       "Plot with title \"Histogram of mepg\""
      ]
     },
     "metadata": {
      "image/png": {
       "height": 420,
       "width": 900
      }
     },
     "output_type": "display_data"
    }
   ],
   "source": [
    "hist(mepg, breaks=41)"
   ]
  },
  {
   "cell_type": "code",
   "execution_count": null,
   "id": "d5b97b07",
   "metadata": {
    "ExecuteTime": {
     "start_time": "2021-11-23T09:54:46.899Z"
    }
   },
   "outputs": [],
   "source": [
    "cadg=genos[SNP %in% cadscore$id]"
   ]
  },
  {
   "cell_type": "code",
   "execution_count": null,
   "id": "a3c95ea8",
   "metadata": {},
   "outputs": [],
   "source": []
  }
 ],
 "metadata": {
  "hide_input": false,
  "kernelspec": {
   "display_name": "R 4.1",
   "language": "R",
   "name": "ir41"
  },
  "language_info": {
   "codemirror_mode": "r",
   "file_extension": ".r",
   "mimetype": "text/x-r-source",
   "name": "R",
   "pygments_lexer": "r",
   "version": "4.1.2"
  },
  "toc": {
   "base_numbering": 1,
   "nav_menu": {},
   "number_sections": true,
   "sideBar": true,
   "skip_h1_title": false,
   "title_cell": "Table of Contents",
   "title_sidebar": "Contents",
   "toc_cell": false,
   "toc_position": {},
   "toc_section_display": true,
   "toc_window_display": false
  }
 },
 "nbformat": 4,
 "nbformat_minor": 5
}
